{
 "cells": [
  {
   "cell_type": "code",
   "execution_count": 1,
   "metadata": {},
   "outputs": [],
   "source": [
    "import os\n",
    "import numpy as np\n",
    "from time import time\n",
    "from scipy.io import wavfile as wav\n",
    "\n",
    "from tqdm.notebook import tqdm\n",
    "\n",
    "import matplotlib.pyplot as plt\n",
    "import IPython.display as ipd\n",
    "\n",
    "# Strumenti di classificazione\n",
    "from sklearn.svm import SVC\n",
    "from sklearn.model_selection import train_test_split, GridSearchCV\n",
    "from sklearn.metrics import classification_report, confusion_matrix\n",
    "\n",
    "# Feature audio avanzate\n",
    "import librosa\n",
    "import librosa.display as lid\n",
    "from sklearn.preprocessing import scale"
   ]
  },
  {
   "cell_type": "code",
   "execution_count": 2,
   "metadata": {},
   "outputs": [],
   "source": [
    "# Segnaposto per feature extractor\n",
    "def identity(input):\n",
    "    return input\n",
    "\n",
    "# Data loader\n",
    "def load_data(feature_extractor=identity, paths = [\"recordings\"], label_type = \"number\", normalize=False):\n",
    "\n",
    "    labels = []\n",
    "    features = []\n",
    "    \n",
    "    for path in paths:\n",
    "        print(f\"Loading from {path}\")\n",
    "        # for filename in os.listdir(i):\n",
    "        #     with open(os.path.join(i, filename), 'r') as filedata:\n",
    "        #         string = \"\".join(filedata.read().split())\n",
    "     \n",
    "        for f in tqdm(sorted(os.listdir(path))):\n",
    "            if f.endswith('.wav'):\n",
    "                # Carica file ed estraine le features\n",
    "                _, signal = wav.read(path + \"/\" + f)\n",
    "                cur_features = feature_extractor(signal)\n",
    "                features.append(cur_features)\n",
    "                \n",
    "                # Categorie\n",
    "                if label_type.startswith(\"n\"):\n",
    "                    label = f.split('_')[0]\n",
    "                else:\n",
    "                    label = f.split('_')[1]\n",
    "                labels.append(label)\n",
    "\n",
    "    # X: features, y: labels\n",
    "    X_train, X_test, y_train, y_test = train_test_split(features, labels, test_size=0.1, random_state=1)\n",
    "\n",
    "    if normalize:\n",
    "        eps = 0.001\n",
    "        X_train = np.array(X_train)\n",
    "        X_train_mean = X_train.mean(axis=0)\n",
    "        X_train_std = X_train.std(axis=0)\n",
    "        X_train = (X_train - X_train_mean + eps)/(X_train_std + eps)\n",
    "        X_train = [row for row in X_train]\n",
    "\n",
    "        X_test = [row for row in (np.array(X_test) - X_train_mean + eps)/(X_train_std + eps)]\n",
    "\n",
    "    return X_train, X_test, y_train, y_test"
   ]
  },
  {
   "cell_type": "markdown",
   "metadata": {},
   "source": [
    "## Features"
   ]
  },
  {
   "cell_type": "code",
   "execution_count": 3,
   "metadata": {},
   "outputs": [],
   "source": [
    "def aavg(input):\n",
    "    return np.mean(np.abs(input), keepdims=True)"
   ]
  },
  {
   "cell_type": "code",
   "execution_count": 4,
   "metadata": {},
   "outputs": [],
   "source": [
    "def sdev(input):\n",
    "    return np.std(input, keepdims=True)"
   ]
  },
  {
   "cell_type": "code",
   "execution_count": 5,
   "metadata": {},
   "outputs": [],
   "source": [
    "def energy(input):\n",
    "    return np.sum((input*1.0)**2, keepdims=True) "
   ]
  },
  {
   "cell_type": "code",
   "execution_count": 6,
   "metadata": {},
   "outputs": [],
   "source": [
    "def zcr(y):\n",
    "    \n",
    "    # segnale traslato di un'unità\n",
    "    ty = np.roll(y, shift=-1)\n",
    "    \n",
    "    # confronto punto a punto del segno di y e ty\n",
    "    d = np.sign(y[:-1]) - np.sign(ty[:-1])\n",
    "    # [:-1] perché l'ultimo elemento di ty è uguale al primo elemento di y\n",
    "    \n",
    "    # siamo interessati a quando d è diverso da 0, cioè quando il segnale cambia segno\n",
    "    dneq0 = np.where(d != 0)[0]\n",
    "    \n",
    "    # calcoliamo quante volte il segnale cambia segno e restituiamo il valore\n",
    "    return dneq0.shape"
   ]
  },
  {
   "cell_type": "code",
   "execution_count": 7,
   "metadata": {},
   "outputs": [],
   "source": [
    "def mfcc(input, rate=8000, min_len=40, sampling=1):\n",
    "    # Campiona i valori\n",
    "    signal = input[::sampling]\n",
    "    # Calcola coefficienti MFCC\n",
    "    mfcc = librosa.feature.mfcc(signal*1.0, sr=int(rate/sampling))\n",
    "    # Applica eventuali zeri aggiuntivi per raggiungere una lunghezza fissa\n",
    "    pad_width = min_len - mfcc.shape[1]\n",
    "    mfcc = np.pad(mfcc, pad_width=((0, 0), (0, pad_width)), mode='constant')\n",
    "    # Appiattisci rappresentazione per uso con SVM\n",
    "    mfcc = mfcc.flatten()\n",
    "    return mfcc"
   ]
  },
  {
   "cell_type": "code",
   "execution_count": 8,
   "metadata": {},
   "outputs": [],
   "source": [
    "def combo(input):\n",
    "    return np.concatenate((sdev(input), aavg(input), energy(input), zcr(input), mfcc(input)))"
   ]
  },
  {
   "cell_type": "markdown",
   "metadata": {},
   "source": [
    "## Classifier with label = number"
   ]
  },
  {
   "cell_type": "code",
   "execution_count": 9,
   "metadata": {},
   "outputs": [
    {
     "name": "stdout",
     "output_type": "stream",
     "text": [
      "Loading from recordings\n"
     ]
    },
    {
     "data": {
      "application/vnd.jupyter.widget-view+json": {
       "model_id": "c90ac41f83044749b6bfdc90b7a750c0",
       "version_major": 2,
       "version_minor": 0
      },
      "text/plain": [
       "HBox(children=(FloatProgress(value=0.0, max=1500.0), HTML(value='')))"
      ]
     },
     "metadata": {},
     "output_type": "display_data"
    },
    {
     "name": "stdout",
     "output_type": "stream",
     "text": [
      "\n",
      "Loading from output\n"
     ]
    },
    {
     "data": {
      "application/vnd.jupyter.widget-view+json": {
       "model_id": "9bea116d263f452b89da13049f4f38a8",
       "version_major": 2,
       "version_minor": 0
      },
      "text/plain": [
       "HBox(children=(FloatProgress(value=0.0, max=160.0), HTML(value='')))"
      ]
     },
     "metadata": {},
     "output_type": "display_data"
    },
    {
     "name": "stdout",
     "output_type": "stream",
     "text": [
      "\n"
     ]
    }
   ],
   "source": [
    "X_train, X_test, y_train, y_test = load_data(feature_extractor=combo,\n",
    "                                             paths=[\"recordings\", \"output\"],\n",
    "                                             normalize=True)"
   ]
  },
  {
   "cell_type": "code",
   "execution_count": 11,
   "metadata": {},
   "outputs": [],
   "source": [
    "clf = SVC(kernel='rbf', class_weight='balanced')"
   ]
  },
  {
   "cell_type": "code",
   "execution_count": 12,
   "metadata": {},
   "outputs": [
    {
     "name": "stderr",
     "output_type": "stream",
     "text": [
      "C:\\Users\\gianc\\Anaconda3\\envs\\dsim\\lib\\site-packages\\sklearn\\svm\\base.py:193: FutureWarning: The default value of gamma will change from 'auto' to 'scale' in version 0.22 to account better for unscaled features. Set gamma explicitly to 'auto' or 'scale' to avoid this warning.\n",
      "  \"avoid this warning.\", FutureWarning)\n"
     ]
    }
   ],
   "source": [
    "clf = clf.fit(X_train, y_train)"
   ]
  },
  {
   "cell_type": "code",
   "execution_count": 13,
   "metadata": {},
   "outputs": [],
   "source": [
    "y_pred = clf.predict(X_test)"
   ]
  },
  {
   "cell_type": "code",
   "execution_count": 14,
   "metadata": {},
   "outputs": [
    {
     "name": "stdout",
     "output_type": "stream",
     "text": [
      "              precision    recall  f1-score   support\n",
      "\n",
      "           0       1.00      0.95      0.97        19\n",
      "           1       0.95      0.95      0.95        19\n",
      "           2       0.94      0.84      0.89        19\n",
      "           3       0.82      0.93      0.87        15\n",
      "           4       1.00      0.94      0.97        18\n",
      "           5       1.00      1.00      1.00        13\n",
      "           6       0.80      1.00      0.89        12\n",
      "           7       1.00      1.00      1.00        15\n",
      "           8       0.94      0.94      0.94        18\n",
      "           9       1.00      0.94      0.97        18\n",
      "\n",
      "    accuracy                           0.95       166\n",
      "   macro avg       0.95      0.95      0.95       166\n",
      "weighted avg       0.95      0.95      0.95       166\n",
      "\n"
     ]
    }
   ],
   "source": [
    "print(classification_report(y_test, y_pred))"
   ]
  },
  {
   "cell_type": "markdown",
   "metadata": {},
   "source": [
    "## Classifier with label = speaker"
   ]
  },
  {
   "cell_type": "code",
   "execution_count": 15,
   "metadata": {},
   "outputs": [
    {
     "name": "stdout",
     "output_type": "stream",
     "text": [
      "Loading from recordings\n"
     ]
    },
    {
     "data": {
      "application/vnd.jupyter.widget-view+json": {
       "model_id": "5fac0a2ca8314847b799772d2ea06ef2",
       "version_major": 2,
       "version_minor": 0
      },
      "text/plain": [
       "HBox(children=(FloatProgress(value=0.0, max=1500.0), HTML(value='')))"
      ]
     },
     "metadata": {},
     "output_type": "display_data"
    },
    {
     "name": "stdout",
     "output_type": "stream",
     "text": [
      "\n",
      "Loading from output\n"
     ]
    },
    {
     "data": {
      "application/vnd.jupyter.widget-view+json": {
       "model_id": "bf07496547734035a2de52dcfe86b4d4",
       "version_major": 2,
       "version_minor": 0
      },
      "text/plain": [
       "HBox(children=(FloatProgress(value=0.0, max=160.0), HTML(value='')))"
      ]
     },
     "metadata": {},
     "output_type": "display_data"
    },
    {
     "name": "stdout",
     "output_type": "stream",
     "text": [
      "\n"
     ]
    }
   ],
   "source": [
    "X_train, X_test, y_train, y_test = load_data(feature_extractor=combo,\n",
    "                                             paths=[\"recordings\", \"output\"],\n",
    "                                             label_type = \"speaker\",\n",
    "                                             normalize=True)"
   ]
  },
  {
   "cell_type": "code",
   "execution_count": 16,
   "metadata": {},
   "outputs": [],
   "source": [
    "clf = SVC(kernel='rbf', class_weight='balanced')"
   ]
  },
  {
   "cell_type": "code",
   "execution_count": 17,
   "metadata": {},
   "outputs": [
    {
     "name": "stderr",
     "output_type": "stream",
     "text": [
      "C:\\Users\\gianc\\Anaconda3\\envs\\dsim\\lib\\site-packages\\sklearn\\svm\\base.py:193: FutureWarning: The default value of gamma will change from 'auto' to 'scale' in version 0.22 to account better for unscaled features. Set gamma explicitly to 'auto' or 'scale' to avoid this warning.\n",
      "  \"avoid this warning.\", FutureWarning)\n"
     ]
    }
   ],
   "source": [
    "clf = clf.fit(X_train, y_train)"
   ]
  },
  {
   "cell_type": "code",
   "execution_count": 18,
   "metadata": {},
   "outputs": [],
   "source": [
    "y_pred = clf.predict(X_test)"
   ]
  },
  {
   "cell_type": "code",
   "execution_count": 19,
   "metadata": {},
   "outputs": [
    {
     "name": "stdout",
     "output_type": "stream",
     "text": [
      "              precision    recall  f1-score   support\n",
      "\n",
      "      alinda       1.00      1.00      1.00         5\n",
      "        gian       1.00      1.00      1.00         4\n",
      "     jackson       0.98      1.00      0.99        57\n",
      "      khaled       0.71      1.00      0.83         5\n",
      "     nicolas       1.00      1.00      1.00        48\n",
      "        theo       1.00      0.94      0.97        47\n",
      "\n",
      "    accuracy                           0.98       166\n",
      "   macro avg       0.95      0.99      0.97       166\n",
      "weighted avg       0.99      0.98      0.98       166\n",
      "\n"
     ]
    }
   ],
   "source": [
    "print(classification_report(y_test, y_pred))"
   ]
  }
 ],
 "metadata": {
  "kernelspec": {
   "display_name": "Python [conda env:dsim] *",
   "language": "python",
   "name": "conda-env-dsim-py"
  },
  "language_info": {
   "codemirror_mode": {
    "name": "ipython",
    "version": 3
   },
   "file_extension": ".py",
   "mimetype": "text/x-python",
   "name": "python",
   "nbconvert_exporter": "python",
   "pygments_lexer": "ipython3",
   "version": "3.7.4"
  }
 },
 "nbformat": 4,
 "nbformat_minor": 2
}

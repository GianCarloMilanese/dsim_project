{
 "cells": [
  {
   "cell_type": "code",
   "execution_count": 1,
   "metadata": {},
   "outputs": [],
   "source": [
    "import os\n",
    "import numpy as np\n",
    "import time\n",
    "from scipy.io import wavfile as wav\n",
    "import sys\n",
    "\n",
    "from tqdm.notebook import tqdm\n",
    "\n",
    "import matplotlib.pyplot as plt\n",
    "import IPython.display as ipd\n",
    "\n",
    "# Strumenti di classificazione\n",
    "from sklearn.svm import SVC\n",
    "from sklearn.model_selection import train_test_split, GridSearchCV\n",
    "from sklearn.metrics import classification_report, confusion_matrix\n",
    "\n",
    "# Feature audio avanzate\n",
    "import librosa\n",
    "import librosa.display as lid\n",
    "from sklearn.preprocessing import scale\n",
    "from sklearn.preprocessing import StandardScaler"
   ]
  },
  {
   "cell_type": "code",
   "execution_count": 2,
   "metadata": {},
   "outputs": [],
   "source": [
    "def load_features(feature_extractor=lambda x : x, paths = [\"recordings\"]):\n",
    "   \n",
    "    features = {}\n",
    "    features[\"normal\"] = []\n",
    "    features[\"noise\"] = []\n",
    "    features[\"pitch\"] = []\n",
    "    \n",
    "    for path in paths:\n",
    "        print(f\"Loading from {path}\")\n",
    "        files = sorted(os.listdir(path))\n",
    "        for f in tqdm(files):\n",
    "            if f.endswith('.wav'):\n",
    "                if \"pitch\" in f:\n",
    "                    rec_type = \"pitch\"\n",
    "                elif \"noise\" in f:\n",
    "                    rec_type = \"noise\"\n",
    "                else:\n",
    "                    rec_type = \"normal\"\n",
    "                # Carica file ed estraine le features\n",
    "                _, signal = wav.read(path + \"/\" + f)\n",
    "                cur_features = feature_extractor(signal)\n",
    "                features[rec_type].append(cur_features)\n",
    "\n",
    "    return features"
   ]
  },
  {
   "cell_type": "code",
   "execution_count": 3,
   "metadata": {},
   "outputs": [],
   "source": [
    "# def load_labels(paths = [\"recordings\"], label_type = \"number\"):\n",
    "# \n",
    "#     labels = {}\n",
    "#     labels[\"normal\"] = []\n",
    "#     labels[\"noise\"] = []\n",
    "#     labels[\"pitch\"] = []\n",
    "#     \n",
    "#     for path in paths:\n",
    "#         files = sorted(os.listdir(path))\n",
    "#         for f in files:\n",
    "#             if f.endswith('.wav'):\n",
    "#                 if label_type.startswith(\"n\"):\n",
    "#                     label = f.split('_')[0]\n",
    "#                 else:\n",
    "#                     label = f.split('_')[1]\n",
    "#                 if \"pitch\" in f:\n",
    "#                     rec_type = \"pitch\"\n",
    "#                 elif \"noise\" in f:\n",
    "#                     rec_type = \"noise\"\n",
    "#                 else:\n",
    "#                     rec_type = \"normal\"\n",
    "#                 labels[rec_type].append(label)\n",
    "# \n",
    "#     return labels"
   ]
  },
  {
   "cell_type": "code",
   "execution_count": 4,
   "metadata": {},
   "outputs": [],
   "source": [
    "def load_labels(paths = [\"recordings\"]):\n",
    "\n",
    "    labels = {}\n",
    "    labels[\"speaker\"] = {}\n",
    "    labels[\"number\"] = {}\n",
    "    labels[\"speaker\"][\"normal\"] = []\n",
    "    labels[\"speaker\"][\"noise\"] = []\n",
    "    labels[\"speaker\"][\"pitch\"] = []\n",
    "    labels[\"number\"][\"normal\"] = []\n",
    "    labels[\"number\"][\"noise\"] = []\n",
    "    labels[\"number\"][\"pitch\"] = []\n",
    "    \n",
    "    for path in paths:\n",
    "        files = sorted(os.listdir(path))\n",
    "        for f in files:\n",
    "            if f.endswith('.wav'):\n",
    "                label_n = f.split('_')[0]\n",
    "                label_s = f.split('_')[1]\n",
    "                \n",
    "                if \"pitch\" in f:\n",
    "                    rec_type = \"pitch\"\n",
    "                elif \"noise\" in f:\n",
    "                    rec_type = \"noise\"\n",
    "                else:\n",
    "                    rec_type = \"normal\"\n",
    "                labels[\"speaker\"][rec_type].append(label_s)\n",
    "                labels[\"number\"][rec_type].append(label_n)\n",
    "\n",
    "    return labels"
   ]
  },
  {
   "cell_type": "markdown",
   "metadata": {},
   "source": [
    "## Features functions"
   ]
  },
  {
   "cell_type": "code",
   "execution_count": 5,
   "metadata": {},
   "outputs": [],
   "source": [
    "def aavg(input):\n",
    "    return np.mean(np.abs(input), keepdims=True)"
   ]
  },
  {
   "cell_type": "code",
   "execution_count": 6,
   "metadata": {},
   "outputs": [],
   "source": [
    "def sdev(input):\n",
    "    return np.std(input, keepdims=True)"
   ]
  },
  {
   "cell_type": "code",
   "execution_count": 7,
   "metadata": {},
   "outputs": [],
   "source": [
    "def energy(input):\n",
    "    return np.sum((input*1.0)**2, keepdims=True) "
   ]
  },
  {
   "cell_type": "code",
   "execution_count": 8,
   "metadata": {},
   "outputs": [],
   "source": [
    "def zcr(y):\n",
    "    \n",
    "    # segnale traslato di un'unità\n",
    "    ty = np.roll(y, shift=-1)\n",
    "    \n",
    "    # confronto punto a punto del segno di y e ty\n",
    "    d = np.sign(y[:-1]) - np.sign(ty[:-1])\n",
    "    # [:-1] perché l'ultimo elemento di ty è uguale al primo elemento di y\n",
    "    \n",
    "    # siamo interessati a quando d è diverso da 0, cioè quando il segnale cambia segno\n",
    "    dneq0 = np.where(d != 0)[0]\n",
    "    \n",
    "    # calcoliamo quante volte il segnale cambia segno e restituiamo il valore\n",
    "    return dneq0.shape"
   ]
  },
  {
   "cell_type": "code",
   "execution_count": 9,
   "metadata": {},
   "outputs": [],
   "source": [
    "def mfcc(input, rate=8000, min_len=40, sampling=1):\n",
    "    # Campiona i valori\n",
    "    signal = input[::sampling]\n",
    "    # Calcola coefficienti MFCC\n",
    "    mfcc = librosa.feature.mfcc(signal*1.0, sr=int(rate/sampling))\n",
    "    # Applica eventuali zeri aggiuntivi per raggiungere una lunghezza fissa\n",
    "    pad_width = min_len - mfcc.shape[1]\n",
    "    mfcc = np.pad(mfcc, pad_width=((0, 0), (0, pad_width)), mode='constant')\n",
    "    # Appiattisci rappresentazione per uso con SVM\n",
    "    mfcc = mfcc.flatten()\n",
    "    return mfcc"
   ]
  },
  {
   "cell_type": "code",
   "execution_count": 10,
   "metadata": {},
   "outputs": [],
   "source": [
    "def combo(input):\n",
    "    return np.concatenate((sdev(input), aavg(input), energy(input), zcr(input), mfcc(input)))"
   ]
  },
  {
   "cell_type": "markdown",
   "metadata": {},
   "source": [
    "# Load features  and labels in dicts"
   ]
  },
  {
   "cell_type": "code",
   "execution_count": 11,
   "metadata": {},
   "outputs": [],
   "source": [
    "paths = [\"augmentation_recs/\"]"
   ]
  },
  {
   "cell_type": "code",
   "execution_count": 12,
   "metadata": {
    "scrolled": true
   },
   "outputs": [
    {
     "name": "stdout",
     "output_type": "stream",
     "text": [
      "Loading from augmentation_recs/\n"
     ]
    },
    {
     "data": {
      "application/vnd.jupyter.widget-view+json": {
       "model_id": "83d4d86aec634c78a59147a43e5a902a",
       "version_major": 2,
       "version_minor": 0
      },
      "text/plain": [
       "HBox(children=(FloatProgress(value=0.0, max=19800.0), HTML(value='')))"
      ]
     },
     "metadata": {},
     "output_type": "display_data"
    },
    {
     "name": "stdout",
     "output_type": "stream",
     "text": [
      "\n"
     ]
    }
   ],
   "source": [
    "features = load_features(feature_extractor=combo, paths=paths)"
   ]
  },
  {
   "cell_type": "code",
   "execution_count": 13,
   "metadata": {},
   "outputs": [],
   "source": [
    "labels = load_labels(paths=paths)"
   ]
  },
  {
   "cell_type": "code",
   "execution_count": 14,
   "metadata": {},
   "outputs": [],
   "source": [
    "labels_number = labels[\"number\"]\n",
    "labels_speaker = labels[\"speaker\"]"
   ]
  },
  {
   "cell_type": "markdown",
   "metadata": {},
   "source": [
    "## Classifier with label = speaker"
   ]
  },
  {
   "cell_type": "markdown",
   "metadata": {},
   "source": [
    "### No augmentation"
   ]
  },
  {
   "cell_type": "code",
   "execution_count": 15,
   "metadata": {},
   "outputs": [],
   "source": [
    "features_normal = features[\"normal\"]\n",
    "labels_speaker_normal = labels_speaker[\"normal\"]"
   ]
  },
  {
   "cell_type": "code",
   "execution_count": 16,
   "metadata": {},
   "outputs": [],
   "source": [
    "X_train, X_test, y_train, y_test = train_test_split(features_normal, labels_speaker_normal,\n",
    "                                                      test_size=0.2, random_state=1)"
   ]
  },
  {
   "cell_type": "code",
   "execution_count": 17,
   "metadata": {},
   "outputs": [],
   "source": [
    "scaler_normal = StandardScaler()\n",
    "scaler_normal.fit(X_train)\n",
    "X_train_scaled = scaler_normal.transform(X_train)\n",
    "X_test_scaled =  scaler_normal.transform(X_test)"
   ]
  },
  {
   "cell_type": "code",
   "execution_count": 18,
   "metadata": {},
   "outputs": [],
   "source": [
    "clf_speaker_normal = SVC(kernel='rbf', class_weight='balanced', gamma=\"scale\")"
   ]
  },
  {
   "cell_type": "code",
   "execution_count": 19,
   "metadata": {},
   "outputs": [
    {
     "name": "stdout",
     "output_type": "stream",
     "text": [
      "Wall time: 698 ms\n"
     ]
    },
    {
     "data": {
      "text/plain": [
       "SVC(C=1.0, cache_size=200, class_weight='balanced', coef0=0.0,\n",
       "    decision_function_shape='ovr', degree=3, gamma='scale', kernel='rbf',\n",
       "    max_iter=-1, probability=False, random_state=None, shrinking=True,\n",
       "    tol=0.001, verbose=False)"
      ]
     },
     "execution_count": 19,
     "metadata": {},
     "output_type": "execute_result"
    }
   ],
   "source": [
    "%%time\n",
    "clf_speaker_normal.fit(X_train_scaled, y_train)"
   ]
  },
  {
   "cell_type": "code",
   "execution_count": 20,
   "metadata": {},
   "outputs": [
    {
     "name": "stdout",
     "output_type": "stream",
     "text": [
      "Wall time: 197 ms\n"
     ]
    }
   ],
   "source": [
    "%%time\n",
    "y_pred = clf_speaker_normal.predict(X_test_scaled)"
   ]
  },
  {
   "cell_type": "code",
   "execution_count": 21,
   "metadata": {},
   "outputs": [
    {
     "name": "stdout",
     "output_type": "stream",
     "text": [
      "              precision    recall  f1-score   support\n",
      "\n",
      "      alinda       1.00      0.96      0.98        26\n",
      "        gian       1.00      1.00      1.00        15\n",
      "     jackson       0.99      1.00      0.99        97\n",
      "      khaled       0.90      1.00      0.95        19\n",
      "     nicolas       0.99      1.00      1.00       111\n",
      "        theo       1.00      0.97      0.98        92\n",
      "\n",
      "    accuracy                           0.99       360\n",
      "   macro avg       0.98      0.99      0.98       360\n",
      "weighted avg       0.99      0.99      0.99       360\n",
      "\n"
     ]
    }
   ],
   "source": [
    "print(classification_report(y_test, y_pred))"
   ]
  },
  {
   "cell_type": "markdown",
   "metadata": {},
   "source": [
    "### Augmentation (noise)"
   ]
  },
  {
   "cell_type": "code",
   "execution_count": 22,
   "metadata": {},
   "outputs": [],
   "source": [
    "features_no_pitch = np.concatenate([features[\"normal\"], features[\"noise\"]])"
   ]
  },
  {
   "cell_type": "code",
   "execution_count": 23,
   "metadata": {},
   "outputs": [],
   "source": [
    "labels_speaker_no_pitch = np.concatenate([labels_speaker[\"normal\"], labels_speaker[\"noise\"]])"
   ]
  },
  {
   "cell_type": "code",
   "execution_count": 24,
   "metadata": {},
   "outputs": [],
   "source": [
    "X_train, X_test, y_train, y_test = train_test_split(features_no_pitch, labels_speaker_no_pitch,\n",
    "                                                      test_size=0.2, random_state=1)"
   ]
  },
  {
   "cell_type": "code",
   "execution_count": 25,
   "metadata": {},
   "outputs": [],
   "source": [
    "scaler_no_pitch = StandardScaler()\n",
    "scaler_no_pitch.fit(X_train)\n",
    "X_train_scaled = scaler_no_pitch.transform(X_train)\n",
    "X_test_scaled = scaler_no_pitch.transform(X_test)"
   ]
  },
  {
   "cell_type": "code",
   "execution_count": 26,
   "metadata": {},
   "outputs": [],
   "source": [
    "clf_speaker_no_pitch = SVC(kernel='rbf', class_weight='balanced', gamma=\"scale\")"
   ]
  },
  {
   "cell_type": "code",
   "execution_count": 27,
   "metadata": {},
   "outputs": [
    {
     "name": "stdout",
     "output_type": "stream",
     "text": [
      "Wall time: 25.2 s\n"
     ]
    },
    {
     "data": {
      "text/plain": [
       "SVC(C=1.0, cache_size=200, class_weight='balanced', coef0=0.0,\n",
       "    decision_function_shape='ovr', degree=3, gamma='scale', kernel='rbf',\n",
       "    max_iter=-1, probability=False, random_state=None, shrinking=True,\n",
       "    tol=0.001, verbose=False)"
      ]
     },
     "execution_count": 27,
     "metadata": {},
     "output_type": "execute_result"
    }
   ],
   "source": [
    "%%time\n",
    "clf_speaker_no_pitch.fit(X_train_scaled, y_train)"
   ]
  },
  {
   "cell_type": "code",
   "execution_count": 28,
   "metadata": {},
   "outputs": [
    {
     "name": "stdout",
     "output_type": "stream",
     "text": [
      "Wall time: 6.69 s\n"
     ]
    }
   ],
   "source": [
    "%%time\n",
    "y_pred = clf_speaker_no_pitch.predict(X_test_scaled)"
   ]
  },
  {
   "cell_type": "code",
   "execution_count": 29,
   "metadata": {},
   "outputs": [
    {
     "name": "stdout",
     "output_type": "stream",
     "text": [
      "              precision    recall  f1-score   support\n",
      "\n",
      "      alinda       0.89      0.93      0.91       113\n",
      "        gian       0.88      0.96      0.92       115\n",
      "     jackson       0.98      0.97      0.97       628\n",
      "      khaled       0.76      0.98      0.86       125\n",
      "     nicolas       0.98      0.95      0.97       577\n",
      "        theo       0.98      0.94      0.96       602\n",
      "\n",
      "    accuracy                           0.95      2160\n",
      "   macro avg       0.91      0.95      0.93      2160\n",
      "weighted avg       0.96      0.95      0.95      2160\n",
      "\n"
     ]
    }
   ],
   "source": [
    "print(classification_report(y_test, y_pred))"
   ]
  },
  {
   "cell_type": "markdown",
   "metadata": {},
   "source": [
    "## Classifier with label = number"
   ]
  },
  {
   "cell_type": "markdown",
   "metadata": {},
   "source": [
    "### No augmentation"
   ]
  },
  {
   "cell_type": "code",
   "execution_count": 30,
   "metadata": {},
   "outputs": [],
   "source": [
    "features_normal = features[\"normal\"]\n",
    "labels_number_normal = labels_number[\"normal\"]"
   ]
  },
  {
   "cell_type": "code",
   "execution_count": 31,
   "metadata": {},
   "outputs": [],
   "source": [
    "X_train, X_test, y_train, y_test = train_test_split(features_normal, labels_number_normal,\n",
    "                                                      test_size=0.2, random_state=1)"
   ]
  },
  {
   "cell_type": "code",
   "execution_count": 32,
   "metadata": {},
   "outputs": [],
   "source": [
    "scaler_normal2 = StandardScaler()\n",
    "scaler_normal2.fit(X_train)\n",
    "X_train_scaled = scaler_normal2.transform(X_train)\n",
    "X_test_scaled =  scaler_normal2.transform(X_test)"
   ]
  },
  {
   "cell_type": "code",
   "execution_count": 33,
   "metadata": {},
   "outputs": [],
   "source": [
    "clf_number_normal = SVC(kernel='rbf', class_weight='balanced', gamma=\"scale\")"
   ]
  },
  {
   "cell_type": "code",
   "execution_count": 34,
   "metadata": {},
   "outputs": [
    {
     "name": "stdout",
     "output_type": "stream",
     "text": [
      "Wall time: 1.15 s\n"
     ]
    },
    {
     "data": {
      "text/plain": [
       "SVC(C=1.0, cache_size=200, class_weight='balanced', coef0=0.0,\n",
       "    decision_function_shape='ovr', degree=3, gamma='scale', kernel='rbf',\n",
       "    max_iter=-1, probability=False, random_state=None, shrinking=True,\n",
       "    tol=0.001, verbose=False)"
      ]
     },
     "execution_count": 34,
     "metadata": {},
     "output_type": "execute_result"
    }
   ],
   "source": [
    "%%time\n",
    "clf_number_normal.fit(X_train_scaled, y_train)"
   ]
  },
  {
   "cell_type": "code",
   "execution_count": 35,
   "metadata": {},
   "outputs": [
    {
     "name": "stdout",
     "output_type": "stream",
     "text": [
      "Wall time: 339 ms\n"
     ]
    }
   ],
   "source": [
    "%%time\n",
    "y_pred = clf_number_normal.predict(X_test_scaled)"
   ]
  },
  {
   "cell_type": "code",
   "execution_count": 36,
   "metadata": {},
   "outputs": [
    {
     "name": "stdout",
     "output_type": "stream",
     "text": [
      "              precision    recall  f1-score   support\n",
      "\n",
      "           0       0.94      0.97      0.96        35\n",
      "           1       0.97      0.95      0.96        38\n",
      "           2       1.00      0.94      0.97        36\n",
      "           3       0.91      0.91      0.91        33\n",
      "           4       1.00      0.97      0.99        34\n",
      "           5       1.00      0.97      0.99        38\n",
      "           6       0.83      1.00      0.91        34\n",
      "           7       0.97      1.00      0.99        37\n",
      "           8       1.00      0.94      0.97        34\n",
      "           9       1.00      0.95      0.97        41\n",
      "\n",
      "    accuracy                           0.96       360\n",
      "   macro avg       0.96      0.96      0.96       360\n",
      "weighted avg       0.96      0.96      0.96       360\n",
      "\n"
     ]
    }
   ],
   "source": [
    "print(classification_report(y_test, y_pred))"
   ]
  },
  {
   "cell_type": "markdown",
   "metadata": {},
   "source": [
    "### Augmentation (noise and pitch)"
   ]
  },
  {
   "cell_type": "code",
   "execution_count": 37,
   "metadata": {},
   "outputs": [],
   "source": [
    "features_all = np.concatenate(list(features.values( )))"
   ]
  },
  {
   "cell_type": "code",
   "execution_count": 38,
   "metadata": {},
   "outputs": [],
   "source": [
    "labels_number_all = np.concatenate(list(labels_number.values( )))"
   ]
  },
  {
   "cell_type": "code",
   "execution_count": 39,
   "metadata": {},
   "outputs": [],
   "source": [
    "X_train, X_test, y_train, y_test = train_test_split(features_all, labels_number_all, test_size=0.2, random_state=1)"
   ]
  },
  {
   "cell_type": "code",
   "execution_count": 40,
   "metadata": {},
   "outputs": [],
   "source": [
    "scaler_all = StandardScaler()\n",
    "scaler_all.fit(X_train)\n",
    "X_train_scaled = scaler_all.transform(X_train)\n",
    "X_test_scaled = scaler_all.transform(X_test)"
   ]
  },
  {
   "cell_type": "code",
   "execution_count": 41,
   "metadata": {},
   "outputs": [],
   "source": [
    "clf_number_all = SVC(kernel='rbf', class_weight='balanced', gamma=\"scale\")"
   ]
  },
  {
   "cell_type": "code",
   "execution_count": 42,
   "metadata": {},
   "outputs": [
    {
     "name": "stdout",
     "output_type": "stream",
     "text": [
      "Wall time: 2min 38s\n"
     ]
    },
    {
     "data": {
      "text/plain": [
       "SVC(C=1.0, cache_size=200, class_weight='balanced', coef0=0.0,\n",
       "    decision_function_shape='ovr', degree=3, gamma='scale', kernel='rbf',\n",
       "    max_iter=-1, probability=False, random_state=None, shrinking=True,\n",
       "    tol=0.001, verbose=False)"
      ]
     },
     "execution_count": 42,
     "metadata": {},
     "output_type": "execute_result"
    }
   ],
   "source": [
    "%%time\n",
    "clf_number_all.fit(X_train_scaled, y_train)"
   ]
  },
  {
   "cell_type": "code",
   "execution_count": 43,
   "metadata": {},
   "outputs": [
    {
     "name": "stdout",
     "output_type": "stream",
     "text": [
      "Wall time: 38.8 s\n"
     ]
    }
   ],
   "source": [
    "%%time\n",
    "y_pred = clf_number_all.predict(X_test_scaled)"
   ]
  },
  {
   "cell_type": "code",
   "execution_count": 44,
   "metadata": {},
   "outputs": [
    {
     "name": "stdout",
     "output_type": "stream",
     "text": [
      "              precision    recall  f1-score   support\n",
      "\n",
      "           0       0.93      0.87      0.90       414\n",
      "           1       0.77      0.88      0.82       403\n",
      "           2       0.89      0.74      0.80       412\n",
      "           3       0.72      0.86      0.78       409\n",
      "           4       0.94      0.78      0.85       399\n",
      "           5       0.91      0.88      0.90       356\n",
      "           6       0.75      0.78      0.77       371\n",
      "           7       0.89      0.86      0.88       422\n",
      "           8       0.89      0.87      0.88       385\n",
      "           9       0.78      0.89      0.83       389\n",
      "\n",
      "    accuracy                           0.84      3960\n",
      "   macro avg       0.85      0.84      0.84      3960\n",
      "weighted avg       0.85      0.84      0.84      3960\n",
      "\n"
     ]
    }
   ],
   "source": [
    "print(classification_report(y_test, y_pred))"
   ]
  },
  {
   "cell_type": "markdown",
   "metadata": {},
   "source": [
    "# Prediction on the spot"
   ]
  },
  {
   "cell_type": "code",
   "execution_count": null,
   "metadata": {},
   "outputs": [],
   "source": [
    "import sounddevice as sd\n",
    "import subprocess"
   ]
  },
  {
   "cell_type": "code",
   "execution_count": null,
   "metadata": {},
   "outputs": [],
   "source": [
    "def create_recording(duration, rec_rate, name = \"test.wav\", output_dir = \"test/\"):\n",
    "    print(\"Ready in 3...\", end = \"\")\n",
    "    time.sleep(1)\n",
    "    print(\"2...\", end = \"\")\n",
    "    time.sleep(1)\n",
    "    print(\"1...\")\n",
    "    time.sleep(1)\n",
    "    print(\"Go.\")\n",
    "    rec = sd.rec(int(duration * rec_rate), samplerate=rec_rate, channels=1, blocking=True)\n",
    "    print(\"Playing the recording.\")\n",
    "    sd.play(rec, rec_rate)\n",
    "\n",
    "    # after hearing the recording, decide whether to record it again or continue to next number\n",
    "    # if you type anything, record again\n",
    "    # if you press enter, save current recording & go to next number\n",
    "    ok = input(\"OK?\")\n",
    "    if ok == \"\":\n",
    "        librosa.output.write_wav(output_dir+name, rec, rec_rate)\n",
    "        return rec\n",
    "    ipd.clear_output(wait=True)\n",
    "    create_recording(duration, rec_rate)"
   ]
  },
  {
   "cell_type": "code",
   "execution_count": null,
   "metadata": {},
   "outputs": [],
   "source": [
    "def trim_audio(file, input_dir=\"test/\", output_dir=\"test/\", db=-48):\n",
    "\n",
    "    if not os.path.isdir(input_dir):\n",
    "        print(f\"There should be an input \\\"{input_dir}\\\" directory.\")\n",
    "        sys.exit(0)\n",
    "    \n",
    "    # create output directory if not there yet\n",
    "    if not os.path.isdir(output_dir):\n",
    "        os.makedirs(output_dir)\n",
    "        \n",
    "    temp1 = output_dir+\"temp1.wav\"\n",
    "    temp2 = output_dir+\"temp2.wav\"\n",
    "    temp3 = output_dir+\"temp3.wav\"\n",
    " \n",
    "    subprocess.run([\"ffmpeg\", \"-y\", \"-i\", input_dir+file, \"-af\", f\"silenceremove=1:0:{db}dB\", temp1])\n",
    "    subprocess.run([\"ffmpeg\", \"-y\", \"-i\", temp1, \"-af\", \"areverse\", temp2])\n",
    "    subprocess.run([\"ffmpeg\", \"-y\", \"-i\", temp2, \"-af\", f\"silenceremove=1:0.1:{db}dB\", temp3])\n",
    "    subprocess.run([\"ffmpeg\", \"-y\", \"-i\", temp3, \"-af\", \"areverse\", output_dir+file])\n",
    "    \n",
    "    os.remove(temp1)\n",
    "    os.remove(temp2)\n",
    "    os.remove(temp3)"
   ]
  },
  {
   "cell_type": "code",
   "execution_count": null,
   "metadata": {},
   "outputs": [],
   "source": [
    "def test_classifiers(clfs, scalers, answer = None, duration=2, rec_rate=8000, directory = \"test/\", filename = \"test.wav\"):\n",
    "    create_recording(duration, rec_rate, filename, directory)   \n",
    "    ipd.clear_output()\n",
    "    trim_audio(filename, directory, directory)\n",
    "    _, rec = wav.read(directory + \"/\" + filename)\n",
    "    # sd.play(rec, rec_rate)\n",
    "    rec_features = combo(rec.flatten())\n",
    "    scaled_features = [0]*len(clfs)\n",
    "    preds = scaled_features\n",
    "    for i in range(len(clfs)):\n",
    "        scaled_features[i] = scalers[i].transform([rec_features])\n",
    "        preds[i] = clfs[i].predict(scaled_features[i])[0]\n",
    "        print(\"Classifier {} prediction: {}\".format(i+1, preds[i]))\n",
    "    if answer is not None:\n",
    "        print((\"Correct answer: \"+ \", \".join([\"{}\"]*len(answer))).format(*answer))\n",
    "    return preds"
   ]
  },
  {
   "cell_type": "code",
   "execution_count": null,
   "metadata": {},
   "outputs": [],
   "source": [
    "clfs = [clf_speaker_normal, clf_number_normal, clf_speaker_no_pitch, clf_number_all]\n",
    "scalers = [scaler_normal, scaler_normal2, scaler_no_pitch, scaler_all]"
   ]
  },
  {
   "cell_type": "code",
   "execution_count": null,
   "metadata": {},
   "outputs": [],
   "source": [
    "preds = test_classifiers(clfs, scalers)"
   ]
  }
 ],
 "metadata": {
  "kernelspec": {
   "display_name": "Python [conda env:dsim] *",
   "language": "python",
   "name": "conda-env-dsim-py"
  },
  "language_info": {
   "codemirror_mode": {
    "name": "ipython",
    "version": 3
   },
   "file_extension": ".py",
   "mimetype": "text/x-python",
   "name": "python",
   "nbconvert_exporter": "python",
   "pygments_lexer": "ipython3",
   "version": "3.7.4"
  }
 },
 "nbformat": 4,
 "nbformat_minor": 2
}

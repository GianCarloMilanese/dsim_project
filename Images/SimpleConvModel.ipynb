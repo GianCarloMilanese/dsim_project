{
 "cells": [
  {
   "cell_type": "markdown",
   "metadata": {
    "colab_type": "text",
    "id": "4NiYVzWr4YWf"
   },
   "source": [
    "# Face Recognition (GOOGLE COLAB)"
   ]
  },
  {
   "cell_type": "code",
   "execution_count": 1,
   "metadata": {
    "colab": {
     "base_uri": "https://localhost:8080/",
     "height": 312
    },
    "colab_type": "code",
    "executionInfo": {
     "elapsed": 1809,
     "status": "ok",
     "timestamp": 1591374556846,
     "user": {
      "displayName": "Gian Carlo Milanese",
      "photoUrl": "",
      "userId": "08352423327035271918"
     },
     "user_tz": -120
    },
    "id": "xacbs7YfmnzS",
    "outputId": "9fa58936-a141-40bc-da00-fa6cffb2c27b"
   },
   "outputs": [
    {
     "name": "stdout",
     "output_type": "stream",
     "text": [
      "Fri Jun  5 16:29:15 2020       \n",
      "+-----------------------------------------------------------------------------+\n",
      "| NVIDIA-SMI 440.82       Driver Version: 418.67       CUDA Version: 10.1     |\n",
      "|-------------------------------+----------------------+----------------------+\n",
      "| GPU  Name        Persistence-M| Bus-Id        Disp.A | Volatile Uncorr. ECC |\n",
      "| Fan  Temp  Perf  Pwr:Usage/Cap|         Memory-Usage | GPU-Util  Compute M. |\n",
      "|===============================+======================+======================|\n",
      "|   0  Tesla K80           Off  | 00000000:00:04.0 Off |                    0 |\n",
      "| N/A   41C    P8    25W / 149W |      0MiB / 11441MiB |      0%      Default |\n",
      "+-------------------------------+----------------------+----------------------+\n",
      "                                                                               \n",
      "+-----------------------------------------------------------------------------+\n",
      "| Processes:                                                       GPU Memory |\n",
      "|  GPU       PID   Type   Process name                             Usage      |\n",
      "|=============================================================================|\n",
      "|  No running processes found                                                 |\n",
      "+-----------------------------------------------------------------------------+\n"
     ]
    }
   ],
   "source": [
    "!nvidia-smi"
   ]
  },
  {
   "cell_type": "code",
   "execution_count": 0,
   "metadata": {
    "colab": {},
    "colab_type": "code",
    "id": "LsWn2GSH_5T6"
   },
   "outputs": [],
   "source": [
    "%tensorflow_version 2.x"
   ]
  },
  {
   "cell_type": "code",
   "execution_count": 3,
   "metadata": {
    "colab": {
     "base_uri": "https://localhost:8080/",
     "height": 35
    },
    "colab_type": "code",
    "executionInfo": {
     "elapsed": 6760,
     "status": "ok",
     "timestamp": 1591374561813,
     "user": {
      "displayName": "Gian Carlo Milanese",
      "photoUrl": "",
      "userId": "08352423327035271918"
     },
     "user_tz": -120
    },
    "id": "qicHhDWXIsue",
    "outputId": "498e9c9e-b453-4669-8bdc-84cfb6830f4d"
   },
   "outputs": [
    {
     "name": "stdout",
     "output_type": "stream",
     "text": [
      "\u001b[?25l\r",
      "\u001b[K     |▉                               | 10kB 21.4MB/s eta 0:00:01\r",
      "\u001b[K     |█▊                              | 20kB 2.0MB/s eta 0:00:01\r",
      "\u001b[K     |██▋                             | 30kB 2.3MB/s eta 0:00:01\r",
      "\u001b[K     |███▌                            | 40kB 2.6MB/s eta 0:00:01\r",
      "\u001b[K     |████▍                           | 51kB 2.4MB/s eta 0:00:01\r",
      "\u001b[K     |█████▏                          | 61kB 2.7MB/s eta 0:00:01\r",
      "\u001b[K     |██████                          | 71kB 3.0MB/s eta 0:00:01\r",
      "\u001b[K     |███████                         | 81kB 3.1MB/s eta 0:00:01\r",
      "\u001b[K     |███████▉                        | 92kB 3.0MB/s eta 0:00:01\r",
      "\u001b[K     |████████▊                       | 102kB 3.2MB/s eta 0:00:01\r",
      "\u001b[K     |█████████▌                      | 112kB 3.2MB/s eta 0:00:01\r",
      "\u001b[K     |██████████▍                     | 122kB 3.2MB/s eta 0:00:01\r",
      "\u001b[K     |███████████▎                    | 133kB 3.2MB/s eta 0:00:01\r",
      "\u001b[K     |████████████▏                   | 143kB 3.2MB/s eta 0:00:01\r",
      "\u001b[K     |█████████████                   | 153kB 3.2MB/s eta 0:00:01\r",
      "\u001b[K     |█████████████▉                  | 163kB 3.2MB/s eta 0:00:01\r",
      "\u001b[K     |██████████████▊                 | 174kB 3.2MB/s eta 0:00:01\r",
      "\u001b[K     |███████████████▋                | 184kB 3.2MB/s eta 0:00:01\r",
      "\u001b[K     |████████████████▌               | 194kB 3.2MB/s eta 0:00:01\r",
      "\u001b[K     |█████████████████▍              | 204kB 3.2MB/s eta 0:00:01\r",
      "\u001b[K     |██████████████████▎             | 215kB 3.2MB/s eta 0:00:01\r",
      "\u001b[K     |███████████████████             | 225kB 3.2MB/s eta 0:00:01\r",
      "\u001b[K     |████████████████████            | 235kB 3.2MB/s eta 0:00:01\r",
      "\u001b[K     |████████████████████▉           | 245kB 3.2MB/s eta 0:00:01\r",
      "\u001b[K     |█████████████████████▊          | 256kB 3.2MB/s eta 0:00:01\r",
      "\u001b[K     |██████████████████████▋         | 266kB 3.2MB/s eta 0:00:01\r",
      "\u001b[K     |███████████████████████▍        | 276kB 3.2MB/s eta 0:00:01\r",
      "\u001b[K     |████████████████████████▎       | 286kB 3.2MB/s eta 0:00:01\r",
      "\u001b[K     |█████████████████████████▏      | 296kB 3.2MB/s eta 0:00:01\r",
      "\u001b[K     |██████████████████████████      | 307kB 3.2MB/s eta 0:00:01\r",
      "\u001b[K     |███████████████████████████     | 317kB 3.2MB/s eta 0:00:01\r",
      "\u001b[K     |███████████████████████████▊    | 327kB 3.2MB/s eta 0:00:01\r",
      "\u001b[K     |████████████████████████████▋   | 337kB 3.2MB/s eta 0:00:01\r",
      "\u001b[K     |█████████████████████████████▌  | 348kB 3.2MB/s eta 0:00:01\r",
      "\u001b[K     |██████████████████████████████▍ | 358kB 3.2MB/s eta 0:00:01\r",
      "\u001b[K     |███████████████████████████████▎| 368kB 3.2MB/s eta 0:00:01\r",
      "\u001b[K     |████████████████████████████████| 378kB 3.2MB/s \n",
      "\u001b[?25h"
     ]
    }
   ],
   "source": [
    "!pip install -q keras==2.3.0"
   ]
  },
  {
   "cell_type": "code",
   "execution_count": 4,
   "metadata": {
    "colab": {
     "base_uri": "https://localhost:8080/",
     "height": 52
    },
    "colab_type": "code",
    "executionInfo": {
     "elapsed": 1989,
     "status": "ok",
     "timestamp": 1591374565066,
     "user": {
      "displayName": "Gian Carlo Milanese",
      "photoUrl": "",
      "userId": "08352423327035271918"
     },
     "user_tz": -120
    },
    "id": "YBLC2IjiIvwr",
    "outputId": "3c487be4-4d74-4eec-a00f-c60170906428"
   },
   "outputs": [
    {
     "name": "stderr",
     "output_type": "stream",
     "text": [
      "Using TensorFlow backend.\n"
     ]
    },
    {
     "name": "stdout",
     "output_type": "stream",
     "text": [
      "2.3.0\n"
     ]
    }
   ],
   "source": [
    "import keras\n",
    "print(keras.__version__)"
   ]
  },
  {
   "cell_type": "code",
   "execution_count": 0,
   "metadata": {
    "colab": {},
    "colab_type": "code",
    "id": "7Oing8Nfm4L9"
   },
   "outputs": [],
   "source": [
    "from keras.preprocessing import image as kimage\n",
    "from keras.models import Model\n",
    "from keras.layers import Dense, Dropout, BatchNormalization"
   ]
  },
  {
   "cell_type": "markdown",
   "metadata": {
    "colab_type": "text",
    "id": "q-XChVRmMSZP"
   },
   "source": [
    "# (Mount Google Drive from the menu on the left)"
   ]
  },
  {
   "cell_type": "markdown",
   "metadata": {
    "colab_type": "text",
    "id": "j0EBVquMCW5H"
   },
   "source": [
    "# Define Train/test/val sets"
   ]
  },
  {
   "cell_type": "code",
   "execution_count": 0,
   "metadata": {
    "colab": {},
    "colab_type": "code",
    "id": "I4IE9fkCHsmX"
   },
   "outputs": [],
   "source": [
    "my_pictures_dir =\"/content/drive/My Drive/2D/pictures_neutral_split\""
   ]
  },
  {
   "cell_type": "code",
   "execution_count": 0,
   "metadata": {
    "colab": {},
    "colab_type": "code",
    "id": "k4kN9pPpIx1F"
   },
   "outputs": [],
   "source": [
    "train_dir = my_pictures_dir+\"/train\"\n",
    "val_dir = my_pictures_dir+\"/val\"\n",
    "test_dir = my_pictures_dir+\"/test\""
   ]
  },
  {
   "cell_type": "code",
   "execution_count": 8,
   "metadata": {
    "colab": {
     "base_uri": "https://localhost:8080/",
     "height": 35
    },
    "colab_type": "code",
    "executionInfo": {
     "elapsed": 4089,
     "status": "ok",
     "timestamp": 1591374568821,
     "user": {
      "displayName": "Gian Carlo Milanese",
      "photoUrl": "",
      "userId": "08352423327035271918"
     },
     "user_tz": -120
    },
    "id": "c-oyRQbpM8Hq",
    "outputId": "a517f3c1-02c8-4ddb-fddf-32d011990fff"
   },
   "outputs": [
    {
     "name": "stdout",
     "output_type": "stream",
     "text": [
      "alessandro  alinda  cami  gian\tluca  mamma  papi  umbe\n"
     ]
    }
   ],
   "source": [
    "!ls \"$my_pictures_dir/test\""
   ]
  },
  {
   "cell_type": "code",
   "execution_count": 0,
   "metadata": {
    "colab": {},
    "colab_type": "code",
    "id": "5Jkb5yUNplkr"
   },
   "outputs": [],
   "source": [
    "import matplotlib.pyplot as plt\n",
    "import numpy as np"
   ]
  },
  {
   "cell_type": "markdown",
   "metadata": {
    "colab_type": "text",
    "id": "iF3Se93DHUgb"
   },
   "source": [
    "## Sample from test set"
   ]
  },
  {
   "cell_type": "code",
   "execution_count": 10,
   "metadata": {
    "colab": {
     "base_uri": "https://localhost:8080/",
     "height": 35
    },
    "colab_type": "code",
    "executionInfo": {
     "elapsed": 6017,
     "status": "ok",
     "timestamp": 1591374571331,
     "user": {
      "displayName": "Gian Carlo Milanese",
      "photoUrl": "",
      "userId": "08352423327035271918"
     },
     "user_tz": -120
    },
    "id": "rYnTAZDwHXWx",
    "outputId": "d6721018-76b4-4a87-d5ba-68222b570017"
   },
   "outputs": [
    {
     "name": "stdout",
     "output_type": "stream",
     "text": [
      "Found 702 images belonging to 6 classes.\n"
     ]
    }
   ],
   "source": [
    "sample_processing = kimage.ImageDataGenerator()\n",
    "sample_generator = sample_processing.flow_from_directory(train_dir,\n",
    "                                                    classes=  [\"alessandro\", \"alinda\", \"cami\",  \"gian\", \"mamma\",  \"papi\"],\n",
    "                                                    target_size=(224, 224),\n",
    "                                                    color_mode=\"rgb\",\n",
    "                                                    batch_size=64,\n",
    "                                                    class_mode=\"categorical\",\n",
    "                                                    shuffle=True,\n",
    "                                                    seed=1)"
   ]
  },
  {
   "cell_type": "code",
   "execution_count": 0,
   "metadata": {
    "colab": {},
    "colab_type": "code",
    "id": "YtO1so2TIAkO"
   },
   "outputs": [],
   "source": [
    "sample = sample_generator.next()\n",
    "sample_features = sample[0]\n",
    "sample_labels = sample[1]"
   ]
  },
  {
   "cell_type": "code",
   "execution_count": 12,
   "metadata": {
    "colab": {
     "base_uri": "https://localhost:8080/",
     "height": 35
    },
    "colab_type": "code",
    "executionInfo": {
     "elapsed": 48837,
     "status": "ok",
     "timestamp": 1591374614527,
     "user": {
      "displayName": "Gian Carlo Milanese",
      "photoUrl": "",
      "userId": "08352423327035271918"
     },
     "user_tz": -120
    },
    "id": "dhZncc4uuUU5",
    "outputId": "dc6d2a55-2a48-4b53-ce64-e42500ac0128"
   },
   "outputs": [
    {
     "data": {
      "text/plain": [
       "['alessandro', 'alinda', 'cami', 'gian', 'mamma', 'papi']"
      ]
     },
     "execution_count": 12,
     "metadata": {
      "tags": []
     },
     "output_type": "execute_result"
    }
   ],
   "source": [
    "labels_to_text = [i[0] for i in sample_generator.class_indices.items()]\n",
    "labels_to_text"
   ]
  },
  {
   "cell_type": "code",
   "execution_count": 13,
   "metadata": {
    "colab": {
     "base_uri": "https://localhost:8080/",
     "height": 35
    },
    "colab_type": "code",
    "executionInfo": {
     "elapsed": 48566,
     "status": "ok",
     "timestamp": 1591374614527,
     "user": {
      "displayName": "Gian Carlo Milanese",
      "photoUrl": "",
      "userId": "08352423327035271918"
     },
     "user_tz": -120
    },
    "id": "jmluI_ioJKFA",
    "outputId": "94aa826b-bc4a-49d9-e511-c2bf06d5f34f"
   },
   "outputs": [
    {
     "data": {
      "text/plain": [
       "array([13, 13,  4, 17,  8,  9])"
      ]
     },
     "execution_count": 13,
     "metadata": {
      "tags": []
     },
     "output_type": "execute_result"
    }
   ],
   "source": [
    "np.unique([labels_to_text[np.argmax(sample_labels[i])] for i in range(len(sample_labels))], return_counts=1)[1]"
   ]
  },
  {
   "cell_type": "markdown",
   "metadata": {
    "colab_type": "text",
    "id": "eLNv133C3-dY"
   },
   "source": [
    "## Generators"
   ]
  },
  {
   "cell_type": "code",
   "execution_count": 0,
   "metadata": {
    "colab": {},
    "colab_type": "code",
    "id": "qZ2wSlAFxOLD"
   },
   "outputs": [],
   "source": [
    "train_processing = kimage.ImageDataGenerator(\n",
    "    featurewise_center=True,\n",
    "    featurewise_std_normalization=True,\n",
    "    # rescale= 1./255,\n",
    "    # Rotations\n",
    "    rotation_range=10,\n",
    "    # # Shifts\n",
    "    # width_shift_range=0.1,\n",
    "    # height_shift_range=0.1,\n",
    "    # # Flips\n",
    "    horizontal_flip=True,\n",
    "    # vertical_flip=True,\n",
    "    # Brightness Change\n",
    "    brightness_range=[0.6,1.4],\n",
    "    # Zoom Change\n",
    "    zoom_range=[0.9,1.1]\n",
    "    \n",
    ")"
   ]
  },
  {
   "cell_type": "code",
   "execution_count": 0,
   "metadata": {
    "colab": {},
    "colab_type": "code",
    "id": "MWR4h9T3J7En"
   },
   "outputs": [],
   "source": [
    "train_processing.fit(sample_features)"
   ]
  },
  {
   "cell_type": "code",
   "execution_count": 16,
   "metadata": {
    "colab": {
     "base_uri": "https://localhost:8080/",
     "height": 35
    },
    "colab_type": "code",
    "executionInfo": {
     "elapsed": 47887,
     "status": "ok",
     "timestamp": 1591374614847,
     "user": {
      "displayName": "Gian Carlo Milanese",
      "photoUrl": "",
      "userId": "08352423327035271918"
     },
     "user_tz": -120
    },
    "id": "7R67G0geUZuN",
    "outputId": "fe70743a-051d-47a3-9b6c-d372bcadef1d"
   },
   "outputs": [
    {
     "data": {
      "text/plain": [
       "array([[[119.39314 , 100.51132 ,  99.129295]]], dtype=float32)"
      ]
     },
     "execution_count": 16,
     "metadata": {
      "tags": []
     },
     "output_type": "execute_result"
    }
   ],
   "source": [
    "train_processing.mean"
   ]
  },
  {
   "cell_type": "code",
   "execution_count": 17,
   "metadata": {
    "colab": {
     "base_uri": "https://localhost:8080/",
     "height": 35
    },
    "colab_type": "code",
    "executionInfo": {
     "elapsed": 47648,
     "status": "ok",
     "timestamp": 1591374614848,
     "user": {
      "displayName": "Gian Carlo Milanese",
      "photoUrl": "",
      "userId": "08352423327035271918"
     },
     "user_tz": -120
    },
    "id": "Yyk9Rg1XxOLF",
    "outputId": "2f8ed915-de62-4372-ed6c-0ef406f23826"
   },
   "outputs": [
    {
     "name": "stdout",
     "output_type": "stream",
     "text": [
      "Found 702 images belonging to 6 classes.\n"
     ]
    }
   ],
   "source": [
    "train_generator = train_processing.flow_from_directory(train_dir,\n",
    "                                                       classes=  [\"alessandro\", \"alinda\", \"cami\",  \"gian\", \"mamma\",  \"papi\"],\n",
    "                                                       target_size=(224, 224),\n",
    "                                                       color_mode=\"rgb\",\n",
    "                                                       batch_size=32,\n",
    "                                                       class_mode=\"categorical\",\n",
    "                                                       shuffle=True,\n",
    "                                                       seed=1)"
   ]
  },
  {
   "cell_type": "code",
   "execution_count": 18,
   "metadata": {
    "colab": {
     "base_uri": "https://localhost:8080/",
     "height": 52
    },
    "colab_type": "code",
    "executionInfo": {
     "elapsed": 49229,
     "status": "ok",
     "timestamp": 1591374616664,
     "user": {
      "displayName": "Gian Carlo Milanese",
      "photoUrl": "",
      "userId": "08352423327035271918"
     },
     "user_tz": -120
    },
    "id": "ziayXNbkxOLI",
    "outputId": "15ed34df-8de0-46b9-ac33-6eeb5bb05fe4"
   },
   "outputs": [
    {
     "name": "stdout",
     "output_type": "stream",
     "text": [
      "Found 204 images belonging to 6 classes.\n",
      "Found 102 images belonging to 6 classes.\n"
     ]
    }
   ],
   "source": [
    "test_processing = kimage.ImageDataGenerator(featurewise_center=True,\n",
    "                                            featurewise_std_normalization=True\n",
    "                                            # rescale = 1./255\n",
    "                                            )\n",
    "test_processing.fit(sample_features)\n",
    "\n",
    "val_generator = test_processing.flow_from_directory(val_dir,\n",
    "                                                    classes=  [\"alessandro\", \"alinda\", \"cami\",  \"gian\", \"mamma\",  \"papi\"],\n",
    "                                                    target_size=(224, 224),\n",
    "                                                    color_mode=\"rgb\",\n",
    "                                                    batch_size=32,\n",
    "                                                    class_mode=\"categorical\",\n",
    "                                                    shuffle=False,\n",
    "                                                    seed=1)\n",
    "\n",
    "test_generator = test_processing.flow_from_directory(test_dir,\n",
    "                                                     classes=  [\"alessandro\", \"alinda\", \"cami\",  \"gian\", \"mamma\",  \"papi\"],\n",
    "                                                     target_size=(224, 224),\n",
    "                                                     color_mode=\"rgb\",\n",
    "                                                     batch_size=32,\n",
    "                                                     class_mode=\"categorical\",\n",
    "                                                     shuffle=False,\n",
    "                                                     seed=1)"
   ]
  },
  {
   "cell_type": "code",
   "execution_count": 19,
   "metadata": {
    "colab": {
     "base_uri": "https://localhost:8080/",
     "height": 35
    },
    "colab_type": "code",
    "executionInfo": {
     "elapsed": 48521,
     "status": "ok",
     "timestamp": 1591374616665,
     "user": {
      "displayName": "Gian Carlo Milanese",
      "photoUrl": "",
      "userId": "08352423327035271918"
     },
     "user_tz": -120
    },
    "id": "_bhMixIbpIzK",
    "outputId": "a2beee9e-2143-4ed0-b514-969e6f121108"
   },
   "outputs": [
    {
     "data": {
      "text/plain": [
       "6"
      ]
     },
     "execution_count": 19,
     "metadata": {
      "tags": []
     },
     "output_type": "execute_result"
    }
   ],
   "source": [
    "n_classes = (train_generator.num_classes)\n",
    "n_classes"
   ]
  },
  {
   "cell_type": "markdown",
   "metadata": {
    "colab_type": "text",
    "id": "HeOWmhBTqTN7"
   },
   "source": [
    "### See preprocessed images"
   ]
  },
  {
   "cell_type": "code",
   "execution_count": 0,
   "metadata": {
    "colab": {},
    "colab_type": "code",
    "id": "oFL-ylAqp0ma"
   },
   "outputs": [],
   "source": [
    "batch = np.array(train_generator.next()[0])"
   ]
  },
  {
   "cell_type": "code",
   "execution_count": 21,
   "metadata": {
    "colab": {
     "base_uri": "https://localhost:8080/",
     "height": 35
    },
    "colab_type": "code",
    "executionInfo": {
     "elapsed": 48334,
     "status": "ok",
     "timestamp": 1591374617302,
     "user": {
      "displayName": "Gian Carlo Milanese",
      "photoUrl": "",
      "userId": "08352423327035271918"
     },
     "user_tz": -120
    },
    "id": "bobB7t_Mp6fO",
    "outputId": "62e89821-b96f-43b5-c4b9-916c51011b42"
   },
   "outputs": [
    {
     "data": {
      "text/plain": [
       "(32, 224, 224, 3)"
      ]
     },
     "execution_count": 21,
     "metadata": {
      "tags": []
     },
     "output_type": "execute_result"
    }
   ],
   "source": [
    "batch.shape"
   ]
  },
  {
   "cell_type": "code",
   "execution_count": 0,
   "metadata": {
    "colab": {},
    "colab_type": "code",
    "id": "7v4L6jlIKZla"
   },
   "outputs": [],
   "source": [
    "mu = train_processing.mean\n",
    "sigma = train_processing.std"
   ]
  },
  {
   "cell_type": "code",
   "execution_count": 23,
   "metadata": {
    "colab": {
     "base_uri": "https://localhost:8080/",
     "height": 269
    },
    "colab_type": "code",
    "executionInfo": {
     "elapsed": 48400,
     "status": "ok",
     "timestamp": 1591374617969,
     "user": {
      "displayName": "Gian Carlo Milanese",
      "photoUrl": "",
      "userId": "08352423327035271918"
     },
     "user_tz": -120
    },
    "id": "GmuuMSqopjZ8",
    "outputId": "d6a22f65-3e9f-47a6-9a1e-7dcd947021ec"
   },
   "outputs": [
    {
     "data": {
      "image/png": "[encoded data removed]",
      "text/plain": [
       "<Figure size 432x288 with 1 Axes>"
      ]
     },
     "metadata": {
      "needs_background": "light",
      "tags": []
     },
     "output_type": "display_data"
    }
   ],
   "source": [
    "pic = batch[1]\n",
    "plt.imshow((pic*sigma + mu)/255)\n",
    "# plt.imshow(pic)\n",
    "plt.show()"
   ]
  },
  {
   "cell_type": "markdown",
   "metadata": {
    "colab_type": "text",
    "id": "nAPxf-1v1VA9"
   },
   "source": [
    "# Net"
   ]
  },
  {
   "cell_type": "code",
   "execution_count": 0,
   "metadata": {
    "colab": {},
    "colab_type": "code",
    "id": "NZyub47jK-rr"
   },
   "outputs": [],
   "source": [
    "from keras.models import Sequential\n",
    "from keras.layers import Dense, Conv2D, Flatten\n",
    "#create model\n",
    "net = Sequential()\n",
    "#add model layers\n",
    "net.add(Conv2D(64, kernel_size=3, activation='relu', input_shape=(224,224,3)))\n",
    "net.add(Conv2D(32, kernel_size=3, activation='relu'))\n",
    "net.add(Flatten())\n",
    "net.add(Dense(n_classes, activation='softmax'))"
   ]
  },
  {
   "cell_type": "code",
   "execution_count": 0,
   "metadata": {
    "colab": {},
    "colab_type": "code",
    "id": "zhJ_3JB0xOLS"
   },
   "outputs": [],
   "source": [
    "net.compile(loss=keras.losses.categorical_crossentropy,\n",
    "            optimizer=keras.optimizers.RMSprop(),\n",
    "            metrics=[\"accuracy\"])\n"
   ]
  },
  {
   "cell_type": "code",
   "execution_count": 0,
   "metadata": {
    "colab": {},
    "colab_type": "code",
    "id": "FHg6AreRvEOP"
   },
   "outputs": [],
   "source": [
    "callback = keras.callbacks.EarlyStopping(monitor='val_loss',\n",
    "                                         restore_best_weights=True, patience=5)"
   ]
  },
  {
   "cell_type": "code",
   "execution_count": 27,
   "metadata": {
    "colab": {
     "base_uri": "https://localhost:8080/",
     "height": 225
    },
    "colab_type": "code",
    "executionInfo": {
     "elapsed": 542484,
     "status": "ok",
     "timestamp": 1591375115315,
     "user": {
      "displayName": "Gian Carlo Milanese",
      "photoUrl": "",
      "userId": "08352423327035271918"
     },
     "user_tz": -120
    },
    "id": "C9VshMWqvRnQ",
    "outputId": "af71e644-528f-49db-eaab-3637017a55f8"
   },
   "outputs": [
    {
     "name": "stdout",
     "output_type": "stream",
     "text": [
      "Epoch 1/30\n",
      "21/21 [==============================] - 401s 19s/step - loss: 13.4760 - accuracy: 0.8254 - val_loss: 0.0000e+00 - val_accuracy: 0.9412\n",
      "Epoch 2/30\n",
      "21/21 [==============================] - 32s 2s/step - loss: 0.0065 - accuracy: 0.9970 - val_loss: 0.0000e+00 - val_accuracy: 0.9902\n",
      "Epoch 3/30\n",
      "21/21 [==============================] - 14s 652ms/step - loss: 0.2077 - accuracy: 0.9777 - val_loss: 0.0739 - val_accuracy: 0.9902\n",
      "Epoch 4/30\n",
      "21/21 [==============================] - 15s 693ms/step - loss: 2.8334 - accuracy: 0.9134 - val_loss: 0.0000e+00 - val_accuracy: 0.9902\n",
      "Epoch 5/30\n",
      "21/21 [==============================] - 15s 732ms/step - loss: 0.0237 - accuracy: 0.9925 - val_loss: 0.0000e+00 - val_accuracy: 0.9902\n",
      "Epoch 6/30\n",
      "21/21 [==============================] - 14s 655ms/step - loss: 0.0426 - accuracy: 0.9940 - val_loss: 0.0000e+00 - val_accuracy: 0.9902\n"
     ]
    }
   ],
   "source": [
    "history = net.fit_generator(train_generator,\n",
    "                  verbose=1,\n",
    "                  epochs=30,\n",
    "                  steps_per_epoch=train_generator.n//train_generator.batch_size,\n",
    "                  callbacks=[callback],\n",
    "                  validation_data=val_generator)"
   ]
  },
  {
   "cell_type": "markdown",
   "metadata": {
    "colab_type": "text",
    "id": "S78x--bf1ZpJ"
   },
   "source": [
    "# Save Model"
   ]
  },
  {
   "cell_type": "code",
   "execution_count": 0,
   "metadata": {
    "colab": {},
    "colab_type": "code",
    "id": "5P_yH8jSloZv"
   },
   "outputs": [],
   "source": [
    "import os"
   ]
  },
  {
   "cell_type": "code",
   "execution_count": 0,
   "metadata": {
    "colab": {},
    "colab_type": "code",
    "id": "bmdWR91XljVg"
   },
   "outputs": [],
   "source": [
    "latest_model_number = max([int(e.split(\"_\")[0]) for e in os.listdir(\"/content/drive/My Drive/2D/models/\")])"
   ]
  },
  {
   "cell_type": "code",
   "execution_count": 0,
   "metadata": {
    "colab": {},
    "colab_type": "code",
    "id": "Zo-GycrJlzc5"
   },
   "outputs": [],
   "source": [
    "model_name = latest_model_number + 1"
   ]
  },
  {
   "cell_type": "code",
   "execution_count": 36,
   "metadata": {
    "colab": {
     "base_uri": "https://localhost:8080/",
     "height": 52
    },
    "colab_type": "code",
    "executionInfo": {
     "elapsed": 394,
     "status": "ok",
     "timestamp": 1591375129453,
     "user": {
      "displayName": "Gian Carlo Milanese",
      "photoUrl": "",
      "userId": "08352423327035271918"
     },
     "user_tz": -120
    },
    "id": "y1-3gO7QCWPF",
    "outputId": "3a560764-536d-4665-f3ff-a40b30dee39e"
   },
   "outputs": [
    {
     "data": {
      "text/plain": [
       "('/content/drive/My Drive/2D/models/12_model.h5',\n",
       " '/content/drive/My Drive/2D/models/12_model.json')"
      ]
     },
     "execution_count": 36,
     "metadata": {
      "tags": []
     },
     "output_type": "execute_result"
    }
   ],
   "source": [
    "model_filename = f\"/content/drive/My Drive/2D/models/{model_name}_model.h5\"\n",
    "json_filename = f\"/content/drive/My Drive/2D/models/{model_name}_model.json\"\n",
    "model_filename, json_filename"
   ]
  },
  {
   "cell_type": "code",
   "execution_count": 0,
   "metadata": {
    "colab": {},
    "colab_type": "code",
    "id": "-XEciD1nQyM0"
   },
   "outputs": [],
   "source": [
    "mu = list(train_processing.mean[0][0])\n",
    "std = list(train_processing.std[0][0])"
   ]
  },
  {
   "cell_type": "code",
   "execution_count": 38,
   "metadata": {
    "colab": {
     "base_uri": "https://localhost:8080/",
     "height": 121
    },
    "colab_type": "code",
    "executionInfo": {
     "elapsed": 401,
     "status": "ok",
     "timestamp": 1591375134482,
     "user": {
      "displayName": "Gian Carlo Milanese",
      "photoUrl": "",
      "userId": "08352423327035271918"
     },
     "user_tz": -120
    },
    "id": "3pSS8NLcP_YD",
    "outputId": "44d3a6ab-3718-43c2-b65e-47d027491ecb"
   },
   "outputs": [
    {
     "data": {
      "text/plain": [
       "{'class_indices': ['alessandro', 'alinda', 'cami', 'gian', 'mamma', 'papi'],\n",
       " 'featurewise_center': True,\n",
       " 'featurewise_std': True,\n",
       " 'mean': ['119.39314', '100.51132', '99.129295'],\n",
       " 'model_n': 12,\n",
       " 'std': ['62.04779', '59.544598', '59.233936']}"
      ]
     },
     "execution_count": 38,
     "metadata": {
      "tags": []
     },
     "output_type": "execute_result"
    }
   ],
   "source": [
    "d = {}\n",
    "d[\"mean\"] = [str(i) for i in mu]\n",
    "d[\"std\"] = [str(i) for i in std]\n",
    "d[\"model_n\"] = model_name\n",
    "d[\"featurewise_center\"] = True\n",
    "d[\"featurewise_std\"] = True\n",
    "d[\"class_indices\"] = [i[0] for i in train_generator.class_indices.items()]\n",
    "\n",
    "d"
   ]
  },
  {
   "cell_type": "code",
   "execution_count": 0,
   "metadata": {
    "colab": {},
    "colab_type": "code",
    "id": "XwoFAGRXQo5R"
   },
   "outputs": [],
   "source": [
    "import json"
   ]
  },
  {
   "cell_type": "code",
   "execution_count": 0,
   "metadata": {
    "colab": {},
    "colab_type": "code",
    "id": "o09uuY1XQho4"
   },
   "outputs": [],
   "source": [
    "with open(json_filename, \"w\") as jsonf:\n",
    "    json.dump(d, jsonf)"
   ]
  },
  {
   "cell_type": "code",
   "execution_count": 0,
   "metadata": {
    "colab": {},
    "colab_type": "code",
    "id": "IeUsYbyDchgq"
   },
   "outputs": [],
   "source": [
    "net.save(model_filename)"
   ]
  },
  {
   "cell_type": "markdown",
   "metadata": {
    "colab_type": "text",
    "id": "ZVys6EHXtq1R"
   },
   "source": [
    "## Evaluation\n"
   ]
  },
  {
   "cell_type": "code",
   "execution_count": 0,
   "metadata": {
    "colab": {},
    "colab_type": "code",
    "id": "gK55TwAPq8VM"
   },
   "outputs": [],
   "source": [
    "import numpy as np\n",
    "from sklearn.metrics import confusion_matrix as cm\n",
    "from sklearn.metrics import classification_report"
   ]
  },
  {
   "cell_type": "code",
   "execution_count": 43,
   "metadata": {
    "colab": {
     "base_uri": "https://localhost:8080/",
     "height": 35
    },
    "colab_type": "code",
    "executionInfo": {
     "elapsed": 14403,
     "status": "ok",
     "timestamp": 1591375214412,
     "user": {
      "displayName": "Gian Carlo Milanese",
      "photoUrl": "",
      "userId": "08352423327035271918"
     },
     "user_tz": -120
    },
    "id": "lJVvGYXTtfkv",
    "outputId": "dfa41a50-70d9-41b5-82df-bccd5e8bf9bb"
   },
   "outputs": [
    {
     "data": {
      "text/plain": [
       "[0.0060929604806005955, 0.994301974773407]"
      ]
     },
     "execution_count": 43,
     "metadata": {
      "tags": []
     },
     "output_type": "execute_result"
    }
   ],
   "source": [
    "net.evaluate_generator(train_generator)"
   ]
  },
  {
   "cell_type": "code",
   "execution_count": 44,
   "metadata": {
    "colab": {
     "base_uri": "https://localhost:8080/",
     "height": 35
    },
    "colab_type": "code",
    "executionInfo": {
     "elapsed": 16008,
     "status": "ok",
     "timestamp": 1591375216183,
     "user": {
      "displayName": "Gian Carlo Milanese",
      "photoUrl": "",
      "userId": "08352423327035271918"
     },
     "user_tz": -120
    },
    "id": "HFr6eq-b0I-x",
    "outputId": "14eedbbc-1712-476a-e1f9-553315232db6"
   },
   "outputs": [
    {
     "data": {
      "text/plain": [
       "[0.0, 0.9411764740943909]"
      ]
     },
     "execution_count": 44,
     "metadata": {
      "tags": []
     },
     "output_type": "execute_result"
    }
   ],
   "source": [
    "net.evaluate_generator(val_generator)"
   ]
  },
  {
   "cell_type": "code",
   "execution_count": 45,
   "metadata": {
    "colab": {
     "base_uri": "https://localhost:8080/",
     "height": 35
    },
    "colab_type": "code",
    "executionInfo": {
     "elapsed": 83401,
     "status": "ok",
     "timestamp": 1591375283742,
     "user": {
      "displayName": "Gian Carlo Milanese",
      "photoUrl": "",
      "userId": "08352423327035271918"
     },
     "user_tz": -120
    },
    "id": "wessu9iXFLz_",
    "outputId": "eafaf8cf-daac-48db-8301-7e1e433ddba1"
   },
   "outputs": [
    {
     "data": {
      "text/plain": [
       "[0.0, 0.9313725233078003]"
      ]
     },
     "execution_count": 45,
     "metadata": {
      "tags": []
     },
     "output_type": "execute_result"
    }
   ],
   "source": [
    "net.evaluate_generator(test_generator)"
   ]
  },
  {
   "cell_type": "code",
   "execution_count": 0,
   "metadata": {
    "colab": {},
    "colab_type": "code",
    "id": "ZoQRoetPt5dn"
   },
   "outputs": [],
   "source": [
    "def classification_report_generator(generator):\n",
    "  # should not be applied to generators with shuffle = True\n",
    "  preds = net.predict_generator(generator)\n",
    "  preds = np.argmax(preds, axis=1)\n",
    "  real = generator.classes\n",
    "  ind_dict = generator.class_indices\n",
    "  num_to_label = [i[0] for i in ind_dict.items()]\n",
    "  cmat = cm(real, preds)\n",
    "  cr = classification_report(real, preds, target_names=num_to_label)\n",
    "  return cmat, cr"
   ]
  },
  {
   "cell_type": "code",
   "execution_count": 47,
   "metadata": {
    "colab": {
     "base_uri": "https://localhost:8080/",
     "height": 243
    },
    "colab_type": "code",
    "executionInfo": {
     "elapsed": 83824,
     "status": "ok",
     "timestamp": 1591375285214,
     "user": {
      "displayName": "Gian Carlo Milanese",
      "photoUrl": "",
      "userId": "08352423327035271918"
     },
     "user_tz": -120
    },
    "id": "KRF-DoOhswQg",
    "outputId": "637f0504-586a-4ef3-aa4f-6a73d076212f"
   },
   "outputs": [
    {
     "name": "stdout",
     "output_type": "stream",
     "text": [
      "              precision    recall  f1-score   support\n",
      "\n",
      "  alessandro       1.00      1.00      1.00        34\n",
      "      alinda       1.00      0.94      0.97        34\n",
      "        cami       1.00      0.71      0.83        34\n",
      "        gian       1.00      1.00      1.00        34\n",
      "       mamma       1.00      1.00      1.00        34\n",
      "        papi       0.74      1.00      0.85        34\n",
      "\n",
      "    accuracy                           0.94       204\n",
      "   macro avg       0.96      0.94      0.94       204\n",
      "weighted avg       0.96      0.94      0.94       204\n",
      "\n"
     ]
    }
   ],
   "source": [
    "cm_val, cr_val = classification_report_generator(val_generator)\n",
    "print(cr_val)"
   ]
  },
  {
   "cell_type": "code",
   "execution_count": 48,
   "metadata": {
    "colab": {
     "base_uri": "https://localhost:8080/",
     "height": 243
    },
    "colab_type": "code",
    "executionInfo": {
     "elapsed": 84246,
     "status": "ok",
     "timestamp": 1591375286055,
     "user": {
      "displayName": "Gian Carlo Milanese",
      "photoUrl": "",
      "userId": "08352423327035271918"
     },
     "user_tz": -120
    },
    "id": "yXqZauUgvW2_",
    "outputId": "13dfc9ed-f38b-4e2a-fbf0-f2558af92ea4"
   },
   "outputs": [
    {
     "name": "stdout",
     "output_type": "stream",
     "text": [
      "              precision    recall  f1-score   support\n",
      "\n",
      "  alessandro       1.00      1.00      1.00        17\n",
      "      alinda       1.00      1.00      1.00        17\n",
      "        cami       1.00      0.59      0.74        17\n",
      "        gian       1.00      1.00      1.00        17\n",
      "       mamma       1.00      1.00      1.00        17\n",
      "        papi       0.71      1.00      0.83        17\n",
      "\n",
      "    accuracy                           0.93       102\n",
      "   macro avg       0.95      0.93      0.93       102\n",
      "weighted avg       0.95      0.93      0.93       102\n",
      "\n"
     ]
    }
   ],
   "source": [
    "cm_test, cr_test = classification_report_generator(test_generator)\n",
    "print(cr_test)"
   ]
  },
  {
   "cell_type": "code",
   "execution_count": 0,
   "metadata": {
    "colab": {},
    "colab_type": "code",
    "id": "DK5pQfcsy1m4"
   },
   "outputs": [],
   "source": [
    "import matplotlib.pyplot as plt"
   ]
  },
  {
   "cell_type": "code",
   "execution_count": 50,
   "metadata": {
    "colab": {
     "base_uri": "https://localhost:8080/",
     "height": 621
    },
    "colab_type": "code",
    "executionInfo": {
     "elapsed": 83417,
     "status": "ok",
     "timestamp": 1591375286520,
     "user": {
      "displayName": "Gian Carlo Milanese",
      "photoUrl": "",
      "userId": "08352423327035271918"
     },
     "user_tz": -120
    },
    "id": "cw4XlgHfyzv8",
    "outputId": "052770f6-4228-4cbb-97c6-a20f8c3fb52d"
   },
   "outputs": [
    {
     "data": {
      "image/png": "[encoded data removed]",
      "text/plain": [
       "<Figure size 1080x720 with 1 Axes>"
      ]
     },
     "metadata": {
      "needs_background": "light",
      "tags": []
     },
     "output_type": "display_data"
    }
   ],
   "source": [
    "plt.figure(figsize=(15,10))\n",
    "plt.plot(history.history['accuracy'])\n",
    "plt.plot(history.history['val_accuracy'])\n",
    "plt.title('model accuracy')\n",
    "plt.ylabel('accuracy')\n",
    "plt.xlabel('epoch')\n",
    "plt.legend(['train', 'val'], loc='upper left')\n",
    "plt.show()"
   ]
  },
  {
   "cell_type": "code",
   "execution_count": 51,
   "metadata": {
    "colab": {
     "base_uri": "https://localhost:8080/",
     "height": 621
    },
    "colab_type": "code",
    "executionInfo": {
     "elapsed": 83405,
     "status": "ok",
     "timestamp": 1591375286894,
     "user": {
      "displayName": "Gian Carlo Milanese",
      "photoUrl": "",
      "userId": "08352423327035271918"
     },
     "user_tz": -120
    },
    "id": "61O6WNJAAoPX",
    "outputId": "b40dfe6c-ec46-493d-cfcb-dcca74540321"
   },
   "outputs": [
    {
     "data": {
      "image/png": "[encoded data removed]",
      "text/plain": [
       "<Figure size 1080x720 with 1 Axes>"
      ]
     },
     "metadata": {
      "needs_background": "light",
      "tags": []
     },
     "output_type": "display_data"
    }
   ],
   "source": [
    "plt.figure(figsize=(15,10))\n",
    "plt.plot(history.history['loss'])\n",
    "plt.plot(history.history['val_loss'])\n",
    "plt.title('model loss')\n",
    "plt.ylabel('loss')\n",
    "plt.xlabel('epoch')\n",
    "plt.legend(['train', 'val'], loc='upper left')\n",
    "plt.show()"
   ]
  },
  {
   "cell_type": "markdown",
   "metadata": {
    "colab_type": "text",
    "id": "vQk1W0jrAwCb"
   },
   "source": [
    "# TODO\n",
    "\n",
    "- Collect more data\n",
    "- Choose a better model\n",
    "- look at these: \n",
    "  - https://github.com/Golbstein/keras-face-recognition\n",
    "  - https://github.com/krasserm/face-recognition"
   ]
  }
 ],
 "metadata": {
  "accelerator": "GPU",
  "colab": {
   "authorship_tag": "ABX9TyPf/Hp8PDgi+bPy/ShDGoKA",
   "collapsed_sections": [],
   "mount_file_id": "14kAwFLtVXh4QkrTi4oFZVzvN9QoiP5r-",
   "name": "SimpleConvModel.ipynb",
   "provenance": []
  },
  "kernelspec": {
   "display_name": "Python 3",
   "language": "python",
   "name": "python3"
  },
  "language_info": {
   "codemirror_mode": {
    "name": "ipython",
    "version": 3
   },
   "file_extension": ".py",
   "mimetype": "text/x-python",
   "name": "python",
   "nbconvert_exporter": "python",
   "pygments_lexer": "ipython3",
   "version": "3.7.4"
  }
 },
 "nbformat": 4,
 "nbformat_minor": 1
}

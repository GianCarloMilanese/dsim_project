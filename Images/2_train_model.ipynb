{
 "cells": [
  {
   "cell_type": "markdown",
   "metadata": {
    "colab_type": "text",
    "id": "4NiYVzWr4YWf"
   },
   "source": [
    "# Face Recognition (GOOGLE COLAB)"
   ]
  },
  {
   "cell_type": "code",
   "execution_count": 1,
   "metadata": {
    "colab": {
     "base_uri": "https://localhost:8080/",
     "height": 364
    },
    "colab_type": "code",
    "executionInfo": {
     "elapsed": 5251,
     "status": "ok",
     "timestamp": 1592166049836,
     "user": {
      "displayName": "Gian Carlo Milanese",
      "photoUrl": "",
      "userId": "08352423327035271918"
     },
     "user_tz": -120
    },
    "id": "xacbs7YfmnzS",
    "outputId": "f087da2a-6f87-4815-8e3a-80cf7761b36e"
   },
   "outputs": [
    {
     "name": "stdout",
     "output_type": "stream",
     "text": [
      "Sun Jun 14 20:20:46 2020       \n",
      "+-----------------------------------------------------------------------------+\n",
      "| NVIDIA-SMI 450.36.06    Driver Version: 418.67       CUDA Version: 10.1     |\n",
      "|-------------------------------+----------------------+----------------------+\n",
      "| GPU  Name        Persistence-M| Bus-Id        Disp.A | Volatile Uncorr. ECC |\n",
      "| Fan  Temp  Perf  Pwr:Usage/Cap|         Memory-Usage | GPU-Util  Compute M. |\n",
      "|                               |                      |               MIG M. |\n",
      "|===============================+======================+======================|\n",
      "|   0  Tesla T4            Off  | 00000000:00:04.0 Off |                    0 |\n",
      "| N/A   60C    P8    10W /  70W |      0MiB / 15079MiB |      0%      Default |\n",
      "|                               |                      |                 ERR! |\n",
      "+-------------------------------+----------------------+----------------------+\n",
      "                                                                               \n",
      "+-----------------------------------------------------------------------------+\n",
      "| Processes:                                                                  |\n",
      "|  GPU   GI   CI        PID   Type   Process name                  GPU Memory |\n",
      "|        ID   ID                                                   Usage      |\n",
      "|=============================================================================|\n",
      "|  No running processes found                                                 |\n",
      "+-----------------------------------------------------------------------------+\n"
     ]
    }
   ],
   "source": [
    "!nvidia-smi"
   ]
  },
  {
   "cell_type": "code",
   "execution_count": 0,
   "metadata": {
    "colab": {},
    "colab_type": "code",
    "id": "LsWn2GSH_5T6"
   },
   "outputs": [],
   "source": [
    "%tensorflow_version 2.x"
   ]
  },
  {
   "cell_type": "code",
   "execution_count": 0,
   "metadata": {
    "colab": {},
    "colab_type": "code",
    "id": "qicHhDWXIsue"
   },
   "outputs": [],
   "source": [
    "!pip install -q keras==2.3.0"
   ]
  },
  {
   "cell_type": "code",
   "execution_count": 4,
   "metadata": {
    "colab": {
     "base_uri": "https://localhost:8080/",
     "height": 52
    },
    "colab_type": "code",
    "executionInfo": {
     "elapsed": 10455,
     "status": "ok",
     "timestamp": 1592166055076,
     "user": {
      "displayName": "Gian Carlo Milanese",
      "photoUrl": "",
      "userId": "08352423327035271918"
     },
     "user_tz": -120
    },
    "id": "YBLC2IjiIvwr",
    "outputId": "e6506498-e3d0-4e37-a760-b29d87563a15"
   },
   "outputs": [
    {
     "name": "stderr",
     "output_type": "stream",
     "text": [
      "Using TensorFlow backend.\n"
     ]
    },
    {
     "name": "stdout",
     "output_type": "stream",
     "text": [
      "2.3.0\n"
     ]
    }
   ],
   "source": [
    "import keras\n",
    "print(keras.__version__)"
   ]
  },
  {
   "cell_type": "code",
   "execution_count": 0,
   "metadata": {
    "colab": {},
    "colab_type": "code",
    "id": "7Oing8Nfm4L9"
   },
   "outputs": [],
   "source": [
    "from keras.preprocessing import image as kimage\n",
    "from keras.models import Model\n",
    "from keras.layers import Dense, Dropout, BatchNormalization"
   ]
  },
  {
   "cell_type": "code",
   "execution_count": 0,
   "metadata": {
    "colab": {},
    "colab_type": "code",
    "id": "5Jkb5yUNplkr"
   },
   "outputs": [],
   "source": [
    "import matplotlib.pyplot as plt\n",
    "import numpy as np"
   ]
  },
  {
   "cell_type": "markdown",
   "metadata": {
    "colab_type": "text",
    "id": "q-XChVRmMSZP"
   },
   "source": [
    "# (Mount Google Drive)\n",
    "\n"
   ]
  },
  {
   "cell_type": "code",
   "execution_count": 7,
   "metadata": {
    "colab": {
     "base_uri": "https://localhost:8080/",
     "height": 34
    },
    "colab_type": "code",
    "executionInfo": {
     "elapsed": 9115,
     "status": "ok",
     "timestamp": 1592166055083,
     "user": {
      "displayName": "Gian Carlo Milanese",
      "photoUrl": "",
      "userId": "08352423327035271918"
     },
     "user_tz": -120
    },
    "id": "NyA2lgdVmMfm",
    "outputId": "74974328-0e2e-4b09-953a-47dc0122942b"
   },
   "outputs": [
    {
     "name": "stdout",
     "output_type": "stream",
     "text": [
      "Drive already mounted at /content/drive; to attempt to forcibly remount, call drive.mount(\"/content/drive\", force_remount=True).\n"
     ]
    }
   ],
   "source": [
    "from google.colab import drive\n",
    "drive.mount('/content/drive')"
   ]
  },
  {
   "cell_type": "markdown",
   "metadata": {
    "colab_type": "text",
    "id": "-m0CvMWvejrC"
   },
   "source": [
    "# Split pictures folder in train/test/val\n",
    "\n",
    "(if not done already)"
   ]
  },
  {
   "cell_type": "code",
   "execution_count": 0,
   "metadata": {
    "colab": {},
    "colab_type": "code",
    "id": "E6u8pzHbem2i"
   },
   "outputs": [],
   "source": [
    "# import sys\n",
    "# sys.path.insert(1, '/content/drive/My Drive/Images/')"
   ]
  },
  {
   "cell_type": "code",
   "execution_count": 0,
   "metadata": {
    "colab": {},
    "colab_type": "code",
    "id": "VAWAE4MJfcfR"
   },
   "outputs": [],
   "source": [
    "# import utils_2d"
   ]
  },
  {
   "cell_type": "code",
   "execution_count": 0,
   "metadata": {
    "colab": {},
    "colab_type": "code",
    "id": "x3dvYPjIffv-"
   },
   "outputs": [],
   "source": [
    "# # Creating Train / Val / Test folders (One time use)\n",
    "# root_dir = '/content/drive/My Drive/2D/pictures_masked_resized_heavy'\n",
    "# dest_dir = '/content/drive/My Drive/2D/pictures_masked_resized_heavy_split'"
   ]
  },
  {
   "cell_type": "code",
   "execution_count": 0,
   "metadata": {
    "colab": {},
    "colab_type": "code",
    "id": "WuIWMXcDVOEi"
   },
   "outputs": [],
   "source": [
    "#!ls \"$root_dir\""
   ]
  },
  {
   "cell_type": "code",
   "execution_count": 0,
   "metadata": {
    "colab": {},
    "colab_type": "code",
    "id": "Ag2B9l2vfga4"
   },
   "outputs": [],
   "source": [
    "# utils_2d.pictures_train_test_val_split(root_dir, dest_dir, verbose=True)"
   ]
  },
  {
   "cell_type": "markdown",
   "metadata": {
    "colab_type": "text",
    "id": "rwYLdjVysAcK"
   },
   "source": [
    "### Extract train/test/val folders (if not already there; alternative to previous step)"
   ]
  },
  {
   "cell_type": "code",
   "execution_count": 0,
   "metadata": {
    "colab": {},
    "colab_type": "code",
    "id": "CTWXLDpjsGUQ"
   },
   "outputs": [],
   "source": [
    "# !tar xzvf \"/content/drive/My Drive/2D/pictures_masked_new_resized_split.tar.gz\" -C \"/content/drive/My Drive/2D/\""
   ]
  },
  {
   "cell_type": "markdown",
   "metadata": {
    "colab_type": "text",
    "id": "j0EBVquMCW5H"
   },
   "source": [
    "# Define Train/test/val sets"
   ]
  },
  {
   "cell_type": "code",
   "execution_count": 0,
   "metadata": {
    "colab": {},
    "colab_type": "code",
    "id": "I4IE9fkCHsmX"
   },
   "outputs": [],
   "source": [
    "#my_pictures_dir =\"/content/drive/My Drive/2D/pictures_masked_resized_heavy_split\"\n",
    "my_pictures_dir =\"/content/drive/My Drive/2D/pictures_masked_new_resized_split\""
   ]
  },
  {
   "cell_type": "code",
   "execution_count": 0,
   "metadata": {
    "colab": {},
    "colab_type": "code",
    "id": "k4kN9pPpIx1F"
   },
   "outputs": [],
   "source": [
    "train_dir = my_pictures_dir+\"/train\"\n",
    "val_dir = my_pictures_dir+\"/val\"\n",
    "test_dir = my_pictures_dir+\"/test\""
   ]
  },
  {
   "cell_type": "code",
   "execution_count": 16,
   "metadata": {
    "colab": {
     "base_uri": "https://localhost:8080/",
     "height": 34
    },
    "colab_type": "code",
    "executionInfo": {
     "elapsed": 6068,
     "status": "ok",
     "timestamp": 1592166067800,
     "user": {
      "displayName": "Gian Carlo Milanese",
      "photoUrl": "",
      "userId": "08352423327035271918"
     },
     "user_tz": -120
    },
    "id": "c-oyRQbpM8Hq",
    "outputId": "87416187-8a35-4804-fbf6-9c523af00dcb"
   },
   "outputs": [
    {
     "name": "stdout",
     "output_type": "stream",
     "text": [
      "alessandro  alinda  cami  gian\tkhaled\tluca  mamma  papi\n"
     ]
    }
   ],
   "source": [
    "!ls \"$my_pictures_dir/test\""
   ]
  },
  {
   "cell_type": "markdown",
   "metadata": {
    "colab_type": "text",
    "id": "psd6JOIYf0ev"
   },
   "source": [
    "Set the classes that the classifier should learn:"
   ]
  },
  {
   "cell_type": "code",
   "execution_count": 0,
   "metadata": {
    "colab": {},
    "colab_type": "code",
    "id": "s5rnk3hivxOf"
   },
   "outputs": [],
   "source": [
    "classes = [\"alessandro\", \"alinda\", \"cami\", \"gian\", \"khaled\", \"luca\", \"mamma\", \"papi\"]"
   ]
  },
  {
   "cell_type": "code",
   "execution_count": 0,
   "metadata": {
    "colab": {},
    "colab_type": "code",
    "id": "oSr9IBiW3GaW"
   },
   "outputs": [],
   "source": [
    "color_mode = \"grayscale\""
   ]
  },
  {
   "cell_type": "markdown",
   "metadata": {
    "colab_type": "text",
    "id": "iF3Se93DHUgb"
   },
   "source": [
    "## Sample from train set\n",
    "\n",
    "The following is kept commented in case of future testing with featurewise center/std"
   ]
  },
  {
   "cell_type": "code",
   "execution_count": 0,
   "metadata": {
    "colab": {},
    "colab_type": "code",
    "id": "rYnTAZDwHXWx"
   },
   "outputs": [],
   "source": [
    "# sample_processing = kimage.ImageDataGenerator()\n",
    "# sample_generator = sample_processing.flow_from_directory(train_dir, classes = classes,\n",
    "#                                                          # rescale= 1./255,\n",
    "#                                                          target_size=(224, 224),\n",
    "#                                                          color_mode=color_mode,\n",
    "#                                                          batch_size=64,\n",
    "#                                                          class_mode=\"categorical\",\n",
    "#                                                          shuffle=True,\n",
    "#                                                          seed=1)"
   ]
  },
  {
   "cell_type": "code",
   "execution_count": 0,
   "metadata": {
    "colab": {},
    "colab_type": "code",
    "id": "YtO1so2TIAkO"
   },
   "outputs": [],
   "source": [
    "# sample = sample_generator.next()\n",
    "# sample_features = sample[0]\n",
    "# sample_labels = sample[1]"
   ]
  },
  {
   "cell_type": "code",
   "execution_count": 0,
   "metadata": {
    "colab": {},
    "colab_type": "code",
    "id": "B4dYKG4r1MUf"
   },
   "outputs": [],
   "source": [
    "# plt.imshow(sample_features[5][:,:,0], cmap=\"gray\")"
   ]
  },
  {
   "cell_type": "markdown",
   "metadata": {
    "colab_type": "text",
    "id": "eLNv133C3-dY"
   },
   "source": [
    "## Generators"
   ]
  },
  {
   "cell_type": "code",
   "execution_count": 0,
   "metadata": {
    "colab": {},
    "colab_type": "code",
    "id": "qZ2wSlAFxOLD"
   },
   "outputs": [],
   "source": [
    "train_processing = kimage.ImageDataGenerator(\n",
    "    # featurewise_center=True, # UNCOMMENT for testing with previous code\n",
    "    # featurewise_std_normalization=True, # UNCOMMENT for testing with previous\n",
    "    rescale= 1./255, # COMMENT for testing with previous\n",
    "    # Rotations\n",
    "    # rotation_range=10,\n",
    "    # # Shifts\n",
    "    # width_shift_range=0.1,\n",
    "    # height_shift_range=0.1,\n",
    "    # # Flips\n",
    "    horizontal_flip=True,\n",
    "    # vertical_flip=True,\n",
    "    # Brightness Change\n",
    "    brightness_range=[0.6,1.4],\n",
    "    # Zoom Change\n",
    "    # zoom_range=[0.9,1.1] # TODO: test without this\n",
    ")"
   ]
  },
  {
   "cell_type": "code",
   "execution_count": 0,
   "metadata": {
    "colab": {},
    "colab_type": "code",
    "id": "MWR4h9T3J7En"
   },
   "outputs": [],
   "source": [
    "# train_processing.fit(sample_features) # UNCOMMENT for testing with previous code"
   ]
  },
  {
   "cell_type": "code",
   "execution_count": 0,
   "metadata": {
    "colab": {},
    "colab_type": "code",
    "id": "7R67G0geUZuN"
   },
   "outputs": [],
   "source": [
    "# train_processing.mean"
   ]
  },
  {
   "cell_type": "code",
   "execution_count": 25,
   "metadata": {
    "colab": {
     "base_uri": "https://localhost:8080/",
     "height": 34
    },
    "colab_type": "code",
    "executionInfo": {
     "elapsed": 1847,
     "status": "ok",
     "timestamp": 1592166070883,
     "user": {
      "displayName": "Gian Carlo Milanese",
      "photoUrl": "",
      "userId": "08352423327035271918"
     },
     "user_tz": -120
    },
    "id": "Yyk9Rg1XxOLF",
    "outputId": "4d782a2e-0e5d-4659-b76c-946874895864"
   },
   "outputs": [
    {
     "name": "stdout",
     "output_type": "stream",
     "text": [
      "Found 2568 images belonging to 8 classes.\n"
     ]
    }
   ],
   "source": [
    "train_generator = train_processing.flow_from_directory(train_dir,\n",
    "                                                       classes = classes,\n",
    "                                                       target_size=(224, 224),\n",
    "                                                       color_mode=color_mode,\n",
    "                                                       batch_size=32,\n",
    "                                                       class_mode=\"categorical\",\n",
    "                                                       shuffle=True,\n",
    "                                                       seed=1)"
   ]
  },
  {
   "cell_type": "code",
   "execution_count": 26,
   "metadata": {
    "colab": {
     "base_uri": "https://localhost:8080/",
     "height": 34
    },
    "colab_type": "code",
    "executionInfo": {
     "elapsed": 1957,
     "status": "ok",
     "timestamp": 1592166071810,
     "user": {
      "displayName": "Gian Carlo Milanese",
      "photoUrl": "",
      "userId": "08352423327035271918"
     },
     "user_tz": -120
    },
    "id": "dhZncc4uuUU5",
    "outputId": "60769dc0-75bf-48dd-b40c-3082ac381d94"
   },
   "outputs": [
    {
     "data": {
      "text/plain": [
       "['alessandro', 'alinda', 'cami', 'gian', 'khaled', 'luca', 'mamma', 'papi']"
      ]
     },
     "execution_count": 26,
     "metadata": {
      "tags": []
     },
     "output_type": "execute_result"
    }
   ],
   "source": [
    "labels_to_text = [i[0] for i in train_generator.class_indices.items()]\n",
    "labels_to_text"
   ]
  },
  {
   "cell_type": "code",
   "execution_count": 27,
   "metadata": {
    "colab": {
     "base_uri": "https://localhost:8080/",
     "height": 52
    },
    "colab_type": "code",
    "executionInfo": {
     "elapsed": 1471,
     "status": "ok",
     "timestamp": 1592166072280,
     "user": {
      "displayName": "Gian Carlo Milanese",
      "photoUrl": "",
      "userId": "08352423327035271918"
     },
     "user_tz": -120
    },
    "id": "ziayXNbkxOLI",
    "outputId": "02bfea2b-c902-4dd5-a08c-f15e7f2b0a84"
   },
   "outputs": [
    {
     "name": "stdout",
     "output_type": "stream",
     "text": [
      "Found 736 images belonging to 8 classes.\n",
      "Found 368 images belonging to 8 classes.\n"
     ]
    }
   ],
   "source": [
    "test_processing = kimage.ImageDataGenerator(# featurewise_center=True,\n",
    "                                            # featurewise_std_normalization=True\n",
    "                                            rescale = 1./255,\n",
    "                                            )\n",
    "# test_processing.fit(sample_features) # UNCOMMENT for testing with previous code\n",
    "\n",
    "val_generator = test_processing.flow_from_directory(val_dir,\n",
    "                                                    classes = classes,\n",
    "                                                    target_size=(224, 224),\n",
    "                                                    color_mode=color_mode,\n",
    "                                                    batch_size=32,\n",
    "                                                    class_mode=\"categorical\",\n",
    "                                                    shuffle=False,\n",
    "                                                    seed=1)\n",
    "\n",
    "test_generator = test_processing.flow_from_directory(test_dir,\n",
    "                                                     classes = classes,\n",
    "                                                     target_size=(224, 224),\n",
    "                                                     color_mode=color_mode,\n",
    "                                                     batch_size=32,\n",
    "                                                     class_mode=\"categorical\",\n",
    "                                                     shuffle=False,\n",
    "                                                     seed=1)"
   ]
  },
  {
   "cell_type": "code",
   "execution_count": 28,
   "metadata": {
    "colab": {
     "base_uri": "https://localhost:8080/",
     "height": 34
    },
    "colab_type": "code",
    "executionInfo": {
     "elapsed": 1334,
     "status": "ok",
     "timestamp": 1592166072282,
     "user": {
      "displayName": "Gian Carlo Milanese",
      "photoUrl": "",
      "userId": "08352423327035271918"
     },
     "user_tz": -120
    },
    "id": "_bhMixIbpIzK",
    "outputId": "d5aaa145-7b1e-4625-a585-5f1639eaaf52"
   },
   "outputs": [
    {
     "data": {
      "text/plain": [
       "8"
      ]
     },
     "execution_count": 28,
     "metadata": {
      "tags": []
     },
     "output_type": "execute_result"
    }
   ],
   "source": [
    "n_classes = (train_generator.num_classes)\n",
    "n_classes"
   ]
  },
  {
   "cell_type": "markdown",
   "metadata": {
    "colab_type": "text",
    "id": "HeOWmhBTqTN7"
   },
   "source": [
    "### See images"
   ]
  },
  {
   "cell_type": "code",
   "execution_count": 0,
   "metadata": {
    "colab": {},
    "colab_type": "code",
    "id": "oFL-ylAqp0ma"
   },
   "outputs": [],
   "source": [
    "batch = np.array(train_generator.next()[0])"
   ]
  },
  {
   "cell_type": "code",
   "execution_count": 30,
   "metadata": {
    "colab": {
     "base_uri": "https://localhost:8080/",
     "height": 34
    },
    "colab_type": "code",
    "executionInfo": {
     "elapsed": 1273,
     "status": "ok",
     "timestamp": 1592166076960,
     "user": {
      "displayName": "Gian Carlo Milanese",
      "photoUrl": "",
      "userId": "08352423327035271918"
     },
     "user_tz": -120
    },
    "id": "bobB7t_Mp6fO",
    "outputId": "b1ac3664-1c36-42b7-8395-bd03dcd25420"
   },
   "outputs": [
    {
     "data": {
      "text/plain": [
       "(32, 224, 224, 1)"
      ]
     },
     "execution_count": 30,
     "metadata": {
      "tags": []
     },
     "output_type": "execute_result"
    }
   ],
   "source": [
    "batch.shape"
   ]
  },
  {
   "cell_type": "code",
   "execution_count": 0,
   "metadata": {
    "colab": {},
    "colab_type": "code",
    "id": "7v4L6jlIKZla"
   },
   "outputs": [],
   "source": [
    "# mu = train_processing.mean # UNCOMMENT for testing with previous code\n",
    "# sigma = train_processing.std # UNCOMMENT for testing with previous code"
   ]
  },
  {
   "cell_type": "code",
   "execution_count": 32,
   "metadata": {
    "colab": {
     "base_uri": "https://localhost:8080/",
     "height": 269
    },
    "colab_type": "code",
    "executionInfo": {
     "elapsed": 1486,
     "status": "ok",
     "timestamp": 1592166078333,
     "user": {
      "displayName": "Gian Carlo Milanese",
      "photoUrl": "",
      "userId": "08352423327035271918"
     },
     "user_tz": -120
    },
    "id": "GmuuMSqopjZ8",
    "outputId": "3d911173-897b-4e84-d34c-1cce9ab77d30"
   },
   "outputs": [
    {
     "data": {
      "image/png": "[encoded data removed]",
      "text/plain": [
       "<Figure size 432x288 with 1 Axes>"
      ]
     },
     "metadata": {
      "needs_background": "light",
      "tags": []
     },
     "output_type": "display_data"
    }
   ],
   "source": [
    "pic = batch[6]\n",
    "# plt.imshow(((pic*sigma + mu)/255)[:,:,0], cmap=\"gray\")\n",
    "plt.imshow(pic[:,:,0], cmap=\"gray\")\n",
    "plt.show()"
   ]
  },
  {
   "cell_type": "code",
   "execution_count": 33,
   "metadata": {
    "colab": {
     "base_uri": "https://localhost:8080/",
     "height": 34
    },
    "colab_type": "code",
    "executionInfo": {
     "elapsed": 1325,
     "status": "ok",
     "timestamp": 1592166078336,
     "user": {
      "displayName": "Gian Carlo Milanese",
      "photoUrl": "",
      "userId": "08352423327035271918"
     },
     "user_tz": -120
    },
    "id": "N7Ssxp682PrG",
    "outputId": "5681f8a2-d4db-41f1-893e-b260177342d4"
   },
   "outputs": [
    {
     "data": {
      "text/plain": [
       "(224, 224, 1)"
      ]
     },
     "execution_count": 33,
     "metadata": {
      "tags": []
     },
     "output_type": "execute_result"
    }
   ],
   "source": [
    "input_shape = pic.shape\n",
    "input_shape"
   ]
  },
  {
   "cell_type": "markdown",
   "metadata": {
    "colab_type": "text",
    "id": "nAPxf-1v1VA9"
   },
   "source": [
    "# Net"
   ]
  },
  {
   "cell_type": "code",
   "execution_count": 0,
   "metadata": {
    "colab": {},
    "colab_type": "code",
    "id": "NZyub47jK-rr"
   },
   "outputs": [],
   "source": [
    "from keras.models import Sequential\n",
    "from keras.layers import Dense, Conv2D, Flatten\n",
    "#create model\n",
    "net = Sequential()\n",
    "#add model layers\n",
    "net.add(Conv2D(64, kernel_size=3, activation='relu', input_shape=input_shape))\n",
    "net.add(Conv2D(32, kernel_size=3, activation='relu'))\n",
    "net.add(Flatten())\n",
    "net.add(Dense(n_classes, activation='softmax'))"
   ]
  },
  {
   "cell_type": "code",
   "execution_count": 0,
   "metadata": {
    "colab": {},
    "colab_type": "code",
    "id": "zhJ_3JB0xOLS"
   },
   "outputs": [],
   "source": [
    "net.compile(loss=keras.losses.categorical_crossentropy,\n",
    "            optimizer=keras.optimizers.RMSprop(),\n",
    "            metrics=[\"accuracy\"])"
   ]
  },
  {
   "cell_type": "code",
   "execution_count": 0,
   "metadata": {
    "colab": {},
    "colab_type": "code",
    "id": "FHg6AreRvEOP"
   },
   "outputs": [],
   "source": [
    "callback = keras.callbacks.EarlyStopping(monitor='val_loss',\n",
    "                                         restore_best_weights=True, patience=5)"
   ]
  },
  {
   "cell_type": "code",
   "execution_count": 38,
   "metadata": {
    "colab": {
     "base_uri": "https://localhost:8080/",
     "height": 419
    },
    "colab_type": "code",
    "executionInfo": {
     "elapsed": 1384975,
     "status": "ok",
     "timestamp": 1592168208250,
     "user": {
      "displayName": "Gian Carlo Milanese",
      "photoUrl": "",
      "userId": "08352423327035271918"
     },
     "user_tz": -120
    },
    "id": "C9VshMWqvRnQ",
    "outputId": "04ca1cce-def1-4560-d1d0-fd650124737d"
   },
   "outputs": [
    {
     "name": "stdout",
     "output_type": "stream",
     "text": [
      "Epoch 1/50\n",
      "80/80 [==============================] - 2004s 25s/step - loss: 3.5249 - accuracy: 0.4887 - val_loss: 0.3079 - val_accuracy: 0.8641\n",
      "Epoch 2/50\n",
      "80/80 [==============================] - 9s 119ms/step - loss: 0.4818 - accuracy: 0.8822 - val_loss: 0.0844 - val_accuracy: 0.9552\n",
      "Epoch 3/50\n",
      "80/80 [==============================] - 9s 118ms/step - loss: 0.3771 - accuracy: 0.9290 - val_loss: 0.0071 - val_accuracy: 0.9701\n",
      "Epoch 4/50\n",
      "80/80 [==============================] - 10s 120ms/step - loss: 0.4175 - accuracy: 0.9499 - val_loss: 4.0006e-04 - val_accuracy: 0.9674\n",
      "Epoch 5/50\n",
      "80/80 [==============================] - 9s 118ms/step - loss: 0.3365 - accuracy: 0.9669 - val_loss: 6.2099e-04 - val_accuracy: 0.9891\n",
      "Epoch 6/50\n",
      "80/80 [==============================] - 9s 116ms/step - loss: 0.3413 - accuracy: 0.9598 - val_loss: 9.3126e-06 - val_accuracy: 0.9823\n",
      "Epoch 7/50\n",
      "80/80 [==============================] - 9s 116ms/step - loss: 0.1133 - accuracy: 0.9811 - val_loss: 1.3139e-04 - val_accuracy: 0.9851\n",
      "Epoch 8/50\n",
      "80/80 [==============================] - 9s 116ms/step - loss: 0.4924 - accuracy: 0.9610 - val_loss: 7.5420e-04 - val_accuracy: 0.9810\n",
      "Epoch 9/50\n",
      "80/80 [==============================] - 9s 116ms/step - loss: 0.0489 - accuracy: 0.9901 - val_loss: 3.2231e-05 - val_accuracy: 0.9932\n",
      "Epoch 10/50\n",
      "80/80 [==============================] - 9s 117ms/step - loss: 0.1711 - accuracy: 0.9846 - val_loss: 3.9264e-05 - val_accuracy: 0.9878\n",
      "Epoch 11/50\n",
      "80/80 [==============================] - 9s 116ms/step - loss: 0.1719 - accuracy: 0.9811 - val_loss: 0.0057 - val_accuracy: 0.9864\n"
     ]
    }
   ],
   "source": [
    "history = net.fit_generator(train_generator,\n",
    "                  verbose=1,\n",
    "                  epochs=50,\n",
    "                  steps_per_epoch=train_generator.n//train_generator.batch_size,\n",
    "                  callbacks=[callback],\n",
    "                  validation_data=val_generator)"
   ]
  },
  {
   "cell_type": "markdown",
   "metadata": {
    "colab_type": "text",
    "id": "S78x--bf1ZpJ"
   },
   "source": [
    "# Save Model"
   ]
  },
  {
   "cell_type": "code",
   "execution_count": 0,
   "metadata": {
    "colab": {},
    "colab_type": "code",
    "id": "5P_yH8jSloZv"
   },
   "outputs": [],
   "source": [
    "import os"
   ]
  },
  {
   "cell_type": "code",
   "execution_count": 0,
   "metadata": {
    "colab": {},
    "colab_type": "code",
    "id": "bmdWR91XljVg"
   },
   "outputs": [],
   "source": [
    "latest_model_number = max([int(e.split(\"_\")[0]) for e in os.listdir(\"/content/drive/My Drive/2D/models/\")])"
   ]
  },
  {
   "cell_type": "code",
   "execution_count": 0,
   "metadata": {
    "colab": {},
    "colab_type": "code",
    "id": "Zo-GycrJlzc5"
   },
   "outputs": [],
   "source": [
    "model_name = latest_model_number + 1"
   ]
  },
  {
   "cell_type": "code",
   "execution_count": 42,
   "metadata": {
    "colab": {
     "base_uri": "https://localhost:8080/",
     "height": 52
    },
    "colab_type": "code",
    "executionInfo": {
     "elapsed": 22,
     "status": "ok",
     "timestamp": 1592168208255,
     "user": {
      "displayName": "Gian Carlo Milanese",
      "photoUrl": "",
      "userId": "08352423327035271918"
     },
     "user_tz": -120
    },
    "id": "y1-3gO7QCWPF",
    "outputId": "f48aa6cc-1b96-48af-f100-1465c8fd58d1"
   },
   "outputs": [
    {
     "data": {
      "text/plain": [
       "('/content/drive/My Drive/2D/models/30_model.h5',\n",
       " '/content/drive/My Drive/2D/models/30_model.json')"
      ]
     },
     "execution_count": 42,
     "metadata": {
      "tags": []
     },
     "output_type": "execute_result"
    }
   ],
   "source": [
    "model_filename = f\"/content/drive/My Drive/2D/models/{model_name}_model.h5\"\n",
    "json_filename = f\"/content/drive/My Drive/2D/models/{model_name}_model.json\"\n",
    "model_filename, json_filename"
   ]
  },
  {
   "cell_type": "code",
   "execution_count": 0,
   "metadata": {
    "colab": {},
    "colab_type": "code",
    "id": "-XEciD1nQyM0"
   },
   "outputs": [],
   "source": [
    "# mu = list(train_processing.mean[0][0])\n",
    "# std = list(train_processing.std[0][0])"
   ]
  },
  {
   "cell_type": "code",
   "execution_count": 44,
   "metadata": {
    "colab": {
     "base_uri": "https://localhost:8080/",
     "height": 243
    },
    "colab_type": "code",
    "executionInfo": {
     "elapsed": 855,
     "status": "ok",
     "timestamp": 1592168491901,
     "user": {
      "displayName": "Gian Carlo Milanese",
      "photoUrl": "",
      "userId": "08352423327035271918"
     },
     "user_tz": -120
    },
    "id": "3pSS8NLcP_YD",
    "outputId": "b63a6445-f15e-468f-9a42-ffa3f8ec66d3"
   },
   "outputs": [
    {
     "data": {
      "text/plain": [
       "{'class_indices': ['alessandro',\n",
       "  'alinda',\n",
       "  'cami',\n",
       "  'gian',\n",
       "  'khaled',\n",
       "  'luca',\n",
       "  'mamma',\n",
       "  'papi'],\n",
       " 'description': 'Base model, new preprocessing steps order, new_width = 50',\n",
       " 'featurewise_center': False,\n",
       " 'featurewise_std': False,\n",
       " 'mask': True,\n",
       " 'model_n': 30}"
      ]
     },
     "execution_count": 44,
     "metadata": {
      "tags": []
     },
     "output_type": "execute_result"
    }
   ],
   "source": [
    "d = {}\n",
    "# d[\"mean\"] = [str(i) for i in mu]\n",
    "# d[\"std\"] = [str(i) for i in std]\n",
    "d[\"mask\"] = True\n",
    "d[\"model_n\"] = model_name\n",
    "d[\"featurewise_center\"] = False\n",
    "d[\"featurewise_std\"] = False\n",
    "d[\"class_indices\"] = [i[0] for i in train_generator.class_indices.items()]\n",
    "d[\"description\"] = \"Base model, new preprocessing steps order, new_width = 50\"\n",
    "d"
   ]
  },
  {
   "cell_type": "code",
   "execution_count": 0,
   "metadata": {
    "colab": {},
    "colab_type": "code",
    "id": "XwoFAGRXQo5R"
   },
   "outputs": [],
   "source": [
    "import json"
   ]
  },
  {
   "cell_type": "code",
   "execution_count": 0,
   "metadata": {
    "colab": {},
    "colab_type": "code",
    "id": "o09uuY1XQho4"
   },
   "outputs": [],
   "source": [
    "with open(json_filename, \"w\") as jsonf:\n",
    "    json.dump(d, jsonf)"
   ]
  },
  {
   "cell_type": "code",
   "execution_count": 0,
   "metadata": {
    "colab": {},
    "colab_type": "code",
    "id": "IeUsYbyDchgq"
   },
   "outputs": [],
   "source": [
    "net.save(model_filename)"
   ]
  },
  {
   "cell_type": "markdown",
   "metadata": {
    "colab_type": "text",
    "id": "ZVys6EHXtq1R"
   },
   "source": [
    "### Evaluation\n"
   ]
  },
  {
   "cell_type": "code",
   "execution_count": 0,
   "metadata": {
    "colab": {},
    "colab_type": "code",
    "id": "gK55TwAPq8VM"
   },
   "outputs": [],
   "source": [
    "import numpy as np\n",
    "from sklearn.metrics import confusion_matrix as cm\n",
    "from sklearn.metrics import classification_report"
   ]
  },
  {
   "cell_type": "code",
   "execution_count": 49,
   "metadata": {
    "colab": {
     "base_uri": "https://localhost:8080/",
     "height": 34
    },
    "colab_type": "code",
    "executionInfo": {
     "elapsed": 9061,
     "status": "ok",
     "timestamp": 1592168520268,
     "user": {
      "displayName": "Gian Carlo Milanese",
      "photoUrl": "",
      "userId": "08352423327035271918"
     },
     "user_tz": -120
    },
    "id": "lJVvGYXTtfkv",
    "outputId": "53a1bf66-863f-41c3-c428-d5dfbfda7a82"
   },
   "outputs": [
    {
     "data": {
      "text/plain": [
       "[0.0017741520423442125, 0.9926012754440308]"
      ]
     },
     "execution_count": 49,
     "metadata": {
      "tags": []
     },
     "output_type": "execute_result"
    }
   ],
   "source": [
    "net.evaluate_generator(train_generator)"
   ]
  },
  {
   "cell_type": "code",
   "execution_count": 50,
   "metadata": {
    "colab": {
     "base_uri": "https://localhost:8080/",
     "height": 34
    },
    "colab_type": "code",
    "executionInfo": {
     "elapsed": 10504,
     "status": "ok",
     "timestamp": 1592168522117,
     "user": {
      "displayName": "Gian Carlo Milanese",
      "photoUrl": "",
      "userId": "08352423327035271918"
     },
     "user_tz": -120
    },
    "id": "HFr6eq-b0I-x",
    "outputId": "f3b1fc14-f9eb-4377-ad95-2b595c7d91bb"
   },
   "outputs": [
    {
     "data": {
      "text/plain": [
       "[9.312594556831755e-06, 0.9823369383811951]"
      ]
     },
     "execution_count": 50,
     "metadata": {
      "tags": []
     },
     "output_type": "execute_result"
    }
   ],
   "source": [
    "net.evaluate_generator(val_generator)"
   ]
  },
  {
   "cell_type": "code",
   "execution_count": 51,
   "metadata": {
    "colab": {
     "base_uri": "https://localhost:8080/",
     "height": 34
    },
    "colab_type": "code",
    "executionInfo": {
     "elapsed": 286918,
     "status": "ok",
     "timestamp": 1592168798800,
     "user": {
      "displayName": "Gian Carlo Milanese",
      "photoUrl": "",
      "userId": "08352423327035271918"
     },
     "user_tz": -120
    },
    "id": "AniT78eS0RfX",
    "outputId": "63349679-aa1e-460a-da34-4c8280aefd84"
   },
   "outputs": [
    {
     "data": {
      "text/plain": [
       "[0.0024642653297632933, 0.98097825050354]"
      ]
     },
     "execution_count": 51,
     "metadata": {
      "tags": []
     },
     "output_type": "execute_result"
    }
   ],
   "source": [
    "net.evaluate_generator(test_generator)"
   ]
  },
  {
   "cell_type": "code",
   "execution_count": 0,
   "metadata": {
    "colab": {},
    "colab_type": "code",
    "id": "C0HkuV4D6S4n"
   },
   "outputs": [],
   "source": [
    "def classification_report_generator(generator):\n",
    "  # should not be applied to generators with shuffle = True\n",
    "  preds = net.predict_generator(generator)\n",
    "  preds = np.argmax(preds, axis=1)\n",
    "  real = generator.classes\n",
    "  ind_dict = generator.class_indices\n",
    "  num_to_label = [i[0] for i in ind_dict.items()]\n",
    "  cmat = cm(real, preds)\n",
    "  cr = classification_report(real, preds, target_names=num_to_label)\n",
    "  return cmat, cr"
   ]
  },
  {
   "cell_type": "code",
   "execution_count": 53,
   "metadata": {
    "colab": {
     "base_uri": "https://localhost:8080/",
     "height": 278
    },
    "colab_type": "code",
    "executionInfo": {
     "elapsed": 287337,
     "status": "ok",
     "timestamp": 1592168800135,
     "user": {
      "displayName": "Gian Carlo Milanese",
      "photoUrl": "",
      "userId": "08352423327035271918"
     },
     "user_tz": -120
    },
    "id": "WDcOeA7D5qh6",
    "outputId": "6eb6a64c-6f34-4a28-eaef-36e17d963927"
   },
   "outputs": [
    {
     "name": "stdout",
     "output_type": "stream",
     "text": [
      "              precision    recall  f1-score   support\n",
      "\n",
      "  alessandro       1.00      1.00      1.00        92\n",
      "      alinda       0.99      1.00      0.99        92\n",
      "        cami       0.99      1.00      0.99        92\n",
      "        gian       0.99      0.95      0.97        92\n",
      "      khaled       1.00      0.95      0.97        92\n",
      "        luca       0.99      0.99      0.99        92\n",
      "       mamma       0.99      0.98      0.98        92\n",
      "        papi       0.92      1.00      0.96        92\n",
      "\n",
      "    accuracy                           0.98       736\n",
      "   macro avg       0.98      0.98      0.98       736\n",
      "weighted avg       0.98      0.98      0.98       736\n",
      "\n"
     ]
    }
   ],
   "source": [
    "cm_val, cr_val = classification_report_generator(val_generator)\n",
    "print(cr_val)"
   ]
  },
  {
   "cell_type": "code",
   "execution_count": 54,
   "metadata": {
    "colab": {
     "base_uri": "https://localhost:8080/",
     "height": 278
    },
    "colab_type": "code",
    "executionInfo": {
     "elapsed": 287808,
     "status": "ok",
     "timestamp": 1592168801155,
     "user": {
      "displayName": "Gian Carlo Milanese",
      "photoUrl": "",
      "userId": "08352423327035271918"
     },
     "user_tz": -120
    },
    "id": "BVpp1g_DyMCw",
    "outputId": "24414580-9e46-4838-e5c8-43a587e1fc74"
   },
   "outputs": [
    {
     "name": "stdout",
     "output_type": "stream",
     "text": [
      "              precision    recall  f1-score   support\n",
      "\n",
      "  alessandro       1.00      1.00      1.00        46\n",
      "      alinda       0.96      1.00      0.98        46\n",
      "        cami       1.00      1.00      1.00        46\n",
      "        gian       1.00      0.96      0.98        46\n",
      "      khaled       0.98      0.91      0.94        46\n",
      "        luca       0.98      1.00      0.99        46\n",
      "       mamma       0.96      0.98      0.97        46\n",
      "        papi       0.98      1.00      0.99        46\n",
      "\n",
      "    accuracy                           0.98       368\n",
      "   macro avg       0.98      0.98      0.98       368\n",
      "weighted avg       0.98      0.98      0.98       368\n",
      "\n"
     ]
    }
   ],
   "source": [
    "cm_val, cr_val = classification_report_generator(test_generator)\n",
    "print(cr_val)"
   ]
  },
  {
   "cell_type": "markdown",
   "metadata": {
    "colab_type": "text",
    "id": "U1plmgZTzbnl"
   },
   "source": [
    "# Alternative models\n",
    "\n",
    "#### For reducing the dimensionality inside the network  we will add a MaxPooling layer before the dense one, let's see the performances"
   ]
  },
  {
   "cell_type": "code",
   "execution_count": 0,
   "metadata": {
    "colab": {},
    "colab_type": "code",
    "id": "w9Vx3AmazbNi"
   },
   "outputs": [],
   "source": [
    "from keras.layers import MaxPooling2D\n",
    "#create model\n",
    "net = Sequential()\n",
    "#add model layers\n",
    "net.add(Conv2D(64, kernel_size=3, activation='relu', input_shape=input_shape))\n",
    "net.add(Conv2D(32, kernel_size=3, activation='relu'))\n",
    "net.add(MaxPooling2D(pool_size=(4, 4), strides=(2, 2)))\n",
    "net.add(Flatten())\n",
    "net.add(Dense(n_classes, activation='softmax'))"
   ]
  },
  {
   "cell_type": "code",
   "execution_count": 56,
   "metadata": {
    "colab": {
     "base_uri": "https://localhost:8080/",
     "height": 347
    },
    "colab_type": "code",
    "executionInfo": {
     "elapsed": 1529,
     "status": "ok",
     "timestamp": 1592168802701,
     "user": {
      "displayName": "Gian Carlo Milanese",
      "photoUrl": "",
      "userId": "08352423327035271918"
     },
     "user_tz": -120
    },
    "id": "QQr4Qkf-za9w",
    "outputId": "7f2b83aa-504a-4650-bbd7-35da898d42f1"
   },
   "outputs": [
    {
     "name": "stdout",
     "output_type": "stream",
     "text": [
      "Model: \"sequential_2\"\n",
      "_________________________________________________________________\n",
      "Layer (type)                 Output Shape              Param #   \n",
      "=================================================================\n",
      "conv2d_3 (Conv2D)            (None, 222, 222, 64)      640       \n",
      "_________________________________________________________________\n",
      "conv2d_4 (Conv2D)            (None, 220, 220, 32)      18464     \n",
      "_________________________________________________________________\n",
      "max_pooling2d_1 (MaxPooling2 (None, 109, 109, 32)      0         \n",
      "_________________________________________________________________\n",
      "flatten_2 (Flatten)          (None, 380192)            0         \n",
      "_________________________________________________________________\n",
      "dense_2 (Dense)              (None, 8)                 3041544   \n",
      "=================================================================\n",
      "Total params: 3,060,648\n",
      "Trainable params: 3,060,648\n",
      "Non-trainable params: 0\n",
      "_________________________________________________________________\n",
      "None\n"
     ]
    }
   ],
   "source": [
    "print(net.summary())"
   ]
  },
  {
   "cell_type": "code",
   "execution_count": 0,
   "metadata": {
    "colab": {},
    "colab_type": "code",
    "id": "k-XcIl4w0PBR"
   },
   "outputs": [],
   "source": [
    "net.compile(loss=keras.losses.categorical_crossentropy,\n",
    "            optimizer=keras.optimizers.RMSprop(),\n",
    "            metrics=[\"accuracy\"])"
   ]
  },
  {
   "cell_type": "code",
   "execution_count": 59,
   "metadata": {
    "colab": {
     "base_uri": "https://localhost:8080/",
     "height": 1000
    },
    "colab_type": "code",
    "executionInfo": {
     "elapsed": 265701,
     "status": "ok",
     "timestamp": 1592169066902,
     "user": {
      "displayName": "Gian Carlo Milanese",
      "photoUrl": "",
      "userId": "08352423327035271918"
     },
     "user_tz": -120
    },
    "id": "KezDnEak0O-O",
    "outputId": "4cd80450-2130-42f5-f168-89d2483fd4d0"
   },
   "outputs": [
    {
     "name": "stdout",
     "output_type": "stream",
     "text": [
      "Epoch 1/50\n",
      "80/80 [==============================] - 9s 116ms/step - loss: 1.3265 - accuracy: 0.6494 - val_loss: 0.2660 - val_accuracy: 0.8655\n",
      "Epoch 2/50\n",
      "80/80 [==============================] - 9s 117ms/step - loss: 0.2674 - accuracy: 0.9314 - val_loss: 0.0163 - val_accuracy: 0.9742\n",
      "Epoch 3/50\n",
      "80/80 [==============================] - 9s 117ms/step - loss: 0.1407 - accuracy: 0.9688 - val_loss: 5.4474e-04 - val_accuracy: 0.9796\n",
      "Epoch 4/50\n",
      "80/80 [==============================] - 9s 117ms/step - loss: 0.0871 - accuracy: 0.9787 - val_loss: 0.0017 - val_accuracy: 0.9823\n",
      "Epoch 5/50\n",
      "80/80 [==============================] - 9s 116ms/step - loss: 0.0890 - accuracy: 0.9803 - val_loss: 0.0318 - val_accuracy: 0.9701\n",
      "Epoch 6/50\n",
      "80/80 [==============================] - 9s 115ms/step - loss: 0.1130 - accuracy: 0.9803 - val_loss: 0.0076 - val_accuracy: 0.9837\n",
      "Epoch 7/50\n",
      "80/80 [==============================] - 9s 115ms/step - loss: 0.0116 - accuracy: 0.9972 - val_loss: 9.7103e-04 - val_accuracy: 0.9918\n",
      "Epoch 8/50\n",
      "80/80 [==============================] - 9s 114ms/step - loss: 0.0500 - accuracy: 0.9882 - val_loss: 2.2492e-05 - val_accuracy: 0.9878\n",
      "Epoch 9/50\n",
      "80/80 [==============================] - 9s 114ms/step - loss: 0.0210 - accuracy: 0.9949 - val_loss: 9.1079e-06 - val_accuracy: 0.9851\n",
      "Epoch 10/50\n",
      "80/80 [==============================] - 9s 113ms/step - loss: 0.0858 - accuracy: 0.9886 - val_loss: 0.0013 - val_accuracy: 0.9878\n",
      "Epoch 11/50\n",
      "80/80 [==============================] - 9s 115ms/step - loss: 0.0030 - accuracy: 0.9992 - val_loss: 0.0046 - val_accuracy: 0.9905\n",
      "Epoch 12/50\n",
      "80/80 [==============================] - 9s 115ms/step - loss: 0.0452 - accuracy: 0.9878 - val_loss: 2.3272e-04 - val_accuracy: 0.9905\n",
      "Epoch 13/50\n",
      "80/80 [==============================] - 9s 115ms/step - loss: 0.0518 - accuracy: 0.9925 - val_loss: 2.5257e-06 - val_accuracy: 0.9918\n",
      "Epoch 14/50\n",
      "80/80 [==============================] - 9s 114ms/step - loss: 0.0160 - accuracy: 0.9980 - val_loss: 1.9477e-05 - val_accuracy: 0.9918\n",
      "Epoch 15/50\n",
      "80/80 [==============================] - 9s 112ms/step - loss: 0.1597 - accuracy: 0.9893 - val_loss: 3.8779e-06 - val_accuracy: 0.9891\n",
      "Epoch 16/50\n",
      "80/80 [==============================] - 9s 113ms/step - loss: 0.0562 - accuracy: 0.9921 - val_loss: 3.5538e-06 - val_accuracy: 0.9891\n",
      "Epoch 17/50\n",
      "80/80 [==============================] - 9s 111ms/step - loss: 0.0357 - accuracy: 0.9941 - val_loss: 7.7596e-04 - val_accuracy: 0.9837\n",
      "Epoch 18/50\n",
      "80/80 [==============================] - 9s 112ms/step - loss: 7.7242e-04 - accuracy: 0.9996 - val_loss: 4.4331e-07 - val_accuracy: 0.9932\n",
      "Epoch 19/50\n",
      "80/80 [==============================] - 9s 111ms/step - loss: 0.0469 - accuracy: 0.9933 - val_loss: 6.0422e-06 - val_accuracy: 0.9905\n",
      "Epoch 20/50\n",
      "80/80 [==============================] - 9s 112ms/step - loss: 0.0074 - accuracy: 0.9972 - val_loss: 1.4268e-06 - val_accuracy: 0.9918\n",
      "Epoch 21/50\n",
      "80/80 [==============================] - 9s 113ms/step - loss: 0.0235 - accuracy: 0.9953 - val_loss: 1.0431e-07 - val_accuracy: 0.9932\n",
      "Epoch 22/50\n",
      "80/80 [==============================] - 9s 115ms/step - loss: 0.0070 - accuracy: 0.9984 - val_loss: 1.8626e-08 - val_accuracy: 0.9946\n",
      "Epoch 23/50\n",
      "80/80 [==============================] - 9s 111ms/step - loss: 0.0137 - accuracy: 0.9968 - val_loss: 2.0190e-06 - val_accuracy: 0.9891\n",
      "Epoch 24/50\n",
      "80/80 [==============================] - 9s 110ms/step - loss: 0.0085 - accuracy: 0.9968 - val_loss: 0.0000e+00 - val_accuracy: 0.9660\n",
      "Epoch 25/50\n",
      "80/80 [==============================] - 9s 112ms/step - loss: 0.0159 - accuracy: 0.9961 - val_loss: 1.1176e-08 - val_accuracy: 0.9891\n",
      "Epoch 26/50\n",
      "80/80 [==============================] - 9s 111ms/step - loss: 0.0188 - accuracy: 0.9961 - val_loss: 0.0024 - val_accuracy: 0.9878\n",
      "Epoch 27/50\n",
      "80/80 [==============================] - 9s 112ms/step - loss: 0.0015 - accuracy: 0.9996 - val_loss: 3.3126e-05 - val_accuracy: 0.9918\n",
      "Epoch 28/50\n",
      "80/80 [==============================] - 9s 113ms/step - loss: 3.8953e-06 - accuracy: 1.0000 - val_loss: 2.3842e-07 - val_accuracy: 0.9905\n",
      "Epoch 29/50\n",
      "80/80 [==============================] - 9s 112ms/step - loss: 0.0127 - accuracy: 0.9977 - val_loss: 2.8463e-05 - val_accuracy: 0.9918\n"
     ]
    }
   ],
   "source": [
    "history = net.fit_generator(train_generator,\n",
    "                  verbose=1,\n",
    "                  epochs=50,\n",
    "                  steps_per_epoch=train_generator.n//train_generator.batch_size,\n",
    "                  callbacks=[callback],\n",
    "                  validation_data=val_generator)"
   ]
  },
  {
   "cell_type": "code",
   "execution_count": 60,
   "metadata": {
    "colab": {
     "base_uri": "https://localhost:8080/",
     "height": 34
    },
    "colab_type": "code",
    "executionInfo": {
     "elapsed": 8485,
     "status": "ok",
     "timestamp": 1592169075419,
     "user": {
      "displayName": "Gian Carlo Milanese",
      "photoUrl": "",
      "userId": "08352423327035271918"
     },
     "user_tz": -120
    },
    "id": "RI8oBUTR0O79",
    "outputId": "13afe594-1e94-4ff1-d4c1-195466beecca"
   },
   "outputs": [
    {
     "data": {
      "text/plain": [
       "[0.06329885125160217, 0.9824766516685486]"
      ]
     },
     "execution_count": 60,
     "metadata": {
      "tags": []
     },
     "output_type": "execute_result"
    }
   ],
   "source": [
    "net.evaluate_generator(train_generator)"
   ]
  },
  {
   "cell_type": "code",
   "execution_count": 61,
   "metadata": {
    "colab": {
     "base_uri": "https://localhost:8080/",
     "height": 34
    },
    "colab_type": "code",
    "executionInfo": {
     "elapsed": 10074,
     "status": "ok",
     "timestamp": 1592169077035,
     "user": {
      "displayName": "Gian Carlo Milanese",
      "photoUrl": "",
      "userId": "08352423327035271918"
     },
     "user_tz": -120
    },
    "id": "SgCXwizX0O4p",
    "outputId": "a937b434-b827-4d04-9200-d0f17b212ab4"
   },
   "outputs": [
    {
     "data": {
      "text/plain": [
       "[0.0, 0.9660326242446899]"
      ]
     },
     "execution_count": 61,
     "metadata": {
      "tags": []
     },
     "output_type": "execute_result"
    }
   ],
   "source": [
    "net.evaluate_generator(val_generator)"
   ]
  },
  {
   "cell_type": "code",
   "execution_count": 62,
   "metadata": {
    "colab": {
     "base_uri": "https://localhost:8080/",
     "height": 34
    },
    "colab_type": "code",
    "executionInfo": {
     "elapsed": 11074,
     "status": "ok",
     "timestamp": 1592169078061,
     "user": {
      "displayName": "Gian Carlo Milanese",
      "photoUrl": "",
      "userId": "08352423327035271918"
     },
     "user_tz": -120
    },
    "id": "AggBKQPq0NMP",
    "outputId": "98df1f04-06cf-432d-b30c-027f98efc356"
   },
   "outputs": [
    {
     "data": {
      "text/plain": [
       "[0.0, 0.9728260636329651]"
      ]
     },
     "execution_count": 62,
     "metadata": {
      "tags": []
     },
     "output_type": "execute_result"
    }
   ],
   "source": [
    "net.evaluate_generator(test_generator)"
   ]
  },
  {
   "cell_type": "code",
   "execution_count": 63,
   "metadata": {
    "colab": {
     "base_uri": "https://localhost:8080/",
     "height": 278
    },
    "colab_type": "code",
    "executionInfo": {
     "elapsed": 11458,
     "status": "ok",
     "timestamp": 1592169078470,
     "user": {
      "displayName": "Gian Carlo Milanese",
      "photoUrl": "",
      "userId": "08352423327035271918"
     },
     "user_tz": -120
    },
    "id": "jV4ZFFMH6cbH",
    "outputId": "35c2ad81-8a7a-4bb0-d696-1fe14d36349c"
   },
   "outputs": [
    {
     "name": "stdout",
     "output_type": "stream",
     "text": [
      "              precision    recall  f1-score   support\n",
      "\n",
      "  alessandro       1.00      1.00      1.00        92\n",
      "      alinda       0.98      1.00      0.99        92\n",
      "        cami       0.98      1.00      0.99        92\n",
      "        gian       0.98      1.00      0.99        92\n",
      "      khaled       1.00      0.79      0.88        92\n",
      "        luca       0.99      0.97      0.98        92\n",
      "       mamma       0.97      0.97      0.97        92\n",
      "        papi       0.86      1.00      0.92        92\n",
      "\n",
      "    accuracy                           0.97       736\n",
      "   macro avg       0.97      0.97      0.97       736\n",
      "weighted avg       0.97      0.97      0.97       736\n",
      "\n"
     ]
    }
   ],
   "source": [
    "cm_val, cr_val = classification_report_generator(val_generator)\n",
    "print(cr_val)"
   ]
  },
  {
   "cell_type": "code",
   "execution_count": 64,
   "metadata": {
    "colab": {
     "base_uri": "https://localhost:8080/",
     "height": 278
    },
    "colab_type": "code",
    "executionInfo": {
     "elapsed": 12874,
     "status": "ok",
     "timestamp": 1592169079908,
     "user": {
      "displayName": "Gian Carlo Milanese",
      "photoUrl": "",
      "userId": "08352423327035271918"
     },
     "user_tz": -120
    },
    "id": "upS-p8Y5yQuD",
    "outputId": "94e1b4b6-7148-41cb-8771-6b5ff6ecbb63"
   },
   "outputs": [
    {
     "name": "stdout",
     "output_type": "stream",
     "text": [
      "              precision    recall  f1-score   support\n",
      "\n",
      "  alessandro       1.00      1.00      1.00        46\n",
      "      alinda       0.94      1.00      0.97        46\n",
      "        cami       0.98      1.00      0.99        46\n",
      "        gian       0.98      0.96      0.97        46\n",
      "      khaled       0.97      0.85      0.91        46\n",
      "        luca       0.98      1.00      0.99        46\n",
      "       mamma       0.98      0.98      0.98        46\n",
      "        papi       0.96      1.00      0.98        46\n",
      "\n",
      "    accuracy                           0.97       368\n",
      "   macro avg       0.97      0.97      0.97       368\n",
      "weighted avg       0.97      0.97      0.97       368\n",
      "\n"
     ]
    }
   ],
   "source": [
    "cm_val, cr_val = classification_report_generator(test_generator)\n",
    "print(cr_val)"
   ]
  },
  {
   "cell_type": "code",
   "execution_count": 0,
   "metadata": {
    "colab": {},
    "colab_type": "code",
    "id": "k0xedtfM7ONo"
   },
   "outputs": [],
   "source": [
    "latest_model_number = max([int(e.split(\"_\")[0]) for e in os.listdir(\"/content/drive/My Drive/2D/models/\")])\n",
    "model_name = latest_model_number + 1\n",
    "model_filename = f\"/content/drive/My Drive/2D/models/{model_name}_maxpool_model.h5\"\n",
    "json_filename = f\"/content/drive/My Drive/2D/models/{model_name}_maxpool_model.json\""
   ]
  },
  {
   "cell_type": "code",
   "execution_count": 66,
   "metadata": {
    "colab": {
     "base_uri": "https://localhost:8080/",
     "height": 52
    },
    "colab_type": "code",
    "executionInfo": {
     "elapsed": 12846,
     "status": "ok",
     "timestamp": 1592169079911,
     "user": {
      "displayName": "Gian Carlo Milanese",
      "photoUrl": "",
      "userId": "08352423327035271918"
     },
     "user_tz": -120
    },
    "id": "Ra-W3knO011o",
    "outputId": "04969bdb-a989-47c6-e7d6-b594a3ac1bd8"
   },
   "outputs": [
    {
     "data": {
      "text/plain": [
       "('/content/drive/My Drive/2D/models/31_maxpool_model.h5',\n",
       " '/content/drive/My Drive/2D/models/31_maxpool_model.json')"
      ]
     },
     "execution_count": 66,
     "metadata": {
      "tags": []
     },
     "output_type": "execute_result"
    }
   ],
   "source": [
    "model_filename, json_filename"
   ]
  },
  {
   "cell_type": "code",
   "execution_count": 67,
   "metadata": {
    "colab": {
     "base_uri": "https://localhost:8080/",
     "height": 243
    },
    "colab_type": "code",
    "executionInfo": {
     "elapsed": 12827,
     "status": "ok",
     "timestamp": 1592169079913,
     "user": {
      "displayName": "Gian Carlo Milanese",
      "photoUrl": "",
      "userId": "08352423327035271918"
     },
     "user_tz": -120
    },
    "id": "ndbDoDTF0w8n",
    "outputId": "2c8cb3fe-9b02-4584-d045-e736efff1075"
   },
   "outputs": [
    {
     "data": {
      "text/plain": [
       "{'class_indices': ['alessandro',\n",
       "  'alinda',\n",
       "  'cami',\n",
       "  'gian',\n",
       "  'khaled',\n",
       "  'luca',\n",
       "  'mamma',\n",
       "  'papi'],\n",
       " 'description': 'Base model + maxpool, new preprocessing order, new_width=50',\n",
       " 'featurewise_center': False,\n",
       " 'featurewise_std': False,\n",
       " 'mask': True,\n",
       " 'model_n': 31}"
      ]
     },
     "execution_count": 67,
     "metadata": {
      "tags": []
     },
     "output_type": "execute_result"
    }
   ],
   "source": [
    "d = {}\n",
    "# d[\"mean\"] = [str(i) for i in mu]\n",
    "# d[\"std\"] = [str(i) for i in std]\n",
    "d[\"mask\"] = True\n",
    "d[\"model_n\"] = model_name\n",
    "d[\"featurewise_center\"] = False\n",
    "d[\"featurewise_std\"] = False\n",
    "d[\"class_indices\"] = [i[0] for i in train_generator.class_indices.items()]\n",
    "d[\"description\"] = \"Base model + maxpool, new preprocessing order, new_width=50\"\n",
    "d"
   ]
  },
  {
   "cell_type": "code",
   "execution_count": 0,
   "metadata": {
    "colab": {},
    "colab_type": "code",
    "id": "fxfrutqD0zLM"
   },
   "outputs": [],
   "source": [
    "with open(json_filename, \"w\") as jsonf:\n",
    "    json.dump(d, jsonf)\n",
    "net.save(model_filename)"
   ]
  },
  {
   "cell_type": "code",
   "execution_count": 0,
   "metadata": {
    "colab": {},
    "colab_type": "code",
    "id": "0nxOCiMF73nb"
   },
   "outputs": [],
   "source": [
    "copy_of_history = history"
   ]
  },
  {
   "cell_type": "markdown",
   "metadata": {
    "colab_type": "text",
    "id": "rX8N8wTH7wz2"
   },
   "source": [
    "#### Another thing we can try is to double the steps per epoch parameter, so that more horizontal flips and brightness changes are performed"
   ]
  },
  {
   "cell_type": "code",
   "execution_count": 0,
   "metadata": {
    "colab": {},
    "colab_type": "code",
    "id": "0dKnPKVY1tvG"
   },
   "outputs": [],
   "source": [
    "#create model\n",
    "net = Sequential()\n",
    "#add model layers\n",
    "net.add(Conv2D(64, kernel_size=3, activation='relu', input_shape=input_shape))\n",
    "net.add(Conv2D(32, kernel_size=3, activation='relu'))\n",
    "net.add(MaxPooling2D(pool_size=(4, 4), strides=(2, 2)))\n",
    "net.add(Flatten())\n",
    "net.add(Dense(n_classes, activation='softmax'))\n",
    "net.compile(loss=keras.losses.categorical_crossentropy,\n",
    "            optimizer=keras.optimizers.RMSprop(),\n",
    "            metrics=[\"accuracy\"])"
   ]
  },
  {
   "cell_type": "code",
   "execution_count": 72,
   "metadata": {
    "colab": {
     "base_uri": "https://localhost:8080/",
     "height": 766
    },
    "colab_type": "code",
    "executionInfo": {
     "elapsed": 347709,
     "status": "ok",
     "timestamp": 1592169435957,
     "user": {
      "displayName": "Gian Carlo Milanese",
      "photoUrl": "",
      "userId": "08352423327035271918"
     },
     "user_tz": -120
    },
    "id": "I8-RzIRr1teb",
    "outputId": "bd9636fe-cb04-4a24-8683-e9e780647d61"
   },
   "outputs": [
    {
     "name": "stdout",
     "output_type": "stream",
     "text": [
      "Epoch 1/50\n",
      "160/160 [==============================] - 17s 104ms/step - loss: 1.2552 - accuracy: 0.7370 - val_loss: 0.0933 - val_accuracy: 0.9484\n",
      "Epoch 2/50\n",
      "160/160 [==============================] - 17s 105ms/step - loss: 0.1243 - accuracy: 0.9643 - val_loss: 0.0012 - val_accuracy: 0.9864\n",
      "Epoch 3/50\n",
      "160/160 [==============================] - 17s 103ms/step - loss: 0.0665 - accuracy: 0.9805 - val_loss: 5.2582e-05 - val_accuracy: 0.9878\n",
      "Epoch 4/50\n",
      "160/160 [==============================] - 16s 103ms/step - loss: 0.0610 - accuracy: 0.9876 - val_loss: 5.7421e-04 - val_accuracy: 0.9891\n",
      "Epoch 5/50\n",
      "160/160 [==============================] - 16s 102ms/step - loss: 0.1376 - accuracy: 0.9817 - val_loss: 2.2366e-04 - val_accuracy: 0.9891\n",
      "Epoch 6/50\n",
      "160/160 [==============================] - 16s 102ms/step - loss: 0.0463 - accuracy: 0.9921 - val_loss: 2.4474e-06 - val_accuracy: 0.9932\n",
      "Epoch 7/50\n",
      "160/160 [==============================] - 16s 103ms/step - loss: 0.0461 - accuracy: 0.9927 - val_loss: 4.0105e-05 - val_accuracy: 0.9878\n",
      "Epoch 8/50\n",
      "160/160 [==============================] - 16s 103ms/step - loss: 0.0124 - accuracy: 0.9965 - val_loss: 8.2211e-06 - val_accuracy: 0.9946\n",
      "Epoch 9/50\n",
      "160/160 [==============================] - 17s 104ms/step - loss: 0.0419 - accuracy: 0.9943 - val_loss: 5.8123e-05 - val_accuracy: 0.9918\n",
      "Epoch 10/50\n",
      "160/160 [==============================] - 16s 102ms/step - loss: 0.0328 - accuracy: 0.9956 - val_loss: 9.3398e-04 - val_accuracy: 0.9918\n",
      "Epoch 11/50\n",
      "160/160 [==============================] - 16s 102ms/step - loss: 0.0545 - accuracy: 0.9945 - val_loss: 6.9663e-07 - val_accuracy: 0.9905\n",
      "Epoch 12/50\n",
      "160/160 [==============================] - 16s 102ms/step - loss: 0.0306 - accuracy: 0.9941 - val_loss: 6.6929e-05 - val_accuracy: 0.9905\n",
      "Epoch 13/50\n",
      "160/160 [==============================] - 16s 103ms/step - loss: 0.0186 - accuracy: 0.9971 - val_loss: 1.3166e-04 - val_accuracy: 0.9905\n",
      "Epoch 14/50\n",
      "160/160 [==============================] - 17s 104ms/step - loss: 0.0636 - accuracy: 0.9947 - val_loss: 3.3898e-06 - val_accuracy: 0.9932\n",
      "Epoch 15/50\n",
      "160/160 [==============================] - 16s 103ms/step - loss: 0.0232 - accuracy: 0.9957 - val_loss: 4.0233e-07 - val_accuracy: 0.9946\n",
      "Epoch 16/50\n",
      "160/160 [==============================] - 16s 103ms/step - loss: 0.0621 - accuracy: 0.9953 - val_loss: 0.0000e+00 - val_accuracy: 0.9918\n",
      "Epoch 17/50\n",
      "160/160 [==============================] - 16s 102ms/step - loss: 0.0158 - accuracy: 0.9966 - val_loss: 8.3073e-07 - val_accuracy: 0.9905\n",
      "Epoch 18/50\n",
      "160/160 [==============================] - 17s 103ms/step - loss: 0.2045 - accuracy: 0.9910 - val_loss: 0.0000e+00 - val_accuracy: 0.9905\n",
      "Epoch 19/50\n",
      "160/160 [==============================] - 16s 103ms/step - loss: 3.8390e-05 - accuracy: 1.0000 - val_loss: 0.0000e+00 - val_accuracy: 0.9918\n",
      "Epoch 20/50\n",
      "160/160 [==============================] - 16s 103ms/step - loss: 0.0975 - accuracy: 0.9943 - val_loss: 7.4506e-09 - val_accuracy: 0.9932\n",
      "Epoch 21/50\n",
      "160/160 [==============================] - 16s 103ms/step - loss: 0.0114 - accuracy: 0.9986 - val_loss: 0.0000e+00 - val_accuracy: 0.9905\n"
     ]
    }
   ],
   "source": [
    "doubled_steps_per_epoch = 2 * (train_generator.n//train_generator.batch_size)\n",
    "history = net.fit_generator(train_generator,\n",
    "                  verbose=1,\n",
    "                  epochs=50,\n",
    "                  steps_per_epoch=doubled_steps_per_epoch,\n",
    "                  callbacks=[callback],\n",
    "                  validation_data=val_generator)"
   ]
  },
  {
   "cell_type": "code",
   "execution_count": 73,
   "metadata": {
    "colab": {
     "base_uri": "https://localhost:8080/",
     "height": 34
    },
    "colab_type": "code",
    "executionInfo": {
     "elapsed": 352862,
     "status": "ok",
     "timestamp": 1592169442392,
     "user": {
      "displayName": "Gian Carlo Milanese",
      "photoUrl": "",
      "userId": "08352423327035271918"
     },
     "user_tz": -120
    },
    "id": "-kWruNHj3jac",
    "outputId": "b3d11ae7-ed30-4382-9657-087e19c0e13f"
   },
   "outputs": [
    {
     "data": {
      "text/plain": [
       "[1.4901160305669237e-08, 0.9996106028556824]"
      ]
     },
     "execution_count": 73,
     "metadata": {
      "tags": []
     },
     "output_type": "execute_result"
    }
   ],
   "source": [
    "net.evaluate_generator(train_generator)"
   ]
  },
  {
   "cell_type": "code",
   "execution_count": 74,
   "metadata": {
    "colab": {
     "base_uri": "https://localhost:8080/",
     "height": 34
    },
    "colab_type": "code",
    "executionInfo": {
     "elapsed": 353542,
     "status": "ok",
     "timestamp": 1592169443429,
     "user": {
      "displayName": "Gian Carlo Milanese",
      "photoUrl": "",
      "userId": "08352423327035271918"
     },
     "user_tz": -120
    },
    "id": "9zHYMcFs3jR8",
    "outputId": "6ab29d89-82d1-413e-e0b1-e076bdb31fc3"
   },
   "outputs": [
    {
     "data": {
      "text/plain": [
       "[0.0, 0.991847813129425]"
      ]
     },
     "execution_count": 74,
     "metadata": {
      "tags": []
     },
     "output_type": "execute_result"
    }
   ],
   "source": [
    "net.evaluate_generator(val_generator)"
   ]
  },
  {
   "cell_type": "code",
   "execution_count": 75,
   "metadata": {
    "colab": {
     "base_uri": "https://localhost:8080/",
     "height": 34
    },
    "colab_type": "code",
    "executionInfo": {
     "elapsed": 353819,
     "status": "ok",
     "timestamp": 1592169443951,
     "user": {
      "displayName": "Gian Carlo Milanese",
      "photoUrl": "",
      "userId": "08352423327035271918"
     },
     "user_tz": -120
    },
    "id": "SgKID4Vi1Ltb",
    "outputId": "5a7a2a7c-2e55-4a5d-8c86-54459032d980"
   },
   "outputs": [
    {
     "data": {
      "text/plain": [
       "[0.0, 0.989130437374115]"
      ]
     },
     "execution_count": 75,
     "metadata": {
      "tags": []
     },
     "output_type": "execute_result"
    }
   ],
   "source": [
    "net.evaluate_generator(test_generator)"
   ]
  },
  {
   "cell_type": "code",
   "execution_count": 76,
   "metadata": {
    "colab": {
     "base_uri": "https://localhost:8080/",
     "height": 278
    },
    "colab_type": "code",
    "executionInfo": {
     "elapsed": 354350,
     "status": "ok",
     "timestamp": 1592169445984,
     "user": {
      "displayName": "Gian Carlo Milanese",
      "photoUrl": "",
      "userId": "08352423327035271918"
     },
     "user_tz": -120
    },
    "id": "iQxNuzLi8NMh",
    "outputId": "52a427e5-af5c-4753-87c2-55127acc4fab"
   },
   "outputs": [
    {
     "name": "stdout",
     "output_type": "stream",
     "text": [
      "              precision    recall  f1-score   support\n",
      "\n",
      "  alessandro       1.00      1.00      1.00        92\n",
      "      alinda       0.98      1.00      0.99        92\n",
      "        cami       0.99      1.00      0.99        92\n",
      "        gian       1.00      0.99      0.99        92\n",
      "      khaled       1.00      0.97      0.98        92\n",
      "        luca       1.00      0.99      0.99        92\n",
      "       mamma       0.99      0.99      0.99        92\n",
      "        papi       0.98      1.00      0.99        92\n",
      "\n",
      "    accuracy                           0.99       736\n",
      "   macro avg       0.99      0.99      0.99       736\n",
      "weighted avg       0.99      0.99      0.99       736\n",
      "\n"
     ]
    }
   ],
   "source": [
    "cm_val, cr_val = classification_report_generator(val_generator)\n",
    "print(cr_val)"
   ]
  },
  {
   "cell_type": "code",
   "execution_count": 77,
   "metadata": {
    "colab": {
     "base_uri": "https://localhost:8080/",
     "height": 278
    },
    "colab_type": "code",
    "executionInfo": {
     "elapsed": 354309,
     "status": "ok",
     "timestamp": 1592169446866,
     "user": {
      "displayName": "Gian Carlo Milanese",
      "photoUrl": "",
      "userId": "08352423327035271918"
     },
     "user_tz": -120
    },
    "id": "4391lxl31PBm",
    "outputId": "04ea0ba4-8785-470c-b23e-7086d7566db9"
   },
   "outputs": [
    {
     "name": "stdout",
     "output_type": "stream",
     "text": [
      "              precision    recall  f1-score   support\n",
      "\n",
      "  alessandro       1.00      1.00      1.00        46\n",
      "      alinda       0.96      1.00      0.98        46\n",
      "        cami       1.00      1.00      1.00        46\n",
      "        gian       1.00      0.96      0.98        46\n",
      "      khaled       1.00      0.96      0.98        46\n",
      "        luca       1.00      1.00      1.00        46\n",
      "       mamma       0.98      1.00      0.99        46\n",
      "        papi       0.98      1.00      0.99        46\n",
      "\n",
      "    accuracy                           0.99       368\n",
      "   macro avg       0.99      0.99      0.99       368\n",
      "weighted avg       0.99      0.99      0.99       368\n",
      "\n"
     ]
    }
   ],
   "source": [
    "cm_val, cr_val = classification_report_generator(test_generator)\n",
    "print(cr_val)"
   ]
  },
  {
   "cell_type": "code",
   "execution_count": 0,
   "metadata": {
    "colab": {},
    "colab_type": "code",
    "id": "MGLSOa_62JEP"
   },
   "outputs": [],
   "source": [
    "latest_model_number = max([int(e.split(\"_\")[0]) for e in os.listdir(\"/content/drive/My Drive/2D/models/\")])\n",
    "model_name = latest_model_number + 1\n",
    "model_filename = f\"/content/drive/My Drive/2D/models/{model_name}_doublesteps_model.h5\"\n",
    "json_filename = f\"/content/drive/My Drive/2D/models/{model_name}_doublesteps_model.json\""
   ]
  },
  {
   "cell_type": "code",
   "execution_count": 79,
   "metadata": {
    "colab": {
     "base_uri": "https://localhost:8080/",
     "height": 52
    },
    "colab_type": "code",
    "executionInfo": {
     "elapsed": 352551,
     "status": "ok",
     "timestamp": 1592169446868,
     "user": {
      "displayName": "Gian Carlo Milanese",
      "photoUrl": "",
      "userId": "08352423327035271918"
     },
     "user_tz": -120
    },
    "id": "HwUupnbx2JEr",
    "outputId": "bbd2f943-2574-4382-cf04-ba36c8c8c8e1"
   },
   "outputs": [
    {
     "data": {
      "text/plain": [
       "('/content/drive/My Drive/2D/models/32_doublesteps_model.h5',\n",
       " '/content/drive/My Drive/2D/models/32_doublesteps_model.json')"
      ]
     },
     "execution_count": 79,
     "metadata": {
      "tags": []
     },
     "output_type": "execute_result"
    }
   ],
   "source": [
    "model_filename, json_filename"
   ]
  },
  {
   "cell_type": "code",
   "execution_count": 80,
   "metadata": {
    "colab": {
     "base_uri": "https://localhost:8080/",
     "height": 243
    },
    "colab_type": "code",
    "executionInfo": {
     "elapsed": 87725,
     "status": "ok",
     "timestamp": 1592169446869,
     "user": {
      "displayName": "Gian Carlo Milanese",
      "photoUrl": "",
      "userId": "08352423327035271918"
     },
     "user_tz": -120
    },
    "id": "Qoeu-xbu2JE2",
    "outputId": "4625ab93-8c4d-4117-8dbc-c761e05e5f55"
   },
   "outputs": [
    {
     "data": {
      "text/plain": [
       "{'class_indices': ['alessandro',\n",
       "  'alinda',\n",
       "  'cami',\n",
       "  'gian',\n",
       "  'khaled',\n",
       "  'luca',\n",
       "  'mamma',\n",
       "  'papi'],\n",
       " 'description': 'Base model + maxpool + double steps per epoch, new preprocessing order, new_width=50',\n",
       " 'featurewise_center': False,\n",
       " 'featurewise_std': False,\n",
       " 'mask': True,\n",
       " 'model_n': 32}"
      ]
     },
     "execution_count": 80,
     "metadata": {
      "tags": []
     },
     "output_type": "execute_result"
    }
   ],
   "source": [
    "d = {}\n",
    "# d[\"mean\"] = [str(i) for i in mu]\n",
    "# d[\"std\"] = [str(i) for i in std]\n",
    "d[\"mask\"] = True\n",
    "d[\"model_n\"] = model_name\n",
    "d[\"featurewise_center\"] = False\n",
    "d[\"featurewise_std\"] = False\n",
    "d[\"class_indices\"] = [i[0] for i in train_generator.class_indices.items()]\n",
    "d[\"description\"] = \"Base model + maxpool + double steps per epoch, new preprocessing order, new_width=50\"\n",
    "d"
   ]
  },
  {
   "cell_type": "code",
   "execution_count": 0,
   "metadata": {
    "colab": {},
    "colab_type": "code",
    "id": "1xZF9Cgv2JE8"
   },
   "outputs": [],
   "source": [
    "with open(json_filename, \"w\") as jsonf:\n",
    "    json.dump(d, jsonf)\n",
    "net.save(model_filename)"
   ]
  },
  {
   "cell_type": "code",
   "execution_count": 82,
   "metadata": {
    "colab": {
     "base_uri": "https://localhost:8080/",
     "height": 621
    },
    "colab_type": "code",
    "executionInfo": {
     "elapsed": 87343,
     "status": "ok",
     "timestamp": 1592169446872,
     "user": {
      "displayName": "Gian Carlo Milanese",
      "photoUrl": "",
      "userId": "08352423327035271918"
     },
     "user_tz": -120
    },
    "id": "cw4XlgHfyzv8",
    "outputId": "e83341a6-3acd-48e1-8db0-989d38a7766c"
   },
   "outputs": [
    {
     "data": {
      "image/png": "[encoded data removed]",
      "text/plain": [
       "<Figure size 1080x720 with 1 Axes>"
      ]
     },
     "metadata": {
      "needs_background": "light",
      "tags": []
     },
     "output_type": "display_data"
    }
   ],
   "source": [
    "plt.figure(figsize=(15,10))\n",
    "plt.plot(history.history['accuracy'])\n",
    "plt.plot(history.history['val_accuracy'])\n",
    "plt.title('model accuracy')\n",
    "plt.ylabel('accuracy')\n",
    "plt.xlabel('epoch')\n",
    "plt.legend(['train', 'val'], loc='upper left')\n",
    "plt.show()"
   ]
  },
  {
   "cell_type": "code",
   "execution_count": 83,
   "metadata": {
    "colab": {
     "base_uri": "https://localhost:8080/",
     "height": 621
    },
    "colab_type": "code",
    "executionInfo": {
     "elapsed": 85554,
     "status": "ok",
     "timestamp": 1592169446873,
     "user": {
      "displayName": "Gian Carlo Milanese",
      "photoUrl": "",
      "userId": "08352423327035271918"
     },
     "user_tz": -120
    },
    "id": "61O6WNJAAoPX",
    "outputId": "3b56365e-610a-41e0-8ea8-fac936faf3e2"
   },
   "outputs": [
    {
     "data": {
      "image/png": "[encoded data removed]",
      "text/plain": [
       "<Figure size 1080x720 with 1 Axes>"
      ]
     },
     "metadata": {
      "needs_background": "light",
      "tags": []
     },
     "output_type": "display_data"
    }
   ],
   "source": [
    "plt.figure(figsize=(15,10))\n",
    "plt.plot(history.history['loss'])\n",
    "plt.plot(history.history['val_loss'])\n",
    "plt.title('model loss')\n",
    "plt.ylabel('loss')\n",
    "plt.xlabel('epoch')\n",
    "plt.legend(['train', 'val'], loc='upper left')\n",
    "plt.show()"
   ]
  }
 ],
 "metadata": {
  "accelerator": "GPU",
  "colab": {
   "collapsed_sections": [],
   "name": "2_train_model.ipynb",
   "provenance": [],
   "toc_visible": true
  },
  "kernelspec": {
   "display_name": "Python 3",
   "language": "python",
   "name": "python3"
  },
  "language_info": {
   "codemirror_mode": {
    "name": "ipython",
    "version": 3
   },
   "file_extension": ".py",
   "mimetype": "text/x-python",
   "name": "python",
   "nbconvert_exporter": "python",
   "pygments_lexer": "ipython3",
   "version": "3.7.7"
  }
 },
 "nbformat": 4,
 "nbformat_minor": 1
}

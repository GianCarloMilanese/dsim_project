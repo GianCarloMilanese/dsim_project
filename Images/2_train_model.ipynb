{
 "cells": [
  {
   "cell_type": "markdown",
   "metadata": {
    "colab_type": "text",
    "id": "4NiYVzWr4YWf"
   },
   "source": [
    "# Face Recognition (GOOGLE COLAB)"
   ]
  },
  {
   "cell_type": "code",
   "execution_count": 1,
   "metadata": {
    "colab": {
     "base_uri": "https://localhost:8080/",
     "height": 364
    },
    "colab_type": "code",
    "executionInfo": {
     "elapsed": 4282,
     "status": "ok",
     "timestamp": 1592120760094,
     "user": {
      "displayName": "Gian Carlo Milanese",
      "photoUrl": "",
      "userId": "08352423327035271918"
     },
     "user_tz": -120
    },
    "id": "xacbs7YfmnzS",
    "outputId": "57c43e32-4420-46ed-e376-ec1522b967cf"
   },
   "outputs": [
    {
     "name": "stdout",
     "output_type": "stream",
     "text": [
      "Sun Jun 14 07:45:57 2020       \n",
      "+-----------------------------------------------------------------------------+\n",
      "| NVIDIA-SMI 450.36.06    Driver Version: 418.67       CUDA Version: 10.1     |\n",
      "|-------------------------------+----------------------+----------------------+\n",
      "| GPU  Name        Persistence-M| Bus-Id        Disp.A | Volatile Uncorr. ECC |\n",
      "| Fan  Temp  Perf  Pwr:Usage/Cap|         Memory-Usage | GPU-Util  Compute M. |\n",
      "|                               |                      |               MIG M. |\n",
      "|===============================+======================+======================|\n",
      "|   0  Tesla T4            Off  | 00000000:00:04.0 Off |                    0 |\n",
      "| N/A   55C    P8    13W /  70W |      0MiB / 15079MiB |      0%      Default |\n",
      "|                               |                      |                 ERR! |\n",
      "+-------------------------------+----------------------+----------------------+\n",
      "                                                                               \n",
      "+-----------------------------------------------------------------------------+\n",
      "| Processes:                                                                  |\n",
      "|  GPU   GI   CI        PID   Type   Process name                  GPU Memory |\n",
      "|        ID   ID                                                   Usage      |\n",
      "|=============================================================================|\n",
      "|  No running processes found                                                 |\n",
      "+-----------------------------------------------------------------------------+\n"
     ]
    }
   ],
   "source": [
    "!nvidia-smi"
   ]
  },
  {
   "cell_type": "code",
   "execution_count": 0,
   "metadata": {
    "colab": {},
    "colab_type": "code",
    "id": "LsWn2GSH_5T6"
   },
   "outputs": [],
   "source": [
    "%tensorflow_version 2.x"
   ]
  },
  {
   "cell_type": "code",
   "execution_count": 0,
   "metadata": {
    "colab": {},
    "colab_type": "code",
    "id": "qicHhDWXIsue"
   },
   "outputs": [],
   "source": [
    "!pip install -q keras==2.3.0"
   ]
  },
  {
   "cell_type": "code",
   "execution_count": 4,
   "metadata": {
    "colab": {
     "base_uri": "https://localhost:8080/",
     "height": 52
    },
    "colab_type": "code",
    "executionInfo": {
     "elapsed": 9069,
     "status": "ok",
     "timestamp": 1592120764922,
     "user": {
      "displayName": "Gian Carlo Milanese",
      "photoUrl": "",
      "userId": "08352423327035271918"
     },
     "user_tz": -120
    },
    "id": "YBLC2IjiIvwr",
    "outputId": "769c964c-f0aa-4336-bc25-5d701d2732c4"
   },
   "outputs": [
    {
     "name": "stderr",
     "output_type": "stream",
     "text": [
      "Using TensorFlow backend.\n"
     ]
    },
    {
     "name": "stdout",
     "output_type": "stream",
     "text": [
      "2.3.0\n"
     ]
    }
   ],
   "source": [
    "import keras\n",
    "print(keras.__version__)"
   ]
  },
  {
   "cell_type": "code",
   "execution_count": 0,
   "metadata": {
    "colab": {},
    "colab_type": "code",
    "id": "7Oing8Nfm4L9"
   },
   "outputs": [],
   "source": [
    "from keras.preprocessing import image as kimage\n",
    "from keras.models import Model\n",
    "from keras.layers import Dense, Dropout, BatchNormalization"
   ]
  },
  {
   "cell_type": "code",
   "execution_count": 0,
   "metadata": {
    "colab": {},
    "colab_type": "code",
    "id": "5Jkb5yUNplkr"
   },
   "outputs": [],
   "source": [
    "import matplotlib.pyplot as plt\n",
    "import numpy as np"
   ]
  },
  {
   "cell_type": "markdown",
   "metadata": {
    "colab_type": "text",
    "id": "q-XChVRmMSZP"
   },
   "source": [
    "# (Mount Google Drive)\n",
    "\n"
   ]
  },
  {
   "cell_type": "code",
   "execution_count": 7,
   "metadata": {
    "colab": {
     "base_uri": "https://localhost:8080/",
     "height": 34
    },
    "colab_type": "code",
    "executionInfo": {
     "elapsed": 8718,
     "status": "ok",
     "timestamp": 1592120764926,
     "user": {
      "displayName": "Gian Carlo Milanese",
      "photoUrl": "",
      "userId": "08352423327035271918"
     },
     "user_tz": -120
    },
    "id": "NyA2lgdVmMfm",
    "outputId": "4b1c16ec-6135-4dba-b66c-5561a874e707"
   },
   "outputs": [
    {
     "name": "stdout",
     "output_type": "stream",
     "text": [
      "Drive already mounted at /content/drive; to attempt to forcibly remount, call drive.mount(\"/content/drive\", force_remount=True).\n"
     ]
    }
   ],
   "source": [
    "from google.colab import drive\n",
    "drive.mount('/content/drive')"
   ]
  },
  {
   "cell_type": "markdown",
   "metadata": {
    "colab_type": "text",
    "id": "-m0CvMWvejrC"
   },
   "source": [
    "# Split pictures folder in train/test/val\n",
    "\n",
    "(if not done already)"
   ]
  },
  {
   "cell_type": "code",
   "execution_count": 0,
   "metadata": {
    "colab": {},
    "colab_type": "code",
    "id": "E6u8pzHbem2i"
   },
   "outputs": [],
   "source": [
    "# import sys\n",
    "# sys.path.insert(1, '/content/drive/My Drive/Images/')"
   ]
  },
  {
   "cell_type": "code",
   "execution_count": 0,
   "metadata": {
    "colab": {},
    "colab_type": "code",
    "id": "VAWAE4MJfcfR"
   },
   "outputs": [],
   "source": [
    "# import utils_2d"
   ]
  },
  {
   "cell_type": "code",
   "execution_count": 0,
   "metadata": {
    "colab": {},
    "colab_type": "code",
    "id": "x3dvYPjIffv-"
   },
   "outputs": [],
   "source": [
    "# # Creating Train / Val / Test folders (One time use)\n",
    "# root_dir = '/content/drive/My Drive/2D/pictures_masked_resized_heavy'\n",
    "# dest_dir = '/content/drive/My Drive/2D/pictures_masked_resized_heavy_split'"
   ]
  },
  {
   "cell_type": "code",
   "execution_count": 0,
   "metadata": {
    "colab": {},
    "colab_type": "code",
    "id": "WuIWMXcDVOEi"
   },
   "outputs": [],
   "source": [
    "#!ls \"$root_dir\""
   ]
  },
  {
   "cell_type": "code",
   "execution_count": 0,
   "metadata": {
    "colab": {},
    "colab_type": "code",
    "id": "Ag2B9l2vfga4"
   },
   "outputs": [],
   "source": [
    "# utils_2d.pictures_train_test_val_split(root_dir, dest_dir, verbose=True)"
   ]
  },
  {
   "cell_type": "markdown",
   "metadata": {
    "colab_type": "text",
    "id": "rwYLdjVysAcK"
   },
   "source": [
    "### Extract train/test/val folders (if not already there; alternative to previous step)"
   ]
  },
  {
   "cell_type": "code",
   "execution_count": 0,
   "metadata": {
    "colab": {},
    "colab_type": "code",
    "id": "CTWXLDpjsGUQ"
   },
   "outputs": [],
   "source": [
    "# !tar xzvf \"/content/drive/My Drive/2D/pictures_masked_new_split.tar.gz\" -C \"/content/drive/My Drive/2D/\""
   ]
  },
  {
   "cell_type": "markdown",
   "metadata": {
    "colab_type": "text",
    "id": "j0EBVquMCW5H"
   },
   "source": [
    "# Define Train/test/val sets"
   ]
  },
  {
   "cell_type": "code",
   "execution_count": 0,
   "metadata": {
    "colab": {},
    "colab_type": "code",
    "id": "I4IE9fkCHsmX"
   },
   "outputs": [],
   "source": [
    "#my_pictures_dir =\"/content/drive/My Drive/2D/pictures_masked_resized_heavy_split\"\n",
    "my_pictures_dir =\"/content/drive/My Drive/2D/pictures_masked_new_split\""
   ]
  },
  {
   "cell_type": "code",
   "execution_count": 0,
   "metadata": {
    "colab": {},
    "colab_type": "code",
    "id": "k4kN9pPpIx1F"
   },
   "outputs": [],
   "source": [
    "train_dir = my_pictures_dir+\"/train\"\n",
    "val_dir = my_pictures_dir+\"/val\"\n",
    "test_dir = my_pictures_dir+\"/test\""
   ]
  },
  {
   "cell_type": "code",
   "execution_count": 16,
   "metadata": {
    "colab": {
     "base_uri": "https://localhost:8080/",
     "height": 34
    },
    "colab_type": "code",
    "executionInfo": {
     "elapsed": 78713,
     "status": "ok",
     "timestamp": 1592120837452,
     "user": {
      "displayName": "Gian Carlo Milanese",
      "photoUrl": "",
      "userId": "08352423327035271918"
     },
     "user_tz": -120
    },
    "id": "c-oyRQbpM8Hq",
    "outputId": "ad35a75a-315c-4e24-9dbd-ba03b460f82e"
   },
   "outputs": [
    {
     "name": "stdout",
     "output_type": "stream",
     "text": [
      "alessandro  alinda  cami  gian\tkhaled\tluca  mamma  papi\n"
     ]
    }
   ],
   "source": [
    "!ls \"$my_pictures_dir/test\""
   ]
  },
  {
   "cell_type": "markdown",
   "metadata": {
    "colab_type": "text",
    "id": "psd6JOIYf0ev"
   },
   "source": [
    "Set the classes that the classifier should learn:"
   ]
  },
  {
   "cell_type": "code",
   "execution_count": 0,
   "metadata": {
    "colab": {},
    "colab_type": "code",
    "id": "s5rnk3hivxOf"
   },
   "outputs": [],
   "source": [
    "classes = [\"alessandro\", \"alinda\", \"cami\", \"gian\", \"khaled\", \"mamma\", \"papi\"]"
   ]
  },
  {
   "cell_type": "code",
   "execution_count": 0,
   "metadata": {
    "colab": {},
    "colab_type": "code",
    "id": "oSr9IBiW3GaW"
   },
   "outputs": [],
   "source": [
    "color_mode = \"grayscale\""
   ]
  },
  {
   "cell_type": "markdown",
   "metadata": {
    "colab_type": "text",
    "id": "iF3Se93DHUgb"
   },
   "source": [
    "## Sample from train set\n",
    "\n",
    "The following is kept commented in case of future testing with featurewise center/std"
   ]
  },
  {
   "cell_type": "code",
   "execution_count": 0,
   "metadata": {
    "colab": {},
    "colab_type": "code",
    "id": "rYnTAZDwHXWx"
   },
   "outputs": [],
   "source": [
    "# sample_processing = kimage.ImageDataGenerator()\n",
    "# sample_generator = sample_processing.flow_from_directory(train_dir, classes = classes,\n",
    "#                                                          # rescale= 1./255,\n",
    "#                                                          target_size=(224, 224),\n",
    "#                                                          color_mode=color_mode,\n",
    "#                                                          batch_size=64,\n",
    "#                                                          class_mode=\"categorical\",\n",
    "#                                                          shuffle=True,\n",
    "#                                                          seed=1)"
   ]
  },
  {
   "cell_type": "code",
   "execution_count": 0,
   "metadata": {
    "colab": {},
    "colab_type": "code",
    "id": "YtO1so2TIAkO"
   },
   "outputs": [],
   "source": [
    "# sample = sample_generator.next()\n",
    "# sample_features = sample[0]\n",
    "# sample_labels = sample[1]"
   ]
  },
  {
   "cell_type": "code",
   "execution_count": 0,
   "metadata": {
    "colab": {},
    "colab_type": "code",
    "id": "B4dYKG4r1MUf"
   },
   "outputs": [],
   "source": [
    "# plt.imshow(sample_features[5][:,:,0], cmap=\"gray\")"
   ]
  },
  {
   "cell_type": "markdown",
   "metadata": {
    "colab_type": "text",
    "id": "eLNv133C3-dY"
   },
   "source": [
    "## Generators"
   ]
  },
  {
   "cell_type": "code",
   "execution_count": 0,
   "metadata": {
    "colab": {},
    "colab_type": "code",
    "id": "qZ2wSlAFxOLD"
   },
   "outputs": [],
   "source": [
    "train_processing = kimage.ImageDataGenerator(\n",
    "    # featurewise_center=True, # UNCOMMENT for testing with previous code\n",
    "    # featurewise_std_normalization=True, # UNCOMMENT for testing with previous\n",
    "    rescale= 1./255, # COMMENT for testing with previous\n",
    "    # Rotations\n",
    "    # rotation_range=10,\n",
    "    # # Shifts\n",
    "    # width_shift_range=0.1,\n",
    "    # height_shift_range=0.1,\n",
    "    # # Flips\n",
    "    horizontal_flip=True,\n",
    "    # vertical_flip=True,\n",
    "    # Brightness Change\n",
    "    brightness_range=[0.6,1.4],\n",
    "    # Zoom Change\n",
    "    # zoom_range=[0.9,1.1] # TODO: test without this\n",
    ")"
   ]
  },
  {
   "cell_type": "code",
   "execution_count": 0,
   "metadata": {
    "colab": {},
    "colab_type": "code",
    "id": "MWR4h9T3J7En"
   },
   "outputs": [],
   "source": [
    "# train_processing.fit(sample_features) # UNCOMMENT for testing with previous code"
   ]
  },
  {
   "cell_type": "code",
   "execution_count": 0,
   "metadata": {
    "colab": {},
    "colab_type": "code",
    "id": "7R67G0geUZuN"
   },
   "outputs": [],
   "source": [
    "# train_processing.mean"
   ]
  },
  {
   "cell_type": "code",
   "execution_count": 25,
   "metadata": {
    "colab": {
     "base_uri": "https://localhost:8080/",
     "height": 34
    },
    "colab_type": "code",
    "executionInfo": {
     "elapsed": 68885,
     "status": "ok",
     "timestamp": 1592120837462,
     "user": {
      "displayName": "Gian Carlo Milanese",
      "photoUrl": "",
      "userId": "08352423327035271918"
     },
     "user_tz": -120
    },
    "id": "Yyk9Rg1XxOLF",
    "outputId": "6d912519-2868-4fd4-b402-70b49dae9577"
   },
   "outputs": [
    {
     "name": "stdout",
     "output_type": "stream",
     "text": [
      "Found 2247 images belonging to 7 classes.\n"
     ]
    }
   ],
   "source": [
    "train_generator = train_processing.flow_from_directory(train_dir,\n",
    "                                                       classes = classes,\n",
    "                                                       target_size=(224, 224),\n",
    "                                                       color_mode=color_mode,\n",
    "                                                       batch_size=32,\n",
    "                                                       class_mode=\"categorical\",\n",
    "                                                       shuffle=True,\n",
    "                                                       seed=1)"
   ]
  },
  {
   "cell_type": "code",
   "execution_count": 26,
   "metadata": {
    "colab": {
     "base_uri": "https://localhost:8080/",
     "height": 34
    },
    "colab_type": "code",
    "executionInfo": {
     "elapsed": 68705,
     "status": "ok",
     "timestamp": 1592120837462,
     "user": {
      "displayName": "Gian Carlo Milanese",
      "photoUrl": "",
      "userId": "08352423327035271918"
     },
     "user_tz": -120
    },
    "id": "dhZncc4uuUU5",
    "outputId": "331d139e-522c-4928-a5e0-f629fc75f8fd"
   },
   "outputs": [
    {
     "data": {
      "text/plain": [
       "['alessandro', 'alinda', 'cami', 'gian', 'khaled', 'mamma', 'papi']"
      ]
     },
     "execution_count": 26,
     "metadata": {
      "tags": []
     },
     "output_type": "execute_result"
    }
   ],
   "source": [
    "labels_to_text = [i[0] for i in train_generator.class_indices.items()]\n",
    "labels_to_text"
   ]
  },
  {
   "cell_type": "code",
   "execution_count": 27,
   "metadata": {
    "colab": {
     "base_uri": "https://localhost:8080/",
     "height": 52
    },
    "colab_type": "code",
    "executionInfo": {
     "elapsed": 68771,
     "status": "ok",
     "timestamp": 1592120837715,
     "user": {
      "displayName": "Gian Carlo Milanese",
      "photoUrl": "",
      "userId": "08352423327035271918"
     },
     "user_tz": -120
    },
    "id": "ziayXNbkxOLI",
    "outputId": "eedb8cf5-6490-4cbd-ab7e-262a4ce23458"
   },
   "outputs": [
    {
     "name": "stdout",
     "output_type": "stream",
     "text": [
      "Found 644 images belonging to 7 classes.\n",
      "Found 322 images belonging to 7 classes.\n"
     ]
    }
   ],
   "source": [
    "test_processing = kimage.ImageDataGenerator(# featurewise_center=True,\n",
    "                                            # featurewise_std_normalization=True\n",
    "                                            rescale = 1./255,\n",
    "                                            )\n",
    "# test_processing.fit(sample_features) # UNCOMMENT for testing with previous code\n",
    "\n",
    "val_generator = test_processing.flow_from_directory(val_dir,\n",
    "                                                    classes = classes,\n",
    "                                                    target_size=(224, 224),\n",
    "                                                    color_mode=color_mode,\n",
    "                                                    batch_size=32,\n",
    "                                                    class_mode=\"categorical\",\n",
    "                                                    shuffle=False,\n",
    "                                                    seed=1)\n",
    "\n",
    "test_generator = test_processing.flow_from_directory(test_dir,\n",
    "                                                     classes = classes,\n",
    "                                                     target_size=(224, 224),\n",
    "                                                     color_mode=color_mode,\n",
    "                                                     batch_size=32,\n",
    "                                                     class_mode=\"categorical\",\n",
    "                                                     shuffle=False,\n",
    "                                                     seed=1)"
   ]
  },
  {
   "cell_type": "code",
   "execution_count": 28,
   "metadata": {
    "colab": {
     "base_uri": "https://localhost:8080/",
     "height": 34
    },
    "colab_type": "code",
    "executionInfo": {
     "elapsed": 68200,
     "status": "ok",
     "timestamp": 1592120837716,
     "user": {
      "displayName": "Gian Carlo Milanese",
      "photoUrl": "",
      "userId": "08352423327035271918"
     },
     "user_tz": -120
    },
    "id": "_bhMixIbpIzK",
    "outputId": "c69fd800-5df8-453c-de70-ae28b41f0a93"
   },
   "outputs": [
    {
     "data": {
      "text/plain": [
       "7"
      ]
     },
     "execution_count": 28,
     "metadata": {
      "tags": []
     },
     "output_type": "execute_result"
    }
   ],
   "source": [
    "n_classes = (train_generator.num_classes)\n",
    "n_classes"
   ]
  },
  {
   "cell_type": "markdown",
   "metadata": {
    "colab_type": "text",
    "id": "HeOWmhBTqTN7"
   },
   "source": [
    "### See images"
   ]
  },
  {
   "cell_type": "code",
   "execution_count": 0,
   "metadata": {
    "colab": {},
    "colab_type": "code",
    "id": "oFL-ylAqp0ma"
   },
   "outputs": [],
   "source": [
    "batch = np.array(train_generator.next()[0])"
   ]
  },
  {
   "cell_type": "code",
   "execution_count": 30,
   "metadata": {
    "colab": {
     "base_uri": "https://localhost:8080/",
     "height": 34
    },
    "colab_type": "code",
    "executionInfo": {
     "elapsed": 1002,
     "status": "ok",
     "timestamp": 1592120885489,
     "user": {
      "displayName": "Gian Carlo Milanese",
      "photoUrl": "",
      "userId": "08352423327035271918"
     },
     "user_tz": -120
    },
    "id": "bobB7t_Mp6fO",
    "outputId": "d479cb5d-ce87-49d8-8010-3c88aef44afa"
   },
   "outputs": [
    {
     "data": {
      "text/plain": [
       "(32, 224, 224, 1)"
      ]
     },
     "execution_count": 30,
     "metadata": {
      "tags": []
     },
     "output_type": "execute_result"
    }
   ],
   "source": [
    "batch.shape"
   ]
  },
  {
   "cell_type": "code",
   "execution_count": 0,
   "metadata": {
    "colab": {},
    "colab_type": "code",
    "id": "7v4L6jlIKZla"
   },
   "outputs": [],
   "source": [
    "# mu = train_processing.mean # UNCOMMENT for testing with previous code\n",
    "# sigma = train_processing.std # UNCOMMENT for testing with previous code"
   ]
  },
  {
   "cell_type": "code",
   "execution_count": 32,
   "metadata": {
    "colab": {
     "base_uri": "https://localhost:8080/",
     "height": 269
    },
    "colab_type": "code",
    "executionInfo": {
     "elapsed": 1454,
     "status": "ok",
     "timestamp": 1592120886273,
     "user": {
      "displayName": "Gian Carlo Milanese",
      "photoUrl": "",
      "userId": "08352423327035271918"
     },
     "user_tz": -120
    },
    "id": "GmuuMSqopjZ8",
    "outputId": "04f28696-1117-48a7-8c29-997d94a4a26e"
   },
   "outputs": [
    {
     "data": {
      "image/png": "[encoded data removed]",
      "text/plain": [
       "<Figure size 432x288 with 1 Axes>"
      ]
     },
     "metadata": {
      "needs_background": "light",
      "tags": []
     },
     "output_type": "display_data"
    }
   ],
   "source": [
    "pic = batch[6]\n",
    "# plt.imshow(((pic*sigma + mu)/255)[:,:,0], cmap=\"gray\")\n",
    "plt.imshow(pic[:,:,0], cmap=\"gray\")\n",
    "plt.show()"
   ]
  },
  {
   "cell_type": "code",
   "execution_count": 33,
   "metadata": {
    "colab": {
     "base_uri": "https://localhost:8080/",
     "height": 34
    },
    "colab_type": "code",
    "executionInfo": {
     "elapsed": 1309,
     "status": "ok",
     "timestamp": 1592120886275,
     "user": {
      "displayName": "Gian Carlo Milanese",
      "photoUrl": "",
      "userId": "08352423327035271918"
     },
     "user_tz": -120
    },
    "id": "N7Ssxp682PrG",
    "outputId": "e9c3a697-a362-4398-d49e-494583f464df"
   },
   "outputs": [
    {
     "data": {
      "text/plain": [
       "(224, 224, 1)"
      ]
     },
     "execution_count": 33,
     "metadata": {
      "tags": []
     },
     "output_type": "execute_result"
    }
   ],
   "source": [
    "input_shape = pic.shape\n",
    "input_shape"
   ]
  },
  {
   "cell_type": "markdown",
   "metadata": {
    "colab_type": "text",
    "id": "nAPxf-1v1VA9"
   },
   "source": [
    "# Net"
   ]
  },
  {
   "cell_type": "code",
   "execution_count": 0,
   "metadata": {
    "colab": {},
    "colab_type": "code",
    "id": "NZyub47jK-rr"
   },
   "outputs": [],
   "source": [
    "from keras.models import Sequential\n",
    "from keras.layers import Dense, Conv2D, Flatten\n",
    "#create model\n",
    "net = Sequential()\n",
    "#add model layers\n",
    "net.add(Conv2D(64, kernel_size=3, activation='relu', input_shape=input_shape))\n",
    "net.add(Conv2D(32, kernel_size=3, activation='relu'))\n",
    "net.add(Flatten())\n",
    "net.add(Dense(n_classes, activation='softmax'))"
   ]
  },
  {
   "cell_type": "code",
   "execution_count": 0,
   "metadata": {
    "colab": {},
    "colab_type": "code",
    "id": "zhJ_3JB0xOLS"
   },
   "outputs": [],
   "source": [
    "net.compile(loss=keras.losses.categorical_crossentropy,\n",
    "            optimizer=keras.optimizers.RMSprop(),\n",
    "            metrics=[\"accuracy\"])"
   ]
  },
  {
   "cell_type": "code",
   "execution_count": 0,
   "metadata": {
    "colab": {},
    "colab_type": "code",
    "id": "FHg6AreRvEOP"
   },
   "outputs": [],
   "source": [
    "callback = keras.callbacks.EarlyStopping(monitor='val_loss',\n",
    "                                         restore_best_weights=True, patience=5)"
   ]
  },
  {
   "cell_type": "code",
   "execution_count": 37,
   "metadata": {
    "colab": {
     "base_uri": "https://localhost:8080/",
     "height": 593
    },
    "colab_type": "code",
    "executionInfo": {
     "elapsed": 133639,
     "status": "ok",
     "timestamp": 1592121019987,
     "user": {
      "displayName": "Gian Carlo Milanese",
      "photoUrl": "",
      "userId": "08352423327035271918"
     },
     "user_tz": -120
    },
    "id": "C9VshMWqvRnQ",
    "outputId": "806a1e7e-8eb6-409a-f1e6-a993277b9890"
   },
   "outputs": [
    {
     "name": "stdout",
     "output_type": "stream",
     "text": [
      "Epoch 1/50\n",
      "70/70 [==============================] - 12s 170ms/step - loss: 3.0122 - accuracy: 0.6361 - val_loss: 0.0219 - val_accuracy: 0.8835\n",
      "Epoch 2/50\n",
      "70/70 [==============================] - 8s 116ms/step - loss: 0.3292 - accuracy: 0.9129 - val_loss: 0.0141 - val_accuracy: 0.9550\n",
      "Epoch 3/50\n",
      "70/70 [==============================] - 8s 113ms/step - loss: 0.1983 - accuracy: 0.9531 - val_loss: 0.0166 - val_accuracy: 0.9783\n",
      "Epoch 4/50\n",
      "70/70 [==============================] - 8s 116ms/step - loss: 0.2276 - accuracy: 0.9699 - val_loss: 0.0162 - val_accuracy: 0.7376\n",
      "Epoch 5/50\n",
      "70/70 [==============================] - 8s 113ms/step - loss: 0.3067 - accuracy: 0.9670 - val_loss: 2.0564e-06 - val_accuracy: 0.9876\n",
      "Epoch 6/50\n",
      "70/70 [==============================] - 8s 116ms/step - loss: 0.0630 - accuracy: 0.9896 - val_loss: 1.9495e-04 - val_accuracy: 0.9907\n",
      "Epoch 7/50\n",
      "70/70 [==============================] - 8s 114ms/step - loss: 0.0637 - accuracy: 0.9865 - val_loss: 2.4884e-05 - val_accuracy: 0.9876\n",
      "Epoch 8/50\n",
      "70/70 [==============================] - 8s 116ms/step - loss: 0.0296 - accuracy: 0.9941 - val_loss: 7.8576e-05 - val_accuracy: 0.9953\n",
      "Epoch 9/50\n",
      "70/70 [==============================] - 8s 116ms/step - loss: 0.1676 - accuracy: 0.9887 - val_loss: 7.7486e-07 - val_accuracy: 0.9938\n",
      "Epoch 10/50\n",
      "70/70 [==============================] - 8s 112ms/step - loss: 0.0130 - accuracy: 0.9959 - val_loss: 0.0026 - val_accuracy: 0.9953\n",
      "Epoch 11/50\n",
      "70/70 [==============================] - 8s 115ms/step - loss: 0.0661 - accuracy: 0.9933 - val_loss: 2.9802e-08 - val_accuracy: 0.9907\n",
      "Epoch 12/50\n",
      "70/70 [==============================] - 8s 114ms/step - loss: 0.0562 - accuracy: 0.9913 - val_loss: 8.3446e-07 - val_accuracy: 0.9907\n",
      "Epoch 13/50\n",
      "70/70 [==============================] - 8s 113ms/step - loss: 0.0755 - accuracy: 0.9874 - val_loss: 1.1921e-07 - val_accuracy: 0.9845\n",
      "Epoch 14/50\n",
      "70/70 [==============================] - 8s 116ms/step - loss: 0.2038 - accuracy: 0.9874 - val_loss: 5.9605e-08 - val_accuracy: 0.9767\n",
      "Epoch 15/50\n",
      "70/70 [==============================] - 8s 115ms/step - loss: 0.0704 - accuracy: 0.9929 - val_loss: 2.9802e-08 - val_accuracy: 0.9922\n",
      "Epoch 16/50\n",
      "70/70 [==============================] - 8s 113ms/step - loss: 7.8370e-05 - accuracy: 1.0000 - val_loss: 8.9407e-08 - val_accuracy: 0.9938\n"
     ]
    }
   ],
   "source": [
    "history = net.fit_generator(train_generator,\n",
    "                  verbose=1,\n",
    "                  epochs=50,\n",
    "                  steps_per_epoch=train_generator.n//train_generator.batch_size,\n",
    "                  callbacks=[callback],\n",
    "                  validation_data=val_generator)"
   ]
  },
  {
   "cell_type": "markdown",
   "metadata": {
    "colab_type": "text",
    "id": "S78x--bf1ZpJ"
   },
   "source": [
    "# Save Model"
   ]
  },
  {
   "cell_type": "code",
   "execution_count": 0,
   "metadata": {
    "colab": {},
    "colab_type": "code",
    "id": "5P_yH8jSloZv"
   },
   "outputs": [],
   "source": [
    "import os"
   ]
  },
  {
   "cell_type": "code",
   "execution_count": 0,
   "metadata": {
    "colab": {},
    "colab_type": "code",
    "id": "bmdWR91XljVg"
   },
   "outputs": [],
   "source": [
    "latest_model_number = max([int(e.split(\"_\")[0]) for e in os.listdir(\"/content/drive/My Drive/2D/models/\")])"
   ]
  },
  {
   "cell_type": "code",
   "execution_count": 0,
   "metadata": {
    "colab": {},
    "colab_type": "code",
    "id": "Zo-GycrJlzc5"
   },
   "outputs": [],
   "source": [
    "model_name = latest_model_number + 1"
   ]
  },
  {
   "cell_type": "code",
   "execution_count": 41,
   "metadata": {
    "colab": {
     "base_uri": "https://localhost:8080/",
     "height": 52
    },
    "colab_type": "code",
    "executionInfo": {
     "elapsed": 992,
     "status": "ok",
     "timestamp": 1592121080977,
     "user": {
      "displayName": "Gian Carlo Milanese",
      "photoUrl": "",
      "userId": "08352423327035271918"
     },
     "user_tz": -120
    },
    "id": "y1-3gO7QCWPF",
    "outputId": "46ad76f5-bffc-4ba2-9281-7575648c43d5"
   },
   "outputs": [
    {
     "data": {
      "text/plain": [
       "('/content/drive/My Drive/2D/models/24_model.h5',\n",
       " '/content/drive/My Drive/2D/models/24_model.json')"
      ]
     },
     "execution_count": 41,
     "metadata": {
      "tags": []
     },
     "output_type": "execute_result"
    }
   ],
   "source": [
    "model_filename = f\"/content/drive/My Drive/2D/models/{model_name}_model.h5\"\n",
    "json_filename = f\"/content/drive/My Drive/2D/models/{model_name}_model.json\"\n",
    "model_filename, json_filename"
   ]
  },
  {
   "cell_type": "code",
   "execution_count": 0,
   "metadata": {
    "colab": {},
    "colab_type": "code",
    "id": "-XEciD1nQyM0"
   },
   "outputs": [],
   "source": [
    "# mu = list(train_processing.mean[0][0])\n",
    "# std = list(train_processing.std[0][0])"
   ]
  },
  {
   "cell_type": "code",
   "execution_count": 43,
   "metadata": {
    "colab": {
     "base_uri": "https://localhost:8080/",
     "height": 225
    },
    "colab_type": "code",
    "executionInfo": {
     "elapsed": 854,
     "status": "ok",
     "timestamp": 1592121091047,
     "user": {
      "displayName": "Gian Carlo Milanese",
      "photoUrl": "",
      "userId": "08352423327035271918"
     },
     "user_tz": -120
    },
    "id": "3pSS8NLcP_YD",
    "outputId": "70ba0257-c62c-42dd-bd9b-feef11190216"
   },
   "outputs": [
    {
     "data": {
      "text/plain": [
       "{'class_indices': ['alessandro',\n",
       "  'alinda',\n",
       "  'cami',\n",
       "  'gian',\n",
       "  'khaled',\n",
       "  'mamma',\n",
       "  'papi'],\n",
       " 'description': 'Base model, new preprocessing steps order, new_width = 100',\n",
       " 'featurewise_center': False,\n",
       " 'featurewise_std': False,\n",
       " 'mask': True,\n",
       " 'model_n': 24}"
      ]
     },
     "execution_count": 43,
     "metadata": {
      "tags": []
     },
     "output_type": "execute_result"
    }
   ],
   "source": [
    "d = {}\n",
    "# d[\"mean\"] = [str(i) for i in mu]\n",
    "# d[\"std\"] = [str(i) for i in std]\n",
    "d[\"mask\"] = True\n",
    "d[\"model_n\"] = model_name\n",
    "d[\"featurewise_center\"] = False\n",
    "d[\"featurewise_std\"] = False\n",
    "d[\"class_indices\"] = [i[0] for i in train_generator.class_indices.items()]\n",
    "d[\"description\"] = \"Base model, new preprocessing steps order, new_width = 100\"\n",
    "d"
   ]
  },
  {
   "cell_type": "code",
   "execution_count": 0,
   "metadata": {
    "colab": {},
    "colab_type": "code",
    "id": "XwoFAGRXQo5R"
   },
   "outputs": [],
   "source": [
    "import json"
   ]
  },
  {
   "cell_type": "code",
   "execution_count": 0,
   "metadata": {
    "colab": {},
    "colab_type": "code",
    "id": "o09uuY1XQho4"
   },
   "outputs": [],
   "source": [
    "with open(json_filename, \"w\") as jsonf:\n",
    "    json.dump(d, jsonf)"
   ]
  },
  {
   "cell_type": "code",
   "execution_count": 0,
   "metadata": {
    "colab": {},
    "colab_type": "code",
    "id": "IeUsYbyDchgq"
   },
   "outputs": [],
   "source": [
    "net.save(model_filename)"
   ]
  },
  {
   "cell_type": "markdown",
   "metadata": {
    "colab_type": "text",
    "id": "ZVys6EHXtq1R"
   },
   "source": [
    "### Evaluation\n"
   ]
  },
  {
   "cell_type": "code",
   "execution_count": 0,
   "metadata": {
    "colab": {},
    "colab_type": "code",
    "id": "gK55TwAPq8VM"
   },
   "outputs": [],
   "source": [
    "import numpy as np\n",
    "from sklearn.metrics import confusion_matrix as cm\n",
    "from sklearn.metrics import classification_report"
   ]
  },
  {
   "cell_type": "code",
   "execution_count": 48,
   "metadata": {
    "colab": {
     "base_uri": "https://localhost:8080/",
     "height": 34
    },
    "colab_type": "code",
    "executionInfo": {
     "elapsed": 7474,
     "status": "ok",
     "timestamp": 1592121114851,
     "user": {
      "displayName": "Gian Carlo Milanese",
      "photoUrl": "",
      "userId": "08352423327035271918"
     },
     "user_tz": -120
    },
    "id": "lJVvGYXTtfkv",
    "outputId": "ce7723cd-fb8e-48c7-ef4e-bed9142e1cb4"
   },
   "outputs": [
    {
     "data": {
      "text/plain": [
       "[2.0587662220350467e-05, 0.9991099238395691]"
      ]
     },
     "execution_count": 48,
     "metadata": {
      "tags": []
     },
     "output_type": "execute_result"
    }
   ],
   "source": [
    "net.evaluate_generator(train_generator)"
   ]
  },
  {
   "cell_type": "code",
   "execution_count": 49,
   "metadata": {
    "colab": {
     "base_uri": "https://localhost:8080/",
     "height": 34
    },
    "colab_type": "code",
    "executionInfo": {
     "elapsed": 8303,
     "status": "ok",
     "timestamp": 1592121115930,
     "user": {
      "displayName": "Gian Carlo Milanese",
      "photoUrl": "",
      "userId": "08352423327035271918"
     },
     "user_tz": -120
    },
    "id": "HFr6eq-b0I-x",
    "outputId": "595dbe2d-affb-492e-8d47-2c8a40cb0214"
   },
   "outputs": [
    {
     "data": {
      "text/plain": [
       "[2.9802320611338473e-08, 0.9906832575798035]"
      ]
     },
     "execution_count": 49,
     "metadata": {
      "tags": []
     },
     "output_type": "execute_result"
    }
   ],
   "source": [
    "net.evaluate_generator(val_generator)"
   ]
  },
  {
   "cell_type": "code",
   "execution_count": 0,
   "metadata": {
    "colab": {},
    "colab_type": "code",
    "id": "AniT78eS0RfX"
   },
   "outputs": [],
   "source": [
    "net.evaluate_generator(test_generator)"
   ]
  },
  {
   "cell_type": "code",
   "execution_count": 0,
   "metadata": {
    "colab": {},
    "colab_type": "code",
    "id": "C0HkuV4D6S4n"
   },
   "outputs": [],
   "source": [
    "def classification_report_generator(generator):\n",
    "  # should not be applied to generators with shuffle = True\n",
    "  preds = net.predict_generator(generator)\n",
    "  preds = np.argmax(preds, axis=1)\n",
    "  real = generator.classes\n",
    "  ind_dict = generator.class_indices\n",
    "  num_to_label = [i[0] for i in ind_dict.items()]\n",
    "  cmat = cm(real, preds)\n",
    "  cr = classification_report(real, preds, target_names=num_to_label)\n",
    "  return cmat, cr"
   ]
  },
  {
   "cell_type": "code",
   "execution_count": 51,
   "metadata": {
    "colab": {
     "base_uri": "https://localhost:8080/",
     "height": 260
    },
    "colab_type": "code",
    "executionInfo": {
     "elapsed": 8242,
     "status": "ok",
     "timestamp": 1592121117378,
     "user": {
      "displayName": "Gian Carlo Milanese",
      "photoUrl": "",
      "userId": "08352423327035271918"
     },
     "user_tz": -120
    },
    "id": "WDcOeA7D5qh6",
    "outputId": "56bfa70a-e4fb-412f-c812-6793d89fe341"
   },
   "outputs": [
    {
     "name": "stdout",
     "output_type": "stream",
     "text": [
      "              precision    recall  f1-score   support\n",
      "\n",
      "  alessandro       0.99      1.00      0.99        92\n",
      "      alinda       1.00      1.00      1.00        92\n",
      "        cami       1.00      0.99      0.99        92\n",
      "        gian       1.00      0.98      0.99        92\n",
      "      khaled       0.97      0.98      0.97        92\n",
      "       mamma       1.00      1.00      1.00        92\n",
      "        papi       0.98      0.99      0.98        92\n",
      "\n",
      "    accuracy                           0.99       644\n",
      "   macro avg       0.99      0.99      0.99       644\n",
      "weighted avg       0.99      0.99      0.99       644\n",
      "\n"
     ]
    }
   ],
   "source": [
    "cm_val, cr_val = classification_report_generator(val_generator)\n",
    "print(cr_val)"
   ]
  },
  {
   "cell_type": "code",
   "execution_count": 52,
   "metadata": {
    "colab": {
     "base_uri": "https://localhost:8080/",
     "height": 260
    },
    "colab_type": "code",
    "executionInfo": {
     "elapsed": 4279,
     "status": "ok",
     "timestamp": 1592121118278,
     "user": {
      "displayName": "Gian Carlo Milanese",
      "photoUrl": "",
      "userId": "08352423327035271918"
     },
     "user_tz": -120
    },
    "id": "BVpp1g_DyMCw",
    "outputId": "7fa48424-226b-4fcd-9d61-c68e4bf0c5b1"
   },
   "outputs": [
    {
     "name": "stdout",
     "output_type": "stream",
     "text": [
      "              precision    recall  f1-score   support\n",
      "\n",
      "  alessandro       0.94      1.00      0.97        46\n",
      "      alinda       0.98      1.00      0.99        46\n",
      "        cami       1.00      0.93      0.97        46\n",
      "        gian       1.00      1.00      1.00        46\n",
      "      khaled       1.00      0.98      0.99        46\n",
      "       mamma       0.98      1.00      0.99        46\n",
      "        papi       1.00      0.98      0.99        46\n",
      "\n",
      "    accuracy                           0.98       322\n",
      "   macro avg       0.99      0.98      0.98       322\n",
      "weighted avg       0.99      0.98      0.98       322\n",
      "\n"
     ]
    }
   ],
   "source": [
    "cm_val, cr_val = classification_report_generator(test_generator)\n",
    "print(cr_val)"
   ]
  },
  {
   "cell_type": "markdown",
   "metadata": {
    "colab_type": "text",
    "id": "U1plmgZTzbnl"
   },
   "source": [
    "# Alternative model\n",
    "For reducing a bit the dimensionality inside the network I will add a MaxPooling layer before the dense one, let's see the performances:"
   ]
  },
  {
   "cell_type": "code",
   "execution_count": 0,
   "metadata": {
    "colab": {},
    "colab_type": "code",
    "id": "w9Vx3AmazbNi"
   },
   "outputs": [],
   "source": [
    "from keras.layers import MaxPooling2D\n",
    "#create model\n",
    "net = Sequential()\n",
    "#add model layers\n",
    "net.add(Conv2D(64, kernel_size=3, activation='relu', input_shape=input_shape))\n",
    "net.add(Conv2D(32, kernel_size=3, activation='relu'))\n",
    "net.add(MaxPooling2D(pool_size=(4, 4), strides=(2, 2)))\n",
    "net.add(Flatten())\n",
    "net.add(Dense(n_classes, activation='softmax'))"
   ]
  },
  {
   "cell_type": "code",
   "execution_count": 54,
   "metadata": {
    "colab": {
     "base_uri": "https://localhost:8080/",
     "height": 347
    },
    "colab_type": "code",
    "executionInfo": {
     "elapsed": 593,
     "status": "ok",
     "timestamp": 1592121123839,
     "user": {
      "displayName": "Gian Carlo Milanese",
      "photoUrl": "",
      "userId": "08352423327035271918"
     },
     "user_tz": -120
    },
    "id": "QQr4Qkf-za9w",
    "outputId": "e3a3f10d-747e-4966-8b0f-fe4f3e20c07f"
   },
   "outputs": [
    {
     "name": "stdout",
     "output_type": "stream",
     "text": [
      "Model: \"sequential_2\"\n",
      "_________________________________________________________________\n",
      "Layer (type)                 Output Shape              Param #   \n",
      "=================================================================\n",
      "conv2d_3 (Conv2D)            (None, 222, 222, 64)      640       \n",
      "_________________________________________________________________\n",
      "conv2d_4 (Conv2D)            (None, 220, 220, 32)      18464     \n",
      "_________________________________________________________________\n",
      "max_pooling2d_1 (MaxPooling2 (None, 109, 109, 32)      0         \n",
      "_________________________________________________________________\n",
      "flatten_2 (Flatten)          (None, 380192)            0         \n",
      "_________________________________________________________________\n",
      "dense_2 (Dense)              (None, 7)                 2661351   \n",
      "=================================================================\n",
      "Total params: 2,680,455\n",
      "Trainable params: 2,680,455\n",
      "Non-trainable params: 0\n",
      "_________________________________________________________________\n",
      "None\n"
     ]
    }
   ],
   "source": [
    "print(net.summary())"
   ]
  },
  {
   "cell_type": "code",
   "execution_count": 0,
   "metadata": {
    "colab": {},
    "colab_type": "code",
    "id": "k-XcIl4w0PBR"
   },
   "outputs": [],
   "source": [
    "net.compile(loss=keras.losses.categorical_crossentropy,\n",
    "            optimizer=keras.optimizers.RMSprop(),\n",
    "            metrics=[\"accuracy\"])"
   ]
  },
  {
   "cell_type": "code",
   "execution_count": 56,
   "metadata": {
    "colab": {
     "base_uri": "https://localhost:8080/",
     "height": 489
    },
    "colab_type": "code",
    "executionInfo": {
     "elapsed": 106125,
     "status": "ok",
     "timestamp": 1592121232672,
     "user": {
      "displayName": "Gian Carlo Milanese",
      "photoUrl": "",
      "userId": "08352423327035271918"
     },
     "user_tz": -120
    },
    "id": "KezDnEak0O-O",
    "outputId": "6333e006-611e-4f61-e87a-46f55d25a6e8"
   },
   "outputs": [
    {
     "name": "stdout",
     "output_type": "stream",
     "text": [
      "Epoch 1/50\n",
      "70/70 [==============================] - 8s 117ms/step - loss: 1.7905 - accuracy: 0.6284 - val_loss: 0.7942 - val_accuracy: 0.8820\n",
      "Epoch 2/50\n",
      "70/70 [==============================] - 8s 119ms/step - loss: 0.2761 - accuracy: 0.9300 - val_loss: 6.2366e-04 - val_accuracy: 0.9457\n",
      "Epoch 3/50\n",
      "70/70 [==============================] - 8s 114ms/step - loss: 0.1105 - accuracy: 0.9716 - val_loss: 9.7170e-05 - val_accuracy: 0.9829\n",
      "Epoch 4/50\n",
      "70/70 [==============================] - 8s 115ms/step - loss: 0.0525 - accuracy: 0.9856 - val_loss: 1.8511e-04 - val_accuracy: 0.9891\n",
      "Epoch 5/50\n",
      "70/70 [==============================] - 8s 116ms/step - loss: 0.0664 - accuracy: 0.9824 - val_loss: 4.5895e-06 - val_accuracy: 0.9922\n",
      "Epoch 6/50\n",
      "70/70 [==============================] - 8s 113ms/step - loss: 0.0780 - accuracy: 0.9865 - val_loss: 1.1623e-06 - val_accuracy: 0.9953\n",
      "Epoch 7/50\n",
      "70/70 [==============================] - 8s 117ms/step - loss: 0.0366 - accuracy: 0.9878 - val_loss: 1.1921e-07 - val_accuracy: 0.9922\n",
      "Epoch 8/50\n",
      "70/70 [==============================] - 8s 116ms/step - loss: 0.0250 - accuracy: 0.9932 - val_loss: 0.0000e+00 - val_accuracy: 0.9953\n",
      "Epoch 9/50\n",
      "70/70 [==============================] - 8s 115ms/step - loss: 0.0242 - accuracy: 0.9924 - val_loss: 6.8843e-06 - val_accuracy: 0.9953\n",
      "Epoch 10/50\n",
      "70/70 [==============================] - 8s 112ms/step - loss: 0.0356 - accuracy: 0.9945 - val_loss: 2.9802e-08 - val_accuracy: 0.9969\n",
      "Epoch 11/50\n",
      "70/70 [==============================] - 8s 113ms/step - loss: 0.0353 - accuracy: 0.9923 - val_loss: 1.7315e-05 - val_accuracy: 0.9938\n",
      "Epoch 12/50\n",
      "70/70 [==============================] - 8s 114ms/step - loss: 0.0146 - accuracy: 0.9950 - val_loss: 0.0000e+00 - val_accuracy: 0.9938\n",
      "Epoch 13/50\n",
      "70/70 [==============================] - 8s 116ms/step - loss: 0.0057 - accuracy: 0.9987 - val_loss: 0.0000e+00 - val_accuracy: 0.9953\n"
     ]
    }
   ],
   "source": [
    "history = net.fit_generator(train_generator,\n",
    "                  verbose=1,\n",
    "                  epochs=50,\n",
    "                  steps_per_epoch=train_generator.n//train_generator.batch_size,\n",
    "                  callbacks=[callback],\n",
    "                  validation_data=val_generator)"
   ]
  },
  {
   "cell_type": "code",
   "execution_count": 57,
   "metadata": {
    "colab": {
     "base_uri": "https://localhost:8080/",
     "height": 34
    },
    "colab_type": "code",
    "executionInfo": {
     "elapsed": 109712,
     "status": "ok",
     "timestamp": 1592121238648,
     "user": {
      "displayName": "Gian Carlo Milanese",
      "photoUrl": "",
      "userId": "08352423327035271918"
     },
     "user_tz": -120
    },
    "id": "RI8oBUTR0O79",
    "outputId": "839f61ad-f2dd-497c-8bc4-35204dd41006"
   },
   "outputs": [
    {
     "data": {
      "text/plain": [
       "[1.4900429050612729e-05, 0.9991099238395691]"
      ]
     },
     "execution_count": 57,
     "metadata": {
      "tags": []
     },
     "output_type": "execute_result"
    }
   ],
   "source": [
    "net.evaluate_generator(train_generator)"
   ]
  },
  {
   "cell_type": "code",
   "execution_count": 58,
   "metadata": {
    "colab": {
     "base_uri": "https://localhost:8080/",
     "height": 34
    },
    "colab_type": "code",
    "executionInfo": {
     "elapsed": 108984,
     "status": "ok",
     "timestamp": 1592121240280,
     "user": {
      "displayName": "Gian Carlo Milanese",
      "photoUrl": "",
      "userId": "08352423327035271918"
     },
     "user_tz": -120
    },
    "id": "SgCXwizX0O4p",
    "outputId": "c38bfcb6-8751-4f85-ea25-236f36eae752"
   },
   "outputs": [
    {
     "data": {
      "text/plain": [
       "[0.0, 0.9953415989875793]"
      ]
     },
     "execution_count": 58,
     "metadata": {
      "tags": []
     },
     "output_type": "execute_result"
    }
   ],
   "source": [
    "net.evaluate_generator(val_generator)"
   ]
  },
  {
   "cell_type": "code",
   "execution_count": 59,
   "metadata": {
    "colab": {
     "base_uri": "https://localhost:8080/",
     "height": 34
    },
    "colab_type": "code",
    "executionInfo": {
     "elapsed": 1763,
     "status": "ok",
     "timestamp": 1592121242054,
     "user": {
      "displayName": "Gian Carlo Milanese",
      "photoUrl": "",
      "userId": "08352423327035271918"
     },
     "user_tz": -120
    },
    "id": "AggBKQPq0NMP",
    "outputId": "58f01ad6-78af-4225-9551-86b585e1c6ba"
   },
   "outputs": [
    {
     "data": {
      "text/plain": [
       "[0.0, 0.9906832575798035]"
      ]
     },
     "execution_count": 59,
     "metadata": {
      "tags": []
     },
     "output_type": "execute_result"
    }
   ],
   "source": [
    "net.evaluate_generator(test_generator)"
   ]
  },
  {
   "cell_type": "code",
   "execution_count": 60,
   "metadata": {
    "colab": {
     "base_uri": "https://localhost:8080/",
     "height": 260
    },
    "colab_type": "code",
    "executionInfo": {
     "elapsed": 3750,
     "status": "ok",
     "timestamp": 1592121244060,
     "user": {
      "displayName": "Gian Carlo Milanese",
      "photoUrl": "",
      "userId": "08352423327035271918"
     },
     "user_tz": -120
    },
    "id": "jV4ZFFMH6cbH",
    "outputId": "e3619f5d-357d-4b0a-f797-9b15a34e3ed2"
   },
   "outputs": [
    {
     "name": "stdout",
     "output_type": "stream",
     "text": [
      "              precision    recall  f1-score   support\n",
      "\n",
      "  alessandro       1.00      1.00      1.00        92\n",
      "      alinda       1.00      1.00      1.00        92\n",
      "        cami       1.00      1.00      1.00        92\n",
      "        gian       1.00      1.00      1.00        92\n",
      "      khaled       0.99      0.98      0.98        92\n",
      "       mamma       0.99      0.99      0.99        92\n",
      "        papi       0.99      1.00      0.99        92\n",
      "\n",
      "    accuracy                           1.00       644\n",
      "   macro avg       1.00      1.00      1.00       644\n",
      "weighted avg       1.00      1.00      1.00       644\n",
      "\n"
     ]
    }
   ],
   "source": [
    "cm_val, cr_val = classification_report_generator(val_generator)\n",
    "print(cr_val)"
   ]
  },
  {
   "cell_type": "code",
   "execution_count": 61,
   "metadata": {
    "colab": {
     "base_uri": "https://localhost:8080/",
     "height": 260
    },
    "colab_type": "code",
    "executionInfo": {
     "elapsed": 4123,
     "status": "ok",
     "timestamp": 1592121244448,
     "user": {
      "displayName": "Gian Carlo Milanese",
      "photoUrl": "",
      "userId": "08352423327035271918"
     },
     "user_tz": -120
    },
    "id": "upS-p8Y5yQuD",
    "outputId": "adb63e8f-669b-4f87-c323-37d648077b9a"
   },
   "outputs": [
    {
     "name": "stdout",
     "output_type": "stream",
     "text": [
      "              precision    recall  f1-score   support\n",
      "\n",
      "  alessandro       1.00      1.00      1.00        46\n",
      "      alinda       0.98      0.98      0.98        46\n",
      "        cami       1.00      1.00      1.00        46\n",
      "        gian       1.00      1.00      1.00        46\n",
      "      khaled       0.98      0.98      0.98        46\n",
      "       mamma       0.98      1.00      0.99        46\n",
      "        papi       1.00      0.98      0.99        46\n",
      "\n",
      "    accuracy                           0.99       322\n",
      "   macro avg       0.99      0.99      0.99       322\n",
      "weighted avg       0.99      0.99      0.99       322\n",
      "\n"
     ]
    }
   ],
   "source": [
    "cm_val, cr_val = classification_report_generator(test_generator)\n",
    "print(cr_val)"
   ]
  },
  {
   "cell_type": "markdown",
   "metadata": {
    "colab_type": "text",
    "id": "OqXLVDoQ09KX"
   },
   "source": [
    "Training is faster and performance is slightly better."
   ]
  },
  {
   "cell_type": "code",
   "execution_count": 0,
   "metadata": {
    "colab": {},
    "colab_type": "code",
    "id": "k0xedtfM7ONo"
   },
   "outputs": [],
   "source": [
    "latest_model_number = max([int(e.split(\"_\")[0]) for e in os.listdir(\"/content/drive/My Drive/2D/models/\")])\n",
    "model_name = latest_model_number + 1\n",
    "model_filename = f\"/content/drive/My Drive/2D/models/{model_name}_maxpool_model.h5\"\n",
    "json_filename = f\"/content/drive/My Drive/2D/models/{model_name}_maxpool_model.json\""
   ]
  },
  {
   "cell_type": "code",
   "execution_count": 63,
   "metadata": {
    "colab": {
     "base_uri": "https://localhost:8080/",
     "height": 52
    },
    "colab_type": "code",
    "executionInfo": {
     "elapsed": 997,
     "status": "ok",
     "timestamp": 1592121324533,
     "user": {
      "displayName": "Gian Carlo Milanese",
      "photoUrl": "",
      "userId": "08352423327035271918"
     },
     "user_tz": -120
    },
    "id": "Ra-W3knO011o",
    "outputId": "e3385a63-b5d1-4a35-b8ac-693a3e4b6fc1"
   },
   "outputs": [
    {
     "data": {
      "text/plain": [
       "('/content/drive/My Drive/2D/models/25_maxpool_model.h5',\n",
       " '/content/drive/My Drive/2D/models/25_maxpool_model.json')"
      ]
     },
     "execution_count": 63,
     "metadata": {
      "tags": []
     },
     "output_type": "execute_result"
    }
   ],
   "source": [
    "model_filename, json_filename"
   ]
  },
  {
   "cell_type": "code",
   "execution_count": 64,
   "metadata": {
    "colab": {
     "base_uri": "https://localhost:8080/",
     "height": 225
    },
    "colab_type": "code",
    "executionInfo": {
     "elapsed": 1010,
     "status": "ok",
     "timestamp": 1592121333138,
     "user": {
      "displayName": "Gian Carlo Milanese",
      "photoUrl": "",
      "userId": "08352423327035271918"
     },
     "user_tz": -120
    },
    "id": "ndbDoDTF0w8n",
    "outputId": "cc053a10-6321-4647-ddfe-1e85c3c13e8b"
   },
   "outputs": [
    {
     "data": {
      "text/plain": [
       "{'class_indices': ['alessandro',\n",
       "  'alinda',\n",
       "  'cami',\n",
       "  'gian',\n",
       "  'khaled',\n",
       "  'mamma',\n",
       "  'papi'],\n",
       " 'description': 'Base model + maxpool, new preprocessing order, new_width=100',\n",
       " 'featurewise_center': False,\n",
       " 'featurewise_std': False,\n",
       " 'mask': True,\n",
       " 'model_n': 25}"
      ]
     },
     "execution_count": 64,
     "metadata": {
      "tags": []
     },
     "output_type": "execute_result"
    }
   ],
   "source": [
    "d = {}\n",
    "# d[\"mean\"] = [str(i) for i in mu]\n",
    "# d[\"std\"] = [str(i) for i in std]\n",
    "d[\"mask\"] = True\n",
    "d[\"model_n\"] = model_name\n",
    "d[\"featurewise_center\"] = False\n",
    "d[\"featurewise_std\"] = False\n",
    "d[\"class_indices\"] = [i[0] for i in train_generator.class_indices.items()]\n",
    "d[\"description\"] = \"Base model + maxpool, new preprocessing order, new_width=100\"\n",
    "d"
   ]
  },
  {
   "cell_type": "code",
   "execution_count": 0,
   "metadata": {
    "colab": {},
    "colab_type": "code",
    "id": "fxfrutqD0zLM"
   },
   "outputs": [],
   "source": [
    "with open(json_filename, \"w\") as jsonf:\n",
    "    json.dump(d, jsonf)\n",
    "net.save(model_filename)"
   ]
  },
  {
   "cell_type": "code",
   "execution_count": 0,
   "metadata": {
    "colab": {},
    "colab_type": "code",
    "id": "0nxOCiMF73nb"
   },
   "outputs": [],
   "source": [
    "copy_of_history = history"
   ]
  },
  {
   "cell_type": "markdown",
   "metadata": {
    "colab_type": "text",
    "id": "rX8N8wTH7wz2"
   },
   "source": [
    "Another thing we can try is to double the steps per epoch parameter, so that more horizontal flips and brightness changes are performed"
   ]
  },
  {
   "cell_type": "code",
   "execution_count": 0,
   "metadata": {
    "colab": {},
    "colab_type": "code",
    "id": "0dKnPKVY1tvG"
   },
   "outputs": [],
   "source": [
    "#create model\n",
    "net = Sequential()\n",
    "#add model layers\n",
    "net.add(Conv2D(64, kernel_size=3, activation='relu', input_shape=input_shape))\n",
    "net.add(Conv2D(32, kernel_size=3, activation='relu'))\n",
    "net.add(MaxPooling2D(pool_size=(4, 4), strides=(2, 2)))\n",
    "net.add(Flatten())\n",
    "net.add(Dense(n_classes, activation='softmax'))\n",
    "net.compile(loss=keras.losses.categorical_crossentropy,\n",
    "            optimizer=keras.optimizers.RMSprop(),\n",
    "            metrics=[\"accuracy\"])"
   ]
  },
  {
   "cell_type": "code",
   "execution_count": 68,
   "metadata": {
    "colab": {
     "base_uri": "https://localhost:8080/",
     "height": 419
    },
    "colab_type": "code",
    "executionInfo": {
     "elapsed": 84905,
     "status": "ok",
     "timestamp": 1592121558966,
     "user": {
      "displayName": "Gian Carlo Milanese",
      "photoUrl": "",
      "userId": "08352423327035271918"
     },
     "user_tz": -120
    },
    "id": "I8-RzIRr1teb",
    "outputId": "a54c07c4-acd7-462b-de60-7989301d7e74"
   },
   "outputs": [
    {
     "name": "stdout",
     "output_type": "stream",
     "text": [
      "Epoch 1/50\n",
      "140/140 [==============================] - 14s 102ms/step - loss: 0.8475 - accuracy: 0.7957 - val_loss: 0.0186 - val_accuracy: 0.9845\n",
      "Epoch 2/50\n",
      "140/140 [==============================] - 14s 102ms/step - loss: 0.1204 - accuracy: 0.9758 - val_loss: 0.0020 - val_accuracy: 0.9907\n",
      "Epoch 3/50\n",
      "140/140 [==============================] - 14s 102ms/step - loss: 0.0235 - accuracy: 0.9935 - val_loss: 1.0431e-06 - val_accuracy: 0.9845\n",
      "Epoch 4/50\n",
      "140/140 [==============================] - 14s 103ms/step - loss: 0.0353 - accuracy: 0.9914 - val_loss: 1.4901e-07 - val_accuracy: 0.9907\n",
      "Epoch 5/50\n",
      "140/140 [==============================] - 14s 102ms/step - loss: 0.0229 - accuracy: 0.9937 - val_loss: 4.7684e-07 - val_accuracy: 0.9969\n",
      "Epoch 6/50\n",
      "140/140 [==============================] - 14s 103ms/step - loss: 0.0044 - accuracy: 0.9984 - val_loss: 0.0000e+00 - val_accuracy: 0.9953\n",
      "Epoch 7/50\n",
      "140/140 [==============================] - 14s 103ms/step - loss: 0.0113 - accuracy: 0.9977 - val_loss: 0.0000e+00 - val_accuracy: 0.9953\n",
      "Epoch 8/50\n",
      "140/140 [==============================] - 15s 104ms/step - loss: 0.0240 - accuracy: 0.9960 - val_loss: 0.0000e+00 - val_accuracy: 0.9922\n",
      "Epoch 9/50\n",
      "140/140 [==============================] - 14s 103ms/step - loss: 0.0093 - accuracy: 0.9984 - val_loss: 0.0000e+00 - val_accuracy: 0.9938\n",
      "Epoch 10/50\n",
      "140/140 [==============================] - 14s 103ms/step - loss: 0.0155 - accuracy: 0.9971 - val_loss: 0.0000e+00 - val_accuracy: 0.9953\n",
      "Epoch 11/50\n",
      "140/140 [==============================] - 15s 104ms/step - loss: 0.0179 - accuracy: 0.9975 - val_loss: 0.0000e+00 - val_accuracy: 0.9953\n"
     ]
    }
   ],
   "source": [
    "doubled_steps_per_epoch = 2 * (train_generator.n//train_generator.batch_size)\n",
    "history = net.fit_generator(train_generator,\n",
    "                  verbose=1,\n",
    "                  epochs=50,\n",
    "                  steps_per_epoch=doubled_steps_per_epoch,\n",
    "                  callbacks=[callback],\n",
    "                  validation_data=val_generator)"
   ]
  },
  {
   "cell_type": "code",
   "execution_count": 69,
   "metadata": {
    "colab": {
     "base_uri": "https://localhost:8080/",
     "height": 34
    },
    "colab_type": "code",
    "executionInfo": {
     "elapsed": 5924,
     "status": "ok",
     "timestamp": 1592121564880,
     "user": {
      "displayName": "Gian Carlo Milanese",
      "photoUrl": "",
      "userId": "08352423327035271918"
     },
     "user_tz": -120
    },
    "id": "-kWruNHj3jac",
    "outputId": "26c9501f-93f9-479a-db33-634933d2cb25"
   },
   "outputs": [
    {
     "data": {
      "text/plain": [
       "[6.811957575791894e-08, 0.9995549917221069]"
      ]
     },
     "execution_count": 69,
     "metadata": {
      "tags": []
     },
     "output_type": "execute_result"
    }
   ],
   "source": [
    "net.evaluate_generator(train_generator)"
   ]
  },
  {
   "cell_type": "code",
   "execution_count": 70,
   "metadata": {
    "colab": {
     "base_uri": "https://localhost:8080/",
     "height": 34
    },
    "colab_type": "code",
    "executionInfo": {
     "elapsed": 1360,
     "status": "ok",
     "timestamp": 1592121566230,
     "user": {
      "displayName": "Gian Carlo Milanese",
      "photoUrl": "",
      "userId": "08352423327035271918"
     },
     "user_tz": -120
    },
    "id": "9zHYMcFs3jR8",
    "outputId": "4c72edb8-c29f-4c5e-c98a-6c0a9130e0d6"
   },
   "outputs": [
    {
     "data": {
      "text/plain": [
       "[0.0, 0.9953415989875793]"
      ]
     },
     "execution_count": 70,
     "metadata": {
      "tags": []
     },
     "output_type": "execute_result"
    }
   ],
   "source": [
    "net.evaluate_generator(val_generator)"
   ]
  },
  {
   "cell_type": "code",
   "execution_count": 72,
   "metadata": {
    "colab": {
     "base_uri": "https://localhost:8080/",
     "height": 34
    },
    "colab_type": "code",
    "executionInfo": {
     "elapsed": 1521,
     "status": "ok",
     "timestamp": 1592121571117,
     "user": {
      "displayName": "Gian Carlo Milanese",
      "photoUrl": "",
      "userId": "08352423327035271918"
     },
     "user_tz": -120
    },
    "id": "SgKID4Vi1Ltb",
    "outputId": "42a14b99-c060-422f-fc22-1b9201a0c46d"
   },
   "outputs": [
    {
     "data": {
      "text/plain": [
       "[0.0, 0.9937888383865356]"
      ]
     },
     "execution_count": 72,
     "metadata": {
      "tags": []
     },
     "output_type": "execute_result"
    }
   ],
   "source": [
    "net.evaluate_generator(test_generator)"
   ]
  },
  {
   "cell_type": "code",
   "execution_count": 71,
   "metadata": {
    "colab": {
     "base_uri": "https://localhost:8080/",
     "height": 260
    },
    "colab_type": "code",
    "executionInfo": {
     "elapsed": 1440,
     "status": "ok",
     "timestamp": 1592121567655,
     "user": {
      "displayName": "Gian Carlo Milanese",
      "photoUrl": "",
      "userId": "08352423327035271918"
     },
     "user_tz": -120
    },
    "id": "iQxNuzLi8NMh",
    "outputId": "cb800384-7c99-48cf-ca14-46f34b802cae"
   },
   "outputs": [
    {
     "name": "stdout",
     "output_type": "stream",
     "text": [
      "              precision    recall  f1-score   support\n",
      "\n",
      "  alessandro       1.00      1.00      1.00        92\n",
      "      alinda       0.99      1.00      0.99        92\n",
      "        cami       1.00      1.00      1.00        92\n",
      "        gian       1.00      1.00      1.00        92\n",
      "      khaled       0.98      1.00      0.99        92\n",
      "       mamma       1.00      0.99      0.99        92\n",
      "        papi       1.00      0.98      0.99        92\n",
      "\n",
      "    accuracy                           1.00       644\n",
      "   macro avg       1.00      1.00      1.00       644\n",
      "weighted avg       1.00      1.00      1.00       644\n",
      "\n"
     ]
    }
   ],
   "source": [
    "cm_val, cr_val = classification_report_generator(val_generator)\n",
    "print(cr_val)"
   ]
  },
  {
   "cell_type": "code",
   "execution_count": 73,
   "metadata": {
    "colab": {
     "base_uri": "https://localhost:8080/",
     "height": 260
    },
    "colab_type": "code",
    "executionInfo": {
     "elapsed": 1270,
     "status": "ok",
     "timestamp": 1592121575214,
     "user": {
      "displayName": "Gian Carlo Milanese",
      "photoUrl": "",
      "userId": "08352423327035271918"
     },
     "user_tz": -120
    },
    "id": "4391lxl31PBm",
    "outputId": "232d64cb-a86e-4a71-8708-e9311b2639c0"
   },
   "outputs": [
    {
     "name": "stdout",
     "output_type": "stream",
     "text": [
      "              precision    recall  f1-score   support\n",
      "\n",
      "  alessandro       1.00      1.00      1.00        46\n",
      "      alinda       0.98      1.00      0.99        46\n",
      "        cami       1.00      1.00      1.00        46\n",
      "        gian       1.00      1.00      1.00        46\n",
      "      khaled       1.00      0.98      0.99        46\n",
      "       mamma       0.98      1.00      0.99        46\n",
      "        papi       1.00      0.98      0.99        46\n",
      "\n",
      "    accuracy                           0.99       322\n",
      "   macro avg       0.99      0.99      0.99       322\n",
      "weighted avg       0.99      0.99      0.99       322\n",
      "\n"
     ]
    }
   ],
   "source": [
    "cm_val, cr_val = classification_report_generator(test_generator)\n",
    "print(cr_val)"
   ]
  },
  {
   "cell_type": "code",
   "execution_count": 0,
   "metadata": {
    "colab": {},
    "colab_type": "code",
    "id": "MGLSOa_62JEP"
   },
   "outputs": [],
   "source": [
    "latest_model_number = max([int(e.split(\"_\")[0]) for e in os.listdir(\"/content/drive/My Drive/2D/models/\")])\n",
    "model_name = latest_model_number + 1\n",
    "model_filename = f\"/content/drive/My Drive/2D/models/{model_name}_doublesteps_model.h5\"\n",
    "json_filename = f\"/content/drive/My Drive/2D/models/{model_name}_doublesteps_model.json\""
   ]
  },
  {
   "cell_type": "code",
   "execution_count": 76,
   "metadata": {
    "colab": {
     "base_uri": "https://localhost:8080/",
     "height": 52
    },
    "colab_type": "code",
    "executionInfo": {
     "elapsed": 989,
     "status": "ok",
     "timestamp": 1592121699634,
     "user": {
      "displayName": "Gian Carlo Milanese",
      "photoUrl": "",
      "userId": "08352423327035271918"
     },
     "user_tz": -120
    },
    "id": "HwUupnbx2JEr",
    "outputId": "555bb46d-f4f7-456b-f378-7414c5a36379"
   },
   "outputs": [
    {
     "data": {
      "text/plain": [
       "('/content/drive/My Drive/2D/models/26_doublesteps_model.h5',\n",
       " '/content/drive/My Drive/2D/models/26_doublesteps_model.json')"
      ]
     },
     "execution_count": 76,
     "metadata": {
      "tags": []
     },
     "output_type": "execute_result"
    }
   ],
   "source": [
    "model_filename, json_filename"
   ]
  },
  {
   "cell_type": "code",
   "execution_count": 77,
   "metadata": {
    "colab": {
     "base_uri": "https://localhost:8080/",
     "height": 225
    },
    "colab_type": "code",
    "executionInfo": {
     "elapsed": 991,
     "status": "ok",
     "timestamp": 1592121726156,
     "user": {
      "displayName": "Gian Carlo Milanese",
      "photoUrl": "",
      "userId": "08352423327035271918"
     },
     "user_tz": -120
    },
    "id": "Qoeu-xbu2JE2",
    "outputId": "b4caf938-a895-4ca5-c85a-44f90488841e"
   },
   "outputs": [
    {
     "data": {
      "text/plain": [
       "{'class_indices': ['alessandro',\n",
       "  'alinda',\n",
       "  'cami',\n",
       "  'gian',\n",
       "  'khaled',\n",
       "  'mamma',\n",
       "  'papi'],\n",
       " 'description': 'Base model + maxpool + double steps per epoch, new preprocessing order, new_width=100',\n",
       " 'featurewise_center': False,\n",
       " 'featurewise_std': False,\n",
       " 'mask': True,\n",
       " 'model_n': 26}"
      ]
     },
     "execution_count": 77,
     "metadata": {
      "tags": []
     },
     "output_type": "execute_result"
    }
   ],
   "source": [
    "d = {}\n",
    "# d[\"mean\"] = [str(i) for i in mu]\n",
    "# d[\"std\"] = [str(i) for i in std]\n",
    "d[\"mask\"] = True\n",
    "d[\"model_n\"] = model_name\n",
    "d[\"featurewise_center\"] = False\n",
    "d[\"featurewise_std\"] = False\n",
    "d[\"class_indices\"] = [i[0] for i in train_generator.class_indices.items()]\n",
    "d[\"description\"] = \"Base model + maxpool + double steps per epoch, new preprocessing order, new_width=100\"\n",
    "d"
   ]
  },
  {
   "cell_type": "code",
   "execution_count": 0,
   "metadata": {
    "colab": {},
    "colab_type": "code",
    "id": "1xZF9Cgv2JE8"
   },
   "outputs": [],
   "source": [
    "with open(json_filename, \"w\") as jsonf:\n",
    "    json.dump(d, jsonf)\n",
    "net.save(model_filename)"
   ]
  },
  {
   "cell_type": "code",
   "execution_count": 79,
   "metadata": {
    "colab": {
     "base_uri": "https://localhost:8080/",
     "height": 621
    },
    "colab_type": "code",
    "executionInfo": {
     "elapsed": 1175,
     "status": "ok",
     "timestamp": 1592121828974,
     "user": {
      "displayName": "Gian Carlo Milanese",
      "photoUrl": "",
      "userId": "08352423327035271918"
     },
     "user_tz": -120
    },
    "id": "cw4XlgHfyzv8",
    "outputId": "f7d91692-e906-4141-ddcd-7fbe9d65044a"
   },
   "outputs": [
    {
     "data": {
      "image/png": "[encoded data removed]",
      "text/plain": [
       "<Figure size 1080x720 with 1 Axes>"
      ]
     },
     "metadata": {
      "needs_background": "light",
      "tags": []
     },
     "output_type": "display_data"
    }
   ],
   "source": [
    "plt.figure(figsize=(15,10))\n",
    "plt.plot(history.history['accuracy'])\n",
    "plt.plot(history.history['val_accuracy'])\n",
    "plt.title('model accuracy')\n",
    "plt.ylabel('accuracy')\n",
    "plt.xlabel('epoch')\n",
    "plt.legend(['train', 'val'], loc='upper left')\n",
    "plt.show()"
   ]
  },
  {
   "cell_type": "code",
   "execution_count": 80,
   "metadata": {
    "colab": {
     "base_uri": "https://localhost:8080/",
     "height": 621
    },
    "colab_type": "code",
    "executionInfo": {
     "elapsed": 1100,
     "status": "ok",
     "timestamp": 1592121833988,
     "user": {
      "displayName": "Gian Carlo Milanese",
      "photoUrl": "",
      "userId": "08352423327035271918"
     },
     "user_tz": -120
    },
    "id": "61O6WNJAAoPX",
    "outputId": "d249b17a-d7c7-4274-a9dc-d1ed51035248"
   },
   "outputs": [
    {
     "data": {
      "image/png": "[encoded data removed]",
      "text/plain": [
       "<Figure size 1080x720 with 1 Axes>"
      ]
     },
     "metadata": {
      "needs_background": "light",
      "tags": []
     },
     "output_type": "display_data"
    }
   ],
   "source": [
    "plt.figure(figsize=(15,10))\n",
    "plt.plot(history.history['loss'])\n",
    "plt.plot(history.history['val_loss'])\n",
    "plt.title('model loss')\n",
    "plt.ylabel('loss')\n",
    "plt.xlabel('epoch')\n",
    "plt.legend(['train', 'val'], loc='upper left')\n",
    "plt.show()"
   ]
  },
  {
   "cell_type": "markdown",
   "metadata": {
    "colab_type": "text",
    "id": "vQk1W0jrAwCb"
   },
   "source": [
    "# TODO\n",
    "\n",
    "- Clean comments and text\n",
    "\n"
   ]
  },
  {
   "cell_type": "code",
   "execution_count": 0,
   "metadata": {
    "colab": {},
    "colab_type": "code",
    "id": "r_eNb91cdkYJ"
   },
   "outputs": [],
   "source": []
  }
 ],
 "metadata": {
  "accelerator": "GPU",
  "colab": {
   "collapsed_sections": [],
   "name": "2_train_model.ipynb",
   "provenance": [],
   "toc_visible": true
  },
  "kernelspec": {
   "display_name": "Python 3",
   "language": "python",
   "name": "python3"
  },
  "language_info": {
   "codemirror_mode": {
    "name": "ipython",
    "version": 3
   },
   "file_extension": ".py",
   "mimetype": "text/x-python",
   "name": "python",
   "nbconvert_exporter": "python",
   "pygments_lexer": "ipython3",
   "version": "3.7.7"
  }
 },
 "nbformat": 4,
 "nbformat_minor": 1
}

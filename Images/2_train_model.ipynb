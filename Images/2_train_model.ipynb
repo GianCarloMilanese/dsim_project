{
  "nbformat": 4,
  "nbformat_minor": 0,
  "metadata": {
    "accelerator": "GPU",
    "colab": {
      "name": "SimpleConvModelMask.ipynb",
      "provenance": [],
      "collapsed_sections": [],
      "toc_visible": true
    },
    "kernelspec": {
      "display_name": "Python 3",
      "language": "python",
      "name": "python3"
    },
    "language_info": {
      "codemirror_mode": {
        "name": "ipython",
        "version": 3
      },
      "file_extension": ".py",
      "mimetype": "text/x-python",
      "name": "python",
      "nbconvert_exporter": "python",
      "pygments_lexer": "ipython3",
      "version": "3.7.4"
    }
  },
  "cells": [
    {
      "cell_type": "markdown",
      "metadata": {
        "colab_type": "text",
        "id": "4NiYVzWr4YWf"
      },
      "source": [
        "# Face Recognition (GOOGLE COLAB)"
      ]
    },
    {
      "cell_type": "code",
      "metadata": {
        "colab_type": "code",
        "id": "xacbs7YfmnzS",
        "outputId": "15927a5e-e0e6-459d-eac1-264f044d3af1",
        "colab": {
          "base_uri": "https://localhost:8080/",
          "height": 357
        }
      },
      "source": [
        "!nvidia-smi"
      ],
      "execution_count": 1,
      "outputs": [
        {
          "output_type": "stream",
          "text": [
            "Fri Jun 12 17:34:21 2020       \n",
            "+-----------------------------------------------------------------------------+\n",
            "| NVIDIA-SMI 450.36.06    Driver Version: 418.67       CUDA Version: 10.1     |\n",
            "|-------------------------------+----------------------+----------------------+\n",
            "| GPU  Name        Persistence-M| Bus-Id        Disp.A | Volatile Uncorr. ECC |\n",
            "| Fan  Temp  Perf  Pwr:Usage/Cap|         Memory-Usage | GPU-Util  Compute M. |\n",
            "|                               |                      |               MIG M. |\n",
            "|===============================+======================+======================|\n",
            "|   0  Tesla P100-PCIE...  Off  | 00000000:00:04.0 Off |                    0 |\n",
            "| N/A   45C    P0    28W / 250W |      0MiB / 16280MiB |      0%      Default |\n",
            "|                               |                      |                 ERR! |\n",
            "+-------------------------------+----------------------+----------------------+\n",
            "                                                                               \n",
            "+-----------------------------------------------------------------------------+\n",
            "| Processes:                                                                  |\n",
            "|  GPU   GI   CI        PID   Type   Process name                  GPU Memory |\n",
            "|        ID   ID                                                   Usage      |\n",
            "|=============================================================================|\n",
            "|  No running processes found                                                 |\n",
            "+-----------------------------------------------------------------------------+\n"
          ],
          "name": "stdout"
        }
      ]
    },
    {
      "cell_type": "code",
      "metadata": {
        "colab_type": "code",
        "id": "LsWn2GSH_5T6",
        "colab": {}
      },
      "source": [
        "%tensorflow_version 2.x"
      ],
      "execution_count": 0,
      "outputs": []
    },
    {
      "cell_type": "code",
      "metadata": {
        "colab_type": "code",
        "id": "qicHhDWXIsue",
        "outputId": "d7cd1d82-6cd9-40e9-9067-8d6ab116948a",
        "colab": {
          "base_uri": "https://localhost:8080/",
          "height": 34
        }
      },
      "source": [
        "!pip install -q keras==2.3.0"
      ],
      "execution_count": 3,
      "outputs": [
        {
          "output_type": "stream",
          "text": [
            "\u001b[?25l\r\u001b[K     |▉                               | 10kB 19.1MB/s eta 0:00:01\r\u001b[K     |█▊                              | 20kB 1.7MB/s eta 0:00:01\r\u001b[K     |██▋                             | 30kB 2.2MB/s eta 0:00:01\r\u001b[K     |███▌                            | 40kB 2.4MB/s eta 0:00:01\r\u001b[K     |████▍                           | 51kB 2.0MB/s eta 0:00:01\r\u001b[K     |█████▏                          | 61kB 2.2MB/s eta 0:00:01\r\u001b[K     |██████                          | 71kB 2.4MB/s eta 0:00:01\r\u001b[K     |███████                         | 81kB 2.6MB/s eta 0:00:01\r\u001b[K     |███████▉                        | 92kB 2.8MB/s eta 0:00:01\r\u001b[K     |████████▊                       | 102kB 2.8MB/s eta 0:00:01\r\u001b[K     |█████████▌                      | 112kB 2.8MB/s eta 0:00:01\r\u001b[K     |██████████▍                     | 122kB 2.8MB/s eta 0:00:01\r\u001b[K     |███████████▎                    | 133kB 2.8MB/s eta 0:00:01\r\u001b[K     |████████████▏                   | 143kB 2.8MB/s eta 0:00:01\r\u001b[K     |█████████████                   | 153kB 2.8MB/s eta 0:00:01\r\u001b[K     |█████████████▉                  | 163kB 2.8MB/s eta 0:00:01\r\u001b[K     |██████████████▊                 | 174kB 2.8MB/s eta 0:00:01\r\u001b[K     |███████████████▋                | 184kB 2.8MB/s eta 0:00:01\r\u001b[K     |████████████████▌               | 194kB 2.8MB/s eta 0:00:01\r\u001b[K     |█████████████████▍              | 204kB 2.8MB/s eta 0:00:01\r\u001b[K     |██████████████████▎             | 215kB 2.8MB/s eta 0:00:01\r\u001b[K     |███████████████████             | 225kB 2.8MB/s eta 0:00:01\r\u001b[K     |████████████████████            | 235kB 2.8MB/s eta 0:00:01\r\u001b[K     |████████████████████▉           | 245kB 2.8MB/s eta 0:00:01\r\u001b[K     |█████████████████████▊          | 256kB 2.8MB/s eta 0:00:01\r\u001b[K     |██████████████████████▋         | 266kB 2.8MB/s eta 0:00:01\r\u001b[K     |███████████████████████▍        | 276kB 2.8MB/s eta 0:00:01\r\u001b[K     |████████████████████████▎       | 286kB 2.8MB/s eta 0:00:01\r\u001b[K     |█████████████████████████▏      | 296kB 2.8MB/s eta 0:00:01\r\u001b[K     |██████████████████████████      | 307kB 2.8MB/s eta 0:00:01\r\u001b[K     |███████████████████████████     | 317kB 2.8MB/s eta 0:00:01\r\u001b[K     |███████████████████████████▊    | 327kB 2.8MB/s eta 0:00:01\r\u001b[K     |████████████████████████████▋   | 337kB 2.8MB/s eta 0:00:01\r\u001b[K     |█████████████████████████████▌  | 348kB 2.8MB/s eta 0:00:01\r\u001b[K     |██████████████████████████████▍ | 358kB 2.8MB/s eta 0:00:01\r\u001b[K     |███████████████████████████████▎| 368kB 2.8MB/s eta 0:00:01\r\u001b[K     |████████████████████████████████| 378kB 2.8MB/s \n",
            "\u001b[?25h"
          ],
          "name": "stdout"
        }
      ]
    },
    {
      "cell_type": "code",
      "metadata": {
        "colab_type": "code",
        "id": "YBLC2IjiIvwr",
        "outputId": "3feb6539-aa61-4344-84b7-1d873a817865",
        "colab": {
          "base_uri": "https://localhost:8080/",
          "height": 51
        }
      },
      "source": [
        "import keras\n",
        "print(keras.__version__)"
      ],
      "execution_count": 4,
      "outputs": [
        {
          "output_type": "stream",
          "text": [
            "Using TensorFlow backend.\n"
          ],
          "name": "stderr"
        },
        {
          "output_type": "stream",
          "text": [
            "2.3.0\n"
          ],
          "name": "stdout"
        }
      ]
    },
    {
      "cell_type": "code",
      "metadata": {
        "colab_type": "code",
        "id": "7Oing8Nfm4L9",
        "colab": {}
      },
      "source": [
        "from keras.preprocessing import image as kimage\n",
        "from keras.models import Model\n",
        "from keras.layers import Dense, Dropout, BatchNormalization"
      ],
      "execution_count": 0,
      "outputs": []
    },
    {
      "cell_type": "code",
      "metadata": {
        "colab_type": "code",
        "id": "5Jkb5yUNplkr",
        "colab": {}
      },
      "source": [
        "import matplotlib.pyplot as plt\n",
        "import numpy as np"
      ],
      "execution_count": 0,
      "outputs": []
    },
    {
      "cell_type": "markdown",
      "metadata": {
        "colab_type": "text",
        "id": "q-XChVRmMSZP"
      },
      "source": [
        "# (Mount Google Drive from the menu on the left)"
      ]
    },
    {
      "cell_type": "code",
      "metadata": {
        "id": "NyA2lgdVmMfm",
        "colab_type": "code",
        "colab": {
          "base_uri": "https://localhost:8080/",
          "height": 122
        },
        "outputId": "5845a013-9971-4c6f-fd00-54e5c1b3d9ab"
      },
      "source": [
        "from google.colab import drive\n",
        "drive.mount('/content/drive')"
      ],
      "execution_count": 7,
      "outputs": [
        {
          "output_type": "stream",
          "text": [
            "Go to this URL in a browser: https://accounts.google.com/o/oauth2/auth?client_id=947318989803-6bn6qk8qdgf4n4g3pfee6491hc0brc4i.apps.googleusercontent.com&redirect_uri=urn%3aietf%3awg%3aoauth%3a2.0%3aoob&response_type=code&scope=email%20https%3a%2f%2fwww.googleapis.com%2fauth%2fdocs.test%20https%3a%2f%2fwww.googleapis.com%2fauth%2fdrive%20https%3a%2f%2fwww.googleapis.com%2fauth%2fdrive.photos.readonly%20https%3a%2f%2fwww.googleapis.com%2fauth%2fpeopleapi.readonly\n",
            "\n",
            "Enter your authorization code:\n",
            "··········\n",
            "Mounted at /content/drive\n"
          ],
          "name": "stdout"
        }
      ]
    },
    {
      "cell_type": "markdown",
      "metadata": {
        "id": "-m0CvMWvejrC",
        "colab_type": "text"
      },
      "source": [
        "# Split pictures folder in train/test/val\n",
        "\n",
        "(if not done already)"
      ]
    },
    {
      "cell_type": "code",
      "metadata": {
        "id": "E6u8pzHbem2i",
        "colab_type": "code",
        "colab": {}
      },
      "source": [
        "import sys\n",
        "sys.path.insert(1, '/content/drive/My Drive/2D/')"
      ],
      "execution_count": 0,
      "outputs": []
    },
    {
      "cell_type": "code",
      "metadata": {
        "id": "VAWAE4MJfcfR",
        "colab_type": "code",
        "colab": {}
      },
      "source": [
        "import utils_2d"
      ],
      "execution_count": 0,
      "outputs": []
    },
    {
      "cell_type": "code",
      "metadata": {
        "id": "x3dvYPjIffv-",
        "colab_type": "code",
        "colab": {}
      },
      "source": [
        "# # Creating Train / Val / Test folders (One time use)\n",
        "root_dir = '/content/drive/My Drive/2D/pictures_masked_resized_heavy'\n",
        "dest_dir = '/content/drive/My Drive/2D/pictures_masked_resized_heavy_split'"
      ],
      "execution_count": 0,
      "outputs": []
    },
    {
      "cell_type": "code",
      "metadata": {
        "id": "WuIWMXcDVOEi",
        "colab_type": "code",
        "outputId": "1c9a2048-e413-44f8-8edb-0520c88c1b63",
        "colab": {
          "base_uri": "https://localhost:8080/",
          "height": 34
        }
      },
      "source": [
        "!ls \"$root_dir\""
      ],
      "execution_count": 0,
      "outputs": [
        {
          "output_type": "stream",
          "text": [
            "alessandro  alinda  cami  gian\tkhaled\tluca  mamma  papi\n"
          ],
          "name": "stdout"
        }
      ]
    },
    {
      "cell_type": "code",
      "metadata": {
        "id": "Ag2B9l2vfga4",
        "colab_type": "code",
        "colab": {}
      },
      "source": [
        "# utils_2d.pictures_train_test_val_split(root_dir, dest_dir, verbose=True)"
      ],
      "execution_count": 0,
      "outputs": []
    },
    {
      "cell_type": "markdown",
      "metadata": {
        "colab_type": "text",
        "id": "j0EBVquMCW5H"
      },
      "source": [
        "# Define Train/test/val sets"
      ]
    },
    {
      "cell_type": "code",
      "metadata": {
        "colab_type": "code",
        "id": "I4IE9fkCHsmX",
        "colab": {}
      },
      "source": [
        "#my_pictures_dir =\"/content/drive/My Drive/2D/pictures_masked_resized_heavy_split\"\n",
        "my_pictures_dir =\"/content/drive/My Drive/pictures_masked_resized_split\""
      ],
      "execution_count": 0,
      "outputs": []
    },
    {
      "cell_type": "code",
      "metadata": {
        "colab_type": "code",
        "id": "k4kN9pPpIx1F",
        "colab": {}
      },
      "source": [
        "train_dir = my_pictures_dir+\"/train\"\n",
        "val_dir = my_pictures_dir+\"/val\"\n",
        "test_dir = my_pictures_dir+\"/test\""
      ],
      "execution_count": 0,
      "outputs": []
    },
    {
      "cell_type": "code",
      "metadata": {
        "colab_type": "code",
        "id": "c-oyRQbpM8Hq",
        "outputId": "b5a61bfa-b2fe-4b74-ec8d-068413fd9f6f",
        "colab": {
          "base_uri": "https://localhost:8080/",
          "height": 34
        }
      },
      "source": [
        "!ls \"$my_pictures_dir/test\""
      ],
      "execution_count": 10,
      "outputs": [
        {
          "output_type": "stream",
          "text": [
            "alessandro  alinda  cami  gian\tkhaled\tluca  mamma  papi\n"
          ],
          "name": "stdout"
        }
      ]
    },
    {
      "cell_type": "markdown",
      "metadata": {
        "id": "psd6JOIYf0ev",
        "colab_type": "text"
      },
      "source": [
        "Set the classes that the classifier should learn:"
      ]
    },
    {
      "cell_type": "code",
      "metadata": {
        "id": "s5rnk3hivxOf",
        "colab_type": "code",
        "colab": {}
      },
      "source": [
        "classes = [\"alessandro\", \"alinda\", \"cami\", \"gian\", \"khaled\", \"mamma\", \"papi\"]"
      ],
      "execution_count": 0,
      "outputs": []
    },
    {
      "cell_type": "code",
      "metadata": {
        "id": "oSr9IBiW3GaW",
        "colab_type": "code",
        "colab": {}
      },
      "source": [
        "color_mode = \"grayscale\""
      ],
      "execution_count": 0,
      "outputs": []
    },
    {
      "cell_type": "markdown",
      "metadata": {
        "colab_type": "text",
        "id": "iF3Se93DHUgb"
      },
      "source": [
        "## Sample from train set\n",
        "\n",
        "The following is kept commented in case of future testing with featurewise center/std"
      ]
    },
    {
      "cell_type": "code",
      "metadata": {
        "colab_type": "code",
        "id": "rYnTAZDwHXWx",
        "colab": {}
      },
      "source": [
        "# sample_processing = kimage.ImageDataGenerator()\n",
        "# sample_generator = sample_processing.flow_from_directory(train_dir, classes = classes,\n",
        "#                                                          # rescale= 1./255,\n",
        "#                                                          target_size=(224, 224),\n",
        "#                                                          color_mode=color_mode,\n",
        "#                                                          batch_size=64,\n",
        "#                                                          class_mode=\"categorical\",\n",
        "#                                                          shuffle=True,\n",
        "#                                                          seed=1)"
      ],
      "execution_count": 0,
      "outputs": []
    },
    {
      "cell_type": "code",
      "metadata": {
        "colab_type": "code",
        "id": "YtO1so2TIAkO",
        "colab": {}
      },
      "source": [
        "# sample = sample_generator.next()\n",
        "# sample_features = sample[0]\n",
        "# sample_labels = sample[1]"
      ],
      "execution_count": 0,
      "outputs": []
    },
    {
      "cell_type": "code",
      "metadata": {
        "id": "B4dYKG4r1MUf",
        "colab_type": "code",
        "colab": {}
      },
      "source": [
        "# plt.imshow(sample_features[5][:,:,0], cmap=\"gray\")"
      ],
      "execution_count": 0,
      "outputs": []
    },
    {
      "cell_type": "markdown",
      "metadata": {
        "colab_type": "text",
        "id": "eLNv133C3-dY"
      },
      "source": [
        "## Generators"
      ]
    },
    {
      "cell_type": "code",
      "metadata": {
        "colab_type": "code",
        "id": "qZ2wSlAFxOLD",
        "colab": {}
      },
      "source": [
        "train_processing = kimage.ImageDataGenerator(\n",
        "    # featurewise_center=True, # UNCOMMENT for testing with previous code\n",
        "    # featurewise_std_normalization=True, # UNCOMMENT for testing with previous\n",
        "    rescale= 1./255, # COMMENT for testing with previous\n",
        "    # Rotations\n",
        "    # rotation_range=10,\n",
        "    # # Shifts\n",
        "    # width_shift_range=0.1,\n",
        "    # height_shift_range=0.1,\n",
        "    # # Flips\n",
        "    horizontal_flip=True,\n",
        "    # vertical_flip=True,\n",
        "    # Brightness Change\n",
        "    brightness_range=[0.6,1.4],\n",
        "    # Zoom Change\n",
        "    # zoom_range=[0.9,1.1] # TODO: test without this\n",
        ")"
      ],
      "execution_count": 0,
      "outputs": []
    },
    {
      "cell_type": "code",
      "metadata": {
        "colab_type": "code",
        "id": "MWR4h9T3J7En",
        "colab": {}
      },
      "source": [
        "# train_processing.fit(sample_features) # UNCOMMENT for testing with previous code"
      ],
      "execution_count": 0,
      "outputs": []
    },
    {
      "cell_type": "code",
      "metadata": {
        "colab_type": "code",
        "id": "7R67G0geUZuN",
        "colab": {}
      },
      "source": [
        "# train_processing.mean"
      ],
      "execution_count": 0,
      "outputs": []
    },
    {
      "cell_type": "code",
      "metadata": {
        "colab_type": "code",
        "id": "Yyk9Rg1XxOLF",
        "outputId": "fee4ac28-4f90-45c2-935c-2b5b1448c394",
        "colab": {
          "base_uri": "https://localhost:8080/",
          "height": 34
        }
      },
      "source": [
        "train_generator = train_processing.flow_from_directory(train_dir,\n",
        "                                                       classes = classes,\n",
        "                                                       target_size=(224, 224),\n",
        "                                                       color_mode=color_mode,\n",
        "                                                       batch_size=32,\n",
        "                                                       class_mode=\"categorical\",\n",
        "                                                       shuffle=True,\n",
        "                                                       seed=1)"
      ],
      "execution_count": 19,
      "outputs": [
        {
          "output_type": "stream",
          "text": [
            "Found 2247 images belonging to 7 classes.\n"
          ],
          "name": "stdout"
        }
      ]
    },
    {
      "cell_type": "code",
      "metadata": {
        "colab_type": "code",
        "id": "dhZncc4uuUU5",
        "outputId": "36f0c15f-c568-41b9-ae93-7915b6cd4d9c",
        "colab": {
          "base_uri": "https://localhost:8080/",
          "height": 34
        }
      },
      "source": [
        "labels_to_text = [i[0] for i in train_generator.class_indices.items()]\n",
        "labels_to_text"
      ],
      "execution_count": 20,
      "outputs": [
        {
          "output_type": "execute_result",
          "data": {
            "text/plain": [
              "['alessandro', 'alinda', 'cami', 'gian', 'khaled', 'mamma', 'papi']"
            ]
          },
          "metadata": {
            "tags": []
          },
          "execution_count": 20
        }
      ]
    },
    {
      "cell_type": "code",
      "metadata": {
        "colab_type": "code",
        "id": "ziayXNbkxOLI",
        "outputId": "7f6ae7fc-ee64-43ff-a69e-99f9c4eebb26",
        "colab": {
          "base_uri": "https://localhost:8080/",
          "height": 51
        }
      },
      "source": [
        "test_processing = kimage.ImageDataGenerator(# featurewise_center=True,\n",
        "                                            # featurewise_std_normalization=True\n",
        "                                            rescale = 1./255,\n",
        "                                            )\n",
        "# test_processing.fit(sample_features) # UNCOMMENT for testing with previous code\n",
        "\n",
        "val_generator = test_processing.flow_from_directory(val_dir,\n",
        "                                                    classes = classes,\n",
        "                                                    target_size=(224, 224),\n",
        "                                                    color_mode=color_mode,\n",
        "                                                    batch_size=32,\n",
        "                                                    class_mode=\"categorical\",\n",
        "                                                    shuffle=False,\n",
        "                                                    seed=1)\n",
        "\n",
        "test_generator = test_processing.flow_from_directory(test_dir,\n",
        "                                                     classes = classes,\n",
        "                                                     target_size=(224, 224),\n",
        "                                                     color_mode=color_mode,\n",
        "                                                     batch_size=32,\n",
        "                                                     class_mode=\"categorical\",\n",
        "                                                     shuffle=False,\n",
        "                                                     seed=1)"
      ],
      "execution_count": 21,
      "outputs": [
        {
          "output_type": "stream",
          "text": [
            "Found 584 images belonging to 7 classes.\n",
            "Found 322 images belonging to 7 classes.\n"
          ],
          "name": "stdout"
        }
      ]
    },
    {
      "cell_type": "code",
      "metadata": {
        "colab_type": "code",
        "id": "_bhMixIbpIzK",
        "outputId": "cd4948da-d0b0-45a6-b623-bbc04bbfbe56",
        "colab": {
          "base_uri": "https://localhost:8080/",
          "height": 34
        }
      },
      "source": [
        "n_classes = (train_generator.num_classes)\n",
        "n_classes"
      ],
      "execution_count": 22,
      "outputs": [
        {
          "output_type": "execute_result",
          "data": {
            "text/plain": [
              "7"
            ]
          },
          "metadata": {
            "tags": []
          },
          "execution_count": 22
        }
      ]
    },
    {
      "cell_type": "markdown",
      "metadata": {
        "colab_type": "text",
        "id": "HeOWmhBTqTN7"
      },
      "source": [
        "### See images"
      ]
    },
    {
      "cell_type": "code",
      "metadata": {
        "colab_type": "code",
        "id": "oFL-ylAqp0ma",
        "colab": {}
      },
      "source": [
        "batch = np.array(train_generator.next()[0])"
      ],
      "execution_count": 0,
      "outputs": []
    },
    {
      "cell_type": "code",
      "metadata": {
        "colab_type": "code",
        "id": "bobB7t_Mp6fO",
        "outputId": "172021bd-fab4-4b05-c1ca-df3248968f49",
        "colab": {
          "base_uri": "https://localhost:8080/",
          "height": 34
        }
      },
      "source": [
        "batch.shape"
      ],
      "execution_count": 24,
      "outputs": [
        {
          "output_type": "execute_result",
          "data": {
            "text/plain": [
              "(32, 224, 224, 1)"
            ]
          },
          "metadata": {
            "tags": []
          },
          "execution_count": 24
        }
      ]
    },
    {
      "cell_type": "code",
      "metadata": {
        "colab_type": "code",
        "id": "7v4L6jlIKZla",
        "colab": {}
      },
      "source": [
        "# mu = train_processing.mean # UNCOMMENT for testing with previous code\n",
        "# sigma = train_processing.std # UNCOMMENT for testing with previous code"
      ],
      "execution_count": 0,
      "outputs": []
    },
    {
      "cell_type": "code",
      "metadata": {
        "colab_type": "code",
        "id": "GmuuMSqopjZ8",
        "outputId": "549caef2-d6c2-4caa-a983-1c65fecd8947",
        "colab": {
          "base_uri": "https://localhost:8080/",
          "height": 269
        }
      },
      "source": [
        "pic = batch[6]\n",
        "# plt.imshow(((pic*sigma + mu)/255)[:,:,0], cmap=\"gray\")\n",
        "plt.imshow(pic[:,:,0], cmap=\"gray\")\n",
        "plt.show()"
      ],
      "execution_count": 26,
      "outputs": [
        {
          "output_type": "display_data",
          "data": {
            "image/png": "[encoded data removed]",
            "text/plain": [
              "<Figure size 432x288 with 1 Axes>"
            ]
          },
          "metadata": {
            "tags": [],
            "needs_background": "light"
          }
        }
      ]
    },
    {
      "cell_type": "code",
      "metadata": {
        "id": "N7Ssxp682PrG",
        "colab_type": "code",
        "outputId": "446efef3-921a-4954-8acb-3ce2ea3d8ddd",
        "colab": {
          "base_uri": "https://localhost:8080/",
          "height": 34
        }
      },
      "source": [
        "input_shape = pic.shape\n",
        "input_shape"
      ],
      "execution_count": 27,
      "outputs": [
        {
          "output_type": "execute_result",
          "data": {
            "text/plain": [
              "(224, 224, 1)"
            ]
          },
          "metadata": {
            "tags": []
          },
          "execution_count": 27
        }
      ]
    },
    {
      "cell_type": "markdown",
      "metadata": {
        "colab_type": "text",
        "id": "nAPxf-1v1VA9"
      },
      "source": [
        "# Net"
      ]
    },
    {
      "cell_type": "code",
      "metadata": {
        "colab_type": "code",
        "id": "NZyub47jK-rr",
        "colab": {}
      },
      "source": [
        "from keras.models import Sequential\n",
        "from keras.layers import Dense, Conv2D, Flatten\n",
        "#create model\n",
        "net = Sequential()\n",
        "#add model layers\n",
        "net.add(Conv2D(64, kernel_size=3, activation='relu', input_shape=input_shape))\n",
        "net.add(Conv2D(32, kernel_size=3, activation='relu'))\n",
        "net.add(Flatten())\n",
        "net.add(Dense(n_classes, activation='softmax'))"
      ],
      "execution_count": 0,
      "outputs": []
    },
    {
      "cell_type": "code",
      "metadata": {
        "colab_type": "code",
        "id": "zhJ_3JB0xOLS",
        "colab": {}
      },
      "source": [
        "net.compile(loss=keras.losses.categorical_crossentropy,\n",
        "            optimizer=keras.optimizers.RMSprop(),\n",
        "            metrics=[\"accuracy\"])"
      ],
      "execution_count": 0,
      "outputs": []
    },
    {
      "cell_type": "code",
      "metadata": {
        "colab_type": "code",
        "id": "FHg6AreRvEOP",
        "colab": {}
      },
      "source": [
        "callback = keras.callbacks.EarlyStopping(monitor='val_loss',\n",
        "                                         restore_best_weights=True, patience=5)"
      ],
      "execution_count": 0,
      "outputs": []
    },
    {
      "cell_type": "code",
      "metadata": {
        "colab_type": "code",
        "id": "C9VshMWqvRnQ",
        "outputId": "02908e04-f0b2-40a9-b0f0-8b4ebcbdc97e",
        "colab": {
          "base_uri": "https://localhost:8080/",
          "height": 377
        }
      },
      "source": [
        "history = net.fit_generator(train_generator,\n",
        "                  verbose=1,\n",
        "                  epochs=50,\n",
        "                  steps_per_epoch=train_generator.n//train_generator.batch_size,\n",
        "                  callbacks=[callback],\n",
        "                  validation_data=val_generator)"
      ],
      "execution_count": 61,
      "outputs": [
        {
          "output_type": "stream",
          "text": [
            "Epoch 1/50\n",
            "70/70 [==============================] - 8s 121ms/step - loss: 3.4264 - accuracy: 0.6492 - val_loss: 0.6853 - val_accuracy: 0.9384\n",
            "Epoch 2/50\n",
            "70/70 [==============================] - 8s 119ms/step - loss: 0.4132 - accuracy: 0.9205 - val_loss: 0.3187 - val_accuracy: 0.9692\n",
            "Epoch 3/50\n",
            "70/70 [==============================] - 8s 119ms/step - loss: 0.3361 - accuracy: 0.9485 - val_loss: 0.0386 - val_accuracy: 0.9829\n",
            "Epoch 4/50\n",
            "70/70 [==============================] - 8s 119ms/step - loss: 0.1610 - accuracy: 0.9824 - val_loss: 0.0105 - val_accuracy: 0.9846\n",
            "Epoch 5/50\n",
            "70/70 [==============================] - 8s 118ms/step - loss: 0.1126 - accuracy: 0.9743 - val_loss: 1.1610e-04 - val_accuracy: 0.9075\n",
            "Epoch 6/50\n",
            "70/70 [==============================] - 8s 119ms/step - loss: 0.0501 - accuracy: 0.9892 - val_loss: 0.2514 - val_accuracy: 0.9897\n",
            "Epoch 7/50\n",
            "70/70 [==============================] - 8s 117ms/step - loss: 0.2101 - accuracy: 0.9720 - val_loss: 0.0022 - val_accuracy: 0.9897\n",
            "Epoch 8/50\n",
            "70/70 [==============================] - 8s 117ms/step - loss: 0.0583 - accuracy: 0.9896 - val_loss: 0.5291 - val_accuracy: 0.9897\n",
            "Epoch 9/50\n",
            "70/70 [==============================] - 8s 114ms/step - loss: 0.1797 - accuracy: 0.9797 - val_loss: 0.0828 - val_accuracy: 0.9914\n",
            "Epoch 10/50\n",
            "70/70 [==============================] - 8s 115ms/step - loss: 0.1283 - accuracy: 0.9887 - val_loss: 0.2335 - val_accuracy: 0.9897\n"
          ],
          "name": "stdout"
        }
      ]
    },
    {
      "cell_type": "markdown",
      "metadata": {
        "colab_type": "text",
        "id": "S78x--bf1ZpJ"
      },
      "source": [
        "# Save Model"
      ]
    },
    {
      "cell_type": "code",
      "metadata": {
        "colab_type": "code",
        "id": "5P_yH8jSloZv",
        "colab": {}
      },
      "source": [
        "import os"
      ],
      "execution_count": 0,
      "outputs": []
    },
    {
      "cell_type": "code",
      "metadata": {
        "colab_type": "code",
        "id": "bmdWR91XljVg",
        "colab": {}
      },
      "source": [
        "latest_model_number = max([int(e.split(\"_\")[0]) for e in os.listdir(\"/content/drive/My Drive/2D/models/\")])"
      ],
      "execution_count": 0,
      "outputs": []
    },
    {
      "cell_type": "code",
      "metadata": {
        "colab_type": "code",
        "id": "Zo-GycrJlzc5",
        "colab": {}
      },
      "source": [
        "model_name = latest_model_number + 1"
      ],
      "execution_count": 0,
      "outputs": []
    },
    {
      "cell_type": "code",
      "metadata": {
        "colab_type": "code",
        "id": "y1-3gO7QCWPF",
        "outputId": "69a6b025-b729-43df-d7e2-39a003cc4db7",
        "colab": {
          "base_uri": "https://localhost:8080/",
          "height": 51
        }
      },
      "source": [
        "model_filename = f\"/content/drive/My Drive/2D/models/{model_name}_model.h5\"\n",
        "json_filename = f\"/content/drive/My Drive/2D/models/{model_name}_model.json\"\n",
        "model_filename, json_filename"
      ],
      "execution_count": 65,
      "outputs": [
        {
          "output_type": "execute_result",
          "data": {
            "text/plain": [
              "('/content/drive/My Drive/2D/models/2_model.h5',\n",
              " '/content/drive/My Drive/2D/models/2_model.json')"
            ]
          },
          "metadata": {
            "tags": []
          },
          "execution_count": 65
        }
      ]
    },
    {
      "cell_type": "code",
      "metadata": {
        "colab_type": "code",
        "id": "-XEciD1nQyM0",
        "colab": {}
      },
      "source": [
        "# mu = list(train_processing.mean[0][0])\n",
        "# std = list(train_processing.std[0][0])"
      ],
      "execution_count": 0,
      "outputs": []
    },
    {
      "cell_type": "code",
      "metadata": {
        "colab_type": "code",
        "id": "3pSS8NLcP_YD",
        "outputId": "1ada9991-7adb-4ea8-e0dd-b6c8dc38f6c4",
        "colab": {
          "base_uri": "https://localhost:8080/",
          "height": 204
        }
      },
      "source": [
        "d = {}\n",
        "# d[\"mean\"] = [str(i) for i in mu]\n",
        "# d[\"std\"] = [str(i) for i in std]\n",
        "d[\"mask\"] = True\n",
        "d[\"model_n\"] = model_name\n",
        "d[\"featurewise_center\"] = False\n",
        "d[\"featurewise_std\"] = False\n",
        "d[\"class_indices\"] = [i[0] for i in train_generator.class_indices.items()]\n",
        "\n",
        "d"
      ],
      "execution_count": 67,
      "outputs": [
        {
          "output_type": "execute_result",
          "data": {
            "text/plain": [
              "{'class_indices': ['alessandro',\n",
              "  'alinda',\n",
              "  'cami',\n",
              "  'gian',\n",
              "  'khaled',\n",
              "  'mamma',\n",
              "  'papi'],\n",
              " 'featurewise_center': False,\n",
              " 'featurewise_std': False,\n",
              " 'mask': True,\n",
              " 'model_n': 2}"
            ]
          },
          "metadata": {
            "tags": []
          },
          "execution_count": 67
        }
      ]
    },
    {
      "cell_type": "code",
      "metadata": {
        "colab_type": "code",
        "id": "XwoFAGRXQo5R",
        "colab": {}
      },
      "source": [
        "import json"
      ],
      "execution_count": 0,
      "outputs": []
    },
    {
      "cell_type": "code",
      "metadata": {
        "colab_type": "code",
        "id": "o09uuY1XQho4",
        "colab": {}
      },
      "source": [
        "with open(json_filename, \"w\") as jsonf:\n",
        "    json.dump(d, jsonf)"
      ],
      "execution_count": 0,
      "outputs": []
    },
    {
      "cell_type": "code",
      "metadata": {
        "colab_type": "code",
        "id": "IeUsYbyDchgq",
        "colab": {}
      },
      "source": [
        "net.save(model_filename)"
      ],
      "execution_count": 0,
      "outputs": []
    },
    {
      "cell_type": "markdown",
      "metadata": {
        "colab_type": "text",
        "id": "ZVys6EHXtq1R"
      },
      "source": [
        "### Evaluation\n"
      ]
    },
    {
      "cell_type": "code",
      "metadata": {
        "colab_type": "code",
        "id": "gK55TwAPq8VM",
        "colab": {}
      },
      "source": [
        "import numpy as np\n",
        "from sklearn.metrics import confusion_matrix as cm\n",
        "from sklearn.metrics import classification_report"
      ],
      "execution_count": 0,
      "outputs": []
    },
    {
      "cell_type": "code",
      "metadata": {
        "colab_type": "code",
        "id": "lJVvGYXTtfkv",
        "outputId": "2ac34aea-62cf-45ee-985e-664714285efb",
        "colab": {
          "base_uri": "https://localhost:8080/",
          "height": 34
        }
      },
      "source": [
        "net.evaluate_generator(train_generator)"
      ],
      "execution_count": 72,
      "outputs": [
        {
          "output_type": "execute_result",
          "data": {
            "text/plain": [
              "[1.2992910146713257, 0.8971962332725525]"
            ]
          },
          "metadata": {
            "tags": []
          },
          "execution_count": 72
        }
      ]
    },
    {
      "cell_type": "code",
      "metadata": {
        "colab_type": "code",
        "id": "HFr6eq-b0I-x",
        "outputId": "3989830c-c205-44aa-d3db-8f1326300854",
        "colab": {
          "base_uri": "https://localhost:8080/",
          "height": 34
        }
      },
      "source": [
        "net.evaluate_generator(val_generator)"
      ],
      "execution_count": 73,
      "outputs": [
        {
          "output_type": "execute_result",
          "data": {
            "text/plain": [
              "[0.00011610061483224854, 0.9075342416763306]"
            ]
          },
          "metadata": {
            "tags": []
          },
          "execution_count": 73
        }
      ]
    },
    {
      "cell_type": "code",
      "metadata": {
        "id": "C0HkuV4D6S4n",
        "colab_type": "code",
        "colab": {}
      },
      "source": [
        "def classification_report_generator(generator):\n",
        "  # should not be applied to generators with shuffle = True\n",
        "  preds = net.predict_generator(generator)\n",
        "  preds = np.argmax(preds, axis=1)\n",
        "  real = generator.classes\n",
        "  ind_dict = generator.class_indices\n",
        "  num_to_label = [i[0] for i in ind_dict.items()]\n",
        "  cmat = cm(real, preds)\n",
        "  cr = classification_report(real, preds, target_names=num_to_label)\n",
        "  return cmat, cr"
      ],
      "execution_count": 0,
      "outputs": []
    },
    {
      "cell_type": "code",
      "metadata": {
        "id": "WDcOeA7D5qh6",
        "colab_type": "code",
        "colab": {
          "base_uri": "https://localhost:8080/",
          "height": 255
        },
        "outputId": "7ecb490d-c2e6-4bc3-9c7f-29fb4eaeb3cb"
      },
      "source": [
        "cm_val, cr_val = classification_report_generator(val_generator)\n",
        "print(cr_val)"
      ],
      "execution_count": 77,
      "outputs": [
        {
          "output_type": "stream",
          "text": [
            "              precision    recall  f1-score   support\n",
            "\n",
            "  alessandro       1.00      1.00      1.00        92\n",
            "      alinda       1.00      0.70      0.82        92\n",
            "        cami       1.00      0.83      0.90        92\n",
            "        gian       0.87      1.00      0.93        92\n",
            "      khaled       1.00      0.89      0.94        92\n",
            "       mamma       0.79      1.00      0.88        92\n",
            "        papi       0.67      1.00      0.80        32\n",
            "\n",
            "    accuracy                           0.91       584\n",
            "   macro avg       0.90      0.92      0.90       584\n",
            "weighted avg       0.93      0.91      0.91       584\n",
            "\n"
          ],
          "name": "stdout"
        }
      ]
    },
    {
      "cell_type": "markdown",
      "metadata": {
        "id": "U1plmgZTzbnl",
        "colab_type": "text"
      },
      "source": [
        "# Alternative model\n",
        "For reducing a bit the dimensionality inside the network I will add a MaxPooling layer before the dense one, let's see the performances:"
      ]
    },
    {
      "cell_type": "code",
      "metadata": {
        "id": "w9Vx3AmazbNi",
        "colab_type": "code",
        "colab": {}
      },
      "source": [
        "from keras.layers import MaxPooling2D\n",
        "#create model\n",
        "net = Sequential()\n",
        "#add model layers\n",
        "net.add(Conv2D(64, kernel_size=3, activation='relu', input_shape=input_shape))\n",
        "net.add(Conv2D(32, kernel_size=3, activation='relu'))\n",
        "net.add(MaxPooling2D(pool_size=(4, 4), strides=(2, 2)))\n",
        "net.add(Flatten())\n",
        "net.add(Dense(n_classes, activation='softmax'))"
      ],
      "execution_count": 0,
      "outputs": []
    },
    {
      "cell_type": "code",
      "metadata": {
        "id": "QQr4Qkf-za9w",
        "colab_type": "code",
        "colab": {
          "base_uri": "https://localhost:8080/",
          "height": 340
        },
        "outputId": "b278dadf-fefa-43ac-aea5-477dd9a40cb1"
      },
      "source": [
        "print(net.summary())"
      ],
      "execution_count": 79,
      "outputs": [
        {
          "output_type": "stream",
          "text": [
            "Model: \"sequential_6\"\n",
            "_________________________________________________________________\n",
            "Layer (type)                 Output Shape              Param #   \n",
            "=================================================================\n",
            "conv2d_11 (Conv2D)           (None, 222, 222, 64)      640       \n",
            "_________________________________________________________________\n",
            "conv2d_12 (Conv2D)           (None, 220, 220, 32)      18464     \n",
            "_________________________________________________________________\n",
            "max_pooling2d_4 (MaxPooling2 (None, 109, 109, 32)      0         \n",
            "_________________________________________________________________\n",
            "flatten_6 (Flatten)          (None, 380192)            0         \n",
            "_________________________________________________________________\n",
            "dense_7 (Dense)              (None, 7)                 2661351   \n",
            "=================================================================\n",
            "Total params: 2,680,455\n",
            "Trainable params: 2,680,455\n",
            "Non-trainable params: 0\n",
            "_________________________________________________________________\n",
            "None\n"
          ],
          "name": "stdout"
        }
      ]
    },
    {
      "cell_type": "code",
      "metadata": {
        "id": "k-XcIl4w0PBR",
        "colab_type": "code",
        "colab": {}
      },
      "source": [
        "net.compile(loss=keras.losses.categorical_crossentropy,\n",
        "            optimizer=keras.optimizers.RMSprop(),\n",
        "            metrics=[\"accuracy\"])"
      ],
      "execution_count": 0,
      "outputs": []
    },
    {
      "cell_type": "code",
      "metadata": {
        "id": "KezDnEak0O-O",
        "colab_type": "code",
        "colab": {
          "base_uri": "https://localhost:8080/",
          "height": 411
        },
        "outputId": "7f19460e-02f9-4719-f79c-e65dec552c0f"
      },
      "source": [
        "history = net.fit_generator(train_generator,\n",
        "                  verbose=1,\n",
        "                  epochs=50,\n",
        "                  steps_per_epoch=train_generator.n//train_generator.batch_size,\n",
        "                  callbacks=[callback],\n",
        "                  validation_data=val_generator)"
      ],
      "execution_count": 81,
      "outputs": [
        {
          "output_type": "stream",
          "text": [
            "Epoch 1/50\n",
            "70/70 [==============================] - 8s 118ms/step - loss: 1.2590 - accuracy: 0.6781 - val_loss: 0.1257 - val_accuracy: 0.9555\n",
            "Epoch 2/50\n",
            "70/70 [==============================] - 8s 117ms/step - loss: 0.1846 - accuracy: 0.9540 - val_loss: 0.2144 - val_accuracy: 0.9726\n",
            "Epoch 3/50\n",
            "70/70 [==============================] - 8s 117ms/step - loss: 0.1436 - accuracy: 0.9679 - val_loss: 0.3896 - val_accuracy: 0.9897\n",
            "Epoch 4/50\n",
            "70/70 [==============================] - 8s 115ms/step - loss: 0.1121 - accuracy: 0.9716 - val_loss: 0.1883 - val_accuracy: 0.9897\n",
            "Epoch 5/50\n",
            "70/70 [==============================] - 8s 115ms/step - loss: 0.0527 - accuracy: 0.9865 - val_loss: 0.0141 - val_accuracy: 0.9829\n",
            "Epoch 6/50\n",
            "70/70 [==============================] - 8s 114ms/step - loss: 0.0203 - accuracy: 0.9937 - val_loss: 0.0044 - val_accuracy: 0.9863\n",
            "Epoch 7/50\n",
            "70/70 [==============================] - 8s 114ms/step - loss: 0.2273 - accuracy: 0.9851 - val_loss: 0.0093 - val_accuracy: 0.9812\n",
            "Epoch 8/50\n",
            "70/70 [==============================] - 8s 114ms/step - loss: 0.0333 - accuracy: 0.9928 - val_loss: 0.3832 - val_accuracy: 0.9914\n",
            "Epoch 9/50\n",
            "70/70 [==============================] - 8s 115ms/step - loss: 0.0149 - accuracy: 0.9955 - val_loss: 0.0448 - val_accuracy: 0.9897\n",
            "Epoch 10/50\n",
            "70/70 [==============================] - 8s 112ms/step - loss: 0.0335 - accuracy: 0.9932 - val_loss: 0.4453 - val_accuracy: 0.9897\n",
            "Epoch 11/50\n",
            "70/70 [==============================] - 8s 111ms/step - loss: 7.6507e-04 - accuracy: 1.0000 - val_loss: 1.9224 - val_accuracy: 0.3288\n"
          ],
          "name": "stdout"
        }
      ]
    },
    {
      "cell_type": "code",
      "metadata": {
        "id": "RI8oBUTR0O79",
        "colab_type": "code",
        "colab": {
          "base_uri": "https://localhost:8080/",
          "height": 34
        },
        "outputId": "2f274540-2256-4d3c-b181-720c977d43f0"
      },
      "source": [
        "net.evaluate_generator(train_generator)"
      ],
      "execution_count": 82,
      "outputs": [
        {
          "output_type": "execute_result",
          "data": {
            "text/plain": [
              "[0.0055735451169312, 0.9968847632408142]"
            ]
          },
          "metadata": {
            "tags": []
          },
          "execution_count": 82
        }
      ]
    },
    {
      "cell_type": "code",
      "metadata": {
        "id": "SgCXwizX0O4p",
        "colab_type": "code",
        "colab": {
          "base_uri": "https://localhost:8080/",
          "height": 34
        },
        "outputId": "df0a5fcd-d317-46d7-8099-fead45a6acab"
      },
      "source": [
        "net.evaluate_generator(val_generator)"
      ],
      "execution_count": 83,
      "outputs": [
        {
          "output_type": "execute_result",
          "data": {
            "text/plain": [
              "[0.004366896115243435, 0.9863013625144958]"
            ]
          },
          "metadata": {
            "tags": []
          },
          "execution_count": 83
        }
      ]
    },
    {
      "cell_type": "code",
      "metadata": {
        "id": "jV4ZFFMH6cbH",
        "colab_type": "code",
        "colab": {
          "base_uri": "https://localhost:8080/",
          "height": 255
        },
        "outputId": "f4b33753-5281-4ad1-ca6f-b1898e31d4f9"
      },
      "source": [
        "cm_val, cr_val = classification_report_generator(val_generator)\n",
        "print(cr_val)"
      ],
      "execution_count": 84,
      "outputs": [
        {
          "output_type": "stream",
          "text": [
            "              precision    recall  f1-score   support\n",
            "\n",
            "  alessandro       1.00      1.00      1.00        92\n",
            "      alinda       0.99      1.00      0.99        92\n",
            "        cami       0.99      0.99      0.99        92\n",
            "        gian       0.99      0.99      0.99        92\n",
            "      khaled       1.00      0.93      0.97        92\n",
            "       mamma       0.98      1.00      0.99        92\n",
            "        papi       0.91      1.00      0.96        32\n",
            "\n",
            "    accuracy                           0.99       584\n",
            "   macro avg       0.98      0.99      0.98       584\n",
            "weighted avg       0.99      0.99      0.99       584\n",
            "\n"
          ],
          "name": "stdout"
        }
      ]
    },
    {
      "cell_type": "markdown",
      "metadata": {
        "id": "kFp6K5wa1Tmh",
        "colab_type": "text"
      },
      "source": [
        "Training time takes 1 iteration more, however the classification report show better performances.\n",
        "Let's store it for the moment."
      ]
    },
    {
      "cell_type": "code",
      "metadata": {
        "id": "k0xedtfM7ONo",
        "colab_type": "code",
        "colab": {}
      },
      "source": [
        "latest_model_number = max([int(e.split(\"_\")[0]) for e in os.listdir(\"/content/drive/My Drive/2D/models/\")])\n",
        "model_name = latest_model_number + 1\n",
        "model_filename = f\"/content/drive/My Drive/2D/models/{model_name}_model.h5\"\n",
        "json_filename = f\"/content/drive/My Drive/2D/models/{model_name}_model.json\"\n",
        "d = {}\n",
        "# d[\"mean\"] = [str(i) for i in mu]\n",
        "# d[\"std\"] = [str(i) for i in std]\n",
        "d[\"mask\"] = True\n",
        "d[\"model_n\"] = model_name\n",
        "d[\"featurewise_center\"] = False\n",
        "d[\"featurewise_std\"] = False\n",
        "d[\"class_indices\"] = [i[0] for i in train_generator.class_indices.items()]\n",
        "with open(json_filename, \"w\") as jsonf:\n",
        "    json.dump(d, jsonf)\n",
        "net.save(model_filename)"
      ],
      "execution_count": 0,
      "outputs": []
    },
    {
      "cell_type": "code",
      "metadata": {
        "id": "0nxOCiMF73nb",
        "colab_type": "code",
        "colab": {
          "base_uri": "https://localhost:8080/",
          "height": 34
        },
        "outputId": "c52a8f8f-4d00-4950-f806-42af400c5de5"
      },
      "source": [
        "copy_of_history = history"
      ],
      "execution_count": 87,
      "outputs": [
        {
          "output_type": "execute_result",
          "data": {
            "text/plain": [
              "<keras.callbacks.callbacks.History at 0x7f5391297748>"
            ]
          },
          "metadata": {
            "tags": []
          },
          "execution_count": 87
        }
      ]
    },
    {
      "cell_type": "markdown",
      "metadata": {
        "id": "rX8N8wTH7wz2",
        "colab_type": "text"
      },
      "source": [
        "Another thing we can try is to double the steps per epoch parameter, so that more horizontal flips and brightness changes are performed"
      ]
    },
    {
      "cell_type": "code",
      "metadata": {
        "id": "0dKnPKVY1tvG",
        "colab_type": "code",
        "colab": {}
      },
      "source": [
        "#create model\n",
        "net = Sequential()\n",
        "#add model layers\n",
        "net.add(Conv2D(64, kernel_size=3, activation='relu', input_shape=input_shape))\n",
        "net.add(Conv2D(32, kernel_size=3, activation='relu'))\n",
        "net.add(MaxPooling2D(pool_size=(4, 4), strides=(2, 2)))\n",
        "net.add(Flatten())\n",
        "net.add(Dense(n_classes, activation='softmax'))\n",
        "net.compile(loss=keras.losses.categorical_crossentropy,\n",
        "            optimizer=keras.optimizers.RMSprop(),\n",
        "            metrics=[\"accuracy\"])"
      ],
      "execution_count": 0,
      "outputs": []
    },
    {
      "cell_type": "code",
      "metadata": {
        "id": "I8-RzIRr1teb",
        "colab_type": "code",
        "colab": {
          "base_uri": "https://localhost:8080/",
          "height": 411
        },
        "outputId": "859731cb-fc73-414f-be7c-eea3fdbdc0d4"
      },
      "source": [
        "doubled_steps_per_epoch = 2 * (train_generator.n//train_generator.batch_size)\n",
        "history = net.fit_generator(train_generator,\n",
        "                  verbose=1,\n",
        "                  epochs=50,\n",
        "                  steps_per_epoch=doubled_steps_per_epoch,\n",
        "                  callbacks=[callback],\n",
        "                  validation_data=val_generator)"
      ],
      "execution_count": 90,
      "outputs": [
        {
          "output_type": "stream",
          "text": [
            "Epoch 1/50\n",
            "140/140 [==============================] - 16s 112ms/step - loss: 0.9029 - accuracy: 0.8038 - val_loss: 0.0698 - val_accuracy: 0.9658\n",
            "Epoch 2/50\n",
            "140/140 [==============================] - 16s 111ms/step - loss: 0.0721 - accuracy: 0.9833 - val_loss: 0.0755 - val_accuracy: 0.9914\n",
            "Epoch 3/50\n",
            "140/140 [==============================] - 15s 109ms/step - loss: 0.0298 - accuracy: 0.9901 - val_loss: 0.3547 - val_accuracy: 0.9521\n",
            "Epoch 4/50\n",
            "140/140 [==============================] - 15s 109ms/step - loss: 0.0503 - accuracy: 0.9914 - val_loss: 0.3071 - val_accuracy: 0.9914\n",
            "Epoch 5/50\n",
            "140/140 [==============================] - 15s 106ms/step - loss: 0.0510 - accuracy: 0.9935 - val_loss: 0.4972 - val_accuracy: 0.9914\n",
            "Epoch 6/50\n",
            "140/140 [==============================] - 15s 107ms/step - loss: 0.0984 - accuracy: 0.9901 - val_loss: 0.0015 - val_accuracy: 0.8322\n",
            "Epoch 7/50\n",
            "140/140 [==============================] - 15s 107ms/step - loss: 0.0238 - accuracy: 0.9964 - val_loss: 0.1613 - val_accuracy: 0.9914\n",
            "Epoch 8/50\n",
            "140/140 [==============================] - 15s 106ms/step - loss: 0.0270 - accuracy: 0.9950 - val_loss: 0.1528 - val_accuracy: 0.9932\n",
            "Epoch 9/50\n",
            "140/140 [==============================] - 15s 106ms/step - loss: 0.0095 - accuracy: 0.9980 - val_loss: 0.3578 - val_accuracy: 0.9932\n",
            "Epoch 10/50\n",
            "140/140 [==============================] - 16s 113ms/step - loss: 0.0500 - accuracy: 0.9948 - val_loss: 0.1513 - val_accuracy: 0.9932\n",
            "Epoch 11/50\n",
            "140/140 [==============================] - 15s 106ms/step - loss: 0.0115 - accuracy: 0.9975 - val_loss: 0.2876 - val_accuracy: 0.9932\n"
          ],
          "name": "stdout"
        }
      ]
    },
    {
      "cell_type": "code",
      "metadata": {
        "id": "-kWruNHj3jac",
        "colab_type": "code",
        "colab": {
          "base_uri": "https://localhost:8080/",
          "height": 34
        },
        "outputId": "cf4d7db9-c9b7-4b02-ff42-99f54406eed5"
      },
      "source": [
        "net.evaluate_generator(train_generator)"
      ],
      "execution_count": 91,
      "outputs": [
        {
          "output_type": "execute_result",
          "data": {
            "text/plain": [
              "[0.1061246246099472, 0.8344459533691406]"
            ]
          },
          "metadata": {
            "tags": []
          },
          "execution_count": 91
        }
      ]
    },
    {
      "cell_type": "code",
      "metadata": {
        "id": "9zHYMcFs3jR8",
        "colab_type": "code",
        "colab": {
          "base_uri": "https://localhost:8080/",
          "height": 34
        },
        "outputId": "4f910383-4172-45a3-d599-793c629d9d65"
      },
      "source": [
        "net.evaluate_generator(val_generator)"
      ],
      "execution_count": 92,
      "outputs": [
        {
          "output_type": "execute_result",
          "data": {
            "text/plain": [
              "[0.0015082050813362002, 0.8321917653083801]"
            ]
          },
          "metadata": {
            "tags": []
          },
          "execution_count": 92
        }
      ]
    },
    {
      "cell_type": "code",
      "metadata": {
        "id": "iQxNuzLi8NMh",
        "colab_type": "code",
        "colab": {
          "base_uri": "https://localhost:8080/",
          "height": 255
        },
        "outputId": "420c7d8c-92ec-428d-ce37-6cc604af8126"
      },
      "source": [
        "cm_val, cr_val = classification_report_generator(val_generator)\n",
        "print(cr_val)"
      ],
      "execution_count": 93,
      "outputs": [
        {
          "output_type": "stream",
          "text": [
            "              precision    recall  f1-score   support\n",
            "\n",
            "  alessandro       0.91      1.00      0.95        92\n",
            "      alinda       0.97      0.96      0.96        92\n",
            "        cami       1.00      0.97      0.98        92\n",
            "        gian       0.60      0.99      0.75        92\n",
            "      khaled       1.00      0.45      0.62        92\n",
            "       mamma       1.00      0.58      0.73        92\n",
            "        papi       0.55      1.00      0.71        32\n",
            "\n",
            "    accuracy                           0.83       584\n",
            "   macro avg       0.86      0.85      0.82       584\n",
            "weighted avg       0.89      0.83      0.83       584\n",
            "\n"
          ],
          "name": "stdout"
        }
      ]
    },
    {
      "cell_type": "markdown",
      "metadata": {
        "id": "LqzPkfZB4mjH",
        "colab_type": "text"
      },
      "source": [
        "# Evaluation of best model\n",
        "The best model is the one obtained after adding a MaxPoolLayer. Let's evaluate it:"
      ]
    },
    {
      "cell_type": "code",
      "metadata": {
        "id": "st0xp84d9DFC",
        "colab_type": "code",
        "colab": {}
      },
      "source": [
        "from keras.models import load_model\n",
        "net = load_model(model_filename)"
      ],
      "execution_count": 0,
      "outputs": []
    },
    {
      "cell_type": "code",
      "metadata": {
        "colab_type": "code",
        "id": "wessu9iXFLz_",
        "outputId": "1060efc8-b76d-45a2-814e-551d8b580b3a",
        "colab": {
          "base_uri": "https://localhost:8080/",
          "height": 34
        }
      },
      "source": [
        "net.evaluate_generator(test_generator)"
      ],
      "execution_count": 96,
      "outputs": [
        {
          "output_type": "execute_result",
          "data": {
            "text/plain": [
              "[1.4185728105076123e-05, 0.9906832575798035]"
            ]
          },
          "metadata": {
            "tags": []
          },
          "execution_count": 96
        }
      ]
    },
    {
      "cell_type": "code",
      "metadata": {
        "colab_type": "code",
        "id": "KRF-DoOhswQg",
        "outputId": "f92bf70e-7e3f-4f68-e147-4e0bc02900eb",
        "colab": {
          "base_uri": "https://localhost:8080/",
          "height": 255
        }
      },
      "source": [
        "cm_val, cr_val = classification_report_generator(val_generator)\n",
        "print(cr_val)"
      ],
      "execution_count": 97,
      "outputs": [
        {
          "output_type": "stream",
          "text": [
            "              precision    recall  f1-score   support\n",
            "\n",
            "  alessandro       1.00      1.00      1.00        92\n",
            "      alinda       0.99      1.00      0.99        92\n",
            "        cami       0.99      0.99      0.99        92\n",
            "        gian       0.99      0.99      0.99        92\n",
            "      khaled       1.00      0.93      0.97        92\n",
            "       mamma       0.98      1.00      0.99        92\n",
            "        papi       0.91      1.00      0.96        32\n",
            "\n",
            "    accuracy                           0.99       584\n",
            "   macro avg       0.98      0.99      0.98       584\n",
            "weighted avg       0.99      0.99      0.99       584\n",
            "\n"
          ],
          "name": "stdout"
        }
      ]
    },
    {
      "cell_type": "code",
      "metadata": {
        "colab_type": "code",
        "id": "yXqZauUgvW2_",
        "outputId": "4cc3242c-e9cf-4e03-904c-ae215af6cc8e",
        "colab": {
          "base_uri": "https://localhost:8080/",
          "height": 255
        }
      },
      "source": [
        "cm_test, cr_test = classification_report_generator(test_generator)\n",
        "print(cr_test)"
      ],
      "execution_count": 98,
      "outputs": [
        {
          "output_type": "stream",
          "text": [
            "              precision    recall  f1-score   support\n",
            "\n",
            "  alessandro       1.00      1.00      1.00        46\n",
            "      alinda       1.00      1.00      1.00        46\n",
            "        cami       1.00      0.98      0.99        46\n",
            "        gian       1.00      0.98      0.99        46\n",
            "      khaled       0.96      1.00      0.98        46\n",
            "       mamma       0.98      0.98      0.98        46\n",
            "        papi       1.00      1.00      1.00        46\n",
            "\n",
            "    accuracy                           0.99       322\n",
            "   macro avg       0.99      0.99      0.99       322\n",
            "weighted avg       0.99      0.99      0.99       322\n",
            "\n"
          ],
          "name": "stdout"
        }
      ]
    },
    {
      "cell_type": "code",
      "metadata": {
        "colab_type": "code",
        "id": "cw4XlgHfyzv8",
        "outputId": "803b7288-537e-460c-ea33-671d19bf09fc",
        "colab": {
          "base_uri": "https://localhost:8080/",
          "height": 600
        }
      },
      "source": [
        "history=copy_of_history\n",
        "plt.figure(figsize=(15,10))\n",
        "plt.plot(history.history['accuracy'])\n",
        "plt.plot(history.history['val_accuracy'])\n",
        "plt.title('model accuracy')\n",
        "plt.ylabel('accuracy')\n",
        "plt.xlabel('epoch')\n",
        "plt.legend(['train', 'val'], loc='upper left')\n",
        "plt.show()"
      ],
      "execution_count": 99,
      "outputs": [
        {
          "output_type": "display_data",
          "data": {
            "image/png": "[encoded data removed]",
            "text/plain": [
              "<Figure size 1080x720 with 1 Axes>"
            ]
          },
          "metadata": {
            "tags": [],
            "needs_background": "light"
          }
        }
      ]
    },
    {
      "cell_type": "code",
      "metadata": {
        "colab_type": "code",
        "id": "61O6WNJAAoPX",
        "outputId": "9db7474c-c0af-4af1-aedc-082a485c0e80",
        "colab": {
          "base_uri": "https://localhost:8080/",
          "height": 596
        }
      },
      "source": [
        "plt.figure(figsize=(15,10))\n",
        "plt.plot(history.history['loss'])\n",
        "plt.plot(history.history['val_loss'])\n",
        "plt.title('model loss')\n",
        "plt.ylabel('loss')\n",
        "plt.xlabel('epoch')\n",
        "plt.legend(['train', 'val'], loc='upper left')\n",
        "plt.show()"
      ],
      "execution_count": 100,
      "outputs": [
        {
          "output_type": "display_data",
          "data": {
            "image/png": "[encoded data removed]",
            "text/plain": [
              "<Figure size 1080x720 with 1 Axes>"
            ]
          },
          "metadata": {
            "tags": [],
            "needs_background": "light"
          }
        }
      ]
    },
    {
      "cell_type": "markdown",
      "metadata": {
        "colab_type": "text",
        "id": "vQk1W0jrAwCb"
      },
      "source": [
        "# TODO\n",
        "\n",
        "- Try different architectures\n",
        "- Collect more data?\n",
        "- look at these? \n",
        "  - https://github.com/Golbstein/keras-face-recognition\n",
        "  - https://github.com/krasserm/face-recognition"
      ]
    },
    {
      "cell_type": "code",
      "metadata": {
        "id": "r_eNb91cdkYJ",
        "colab_type": "code",
        "colab": {}
      },
      "source": [
        ""
      ],
      "execution_count": 0,
      "outputs": []
    }
  ]
}
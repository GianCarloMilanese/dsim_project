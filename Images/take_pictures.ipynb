{
 "cells": [
  {
   "cell_type": "markdown",
   "metadata": {},
   "source": [
    "# Pictures acquisition"
   ]
  },
  {
   "cell_type": "code",
   "execution_count": null,
   "metadata": {},
   "outputs": [],
   "source": [
    "import cv2 as cv\n",
    "import os\n",
    "import re\n",
    "import IPython.display as ipd"
   ]
  },
  {
   "cell_type": "markdown",
   "metadata": {},
   "source": [
    "OpenCV fornisce una serie di modelli pre-addestrati per la detection di specifiche classi, basati sul metodo di Viola e Jones:<br/>\n",
    "https://docs.opencv.org/3.4/db/d28/tutorial_cascade_classifier.html<br/>\n",
    "https://docs.opencv.org/3.4/dc/d88/tutorial_traincascade.html\n",
    "\n",
    "Nel caso di installazione basata su *conda*, questi modelli possono essere trovati in:<br/>\n",
    "``.conda/envs/<ambiente>/Lib/site-packages/cv2/data/``\n",
    "\n",
    "Nel caso di installazione basata su *virtualenv*, questi modelli possono essere trovati in:<br/>\n",
    "``<ambiente>/lib/python<X>/site-packages/cv2/data/``"
   ]
  },
  {
   "cell_type": "code",
   "execution_count": null,
   "metadata": {},
   "outputs": [],
   "source": [
    "# Caricamento modello per il rilevamento di volti frontali\n",
    "model_filename = 'C:/Users/gianc/Anaconda3/envs/dsim/Lib/site-packages/cv2/data/haarcascade_frontalface_default.xml'\n",
    "face_detector = cv.CascadeClassifier(model_filename)"
   ]
  },
  {
   "cell_type": "markdown",
   "metadata": {},
   "source": [
    "`cv.CascadeClassifier.detectMultiScale(image[, scaleFactor[, minNeighbors[, flags[, minSize[, maxSize]]]]]`\n",
    "\n",
    "Parametri aggiuntivi:\n",
    "\n",
    "- https://docs.opencv.org/2.4/modules/objdetect/doc/cascade_classification.html\n",
    "- https://docs.opencv.org/2.4/modules/core/doc/drawing_functions.html\n",
    "- https://docs.opencv.org/3.4.7/dc/da5/tutorial_py_drawing_functions.html"
   ]
  },
  {
   "cell_type": "code",
   "execution_count": null,
   "metadata": {},
   "outputs": [],
   "source": [
    "def crop_picture(img, more_space=30):\n",
    "    m = more_space # some additional space around the cropped face\n",
    "    if img is not None:\n",
    "        faces = face_detector.detectMultiScale(img[:,:,1]) # (img_gray)\n",
    "        if len(faces) > 0:\n",
    "            (x,y,w,h) = faces[0]\n",
    "            img = img[(y-m):(y+h+m), (x-m):(x+w+m), :]\n",
    "    return img[:,::-1]"
   ]
  },
  {
   "cell_type": "code",
   "execution_count": null,
   "metadata": {},
   "outputs": [],
   "source": [
    "def save_pictures(name, basedir, file_format, crop=True, more_space = 50):\n",
    "    name_basedir = basedir + \"/\" + name + \"/\"\n",
    "    if not os.path.isdir(name_basedir):\n",
    "        print(f\"Created new directory {name_basedir}\")\n",
    "        os.makedirs(name_basedir)\n",
    "\n",
    "    current_images = [img for img in os.listdir(name_basedir) if img.endswith(file_format)]\n",
    "    \n",
    "    # latest picture will be the id of the most recent picture in the 'name_basedir' directory\n",
    "    # so this function will note overwrite old pictures\n",
    "    # if the \"name_basedir\" directory is empty, it will start from 0\n",
    "    if len(current_images) == 0:\n",
    "        latest_picture = -1\n",
    "    else:\n",
    "        latest_picture = max([int(re.findall(\"\\d+\", current_images[i])[0]) for i in range(len(current_images))])\n",
    "        # alternative\n",
    "        # latest_picture = max([int(current_images[i].split(\"_\")[1].split(\".\")[0]) for i in range(len(current_images))])\n",
    "    \n",
    "    filename_format = f\"{basedir}/{name}/{name}_\"+\"{}\"+f\".{file_format}\"\n",
    "    \n",
    "    i = latest_picture\n",
    "    cap = cv.VideoCapture(0)\n",
    "    while(True):\n",
    "        \n",
    "        r, frame = cap.read()\n",
    "        if crop:\n",
    "            frame = crop_picture(frame, more_space)\n",
    "            \n",
    "        # Visualizzazione esterna\n",
    "        try:\n",
    "            cv.imshow('Video', frame)\n",
    "        except Exception:\n",
    "            pass\n",
    "\n",
    "        # Save is 's' is pressed\n",
    "        if cv.waitKey(1) & 0xFF == ord('s'):\n",
    "            \n",
    "            # If crop is set to true, to make sure that the image has been cropped we check if it is a square\n",
    "            if frame.shape[0] == frame.shape[1] or (not crop):\n",
    "                \n",
    "                i += 1\n",
    "                filename = filename_format.format(i)\n",
    "                cv.imwrite(filename, frame)\n",
    "                ipd.clear_output(wait=True)\n",
    "                print(f\"Saved {filename}\".replace(\"//\", \"/\"))\n",
    "                \n",
    "        # exit if 'q' is pressed\n",
    "        if cv.waitKey(1) & 0xFF == ord('q'):\n",
    "            break\n",
    "            \n",
    "        \n",
    "            \n",
    "    cap.release()\n",
    "    cv.destroyAllWindows()"
   ]
  },
  {
   "cell_type": "code",
   "execution_count": null,
   "metadata": {},
   "outputs": [],
   "source": [
    "name = \"gian\"\n",
    "basedir = \"./pictures_new/\"\n",
    "file_format = \"png\" # or jpg?"
   ]
  },
  {
   "cell_type": "markdown",
   "metadata": {},
   "source": [
    "Hold \"s\" down to save pictures quickly:"
   ]
  },
  {
   "cell_type": "code",
   "execution_count": null,
   "metadata": {
    "scrolled": true
   },
   "outputs": [],
   "source": [
    "save_pictures(name, basedir, file_format, True, 30)"
   ]
  },
  {
   "cell_type": "markdown",
   "metadata": {},
   "source": [
    "It works, but sometimes you need to spam \"q\" to quit."
   ]
  },
  {
   "cell_type": "markdown",
   "metadata": {},
   "source": [
    "# Move pictures to train/val/test folders"
   ]
  },
  {
   "cell_type": "code",
   "execution_count": 6,
   "metadata": {},
   "outputs": [],
   "source": [
    "import utils_2d"
   ]
  },
  {
   "cell_type": "code",
   "execution_count": 7,
   "metadata": {},
   "outputs": [],
   "source": [
    "# # Creating Train / Val / Test folders (One time use)\n",
    "root_dir = 'pictures_masked_resized_heavy'\n",
    "dest_dir = 'pictures_masked_resized_heavy_split' # or the same as root_dir"
   ]
  },
  {
   "cell_type": "code",
   "execution_count": 8,
   "metadata": {},
   "outputs": [
    {
     "name": "stdout",
     "output_type": "stream",
     "text": [
      "Current class: alessandro\n",
      "Total images: 459\n",
      "Training: 321\n",
      "Validation: 92\n",
      "Testing: 46\n",
      "\n",
      "Current class: alinda\n",
      "Total images: 459\n",
      "Training: 321\n",
      "Validation: 92\n",
      "Testing: 46\n",
      "\n",
      "Current class: cami\n",
      "Total images: 459\n",
      "Training: 321\n",
      "Validation: 92\n",
      "Testing: 46\n",
      "\n",
      "Current class: gian\n",
      "Total images: 459\n",
      "Training: 321\n",
      "Validation: 92\n",
      "Testing: 46\n",
      "\n",
      "Current class: khaled\n",
      "Total images: 459\n",
      "Training: 321\n",
      "Validation: 92\n",
      "Testing: 46\n",
      "\n",
      "Current class: luca\n",
      "Total images: 459\n",
      "Training: 321\n",
      "Validation: 92\n",
      "Testing: 46\n",
      "\n",
      "Current class: mamma\n",
      "Total images: 459\n",
      "Training: 321\n",
      "Validation: 92\n",
      "Testing: 46\n",
      "\n",
      "Current class: papi\n",
      "Total images: 459\n",
      "Training: 321\n",
      "Validation: 92\n",
      "Testing: 46\n",
      "\n"
     ]
    }
   ],
   "source": [
    "utils_2d.pictures_train_test_val_split(root_dir, dest_dir, verbose=True)"
   ]
  },
  {
   "cell_type": "code",
   "execution_count": null,
   "metadata": {},
   "outputs": [],
   "source": []
  }
 ],
 "metadata": {
  "kernelspec": {
   "display_name": "Python 3",
   "language": "python",
   "name": "python3"
  },
  "language_info": {
   "codemirror_mode": {
    "name": "ipython",
    "version": 3
   },
   "file_extension": ".py",
   "mimetype": "text/x-python",
   "name": "python",
   "nbconvert_exporter": "python",
   "pygments_lexer": "ipython3",
   "version": "3.7.4"
  }
 },
 "nbformat": 4,
 "nbformat_minor": 2
}

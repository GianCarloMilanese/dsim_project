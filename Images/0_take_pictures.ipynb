{
 "cells": [
  {
   "cell_type": "markdown",
   "metadata": {},
   "source": [
    "# Pictures acquisition"
   ]
  },
  {
   "cell_type": "code",
   "execution_count": null,
   "metadata": {},
   "outputs": [],
   "source": [
    "import cv2 as cv\n",
    "import os\n",
    "import re\n",
    "import IPython.display as ipd"
   ]
  },
  {
   "cell_type": "code",
   "execution_count": null,
   "metadata": {},
   "outputs": [],
   "source": [
    "import utils_2d"
   ]
  },
  {
   "cell_type": "markdown",
   "metadata": {},
   "source": [
    "Load model for detecting frontal faces:"
   ]
  },
  {
   "cell_type": "code",
   "execution_count": null,
   "metadata": {},
   "outputs": [],
   "source": [
    "model_filename = 'haarcascade_frontalface_default.xml'\n",
    "face_detector = cv.CascadeClassifier(model_filename)"
   ]
  },
  {
   "cell_type": "markdown",
   "metadata": {},
   "source": [
    "`cv.CascadeClassifier.detectMultiScale(image[, scaleFactor[, minNeighbors[, flags[, minSize[, maxSize]]]]]`\n",
    "\n",
    "Parametri aggiuntivi:\n",
    "\n",
    "- https://docs.opencv.org/2.4/modules/objdetect/doc/cascade_classification.html\n",
    "- https://docs.opencv.org/2.4/modules/core/doc/drawing_functions.html\n",
    "- https://docs.opencv.org/3.4.7/dc/da5/tutorial_py_drawing_functions.html"
   ]
  },
  {
   "cell_type": "code",
   "execution_count": null,
   "metadata": {},
   "outputs": [],
   "source": [
    "def crop_picture(img, more_space=30):\n",
    "    m = more_space # some additional space around the cropped face\n",
    "    if img is not None:\n",
    "        faces = face_detector.detectMultiScale(img[:,:,1])\n",
    "        if len(faces) > 0:\n",
    "            (x,y,w,h) = faces[0]\n",
    "            img = img[(y-m):(y+h+m), (x-m):(x+w+m), :]\n",
    "    return img[:,::-1]"
   ]
  },
  {
   "cell_type": "code",
   "execution_count": null,
   "metadata": {},
   "outputs": [],
   "source": [
    "def save_pictures(name, basedir, file_format = \"png\", crop=True, more_space = 50):\n",
    "    \n",
    "    name_basedir = basedir + \"/\" + name + \"/\"\n",
    "    if not os.path.isdir(name_basedir):\n",
    "        print(f\"Created new directory {name_basedir}\")\n",
    "        os.makedirs(name_basedir)\n",
    "\n",
    "    current_images = [img for img in os.listdir(name_basedir) if img.endswith(file_format)]\n",
    "    \n",
    "    filename_format = f\"{basedir}/{name}/{name}_\"+\"{}\"+f\".{file_format}\"\n",
    "    \n",
    "    i = utils_2d.find_last_filename_id(current_images)\n",
    "    \n",
    "    cap = cv.VideoCapture(0)\n",
    "    while(True):\n",
    "        \n",
    "        r, frame = cap.read()\n",
    "        if crop:\n",
    "            frame = crop_picture(frame, more_space)\n",
    "            \n",
    "        try:\n",
    "            cv.imshow('Video', frame)\n",
    "        except Exception as e:\n",
    "            # uncomment for debugging\n",
    "            # print(e)\n",
    "            pass\n",
    "\n",
    "        \n",
    "        key = cv.waitKey(1)\n",
    "        \n",
    "        if (key & 0xFF) == ord('s'):    \n",
    "        # Save is 's' is pressed\n",
    "            if frame.shape[0] == frame.shape[1] or (not crop):\n",
    "                # If crop is set to true, to make sure that the image\n",
    "                # has been cropped we check if it is a square\n",
    "                i += 1\n",
    "                filename = filename_format.format(i)\n",
    "                cv.imwrite(filename, frame)\n",
    "                ipd.clear_output(wait=True)\n",
    "                print(f\"Saved {filename}\".replace(\"//\", \"/\"))\n",
    "                \n",
    "        elif (key & 0xFF) == ord('q'):\n",
    "        # exit if 'q' is pressed\n",
    "            break\n",
    "            \n",
    "    cap.release()\n",
    "    cv.destroyAllWindows()"
   ]
  },
  {
   "cell_type": "markdown",
   "metadata": {},
   "source": [
    "In case of errors, make sure the webcam is not used by other processes/notebooks.\n",
    "\n",
    "Hold down \"s\" to save pictures quickly:"
   ]
  },
  {
   "cell_type": "code",
   "execution_count": null,
   "metadata": {},
   "outputs": [],
   "source": [
    "name = \"gian\"\n",
    "basedir = \"./pictures_new/\"\n",
    "save_pictures(name, basedir, crop = True, more_space = 30)"
   ]
  }
 ],
 "metadata": {
  "kernelspec": {
   "display_name": "Python 3",
   "language": "python",
   "name": "python3"
  },
  "language_info": {
   "codemirror_mode": {
    "name": "ipython",
    "version": 3
   },
   "file_extension": ".py",
   "mimetype": "text/x-python",
   "name": "python",
   "nbconvert_exporter": "python",
   "pygments_lexer": "ipython3",
   "version": "3.7.7"
  }
 },
 "nbformat": 4,
 "nbformat_minor": 2
}

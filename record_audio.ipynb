{
 "cells": [
  {
   "cell_type": "code",
   "execution_count": 1,
   "metadata": {},
   "outputs": [],
   "source": [
    "# General Imports\n",
    "\n",
    "import numpy as np\n",
    "import os\n",
    "import time\n",
    "from tqdm.notebook import tqdm\n",
    "\n",
    "# Audio Imports\n",
    "\n",
    "import librosa\n",
    "from scipy.io import wavfile as wav\n",
    "# import simpleaudio as sa\n",
    "import IPython.display as ipd\n",
    "import sounddevice as sd\n",
    "# import wave"
   ]
  },
  {
   "cell_type": "code",
   "execution_count": 2,
   "metadata": {},
   "outputs": [],
   "source": [
    "attempt = 0\n",
    "name = \"gian\"\n",
    "duration = 2\n",
    "rec_rate = 22050 # sample rate of the provided recordings\n",
    "recordings_dir = \"my_recordings/\""
   ]
  },
  {
   "cell_type": "code",
   "execution_count": 3,
   "metadata": {},
   "outputs": [],
   "source": [
    "if not os.path.isdir(recordings_dir):\n",
    "    os.makedirs(recordings_dir)"
   ]
  },
  {
   "cell_type": "code",
   "execution_count": 4,
   "metadata": {},
   "outputs": [
    {
     "name": "stdout",
     "output_type": "stream",
     "text": [
      "DONE\n"
     ]
    }
   ],
   "source": [
    "i = 0\n",
    "while i < 10:\n",
    "    print(f\"Recording attempt {attempt}\")\n",
    "    filename = recordings_dir+\"_\".join([str(attempt), name, str(i)])+\".wav\"\n",
    "    print(f\"\\nNUMBER: {i}\")\n",
    "    print(\"Ready in 3...\", end = \"\")\n",
    "    time.sleep(1)\n",
    "    print(\"2...\", end = \"\")\n",
    "    time.sleep(1)\n",
    "    print(\"1...\")\n",
    "    time.sleep(1)\n",
    "    print(\"Go.\")\n",
    "    rec = sd.rec(int(duration * rec_rate), samplerate=rec_rate, channels=1, blocking=True)\n",
    "    print(\"Playing the recording.\")\n",
    "    sd.play(rec, rec_rate)\n",
    "        \n",
    "    # after hearing the recording, decide whether to record it again or continue to next number\n",
    "    # if you type anything, record again\n",
    "    # if you press enter, save current recording & go to next number\n",
    "    ok = input(\"OK?\")\n",
    "    if ok == \"\":\n",
    "        librosa.output.write_wav(filename, rec, rec_rate)\n",
    "        i += 1\n",
    "    ipd.clear_output(wait=True)\n",
    "print(\"DONE\")"
   ]
  },
  {
   "cell_type": "markdown",
   "metadata": {},
   "source": [
    "# Remove silence from recordings"
   ]
  },
  {
   "cell_type": "code",
   "execution_count": 5,
   "metadata": {},
   "outputs": [],
   "source": [
    "import subprocess"
   ]
  },
  {
   "cell_type": "code",
   "execution_count": 6,
   "metadata": {},
   "outputs": [],
   "source": [
    "output_dir = \"output/\"\n",
    "input_dir = \"my_recordings/\" # recordings_dir"
   ]
  },
  {
   "cell_type": "code",
   "execution_count": 7,
   "metadata": {},
   "outputs": [],
   "source": [
    "# check if input directory exists\n",
    "if not os.path.isdir(input_dir):\n",
    "    print(\"There should be an input \\\"my recordings\\\" directory.\")\n",
    "\n",
    "# create output directory if not there yet\n",
    "if not os.path.isdir(output_dir):\n",
    "    os.makedirs(output_dir)"
   ]
  },
  {
   "cell_type": "code",
   "execution_count": 8,
   "metadata": {},
   "outputs": [
    {
     "data": {
      "application/vnd.jupyter.widget-view+json": {
       "model_id": "6feab19a40cd4bcca3d91ac13bc858dc",
       "version_major": 2,
       "version_minor": 0
      },
      "text/plain": [
       "HBox(children=(FloatProgress(value=0.0, max=10.0), HTML(value='')))"
      ]
     },
     "metadata": {},
     "output_type": "display_data"
    },
    {
     "name": "stdout",
     "output_type": "stream",
     "text": [
      "\n"
     ]
    }
   ],
   "source": [
    "temp1 = output_dir+\"temp1.wav\"\n",
    "temp2 = output_dir+\"temp2.wav\"\n",
    "temp3 = output_dir+\"temp3.wav\"\n",
    "db=-48 # default was -96, but it didn't cut anything; test with a few recordings before deciding\n",
    "all_files = os.listdir(input_dir)\n",
    "\n",
    "for file in tqdm(all_files):\n",
    "    subprocess.run([\"ffmpeg\", \"-y\", \"-i\", input_dir+file, \"-af\", f\"silenceremove=1:0:{db}dB\", temp1])\n",
    "    subprocess.run([\"ffmpeg\", \"-y\", \"-i\", temp1, \"-af\", \"areverse\", temp2])\n",
    "    subprocess.run([\"ffmpeg\", \"-y\", \"-i\", temp2, \"-af\", f\"silenceremove=1:0.1:{db}dB\", temp3])\n",
    "    subprocess.run([\"ffmpeg\", \"-y\", \"-i\", temp3, \"-af\", \"areverse\", output_dir+file])\n",
    "    \n",
    "    os.remove(temp1)\n",
    "    os.remove(temp2)\n",
    "    os.remove(temp3)"
   ]
  },
  {
   "cell_type": "code",
   "execution_count": 9,
   "metadata": {
    "scrolled": true
   },
   "outputs": [
    {
     "data": {
      "application/vnd.jupyter.widget-view+json": {
       "model_id": "16e42272929344259fbf9943239d2e9e",
       "version_major": 2,
       "version_minor": 0
      },
      "text/plain": [
       "HBox(children=(FloatProgress(value=0.0, max=10.0), HTML(value='')))"
      ]
     },
     "metadata": {},
     "output_type": "display_data"
    },
    {
     "name": "stdout",
     "output_type": "stream",
     "text": [
      "\n"
     ]
    },
    {
     "data": {
      "text/plain": [
       "[0.5657596371882087,\n",
       " 0.4443537414965986,\n",
       " 0.2257142857142857,\n",
       " 0.2531972789115646,\n",
       " 0.3271201814058957,\n",
       " 0.5336961451247165,\n",
       " 0.4544671201814059,\n",
       " 0.583718820861678,\n",
       " 0.3543310657596372,\n",
       " 0.5040816326530613]"
      ]
     },
     "execution_count": 9,
     "metadata": {},
     "output_type": "execute_result"
    }
   ],
   "source": [
    "# check the durations of the cut recordings\n",
    "# (shold be less than 2 seconds)\n",
    "durations = []\n",
    "for file in tqdm(os.listdir(\"output\")):\n",
    "    sample, sample_rate = librosa.core.load('output/'+file)\n",
    "    duration = sample.shape[0]/sample_rate\n",
    "    durations.append(duration)\n",
    "durations"
   ]
  },
  {
   "cell_type": "code",
   "execution_count": 10,
   "metadata": {},
   "outputs": [
    {
     "data": {
      "application/vnd.jupyter.widget-view+json": {
       "model_id": "a933704a4a82423db992e1a7972a40a3",
       "version_major": 2,
       "version_minor": 0
      },
      "text/plain": [
       "HBox(children=(FloatProgress(value=0.0, max=10.0), HTML(value='')))"
      ]
     },
     "metadata": {},
     "output_type": "display_data"
    },
    {
     "name": "stdout",
     "output_type": "stream",
     "text": [
      "\n"
     ]
    }
   ],
   "source": [
    "# test if the cut makes sense (i.e., if number can still be heard)\n",
    "for rec_file in tqdm(os.listdir(\"output\")):\n",
    "    rec_rate, rec = wav.read(\"output/\"+rec_file)\n",
    "    sd.play(rec, rec_rate)\n",
    "    time.sleep(1) # without this, the audio cannot be heard..."
   ]
  }
 ],
 "metadata": {
  "kernelspec": {
   "display_name": "Python [conda env:dsim] *",
   "language": "python",
   "name": "conda-env-dsim-py"
  },
  "language_info": {
   "codemirror_mode": {
    "name": "ipython",
    "version": 3
   },
   "file_extension": ".py",
   "mimetype": "text/x-python",
   "name": "python",
   "nbconvert_exporter": "python",
   "pygments_lexer": "ipython3",
   "version": "3.7.4"
  }
 },
 "nbformat": 4,
 "nbformat_minor": 2
}

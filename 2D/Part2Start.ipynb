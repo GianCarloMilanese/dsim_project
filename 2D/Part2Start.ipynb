{
 "cells": [
  {
   "cell_type": "markdown",
   "metadata": {
    "colab_type": "text",
    "id": "4NiYVzWr4YWf"
   },
   "source": [
    "# Face Recognition - Fine Tuning (GOOGLE COLAB)"
   ]
  },
  {
   "cell_type": "code",
   "execution_count": 1,
   "metadata": {
    "colab": {
     "base_uri": "https://localhost:8080/",
     "height": 319
    },
    "colab_type": "code",
    "executionInfo": {
     "elapsed": 2399,
     "status": "ok",
     "timestamp": 1591283013073,
     "user": {
      "displayName": "Gian Carlo Milanese",
      "photoUrl": "",
      "userId": "08352423327035271918"
     },
     "user_tz": -120
    },
    "id": "xacbs7YfmnzS",
    "outputId": "9b30ed52-8067-4e15-d5b4-74c67f73cab7"
   },
   "outputs": [
    {
     "name": "stdout",
     "output_type": "stream",
     "text": [
      "Thu Jun  4 15:03:32 2020       \n",
      "+-----------------------------------------------------------------------------+\n",
      "| NVIDIA-SMI 440.82       Driver Version: 418.67       CUDA Version: 10.1     |\n",
      "|-------------------------------+----------------------+----------------------+\n",
      "| GPU  Name        Persistence-M| Bus-Id        Disp.A | Volatile Uncorr. ECC |\n",
      "| Fan  Temp  Perf  Pwr:Usage/Cap|         Memory-Usage | GPU-Util  Compute M. |\n",
      "|===============================+======================+======================|\n",
      "|   0  Tesla K80           Off  | 00000000:00:04.0 Off |                    0 |\n",
      "| N/A   48C    P8    29W / 149W |      0MiB / 11441MiB |      0%      Default |\n",
      "+-------------------------------+----------------------+----------------------+\n",
      "                                                                               \n",
      "+-----------------------------------------------------------------------------+\n",
      "| Processes:                                                       GPU Memory |\n",
      "|  GPU       PID   Type   Process name                             Usage      |\n",
      "|=============================================================================|\n",
      "|  No running processes found                                                 |\n",
      "+-----------------------------------------------------------------------------+\n"
     ]
    }
   ],
   "source": [
    "!nvidia-smi"
   ]
  },
  {
   "cell_type": "code",
   "execution_count": 0,
   "metadata": {
    "colab": {},
    "colab_type": "code",
    "id": "LsWn2GSH_5T6"
   },
   "outputs": [],
   "source": [
    "%tensorflow_version 2.x"
   ]
  },
  {
   "cell_type": "code",
   "execution_count": 3,
   "metadata": {
    "colab": {
     "base_uri": "https://localhost:8080/",
     "height": 35
    },
    "colab_type": "code",
    "executionInfo": {
     "elapsed": 6975,
     "status": "ok",
     "timestamp": 1591283018316,
     "user": {
      "displayName": "Gian Carlo Milanese",
      "photoUrl": "",
      "userId": "08352423327035271918"
     },
     "user_tz": -120
    },
    "id": "qicHhDWXIsue",
    "outputId": "f5be6938-9d86-4d5f-d40e-748c8ae782f4"
   },
   "outputs": [
    {
     "name": "stdout",
     "output_type": "stream",
     "text": [
      "\u001b[?25l\r",
      "\u001b[K     |▉                               | 10kB 22.9MB/s eta 0:00:01\r",
      "\u001b[K     |█▊                              | 20kB 2.2MB/s eta 0:00:01\r",
      "\u001b[K     |██▋                             | 30kB 2.8MB/s eta 0:00:01\r",
      "\u001b[K     |███▌                            | 40kB 2.1MB/s eta 0:00:01\r",
      "\u001b[K     |████▍                           | 51kB 2.4MB/s eta 0:00:01\r",
      "\u001b[K     |█████▏                          | 61kB 2.8MB/s eta 0:00:01\r",
      "\u001b[K     |██████                          | 71kB 3.0MB/s eta 0:00:01\r",
      "\u001b[K     |███████                         | 81kB 3.3MB/s eta 0:00:01\r",
      "\u001b[K     |███████▉                        | 92kB 3.1MB/s eta 0:00:01\r",
      "\u001b[K     |████████▊                       | 102kB 3.4MB/s eta 0:00:01\r",
      "\u001b[K     |█████████▌                      | 112kB 3.4MB/s eta 0:00:01\r",
      "\u001b[K     |██████████▍                     | 122kB 3.4MB/s eta 0:00:01\r",
      "\u001b[K     |███████████▎                    | 133kB 3.4MB/s eta 0:00:01\r",
      "\u001b[K     |████████████▏                   | 143kB 3.4MB/s eta 0:00:01\r",
      "\u001b[K     |█████████████                   | 153kB 3.4MB/s eta 0:00:01\r",
      "\u001b[K     |█████████████▉                  | 163kB 3.4MB/s eta 0:00:01\r",
      "\u001b[K     |██████████████▊                 | 174kB 3.4MB/s eta 0:00:01\r",
      "\u001b[K     |███████████████▋                | 184kB 3.4MB/s eta 0:00:01\r",
      "\u001b[K     |████████████████▌               | 194kB 3.4MB/s eta 0:00:01\r",
      "\u001b[K     |█████████████████▍              | 204kB 3.4MB/s eta 0:00:01\r",
      "\u001b[K     |██████████████████▎             | 215kB 3.4MB/s eta 0:00:01\r",
      "\u001b[K     |███████████████████             | 225kB 3.4MB/s eta 0:00:01\r",
      "\u001b[K     |████████████████████            | 235kB 3.4MB/s eta 0:00:01\r",
      "\u001b[K     |████████████████████▉           | 245kB 3.4MB/s eta 0:00:01\r",
      "\u001b[K     |█████████████████████▊          | 256kB 3.4MB/s eta 0:00:01\r",
      "\u001b[K     |██████████████████████▋         | 266kB 3.4MB/s eta 0:00:01\r",
      "\u001b[K     |███████████████████████▍        | 276kB 3.4MB/s eta 0:00:01\r",
      "\u001b[K     |████████████████████████▎       | 286kB 3.4MB/s eta 0:00:01\r",
      "\u001b[K     |█████████████████████████▏      | 296kB 3.4MB/s eta 0:00:01\r",
      "\u001b[K     |██████████████████████████      | 307kB 3.4MB/s eta 0:00:01\r",
      "\u001b[K     |███████████████████████████     | 317kB 3.4MB/s eta 0:00:01\r",
      "\u001b[K     |███████████████████████████▊    | 327kB 3.4MB/s eta 0:00:01\r",
      "\u001b[K     |████████████████████████████▋   | 337kB 3.4MB/s eta 0:00:01\r",
      "\u001b[K     |█████████████████████████████▌  | 348kB 3.4MB/s eta 0:00:01\r",
      "\u001b[K     |██████████████████████████████▍ | 358kB 3.4MB/s eta 0:00:01\r",
      "\u001b[K     |███████████████████████████████▎| 368kB 3.4MB/s eta 0:00:01\r",
      "\u001b[K     |████████████████████████████████| 378kB 3.4MB/s \n",
      "\u001b[?25h"
     ]
    }
   ],
   "source": [
    "!pip install -q keras==2.3.0"
   ]
  },
  {
   "cell_type": "code",
   "execution_count": 4,
   "metadata": {
    "colab": {
     "base_uri": "https://localhost:8080/",
     "height": 52
    },
    "colab_type": "code",
    "executionInfo": {
     "elapsed": 8393,
     "status": "ok",
     "timestamp": 1591283020058,
     "user": {
      "displayName": "Gian Carlo Milanese",
      "photoUrl": "",
      "userId": "08352423327035271918"
     },
     "user_tz": -120
    },
    "id": "YBLC2IjiIvwr",
    "outputId": "bb3c1255-5f5c-403b-ecdb-27b33f73ae3a"
   },
   "outputs": [
    {
     "name": "stderr",
     "output_type": "stream",
     "text": [
      "Using TensorFlow backend.\n"
     ]
    },
    {
     "name": "stdout",
     "output_type": "stream",
     "text": [
      "2.3.0\n"
     ]
    }
   ],
   "source": [
    "import keras\n",
    "print(keras.__version__)"
   ]
  },
  {
   "cell_type": "code",
   "execution_count": 0,
   "metadata": {
    "colab": {},
    "colab_type": "code",
    "id": "7Oing8Nfm4L9"
   },
   "outputs": [],
   "source": [
    "from keras.preprocessing import image as kimage\n",
    "from keras.applications import resnet_v2\n",
    "from keras.models import Model\n",
    "from keras.layers import Dense\n",
    "from keras.layers import BatchNormalization"
   ]
  },
  {
   "cell_type": "markdown",
   "metadata": {
    "colab_type": "text",
    "id": "q-XChVRmMSZP"
   },
   "source": [
    "# (Mount Google Drive from the menu on the left)"
   ]
  },
  {
   "cell_type": "markdown",
   "metadata": {
    "colab_type": "text",
    "id": "IIOWwaX5p3uS"
   },
   "source": [
    "### If you want to test with your pictures: execute this (pictures2 is the folder with your pictures split in train/val/test folders, change it as needed):"
   ]
  },
  {
   "cell_type": "code",
   "execution_count": 0,
   "metadata": {
    "colab": {},
    "colab_type": "code",
    "id": "I4IE9fkCHsmX"
   },
   "outputs": [],
   "source": [
    "my_pictures_dir =\"/content/drive/My Drive/2D/pictures_neutral_split\""
   ]
  },
  {
   "cell_type": "markdown",
   "metadata": {
    "colab_type": "text",
    "id": "IBLXmFKNqKSS"
   },
   "source": [
    "### If you want to test the code with the celebrities dataset, execute this (thumbnails_features_deduped_sample.zip is the zip file from the url in the slides with the project description):"
   ]
  },
  {
   "cell_type": "code",
   "execution_count": 0,
   "metadata": {
    "colab": {},
    "colab_type": "code",
    "id": "4w6K_TO74JG-"
   },
   "outputs": [],
   "source": [
    "# !unzip -qq \"/content/drive/My Drive/2D/thumbnails_features_deduped_sample.zip\""
   ]
  },
  {
   "cell_type": "code",
   "execution_count": 0,
   "metadata": {
    "colab": {},
    "colab_type": "code",
    "id": "wHhqQxop7nCo"
   },
   "outputs": [],
   "source": [
    "# !mkdir celebrities"
   ]
  },
  {
   "cell_type": "code",
   "execution_count": 0,
   "metadata": {
    "colab": {},
    "colab_type": "code",
    "id": "5Gue8K7K4qc1"
   },
   "outputs": [],
   "source": [
    "# !mv thumbnails_features_deduped_sample/* celebrities"
   ]
  },
  {
   "cell_type": "code",
   "execution_count": 0,
   "metadata": {
    "colab": {},
    "colab_type": "code",
    "id": "bzqrfV4gk-dk"
   },
   "outputs": [],
   "source": [
    "# import sys\n",
    "# sys.path.insert(1, '/content/drive/My Drive/2D/')"
   ]
  },
  {
   "cell_type": "code",
   "execution_count": 0,
   "metadata": {
    "colab": {},
    "colab_type": "code",
    "id": "aIw_44qQozDg"
   },
   "outputs": [],
   "source": [
    "# import utils_2d"
   ]
  },
  {
   "cell_type": "code",
   "execution_count": 0,
   "metadata": {
    "colab": {},
    "colab_type": "code",
    "id": "jastAHHg9GLU"
   },
   "outputs": [],
   "source": [
    "# Not enough pictures now, I will use the sample set from the Project slides\n",
    "# root_dir = 'celebrities/'\n",
    "# dest_dir = 'celebrities2/' # or the same as root_dir\n",
    "# utils_2d.pictures_train_test_val_split(root_dir, dest_dir"
   ]
  },
  {
   "cell_type": "code",
   "execution_count": 0,
   "metadata": {
    "colab": {},
    "colab_type": "code",
    "id": "pUJbsnr9pyOW"
   },
   "outputs": [],
   "source": [
    "# my_pictures_dir = dest_dir"
   ]
  },
  {
   "cell_type": "markdown",
   "metadata": {
    "colab_type": "text",
    "id": "j0EBVquMCW5H"
   },
   "source": [
    "# Define Train/test/val sets"
   ]
  },
  {
   "cell_type": "code",
   "execution_count": 0,
   "metadata": {
    "colab": {},
    "colab_type": "code",
    "id": "k4kN9pPpIx1F"
   },
   "outputs": [],
   "source": [
    "train_dir = my_pictures_dir+\"/train\"\n",
    "val_dir = my_pictures_dir+\"/val\"\n",
    "test_dir = my_pictures_dir+\"/test\""
   ]
  },
  {
   "cell_type": "code",
   "execution_count": 18,
   "metadata": {
    "colab": {
     "base_uri": "https://localhost:8080/",
     "height": 35
    },
    "colab_type": "code",
    "executionInfo": {
     "elapsed": 1706,
     "status": "ok",
     "timestamp": 1591283084003,
     "user": {
      "displayName": "Gian Carlo Milanese",
      "photoUrl": "",
      "userId": "08352423327035271918"
     },
     "user_tz": -120
    },
    "id": "c-oyRQbpM8Hq",
    "outputId": "ce83d867-48cf-471f-f2b3-e7fbbe626324"
   },
   "outputs": [
    {
     "name": "stdout",
     "output_type": "stream",
     "text": [
      "alinda\tcami  gian  mamma  papi  umbe\n"
     ]
    }
   ],
   "source": [
    "!ls \"$my_pictures_dir/test\""
   ]
  },
  {
   "cell_type": "markdown",
   "metadata": {
    "colab_type": "text",
    "id": "gK1VGgSn37Gd"
   },
   "source": [
    "# Resnet V2"
   ]
  },
  {
   "cell_type": "code",
   "execution_count": 0,
   "metadata": {
    "colab": {},
    "colab_type": "code",
    "id": "eattghN-5IvB"
   },
   "outputs": [],
   "source": [
    "processing = kimage.ImageDataGenerator(preprocessing_function=resnet_v2.preprocess_input)"
   ]
  },
  {
   "cell_type": "code",
   "execution_count": 20,
   "metadata": {
    "colab": {
     "base_uri": "https://localhost:8080/",
     "height": 35
    },
    "colab_type": "code",
    "executionInfo": {
     "elapsed": 3438,
     "status": "ok",
     "timestamp": 1591283091032,
     "user": {
      "displayName": "Gian Carlo Milanese",
      "photoUrl": "",
      "userId": "08352423327035271918"
     },
     "user_tz": -120
    },
    "id": "sa7lRU2C6SAC",
    "outputId": "26a42b82-d57f-4e5a-c724-1a7094dbf61c"
   },
   "outputs": [
    {
     "name": "stdout",
     "output_type": "stream",
     "text": [
      "Found 848 images belonging to 6 classes.\n"
     ]
    }
   ],
   "source": [
    "train_generator = processing.flow_from_directory(train_dir,\n",
    "                                                 target_size=(224, 224),\n",
    "                                                 color_mode=\"rgb\",\n",
    "                                                 batch_size=32,\n",
    "                                                 class_mode=\"categorical\",\n",
    "                                                 shuffle=True,\n",
    "                                                 seed=1)"
   ]
  },
  {
   "cell_type": "code",
   "execution_count": 0,
   "metadata": {
    "colab": {},
    "colab_type": "code",
    "id": "_bhMixIbpIzK"
   },
   "outputs": [],
   "source": [
    "n_classes = (train_generator.num_classes)"
   ]
  },
  {
   "cell_type": "code",
   "execution_count": 22,
   "metadata": {
    "colab": {
     "base_uri": "https://localhost:8080/",
     "height": 35
    },
    "colab_type": "code",
    "executionInfo": {
     "elapsed": 3141,
     "status": "ok",
     "timestamp": 1591283092151,
     "user": {
      "displayName": "Gian Carlo Milanese",
      "photoUrl": "",
      "userId": "08352423327035271918"
     },
     "user_tz": -120
    },
    "id": "NwlA1h9j7sr4",
    "outputId": "62c150af-6bd7-4791-af75-ecc2cac8864a"
   },
   "outputs": [
    {
     "name": "stdout",
     "output_type": "stream",
     "text": [
      "Found 242 images belonging to 6 classes.\n"
     ]
    }
   ],
   "source": [
    "val_generator = processing.flow_from_directory(val_dir,\n",
    "                                                target_size=(224, 224),\n",
    "                                                color_mode=\"rgb\",\n",
    "                                                batch_size=32,\n",
    "                                                class_mode=\"categorical\",\n",
    "                                                shuffle=False,\n",
    "                                                seed=1)\n"
   ]
  },
  {
   "cell_type": "code",
   "execution_count": 23,
   "metadata": {
    "colab": {
     "base_uri": "https://localhost:8080/",
     "height": 35
    },
    "colab_type": "code",
    "executionInfo": {
     "elapsed": 2907,
     "status": "ok",
     "timestamp": 1591283092152,
     "user": {
      "displayName": "Gian Carlo Milanese",
      "photoUrl": "",
      "userId": "08352423327035271918"
     },
     "user_tz": -120
    },
    "id": "mKWIi7HEoYd_",
    "outputId": "834fbeb5-2ca4-4f3c-a7eb-782e53c7a076"
   },
   "outputs": [
    {
     "name": "stdout",
     "output_type": "stream",
     "text": [
      "Found 124 images belonging to 6 classes.\n"
     ]
    }
   ],
   "source": [
    "test_generator = processing.flow_from_directory(test_dir,\n",
    "                                                target_size=(224, 224),\n",
    "                                                color_mode=\"rgb\",\n",
    "                                                batch_size=32,\n",
    "                                                class_mode=\"categorical\",\n",
    "                                                shuffle=False,\n",
    "                                                seed=1)\n"
   ]
  },
  {
   "cell_type": "markdown",
   "metadata": {
    "colab_type": "text",
    "id": "HeOWmhBTqTN7"
   },
   "source": [
    "### See preprocessed images"
   ]
  },
  {
   "cell_type": "code",
   "execution_count": 0,
   "metadata": {
    "colab": {},
    "colab_type": "code",
    "id": "5Jkb5yUNplkr"
   },
   "outputs": [],
   "source": [
    "import matplotlib.pyplot as plt\n",
    "import numpy as np"
   ]
  },
  {
   "cell_type": "code",
   "execution_count": 0,
   "metadata": {
    "colab": {},
    "colab_type": "code",
    "id": "oFL-ylAqp0ma"
   },
   "outputs": [],
   "source": [
    "batch = np.array(train_generator[0][0])"
   ]
  },
  {
   "cell_type": "code",
   "execution_count": 26,
   "metadata": {
    "colab": {
     "base_uri": "https://localhost:8080/",
     "height": 35
    },
    "colab_type": "code",
    "executionInfo": {
     "elapsed": 19692,
     "status": "ok",
     "timestamp": 1591283116580,
     "user": {
      "displayName": "Gian Carlo Milanese",
      "photoUrl": "",
      "userId": "08352423327035271918"
     },
     "user_tz": -120
    },
    "id": "bobB7t_Mp6fO",
    "outputId": "282570cc-4b1b-4ef1-a05e-618bd094a4c9"
   },
   "outputs": [
    {
     "data": {
      "text/plain": [
       "(32, 224, 224, 3)"
      ]
     },
     "execution_count": 26,
     "metadata": {
      "tags": []
     },
     "output_type": "execute_result"
    }
   ],
   "source": [
    "batch.shape"
   ]
  },
  {
   "cell_type": "code",
   "execution_count": 0,
   "metadata": {
    "colab": {},
    "colab_type": "code",
    "id": "GmuuMSqopjZ8"
   },
   "outputs": [],
   "source": [
    "pic = batch[20]\n",
    "plt.imshow(pic)\n",
    "plt.show()"
   ]
  },
  {
   "cell_type": "markdown",
   "metadata": {
    "colab_type": "text",
    "id": "zDHhTkv7q-AS"
   },
   "source": [
    "### Net"
   ]
  },
  {
   "cell_type": "code",
   "execution_count": 49,
   "metadata": {
    "colab": {
     "base_uri": "https://localhost:8080/",
     "height": 72
    },
    "colab_type": "code",
    "executionInfo": {
     "elapsed": 22137,
     "status": "ok",
     "timestamp": 1591283253661,
     "user": {
      "displayName": "Gian Carlo Milanese",
      "photoUrl": "",
      "userId": "08352423327035271918"
     },
     "user_tz": -120
    },
    "id": "EQUcQLja-a4N",
    "outputId": "21aa214d-ae48-4e3e-9f19-af4b7fc380a8"
   },
   "outputs": [
    {
     "name": "stdout",
     "output_type": "stream",
     "text": [
      "Downloading data from https://github.com/keras-team/keras-applications/releases/download/resnet/resnet152v2_weights_tf_dim_ordering_tf_kernels_notop.h5\n",
      "234553344/234545216 [==============================] - 3s 0us/step\n"
     ]
    }
   ],
   "source": [
    "base_net = resnet_v2.ResNet152V2(input_shape=(224, 224, 3),\n",
    "                         weights='imagenet',\n",
    "                         include_top=False,\n",
    "                         pooling='avg')"
   ]
  },
  {
   "cell_type": "code",
   "execution_count": 0,
   "metadata": {
    "colab": {},
    "colab_type": "code",
    "id": "R2eg5KMnAuie"
   },
   "outputs": [],
   "source": [
    "for layer in base_net.layers:\n",
    "  layer.trainable = False # congeliamo i layer della rete resnet_v2 di base, vogliamo solo cambiare i pesi dei layer che aggiungeremo"
   ]
  },
  {
   "cell_type": "code",
   "execution_count": 0,
   "metadata": {
    "colab": {},
    "colab_type": "code",
    "id": "_8OKDJGEB8Ar"
   },
   "outputs": [],
   "source": [
    "x = base_net.output\n",
    "x = Dense(1024, activation='relu')(x)\n",
    "x = BatchNormalization()(x)\n",
    "pred = Dense(n_classes, activation='softmax')(x)\n",
    "net = Model(inputs=base_net.input, outputs=pred)"
   ]
  },
  {
   "cell_type": "code",
   "execution_count": 0,
   "metadata": {
    "colab": {},
    "colab_type": "code",
    "id": "WzvJ7CsjCUtO"
   },
   "outputs": [],
   "source": [
    "net.compile(loss=keras.losses.categorical_crossentropy,\n",
    "            optimizer=keras.optimizers.RMSprop(),\n",
    "            metrics=[\"accuracy\"])"
   ]
  },
  {
   "cell_type": "code",
   "execution_count": 0,
   "metadata": {
    "colab": {},
    "colab_type": "code",
    "id": "BN4nQ7990WNH"
   },
   "outputs": [],
   "source": [
    "callback = keras.callbacks.EarlyStopping(monitor='val_loss', restore_best_weights=True, patience=20)"
   ]
  },
  {
   "cell_type": "code",
   "execution_count": 56,
   "metadata": {
    "colab": {
     "base_uri": "https://localhost:8080/",
     "height": 1000
    },
    "colab_type": "code",
    "executionInfo": {
     "elapsed": 1300644,
     "status": "ok",
     "timestamp": 1591284576286,
     "user": {
      "displayName": "Gian Carlo Milanese",
      "photoUrl": "",
      "userId": "08352423327035271918"
     },
     "user_tz": -120
    },
    "id": "sfH8OYLODQxY",
    "outputId": "80202655-2228-41dd-dc8c-fb5507b3429d"
   },
   "outputs": [
    {
     "name": "stdout",
     "output_type": "stream",
     "text": [
      "Epoch 1/100\n",
      " 2/27 [=>............................] - ETA: 10:23 - loss: 1.3035 - accuracy: 0.5625"
     ]
    },
    {
     "name": "stderr",
     "output_type": "stream",
     "text": [
      "/usr/local/lib/python3.6/dist-packages/keras/utils/data_utils.py:616: UserWarning: The input 19 could not be retrieved. It could be because a worker has died.\n",
      "  UserWarning)\n"
     ]
    },
    {
     "name": "stdout",
     "output_type": "stream",
     "text": [
      "\b\b\b\b\b\b\b\b\b\b\b\b\b\b\b\b\b\b\b\b\b\b\b\b\b\b\b\b\b\b\b\b\b\b\b\b\b\b\b\b\b\b\b\b\b\b\b\b\b\b\b\b\b\b\b\b\b\b\b\b\b\b\b\b\b\b\b\b\b\b\b\b\b\b\b\b\b\b\b\b\b\b\b\b\b\r",
      " 3/27 [==>...........................] - ETA: 13:05 - loss: 0.8692 - accuracy: 0.7083"
     ]
    },
    {
     "name": "stderr",
     "output_type": "stream",
     "text": [
      "/usr/local/lib/python3.6/dist-packages/keras/utils/data_utils.py:616: UserWarning: The input 11 could not be retrieved. It could be because a worker has died.\n",
      "  UserWarning)\n"
     ]
    },
    {
     "name": "stdout",
     "output_type": "stream",
     "text": [
      "27/27 [==============================] - 646s 24s/step - loss: 0.1139 - accuracy: 0.9623 - val_loss: 3.4924 - val_accuracy: 0.3802\n",
      "Epoch 2/100\n",
      "27/27 [==============================] - 25s 923ms/step - loss: 0.0095 - accuracy: 0.9965 - val_loss: 5.5185 - val_accuracy: 0.4876\n",
      "Epoch 3/100\n",
      "27/27 [==============================] - 25s 922ms/step - loss: 0.0016 - accuracy: 0.9988 - val_loss: 5.8662 - val_accuracy: 0.4587\n",
      "Epoch 4/100\n",
      "27/27 [==============================] - 25s 920ms/step - loss: 2.1033e-05 - accuracy: 1.0000 - val_loss: 6.5608 - val_accuracy: 0.5331\n",
      "Epoch 5/100\n",
      "27/27 [==============================] - 25s 921ms/step - loss: 1.8008e-05 - accuracy: 1.0000 - val_loss: 7.4557 - val_accuracy: 0.4628\n",
      "Epoch 6/100\n",
      "27/27 [==============================] - 25s 920ms/step - loss: 8.4735e-05 - accuracy: 1.0000 - val_loss: 6.9051 - val_accuracy: 0.4256\n",
      "Epoch 7/100\n",
      "27/27 [==============================] - 25s 920ms/step - loss: 6.7583e-05 - accuracy: 1.0000 - val_loss: 1.8709 - val_accuracy: 0.2810\n",
      "Epoch 8/100\n",
      "27/27 [==============================] - 25s 918ms/step - loss: 7.0471e-06 - accuracy: 1.0000 - val_loss: 11.8262 - val_accuracy: 0.5331\n",
      "Epoch 9/100\n",
      "27/27 [==============================] - 25s 920ms/step - loss: 1.1159e-04 - accuracy: 1.0000 - val_loss: 22.7637 - val_accuracy: 0.4669\n",
      "Epoch 10/100\n",
      "27/27 [==============================] - 25s 918ms/step - loss: 3.1905e-06 - accuracy: 1.0000 - val_loss: 20.6246 - val_accuracy: 0.4463\n",
      "Epoch 11/100\n",
      "27/27 [==============================] - 25s 919ms/step - loss: 2.5086e-07 - accuracy: 1.0000 - val_loss: 19.4422 - val_accuracy: 0.4215\n",
      "Epoch 12/100\n",
      "27/27 [==============================] - 25s 919ms/step - loss: 1.0694e-07 - accuracy: 1.0000 - val_loss: 18.1577 - val_accuracy: 0.3058\n",
      "Epoch 13/100\n",
      "27/27 [==============================] - 25s 918ms/step - loss: 1.5898e-07 - accuracy: 1.0000 - val_loss: 17.6632 - val_accuracy: 0.2975\n",
      "Epoch 14/100\n",
      "27/27 [==============================] - 25s 916ms/step - loss: 7.7568e-08 - accuracy: 1.0000 - val_loss: 18.9067 - val_accuracy: 0.5248\n",
      "Epoch 15/100\n",
      "27/27 [==============================] - 25s 915ms/step - loss: 2.2173e-08 - accuracy: 1.0000 - val_loss: 18.5035 - val_accuracy: 0.5413\n",
      "Epoch 16/100\n",
      "27/27 [==============================] - 25s 915ms/step - loss: 4.4043e-08 - accuracy: 1.0000 - val_loss: 18.4498 - val_accuracy: 0.4669\n",
      "Epoch 17/100\n",
      "27/27 [==============================] - 25s 916ms/step - loss: 1.5275e-08 - accuracy: 1.0000 - val_loss: 18.5588 - val_accuracy: 0.5248\n",
      "Epoch 18/100\n",
      "27/27 [==============================] - 25s 917ms/step - loss: 7.3175e-09 - accuracy: 1.0000 - val_loss: 18.2581 - val_accuracy: 0.5331\n",
      "Epoch 19/100\n",
      "27/27 [==============================] - 25s 920ms/step - loss: 3.2978e-08 - accuracy: 1.0000 - val_loss: 18.5245 - val_accuracy: 0.5455\n",
      "Epoch 20/100\n",
      "27/27 [==============================] - 25s 920ms/step - loss: 1.3392e-08 - accuracy: 1.0000 - val_loss: 18.2847 - val_accuracy: 0.5744\n",
      "Epoch 21/100\n",
      "27/27 [==============================] - 25s 917ms/step - loss: 1.8087e-08 - accuracy: 1.0000 - val_loss: 20.6119 - val_accuracy: 0.5785\n",
      "Epoch 22/100\n",
      "27/27 [==============================] - 25s 917ms/step - loss: 4.5512e-09 - accuracy: 1.0000 - val_loss: 20.4679 - val_accuracy: 0.5868\n",
      "Epoch 23/100\n",
      "27/27 [==============================] - 25s 915ms/step - loss: 1.3116e-08 - accuracy: 1.0000 - val_loss: 20.5200 - val_accuracy: 0.6570\n",
      "Epoch 24/100\n",
      "27/27 [==============================] - 25s 917ms/step - loss: 6.6272e-09 - accuracy: 1.0000 - val_loss: 20.5715 - val_accuracy: 0.6570\n",
      "Epoch 25/100\n",
      "27/27 [==============================] - 25s 920ms/step - loss: 5.7573e-08 - accuracy: 1.0000 - val_loss: 20.3159 - val_accuracy: 0.5124\n",
      "Epoch 26/100\n",
      "27/27 [==============================] - 25s 921ms/step - loss: 9.3081e-08 - accuracy: 1.0000 - val_loss: 22.6370 - val_accuracy: 0.5992\n",
      "Epoch 27/100\n",
      "27/27 [==============================] - 25s 921ms/step - loss: 3.1065e-08 - accuracy: 1.0000 - val_loss: 21.5316 - val_accuracy: 0.5909\n"
     ]
    }
   ],
   "source": [
    "history = net.fit_generator(train_generator,\n",
    "                  verbose=1,\n",
    "                  epochs=100,\n",
    "                  callbacks=[callback],\n",
    "                  validation_data=val_generator)"
   ]
  },
  {
   "cell_type": "markdown",
   "metadata": {
    "colab_type": "text",
    "id": "ZVys6EHXtq1R"
   },
   "source": [
    "## Evaluation\n"
   ]
  },
  {
   "cell_type": "code",
   "execution_count": 0,
   "metadata": {
    "colab": {},
    "colab_type": "code",
    "id": "gK55TwAPq8VM"
   },
   "outputs": [],
   "source": [
    "import numpy as np\n",
    "from sklearn.metrics import confusion_matrix as cm\n",
    "from sklearn.metrics import classification_report"
   ]
  },
  {
   "cell_type": "code",
   "execution_count": 58,
   "metadata": {
    "colab": {
     "base_uri": "https://localhost:8080/",
     "height": 35
    },
    "colab_type": "code",
    "executionInfo": {
     "elapsed": 21610,
     "status": "ok",
     "timestamp": 1591284639404,
     "user": {
      "displayName": "Gian Carlo Milanese",
      "photoUrl": "",
      "userId": "08352423327035271918"
     },
     "user_tz": -120
    },
    "id": "lJVvGYXTtfkv",
    "outputId": "480b48ca-521d-4317-8859-4aa1804340fe"
   },
   "outputs": [
    {
     "data": {
      "text/plain": [
       "[3.4268200397491455, 0.28891509771347046]"
      ]
     },
     "execution_count": 58,
     "metadata": {
      "tags": []
     },
     "output_type": "execute_result"
    }
   ],
   "source": [
    "net.evaluate_generator(train_generator)"
   ]
  },
  {
   "cell_type": "code",
   "execution_count": 59,
   "metadata": {
    "colab": {
     "base_uri": "https://localhost:8080/",
     "height": 35
    },
    "colab_type": "code",
    "executionInfo": {
     "elapsed": 27759,
     "status": "ok",
     "timestamp": 1591284645725,
     "user": {
      "displayName": "Gian Carlo Milanese",
      "photoUrl": "",
      "userId": "08352423327035271918"
     },
     "user_tz": -120
    },
    "id": "HFr6eq-b0I-x",
    "outputId": "5b3abb9f-e492-46ae-84d2-9a78fd814fa2"
   },
   "outputs": [
    {
     "data": {
      "text/plain": [
       "[1.8708909749984741, 0.28099173307418823]"
      ]
     },
     "execution_count": 59,
     "metadata": {
      "tags": []
     },
     "output_type": "execute_result"
    }
   ],
   "source": [
    "net.evaluate_generator(val_generator)"
   ]
  },
  {
   "cell_type": "code",
   "execution_count": 60,
   "metadata": {
    "colab": {
     "base_uri": "https://localhost:8080/",
     "height": 35
    },
    "colab_type": "code",
    "executionInfo": {
     "elapsed": 113619,
     "status": "ok",
     "timestamp": 1591284731736,
     "user": {
      "displayName": "Gian Carlo Milanese",
      "photoUrl": "",
      "userId": "08352423327035271918"
     },
     "user_tz": -120
    },
    "id": "wessu9iXFLz_",
    "outputId": "890e6f44-2575-433a-c4da-7ed444a99542"
   },
   "outputs": [
    {
     "data": {
      "text/plain": [
       "[1.5349286794662476, 0.25806450843811035]"
      ]
     },
     "execution_count": 60,
     "metadata": {
      "tags": []
     },
     "output_type": "execute_result"
    }
   ],
   "source": [
    "net.evaluate_generator(test_generator)"
   ]
  },
  {
   "cell_type": "code",
   "execution_count": 0,
   "metadata": {
    "colab": {},
    "colab_type": "code",
    "id": "ZoQRoetPt5dn"
   },
   "outputs": [],
   "source": [
    "def classification_report_generator(generator):\n",
    "  # should not be applied to generators with shuffle = True\n",
    "  preds = net.predict_generator(generator)\n",
    "  preds = np.argmax(preds, axis=1)\n",
    "  real = generator.classes\n",
    "  ind_dict = generator.class_indices\n",
    "  num_to_label = [i[0] for i in ind_dict.items()]\n",
    "  cmat = cm(real, preds)\n",
    "  cr = classification_report(real, preds, target_names=num_to_label)\n",
    "  return cmat, cr"
   ]
  },
  {
   "cell_type": "code",
   "execution_count": 62,
   "metadata": {
    "colab": {
     "base_uri": "https://localhost:8080/",
     "height": 304
    },
    "colab_type": "code",
    "executionInfo": {
     "elapsed": 125999,
     "status": "ok",
     "timestamp": 1591284745177,
     "user": {
      "displayName": "Gian Carlo Milanese",
      "photoUrl": "",
      "userId": "08352423327035271918"
     },
     "user_tz": -120
    },
    "id": "KRF-DoOhswQg",
    "outputId": "2b5647bc-877e-4290-d6c3-bc875c44a997"
   },
   "outputs": [
    {
     "name": "stdout",
     "output_type": "stream",
     "text": [
      "              precision    recall  f1-score   support\n",
      "\n",
      "      alinda       0.00      0.00      0.00        36\n",
      "        cami       1.00      0.02      0.05        41\n",
      "        gian       1.00      0.02      0.05        43\n",
      "       mamma       0.24      1.00      0.39        41\n",
      "        papi       1.00      0.61      0.76        41\n",
      "        umbe       0.00      0.00      0.00        40\n",
      "\n",
      "    accuracy                           0.28       242\n",
      "   macro avg       0.54      0.28      0.21       242\n",
      "weighted avg       0.56      0.28      0.21       242\n",
      "\n"
     ]
    },
    {
     "name": "stderr",
     "output_type": "stream",
     "text": [
      "/usr/local/lib/python3.6/dist-packages/sklearn/metrics/_classification.py:1272: UndefinedMetricWarning: Precision and F-score are ill-defined and being set to 0.0 in labels with no predicted samples. Use `zero_division` parameter to control this behavior.\n",
      "  _warn_prf(average, modifier, msg_start, len(result))\n"
     ]
    }
   ],
   "source": [
    "cm_val, cr_val = classification_report_generator(val_generator)\n",
    "print(cr_val)"
   ]
  },
  {
   "cell_type": "code",
   "execution_count": 63,
   "metadata": {
    "colab": {
     "base_uri": "https://localhost:8080/",
     "height": 304
    },
    "colab_type": "code",
    "executionInfo": {
     "elapsed": 129181,
     "status": "ok",
     "timestamp": 1591284748511,
     "user": {
      "displayName": "Gian Carlo Milanese",
      "photoUrl": "",
      "userId": "08352423327035271918"
     },
     "user_tz": -120
    },
    "id": "yXqZauUgvW2_",
    "outputId": "672a1249-57fe-4836-b3db-1c828c912d2b"
   },
   "outputs": [
    {
     "name": "stdout",
     "output_type": "stream",
     "text": [
      "              precision    recall  f1-score   support\n",
      "\n",
      "      alinda       0.00      0.00      0.00        18\n",
      "        cami       0.00      0.00      0.00        21\n",
      "        gian       0.00      0.00      0.00        22\n",
      "       mamma       0.24      1.00      0.39        21\n",
      "        papi       1.00      0.48      0.65        21\n",
      "        umbe       0.04      0.05      0.04        21\n",
      "\n",
      "    accuracy                           0.26       124\n",
      "   macro avg       0.21      0.25      0.18       124\n",
      "weighted avg       0.22      0.26      0.18       124\n",
      "\n"
     ]
    },
    {
     "name": "stderr",
     "output_type": "stream",
     "text": [
      "/usr/local/lib/python3.6/dist-packages/sklearn/metrics/_classification.py:1272: UndefinedMetricWarning: Precision and F-score are ill-defined and being set to 0.0 in labels with no predicted samples. Use `zero_division` parameter to control this behavior.\n",
      "  _warn_prf(average, modifier, msg_start, len(result))\n"
     ]
    }
   ],
   "source": [
    "cm_test, cr_test = classification_report_generator(test_generator)\n",
    "print(cr_test)"
   ]
  },
  {
   "cell_type": "code",
   "execution_count": 0,
   "metadata": {
    "colab": {},
    "colab_type": "code",
    "id": "DK5pQfcsy1m4"
   },
   "outputs": [],
   "source": [
    "import matplotlib.pyplot as plt"
   ]
  },
  {
   "cell_type": "code",
   "execution_count": 65,
   "metadata": {
    "colab": {
     "base_uri": "https://localhost:8080/",
     "height": 621
    },
    "colab_type": "code",
    "executionInfo": {
     "elapsed": 128642,
     "status": "ok",
     "timestamp": 1591284749088,
     "user": {
      "displayName": "Gian Carlo Milanese",
      "photoUrl": "",
      "userId": "08352423327035271918"
     },
     "user_tz": -120
    },
    "id": "cw4XlgHfyzv8",
    "outputId": "1843acbe-8e73-4453-b026-393d6097302a"
   },
   "outputs": [
    {
     "data": {
      "image/png": "[encoded data removed]",
      "text/plain": [
       "<Figure size 1080x720 with 1 Axes>"
      ]
     },
     "metadata": {
      "needs_background": "light",
      "tags": []
     },
     "output_type": "display_data"
    }
   ],
   "source": [
    "plt.figure(figsize=(15,10))\n",
    "plt.plot(history.history['accuracy'])\n",
    "plt.plot(history.history['val_accuracy'])\n",
    "plt.title('model accuracy')\n",
    "plt.ylabel('accuracy')\n",
    "plt.xlabel('epoch')\n",
    "plt.legend(['train', 'val'], loc='upper left')\n",
    "plt.show()"
   ]
  },
  {
   "cell_type": "code",
   "execution_count": 66,
   "metadata": {
    "colab": {
     "base_uri": "https://localhost:8080/",
     "height": 621
    },
    "colab_type": "code",
    "executionInfo": {
     "elapsed": 128093,
     "status": "ok",
     "timestamp": 1591284749622,
     "user": {
      "displayName": "Gian Carlo Milanese",
      "photoUrl": "",
      "userId": "08352423327035271918"
     },
     "user_tz": -120
    },
    "id": "61O6WNJAAoPX",
    "outputId": "481db2b4-c0e7-420b-e45c-0760b9b5cfde"
   },
   "outputs": [
    {
     "data": {
      "image/png": "[encoded data removed]",
      "text/plain": [
       "<Figure size 1080x720 with 1 Axes>"
      ]
     },
     "metadata": {
      "needs_background": "light",
      "tags": []
     },
     "output_type": "display_data"
    }
   ],
   "source": [
    "plt.figure(figsize=(15,10))\n",
    "plt.plot(history.history['loss'])\n",
    "plt.plot(history.history['val_loss'])\n",
    "plt.title('model loss')\n",
    "plt.ylabel('loss')\n",
    "plt.xlabel('epoch')\n",
    "plt.legend(['train', 'val'], loc='upper left')\n",
    "plt.show()"
   ]
  },
  {
   "cell_type": "markdown",
   "metadata": {
    "colab_type": "text",
    "id": "zNbEzoy1wpUc"
   },
   "source": [
    "# Resnet V2 + Data Augmentation\n",
    "\n",
    "Aggiungiamo le operazioni di data augmentation all'ImageDataGenerator di prima."
   ]
  },
  {
   "cell_type": "code",
   "execution_count": 0,
   "metadata": {
    "colab": {},
    "colab_type": "code",
    "id": "qZ2wSlAFxOLD"
   },
   "outputs": [],
   "source": [
    "train_processing = kimage.ImageDataGenerator(preprocessing_function=resnet_v2.preprocess_input,\n",
    "                                       # featurewise_center=True,\n",
    "                                       # featurewise_std_normalization=True,\n",
    "                                       # zca_whitening=True,\n",
    "                                       # Rotations\n",
    "                                       rotation_range=40,\n",
    "                                       # # Shifts\n",
    "                                       width_shift_range=0.05,\n",
    "                                       height_shift_range=0.05,\n",
    "                                       # # Flips\n",
    "                                       # horizontal_flip=True,\n",
    "                                       # vertical_flip=True,\n",
    "                                       # Brightness Change\n",
    "                                       # brightness_range=[0.9,1.1],\n",
    "                                       # Zoom Change\n",
    "                                       zoom_range=[0.9,1.1]\n",
    "                                       )"
   ]
  },
  {
   "cell_type": "code",
   "execution_count": 68,
   "metadata": {
    "colab": {
     "base_uri": "https://localhost:8080/",
     "height": 35
    },
    "colab_type": "code",
    "executionInfo": {
     "elapsed": 124826,
     "status": "ok",
     "timestamp": 1591284749623,
     "user": {
      "displayName": "Gian Carlo Milanese",
      "photoUrl": "",
      "userId": "08352423327035271918"
     },
     "user_tz": -120
    },
    "id": "Yyk9Rg1XxOLF",
    "outputId": "5fae9a41-6451-4ff9-89db-0559c1d61e56"
   },
   "outputs": [
    {
     "name": "stdout",
     "output_type": "stream",
     "text": [
      "Found 848 images belonging to 6 classes.\n"
     ]
    }
   ],
   "source": [
    "train_generator = train_processing.flow_from_directory(train_dir,\n",
    "                                                    target_size=(224, 224),\n",
    "                                                    color_mode=\"rgb\",\n",
    "                                                    batch_size=32,\n",
    "                                                    class_mode=\"categorical\",\n",
    "                                                    shuffle=True,\n",
    "                                                    seed=1)"
   ]
  },
  {
   "cell_type": "code",
   "execution_count": 69,
   "metadata": {
    "colab": {
     "base_uri": "https://localhost:8080/",
     "height": 52
    },
    "colab_type": "code",
    "executionInfo": {
     "elapsed": 124655,
     "status": "ok",
     "timestamp": 1591284749624,
     "user": {
      "displayName": "Gian Carlo Milanese",
      "photoUrl": "",
      "userId": "08352423327035271918"
     },
     "user_tz": -120
    },
    "id": "ziayXNbkxOLI",
    "outputId": "eac45f72-62d1-4498-c1c6-9070ac329909"
   },
   "outputs": [
    {
     "name": "stdout",
     "output_type": "stream",
     "text": [
      "Found 242 images belonging to 6 classes.\n",
      "Found 124 images belonging to 6 classes.\n"
     ]
    }
   ],
   "source": [
    "test_processing = kimage.ImageDataGenerator(preprocessing_function=resnet_v2.preprocess_input)\n",
    "\n",
    "val_generator = test_processing.flow_from_directory(val_dir,\n",
    "                                                    target_size=(224, 224),\n",
    "                                                    color_mode=\"rgb\",\n",
    "                                                    batch_size=32,\n",
    "                                                    class_mode=\"categorical\",\n",
    "                                                    shuffle=False,\n",
    "                                                    seed=1)\n",
    "\n",
    "test_generator = test_processing.flow_from_directory(test_dir,\n",
    "                                                    target_size=(224, 224),\n",
    "                                                    color_mode=\"rgb\",\n",
    "                                                    batch_size=32,\n",
    "                                                    class_mode=\"categorical\",\n",
    "                                                    shuffle=False,\n",
    "                                                    seed=1)"
   ]
  },
  {
   "cell_type": "code",
   "execution_count": 0,
   "metadata": {
    "colab": {},
    "colab_type": "code",
    "id": "1Ga0MIXkxOLK"
   },
   "outputs": [],
   "source": [
    "base_net = resnet_v2.ResNet152V2(input_shape=(224, 224, 3),\n",
    "                                 weights='imagenet',\n",
    "                                 include_top=False, # eliminiamo l'ultimo layer, non ci interessa.\n",
    "                                 pooling='avg')"
   ]
  },
  {
   "cell_type": "code",
   "execution_count": 0,
   "metadata": {
    "colab": {},
    "colab_type": "code",
    "id": "EqdfvXhvxOLN"
   },
   "outputs": [],
   "source": [
    "for layer in base_net.layers:\n",
    "  layer.trainable = False # congeliamo i layer della rete resnet_v2 di base, vogliamo solo cambiare i pesi dei layer che aggiungeremo"
   ]
  },
  {
   "cell_type": "code",
   "execution_count": 0,
   "metadata": {
    "colab": {},
    "colab_type": "code",
    "id": "LRri3KFixOLQ"
   },
   "outputs": [],
   "source": [
    "x = base_net.output\n",
    "x = Dense(1024, activation='relu')(x)\n",
    "x = BatchNormalization()(x)\n",
    "pred = Dense(n_classes, activation='softmax')(x)\n",
    "net = Model(inputs=base_net.input, outputs=pred)"
   ]
  },
  {
   "cell_type": "code",
   "execution_count": 0,
   "metadata": {
    "colab": {},
    "colab_type": "code",
    "id": "zhJ_3JB0xOLS"
   },
   "outputs": [],
   "source": [
    "net.compile(loss=keras.losses.categorical_crossentropy,\n",
    "            optimizer=keras.optimizers.RMSprop(),\n",
    "            metrics=[\"accuracy\"])\n"
   ]
  },
  {
   "cell_type": "code",
   "execution_count": 0,
   "metadata": {
    "colab": {},
    "colab_type": "code",
    "id": "FHg6AreRvEOP"
   },
   "outputs": [],
   "source": [
    "callback = keras.callbacks.EarlyStopping(monitor='val_loss', restore_best_weights=True, patience=20)"
   ]
  },
  {
   "cell_type": "code",
   "execution_count": 76,
   "metadata": {
    "colab": {
     "base_uri": "https://localhost:8080/",
     "height": 1000
    },
    "colab_type": "code",
    "executionInfo": {
     "elapsed": 903297,
     "status": "ok",
     "timestamp": 1591285846085,
     "user": {
      "displayName": "Gian Carlo Milanese",
      "photoUrl": "",
      "userId": "08352423327035271918"
     },
     "user_tz": -120
    },
    "id": "C9VshMWqvRnQ",
    "outputId": "ccba18be-472a-4ff0-dc87-df45af33750c"
   },
   "outputs": [
    {
     "name": "stdout",
     "output_type": "stream",
     "text": [
      "Epoch 1/100\n",
      "27/27 [==============================] - 42s 2s/step - loss: 0.1589 - accuracy: 0.9587 - val_loss: 10.0473 - val_accuracy: 0.6860\n",
      "Epoch 2/100\n",
      "27/27 [==============================] - 25s 926ms/step - loss: 0.0383 - accuracy: 0.9941 - val_loss: 2.0626 - val_accuracy: 0.6983\n",
      "Epoch 3/100\n",
      "27/27 [==============================] - 25s 926ms/step - loss: 0.0038 - accuracy: 0.9988 - val_loss: 5.5550 - val_accuracy: 0.7851\n",
      "Epoch 4/100\n",
      "27/27 [==============================] - 25s 927ms/step - loss: 0.0127 - accuracy: 0.9965 - val_loss: 3.8980 - val_accuracy: 0.6694\n",
      "Epoch 5/100\n",
      "27/27 [==============================] - 25s 926ms/step - loss: 0.0067 - accuracy: 0.9976 - val_loss: 0.0117 - val_accuracy: 0.9917\n",
      "Epoch 6/100\n",
      "27/27 [==============================] - 25s 926ms/step - loss: 0.0196 - accuracy: 0.9941 - val_loss: 0.1458 - val_accuracy: 0.9174\n",
      "Epoch 7/100\n",
      "27/27 [==============================] - 25s 928ms/step - loss: 0.0027 - accuracy: 0.9988 - val_loss: 0.7579 - val_accuracy: 0.6777\n",
      "Epoch 8/100\n",
      "27/27 [==============================] - 25s 926ms/step - loss: 0.0031 - accuracy: 0.9988 - val_loss: 2.8829e-04 - val_accuracy: 0.8140\n",
      "Epoch 9/100\n",
      "27/27 [==============================] - 25s 925ms/step - loss: 0.0024 - accuracy: 0.9988 - val_loss: 0.6691 - val_accuracy: 0.7603\n",
      "Epoch 10/100\n",
      "27/27 [==============================] - 25s 926ms/step - loss: 0.0068 - accuracy: 0.9988 - val_loss: 7.0052 - val_accuracy: 0.7521\n",
      "Epoch 11/100\n",
      "27/27 [==============================] - 25s 925ms/step - loss: 0.0050 - accuracy: 0.9988 - val_loss: 6.4530 - val_accuracy: 0.8306\n",
      "Epoch 12/100\n",
      "27/27 [==============================] - 25s 926ms/step - loss: 9.5108e-05 - accuracy: 1.0000 - val_loss: 5.4031 - val_accuracy: 0.6777\n",
      "Epoch 13/100\n",
      "27/27 [==============================] - 25s 924ms/step - loss: 0.0067 - accuracy: 0.9976 - val_loss: 11.5786 - val_accuracy: 0.8264\n",
      "Epoch 14/100\n",
      "27/27 [==============================] - 25s 926ms/step - loss: 0.0027 - accuracy: 0.9988 - val_loss: 0.0669 - val_accuracy: 0.9091\n",
      "Epoch 15/100\n",
      "27/27 [==============================] - 25s 927ms/step - loss: 0.0014 - accuracy: 1.0000 - val_loss: 2.6491e-07 - val_accuracy: 0.7149\n",
      "Epoch 16/100\n",
      "27/27 [==============================] - 25s 922ms/step - loss: 0.0243 - accuracy: 0.9976 - val_loss: 0.0013 - val_accuracy: 0.8760\n",
      "Epoch 17/100\n",
      "27/27 [==============================] - 25s 924ms/step - loss: 2.9333e-04 - accuracy: 1.0000 - val_loss: 4.1470 - val_accuracy: 0.8223\n",
      "Epoch 18/100\n",
      "27/27 [==============================] - 25s 924ms/step - loss: 1.8648e-04 - accuracy: 1.0000 - val_loss: 3.6616 - val_accuracy: 0.8347\n",
      "Epoch 19/100\n",
      "27/27 [==============================] - 25s 925ms/step - loss: 2.3535e-05 - accuracy: 1.0000 - val_loss: 6.3689 - val_accuracy: 0.8306\n",
      "Epoch 20/100\n",
      "27/27 [==============================] - 25s 927ms/step - loss: 0.0043 - accuracy: 0.9988 - val_loss: 7.7457 - val_accuracy: 0.6983\n",
      "Epoch 21/100\n",
      "27/27 [==============================] - 25s 926ms/step - loss: 4.6511e-04 - accuracy: 1.0000 - val_loss: 0.6961 - val_accuracy: 0.9091\n",
      "Epoch 22/100\n",
      "27/27 [==============================] - 25s 922ms/step - loss: 3.4108e-05 - accuracy: 1.0000 - val_loss: 11.7138 - val_accuracy: 0.7273\n",
      "Epoch 23/100\n",
      "27/27 [==============================] - 25s 921ms/step - loss: 1.7508e-04 - accuracy: 1.0000 - val_loss: 24.3465 - val_accuracy: 0.4959\n",
      "Epoch 24/100\n",
      "27/27 [==============================] - 25s 923ms/step - loss: 0.0016 - accuracy: 0.9988 - val_loss: 18.6710 - val_accuracy: 0.7769\n",
      "Epoch 25/100\n",
      "27/27 [==============================] - 25s 920ms/step - loss: 5.4356e-04 - accuracy: 1.0000 - val_loss: 6.3482 - val_accuracy: 0.6901\n",
      "Epoch 26/100\n",
      "27/27 [==============================] - 25s 921ms/step - loss: 4.7040e-05 - accuracy: 1.0000 - val_loss: 5.7121 - val_accuracy: 0.7190\n",
      "Epoch 27/100\n",
      "27/27 [==============================] - 25s 922ms/step - loss: 4.1932e-05 - accuracy: 1.0000 - val_loss: 12.3139 - val_accuracy: 0.8140\n",
      "Epoch 28/100\n",
      "27/27 [==============================] - 25s 923ms/step - loss: 1.5111e-05 - accuracy: 1.0000 - val_loss: 8.1038 - val_accuracy: 0.6901\n",
      "Epoch 29/100\n",
      "27/27 [==============================] - 25s 923ms/step - loss: 1.6376e-04 - accuracy: 1.0000 - val_loss: 0.0030 - val_accuracy: 0.7893\n",
      "Epoch 30/100\n",
      "27/27 [==============================] - 25s 922ms/step - loss: 2.4669e-04 - accuracy: 1.0000 - val_loss: 6.6989e-05 - val_accuracy: 0.8223\n",
      "Epoch 31/100\n",
      "27/27 [==============================] - 25s 923ms/step - loss: 6.3238e-04 - accuracy: 1.0000 - val_loss: 1.2072 - val_accuracy: 0.8595\n",
      "Epoch 32/100\n",
      "27/27 [==============================] - 25s 923ms/step - loss: 2.3716e-04 - accuracy: 1.0000 - val_loss: 0.3834 - val_accuracy: 0.9463\n",
      "Epoch 33/100\n",
      "27/27 [==============================] - 25s 923ms/step - loss: 2.0613e-06 - accuracy: 1.0000 - val_loss: 1.3944 - val_accuracy: 0.8719\n",
      "Epoch 34/100\n",
      "27/27 [==============================] - 25s 922ms/step - loss: 1.5901e-06 - accuracy: 1.0000 - val_loss: 3.3421 - val_accuracy: 0.8264\n",
      "Epoch 35/100\n",
      "27/27 [==============================] - 25s 921ms/step - loss: 8.2033e-04 - accuracy: 1.0000 - val_loss: 5.6973 - val_accuracy: 0.7603\n"
     ]
    }
   ],
   "source": [
    "history = net.fit_generator(train_generator,\n",
    "                  verbose=1,\n",
    "                  epochs=100,\n",
    "                  callbacks=[callback],\n",
    "                  validation_data=val_generator)"
   ]
  },
  {
   "cell_type": "markdown",
   "metadata": {
    "colab_type": "text",
    "id": "guEfK71pvfD8"
   },
   "source": [
    "## Evaluation\n"
   ]
  },
  {
   "cell_type": "code",
   "execution_count": 77,
   "metadata": {
    "colab": {
     "base_uri": "https://localhost:8080/",
     "height": 35
    },
    "colab_type": "code",
    "executionInfo": {
     "elapsed": 21985,
     "status": "ok",
     "timestamp": 1591285963300,
     "user": {
      "displayName": "Gian Carlo Milanese",
      "photoUrl": "",
      "userId": "08352423327035271918"
     },
     "user_tz": -120
    },
    "id": "WnRqjxm7vfEA",
    "outputId": "97474bfb-7000-4a5c-fb7f-bf50d7d81865"
   },
   "outputs": [
    {
     "data": {
      "text/plain": [
       "[0.6385504007339478, 0.6816037893295288]"
      ]
     },
     "execution_count": 77,
     "metadata": {
      "tags": []
     },
     "output_type": "execute_result"
    }
   ],
   "source": [
    "net.evaluate_generator(train_generator)"
   ]
  },
  {
   "cell_type": "code",
   "execution_count": 78,
   "metadata": {
    "colab": {
     "base_uri": "https://localhost:8080/",
     "height": 35
    },
    "colab_type": "code",
    "executionInfo": {
     "elapsed": 28411,
     "status": "ok",
     "timestamp": 1591285969808,
     "user": {
      "displayName": "Gian Carlo Milanese",
      "photoUrl": "",
      "userId": "08352423327035271918"
     },
     "user_tz": -120
    },
    "id": "GrkZkMipvfED",
    "outputId": "86f38336-dd60-4540-b8dc-4aca6a5fd22a"
   },
   "outputs": [
    {
     "data": {
      "text/plain": [
       "[2.6490931759326486e-07, 0.7148760557174683]"
      ]
     },
     "execution_count": 78,
     "metadata": {
      "tags": []
     },
     "output_type": "execute_result"
    }
   ],
   "source": [
    "net.evaluate_generator(val_generator)"
   ]
  },
  {
   "cell_type": "code",
   "execution_count": 79,
   "metadata": {
    "colab": {
     "base_uri": "https://localhost:8080/",
     "height": 35
    },
    "colab_type": "code",
    "executionInfo": {
     "elapsed": 31372,
     "status": "ok",
     "timestamp": 1591285972983,
     "user": {
      "displayName": "Gian Carlo Milanese",
      "photoUrl": "",
      "userId": "08352423327035271918"
     },
     "user_tz": -120
    },
    "id": "UQL1w6C8vfEF",
    "outputId": "282a1124-d3f5-409c-c781-c8aeac75795b"
   },
   "outputs": [
    {
     "data": {
      "text/plain": [
       "[0.0009516101563349366, 0.6854838728904724]"
      ]
     },
     "execution_count": 79,
     "metadata": {
      "tags": []
     },
     "output_type": "execute_result"
    }
   ],
   "source": [
    "net.evaluate_generator(test_generator)"
   ]
  },
  {
   "cell_type": "code",
   "execution_count": 80,
   "metadata": {
    "colab": {
     "base_uri": "https://localhost:8080/",
     "height": 248
    },
    "colab_type": "code",
    "executionInfo": {
     "elapsed": 44987,
     "status": "ok",
     "timestamp": 1591285987064,
     "user": {
      "displayName": "Gian Carlo Milanese",
      "photoUrl": "",
      "userId": "08352423327035271918"
     },
     "user_tz": -120
    },
    "id": "30hE3ArNvfEI",
    "outputId": "c14008d2-0e8b-46ca-cba7-b6a6c96af32a"
   },
   "outputs": [
    {
     "name": "stdout",
     "output_type": "stream",
     "text": [
      "              precision    recall  f1-score   support\n",
      "\n",
      "      alinda       1.00      0.25      0.40        36\n",
      "        cami       1.00      1.00      1.00        41\n",
      "        gian       1.00      0.02      0.05        43\n",
      "       mamma       0.87      1.00      0.93        41\n",
      "        papi       1.00      1.00      1.00        41\n",
      "        umbe       0.39      1.00      0.56        40\n",
      "\n",
      "    accuracy                           0.71       242\n",
      "   macro avg       0.88      0.71      0.66       242\n",
      "weighted avg       0.88      0.71      0.66       242\n",
      "\n"
     ]
    }
   ],
   "source": [
    "cm_val, cr_val = classification_report_generator(val_generator)\n",
    "print(cr_val)"
   ]
  },
  {
   "cell_type": "code",
   "execution_count": 81,
   "metadata": {
    "colab": {
     "base_uri": "https://localhost:8080/",
     "height": 304
    },
    "colab_type": "code",
    "executionInfo": {
     "elapsed": 42298,
     "status": "ok",
     "timestamp": 1591285990300,
     "user": {
      "displayName": "Gian Carlo Milanese",
      "photoUrl": "",
      "userId": "08352423327035271918"
     },
     "user_tz": -120
    },
    "id": "RajtZ-1NvfEK",
    "outputId": "17e501e3-9835-44b3-e7be-cdf95adcf812"
   },
   "outputs": [
    {
     "name": "stdout",
     "output_type": "stream",
     "text": [
      "              precision    recall  f1-score   support\n",
      "\n",
      "      alinda       1.00      0.06      0.11        18\n",
      "        cami       1.00      1.00      1.00        21\n",
      "        gian       0.00      0.00      0.00        22\n",
      "       mamma       1.00      1.00      1.00        21\n",
      "        papi       1.00      1.00      1.00        21\n",
      "        umbe       0.35      1.00      0.52        21\n",
      "\n",
      "    accuracy                           0.69       124\n",
      "   macro avg       0.72      0.68      0.60       124\n",
      "weighted avg       0.71      0.69      0.61       124\n",
      "\n"
     ]
    },
    {
     "name": "stderr",
     "output_type": "stream",
     "text": [
      "/usr/local/lib/python3.6/dist-packages/sklearn/metrics/_classification.py:1272: UndefinedMetricWarning: Precision and F-score are ill-defined and being set to 0.0 in labels with no predicted samples. Use `zero_division` parameter to control this behavior.\n",
      "  _warn_prf(average, modifier, msg_start, len(result))\n"
     ]
    }
   ],
   "source": [
    "cm_test, cr_test = classification_report_generator(test_generator)\n",
    "print(cr_test)"
   ]
  },
  {
   "cell_type": "code",
   "execution_count": 82,
   "metadata": {
    "colab": {
     "base_uri": "https://localhost:8080/",
     "height": 621
    },
    "colab_type": "code",
    "executionInfo": {
     "elapsed": 41865,
     "status": "ok",
     "timestamp": 1591285990979,
     "user": {
      "displayName": "Gian Carlo Milanese",
      "photoUrl": "",
      "userId": "08352423327035271918"
     },
     "user_tz": -120
    },
    "id": "T998Wvx8vfEO",
    "outputId": "dd9017da-865c-4d5d-b63c-e7b3193c81ae"
   },
   "outputs": [
    {
     "data": {
      "image/png": "[encoded data removed]",
      "text/plain": [
       "<Figure size 1080x720 with 1 Axes>"
      ]
     },
     "metadata": {
      "needs_background": "light",
      "tags": []
     },
     "output_type": "display_data"
    }
   ],
   "source": [
    "plt.figure(figsize=(15,10))\n",
    "plt.plot(history.history['accuracy'])\n",
    "plt.plot(history.history['val_accuracy'])\n",
    "plt.title('model accuracy')\n",
    "plt.ylabel('accuracy')\n",
    "plt.xlabel('epoch')\n",
    "plt.legend(['train', 'val'], loc='upper left')\n",
    "plt.show()"
   ]
  },
  {
   "cell_type": "code",
   "execution_count": 83,
   "metadata": {
    "colab": {
     "base_uri": "https://localhost:8080/",
     "height": 621
    },
    "colab_type": "code",
    "executionInfo": {
     "elapsed": 40414,
     "status": "ok",
     "timestamp": 1591285991456,
     "user": {
      "displayName": "Gian Carlo Milanese",
      "photoUrl": "",
      "userId": "08352423327035271918"
     },
     "user_tz": -120
    },
    "id": "2FLf8WzPvfEP",
    "outputId": "1e61b2a7-4457-4d74-a86f-8158ba793892"
   },
   "outputs": [
    {
     "data": {
      "image/png": "[encoded data removed]",
      "text/plain": [
       "<Figure size 1080x720 with 1 Axes>"
      ]
     },
     "metadata": {
      "needs_background": "light",
      "tags": []
     },
     "output_type": "display_data"
    }
   ],
   "source": [
    "plt.figure(figsize=(15,10))\n",
    "plt.plot(history.history['loss'])\n",
    "plt.plot(history.history['val_loss'])\n",
    "plt.title('model loss')\n",
    "plt.ylabel('loss')\n",
    "plt.xlabel('epoch')\n",
    "plt.legend(['train', 'val'], loc='upper left')\n",
    "plt.show()"
   ]
  },
  {
   "cell_type": "code",
   "execution_count": 0,
   "metadata": {
    "colab": {},
    "colab_type": "code",
    "id": "y1-3gO7QCWPF"
   },
   "outputs": [],
   "source": [
    "net.save(\"/content/drive/My Drive/2D/models/1_model.h5\")"
   ]
  },
  {
   "cell_type": "markdown",
   "metadata": {
    "colab_type": "text",
    "id": "vQk1W0jrAwCb"
   },
   "source": [
    "# TODO\n",
    "\n",
    "- Collect more data\n",
    "- Choose a better model\n",
    "- look at these: \n",
    "  - https://github.com/Golbstein/keras-face-recognition\n",
    "  - https://github.com/krasserm/face-recognition"
   ]
  }
 ],
 "metadata": {
  "accelerator": "GPU",
  "colab": {
   "authorship_tag": "ABX9TyOjFWkxIsztQcf4ltuPkOCk",
   "collapsed_sections": [],
   "mount_file_id": "1qoOfVFClXAszmI_mVaBIZZnNNIbZa9yW",
   "name": "Part2Start.ipynb",
   "provenance": []
  },
  "kernelspec": {
   "display_name": "Python 3",
   "language": "python",
   "name": "python3"
  },
  "language_info": {
   "codemirror_mode": {
    "name": "ipython",
    "version": 3
   },
   "file_extension": ".py",
   "mimetype": "text/x-python",
   "name": "python",
   "nbconvert_exporter": "python",
   "pygments_lexer": "ipython3",
   "version": "3.7.4"
  }
 },
 "nbformat": 4,
 "nbformat_minor": 1
}

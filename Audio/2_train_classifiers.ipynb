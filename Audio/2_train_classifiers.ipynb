{
 "cells": [
  {
   "cell_type": "markdown",
   "metadata": {},
   "source": [
    "# Network parameters"
   ]
  },
  {
   "cell_type": "code",
   "execution_count": 1,
   "metadata": {},
   "outputs": [
    {
     "data": {
      "text/plain": [
       "'2.0.0'"
      ]
     },
     "execution_count": 1,
     "metadata": {},
     "output_type": "execute_result"
    }
   ],
   "source": [
    "import tensorflow as tf\n",
    "tf.__version__"
   ]
  },
  {
   "cell_type": "code",
   "execution_count": 2,
   "metadata": {},
   "outputs": [],
   "source": [
    "N_BATCH=32\n",
    "EPOCHS=100\n",
    "PATIENCE=10\n",
    "callback = tf.keras.callbacks.EarlyStopping(monitor='val_loss', restore_best_weights=True, patience=PATIENCE)"
   ]
  },
  {
   "cell_type": "markdown",
   "metadata": {},
   "source": [
    "# Load libraries"
   ]
  },
  {
   "cell_type": "code",
   "execution_count": 3,
   "metadata": {},
   "outputs": [
    {
     "name": "stderr",
     "output_type": "stream",
     "text": [
      "/Users/kappa/opt/miniconda3/envs/dsim/lib/python3.7/site-packages/librosa/util/decorators.py:9: NumbaDeprecationWarning: An import was requested from a module that has moved location.\n",
      "Import requested from: 'numba.decorators', please update to use 'numba.core.decorators' or pin to Numba version 0.48.0. This alias will not be present in Numba version 0.50.0.\n",
      "  from numba.decorators import jit as optional_jit\n",
      "/Users/kappa/opt/miniconda3/envs/dsim/lib/python3.7/site-packages/librosa/util/decorators.py:9: NumbaDeprecationWarning: An import was requested from a module that has moved location.\n",
      "Import of 'jit' requested from: 'numba.decorators', please update to use 'numba.core.decorators' or pin to Numba version 0.48.0. This alias will not be present in Numba version 0.50.0.\n",
      "  from numba.decorators import jit as optional_jit\n"
     ]
    }
   ],
   "source": [
    "import cnn_models\n",
    "import data_preparation\n",
    "from sklearn.metrics import classification_report, confusion_matrix\n",
    "import numpy as np\n",
    "from sklearn.svm import SVC\n",
    "import data_augmentation\n",
    "import random\n",
    "from sklearn.preprocessing import StandardScaler"
   ]
  },
  {
   "cell_type": "markdown",
   "metadata": {},
   "source": [
    "# Set seed for reproducibility"
   ]
  },
  {
   "cell_type": "code",
   "execution_count": 4,
   "metadata": {},
   "outputs": [],
   "source": [
    "SEED = 10\n",
    "# 1. Set `PYTHONHASHSEED` environment variable at a fixed value\n",
    "import os\n",
    "os.environ['PYTHONHASHSEED']=str(SEED)\n",
    "\n",
    "# 2. Set `python` built-in pseudo-random generator at a fixed value\n",
    "import random\n",
    "random.seed(SEED)\n",
    "\n",
    "# 3. Set `numpy` pseudo-random generator at a fixed value\n",
    "import numpy as np\n",
    "np.random.seed(SEED)\n",
    "\n",
    "# 4. Set the `tensorflow` pseudo-random generator at a fixed value\n",
    "import tensorflow as tf\n",
    "tf.random.set_seed(SEED)"
   ]
  },
  {
   "cell_type": "markdown",
   "metadata": {},
   "source": [
    "# Load dataset\n",
    "## No augmentation"
   ]
  },
  {
   "cell_type": "code",
   "execution_count": 5,
   "metadata": {},
   "outputs": [],
   "source": [
    "fsdd_dir=\"./recordings/\"\n",
    "our_recs_dir=\"./preprocessed_recs/\""
   ]
  },
  {
   "cell_type": "code",
   "execution_count": 6,
   "metadata": {},
   "outputs": [
    {
     "name": "stdout",
     "output_type": "stream",
     "text": [
      "Loading from ./recordings/\n"
     ]
    },
    {
     "data": {
      "application/vnd.jupyter.widget-view+json": {
       "model_id": "ed94db126cd74fd8886418fc53c44482",
       "version_major": 2,
       "version_minor": 0
      },
      "text/plain": [
       "HBox(children=(FloatProgress(value=0.0, max=2001.0), HTML(value='')))"
      ]
     },
     "metadata": {},
     "output_type": "display_data"
    },
    {
     "name": "stdout",
     "output_type": "stream",
     "text": [
      "\n",
      "Loading from ./preprocessed_recs/\n"
     ]
    },
    {
     "data": {
      "application/vnd.jupyter.widget-view+json": {
       "model_id": "d493b42786ec49a89d9ae91e308da5b0",
       "version_major": 2,
       "version_minor": 0
      },
      "text/plain": [
       "HBox(children=(FloatProgress(value=0.0, max=401.0), HTML(value='')))"
      ]
     },
     "metadata": {},
     "output_type": "display_data"
    },
    {
     "name": "stdout",
     "output_type": "stream",
     "text": [
      "\n"
     ]
    }
   ],
   "source": [
    "recordings = data_preparation.load_recordings(paths=[fsdd_dir, our_recs_dir])"
   ]
  },
  {
   "cell_type": "markdown",
   "metadata": {},
   "source": [
    "How much does input recordings vary?"
   ]
  },
  {
   "cell_type": "code",
   "execution_count": 7,
   "metadata": {},
   "outputs": [
    {
     "name": "stdout",
     "output_type": "stream",
     "text": [
      "1010 18262\n"
     ]
    }
   ],
   "source": [
    "min_y = min(map(np.shape, recordings))[0]\n",
    "max_y = max(map(np.shape, recordings))[0]\n",
    "print(min_y, max_y)"
   ]
  },
  {
   "cell_type": "markdown",
   "metadata": {},
   "source": [
    "It's quite a huge difference! Let's find out the 10 longest recordings:"
   ]
  },
  {
   "cell_type": "code",
   "execution_count": 8,
   "metadata": {},
   "outputs": [
    {
     "data": {
      "text/plain": [
       "[18262, 17567, 9015, 8995, 8435, 8281, 8201, 8068, 7755, 7356]"
      ]
     },
     "execution_count": 8,
     "metadata": {},
     "output_type": "execute_result"
    }
   ],
   "source": [
    "a = [len(x) for x in recordings]\n",
    "a.sort(reverse=True)\n",
    "a[0:10]"
   ]
  },
  {
   "cell_type": "markdown",
   "metadata": {},
   "source": [
    "Let's now get their indexes:"
   ]
  },
  {
   "cell_type": "code",
   "execution_count": 9,
   "metadata": {},
   "outputs": [],
   "source": [
    "a = [len(x) for x in recordings]\n",
    "first_length=18262\n",
    "second_length=17567\n",
    "index_first = a.index(first_length)\n",
    "index_second = a.index(second_length)"
   ]
  },
  {
   "cell_type": "code",
   "execution_count": 10,
   "metadata": {},
   "outputs": [
    {
     "name": "stdout",
     "output_type": "stream",
     "text": [
      "Longest track is associated with speaker theo, digit 9\n",
      "Second longest track is associated with speaker theo, digit 7\n"
     ]
    }
   ],
   "source": [
    "labels_speakers = data_preparation.load_labels(paths=[fsdd_dir, our_recs_dir], label_type=\"speakers\")\n",
    "labels_digits = data_preparation.load_labels(paths=[fsdd_dir, our_recs_dir])\n",
    "print(\"Longest track is associated with speaker {}, digit {}\".format(labels_speakers[index_first],labels_digits[index_first]))\n",
    "print(\"Second longest track is associated with speaker {}, digit {}\".format(labels_speakers[index_second],labels_digits[index_second]))"
   ]
  },
  {
   "cell_type": "markdown",
   "metadata": {},
   "source": [
    "So the problem is with theo, which has 500 recordings, digit 9 and 7, which respectively have 200 recordings. We can safely delete them and saving to pad many thousands of 0s (there will be (18262 - 9015) less zeros)"
   ]
  },
  {
   "cell_type": "code",
   "execution_count": 11,
   "metadata": {},
   "outputs": [
    {
     "name": "stdout",
     "output_type": "stream",
     "text": [
      "Before: 2400\n",
      "After: 2398\n"
     ]
    }
   ],
   "source": [
    "max_track_length=9015 # it will be useful later on\n",
    "print(\"Before: {}\".format(len(recordings)))\n",
    "recordings=np.delete(recordings,[index_first, index_second])\n",
    "print(\"After: {}\".format(len(recordings)))"
   ]
  },
  {
   "cell_type": "code",
   "execution_count": 12,
   "metadata": {},
   "outputs": [
    {
     "name": "stdout",
     "output_type": "stream",
     "text": [
      "Before: 2400\n",
      "After: 2398\n"
     ]
    }
   ],
   "source": [
    "print(\"Before: {}\".format(len(labels_speakers)))\n",
    "labels_speakers=np.delete(labels_speakers,[index_first, index_second])\n",
    "print(\"After: {}\".format(len(labels_speakers)))"
   ]
  },
  {
   "cell_type": "code",
   "execution_count": 13,
   "metadata": {},
   "outputs": [
    {
     "name": "stdout",
     "output_type": "stream",
     "text": [
      "Before: 2400\n",
      "After: 2398\n"
     ]
    }
   ],
   "source": [
    "print(\"Before: {}\".format(len(labels_digits)))\n",
    "labels_digits=np.delete(labels_digits,[index_first, index_second])\n",
    "print(\"After: {}\".format(len(labels_digits)))"
   ]
  },
  {
   "cell_type": "markdown",
   "metadata": {},
   "source": [
    "Let's now double check to see if everything went well. Now the longest recording will be around 9 K"
   ]
  },
  {
   "cell_type": "code",
   "execution_count": 14,
   "metadata": {},
   "outputs": [
    {
     "data": {
      "text/plain": [
       "[9015, 8995, 8435, 8281, 8201, 8068, 7755, 7356, 7147, 7038]"
      ]
     },
     "execution_count": 14,
     "metadata": {},
     "output_type": "execute_result"
    }
   ],
   "source": [
    "a = [len(x) for x in recordings]\n",
    "a.sort(reverse=True)\n",
    "a[0:10]"
   ]
  },
  {
   "cell_type": "markdown",
   "metadata": {},
   "source": [
    "Even though variability is reduced, it is still there: for this reason we will pad zeros at start and end of recordings"
   ]
  },
  {
   "cell_type": "code",
   "execution_count": 15,
   "metadata": {},
   "outputs": [],
   "source": [
    "pad_recordings = data_preparation.pad_zeros(recordings)"
   ]
  },
  {
   "cell_type": "markdown",
   "metadata": {},
   "source": [
    "Now they will have the same length:"
   ]
  },
  {
   "cell_type": "code",
   "execution_count": 16,
   "metadata": {},
   "outputs": [
    {
     "name": "stdout",
     "output_type": "stream",
     "text": [
      "9015 9015\n"
     ]
    }
   ],
   "source": [
    "min_y = min(map(np.shape, pad_recordings))[0]\n",
    "max_y = max(map(np.shape, pad_recordings))[0]\n",
    "print(min_y, max_y)"
   ]
  },
  {
   "cell_type": "markdown",
   "metadata": {},
   "source": [
    "Now we will create balancede train, validation and test sets. For digits it's not a huge problem (only 7 and 9, because of the previous operation, have 1 recordings less, however our 4 speakers (ale, alinda, gian, khaled) have 100 recordings, while the other 4 have 500 recordings."
   ]
  },
  {
   "cell_type": "code",
   "execution_count": 17,
   "metadata": {},
   "outputs": [],
   "source": [
    "X, y = data_preparation.balanced_train_val_test_split(pad_recordings, labels_digits)\n",
    "X_train_digits = X[0]\n",
    "y_train_digits = y[0]\n",
    "X_val_digits = X[1]\n",
    "y_val_digits = y[1] \n",
    "X_test_digits = X[2]\n",
    "y_test_digits = y[2] "
   ]
  },
  {
   "cell_type": "code",
   "execution_count": 18,
   "metadata": {},
   "outputs": [],
   "source": [
    "X, y = data_preparation.balanced_train_val_test_split(pad_recordings, labels_speakers)\n",
    "X_train_speakers = X[0]\n",
    "y_train_speakers = y[0]\n",
    "X_val_speakers = X[1]\n",
    "y_val_speakers = y[1] \n",
    "X_test_speakers = X[2]\n",
    "y_test_speakers = y[2] "
   ]
  },
  {
   "cell_type": "markdown",
   "metadata": {},
   "source": [
    "# Digits\n",
    "## Spectrograms - No augmentation"
   ]
  },
  {
   "cell_type": "code",
   "execution_count": 19,
   "metadata": {},
   "outputs": [
    {
     "name": "stdout",
     "output_type": "stream",
     "text": [
      "CPU times: user 23.3 s, sys: 393 ms, total: 23.6 s\n",
      "Wall time: 14.7 s\n"
     ]
    }
   ],
   "source": [
    "%%time\n",
    "X_train_digits_spects = np.array([data_preparation.compute_spectrogram(x) for x in X_train_digits])\n",
    "X_val_digits_spects = np.array([data_preparation.compute_spectrogram(x) for x in X_val_digits])\n",
    "X_test_digits_spects = np.array([data_preparation.compute_spectrogram(x) for x in X_test_digits])"
   ]
  },
  {
   "cell_type": "code",
   "execution_count": 20,
   "metadata": {},
   "outputs": [
    {
     "name": "stdout",
     "output_type": "stream",
     "text": [
      "CPU times: user 23.1 s, sys: 351 ms, total: 23.5 s\n",
      "Wall time: 13.5 s\n"
     ]
    }
   ],
   "source": [
    "%%time\n",
    "X_train_digits_spects_norm = np.array([data_preparation.compute_spectrogram(x, normalize=True) for x in X_train_digits])\n",
    "X_val_digits_spects_norm = np.array([data_preparation.compute_spectrogram(x, normalize=True) for x in X_val_digits])\n",
    "X_test_digits_spects_norm = np.array([data_preparation.compute_spectrogram(x, normalize=True) for x in X_test_digits])"
   ]
  },
  {
   "cell_type": "code",
   "execution_count": 21,
   "metadata": {},
   "outputs": [],
   "source": [
    "nsamples, nx, ny = X_train_digits_spects.shape\n",
    "X_train_digits_spects_2d = X_train_digits_spects.reshape((nsamples, nx * ny))"
   ]
  },
  {
   "cell_type": "code",
   "execution_count": 22,
   "metadata": {},
   "outputs": [
    {
     "name": "stdout",
     "output_type": "stream",
     "text": [
      "CPU times: user 8.75 s, sys: 67.3 ms, total: 8.81 s\n",
      "Wall time: 9.02 s\n"
     ]
    }
   ],
   "source": [
    "%%time\n",
    "clf1 = SVC(kernel='rbf', class_weight='balanced', gamma=\"auto\")\n",
    "clf1 = clf1.fit(X_train_digits_spects_2d, y_train_digits)"
   ]
  },
  {
   "cell_type": "code",
   "execution_count": 23,
   "metadata": {},
   "outputs": [],
   "source": [
    "nsamples, nx, ny = X_val_digits_spects.shape\n",
    "X_val_digits_spects_2d = X_val_digits_spects.reshape((nsamples, nx * ny))"
   ]
  },
  {
   "cell_type": "code",
   "execution_count": 24,
   "metadata": {},
   "outputs": [
    {
     "name": "stdout",
     "output_type": "stream",
     "text": [
      "              precision    recall  f1-score   support\n",
      "\n",
      "           0       1.00      0.17      0.29        48\n",
      "           1       0.69      0.23      0.34        48\n",
      "           2       0.62      0.17      0.26        48\n",
      "           3       0.56      0.19      0.28        48\n",
      "           4       0.13      0.50      0.21        48\n",
      "           5       0.64      0.19      0.29        48\n",
      "           6       0.13      0.52      0.20        48\n",
      "           7       0.70      0.15      0.24        48\n",
      "           8       0.80      0.08      0.15        48\n",
      "           9       0.93      0.27      0.42        48\n",
      "\n",
      "    accuracy                           0.25       480\n",
      "   macro avg       0.62      0.25      0.27       480\n",
      "weighted avg       0.62      0.25      0.27       480\n",
      "\n",
      "CPU times: user 1.75 s, sys: 18.7 ms, total: 1.77 s\n",
      "Wall time: 1.88 s\n"
     ]
    }
   ],
   "source": [
    "%%time\n",
    "y_pred = clf1.predict(X_val_digits_spects_2d)\n",
    "print(classification_report(y_val_digits, y_pred))"
   ]
  },
  {
   "cell_type": "markdown",
   "metadata": {},
   "source": [
    "Normalized spectrograms"
   ]
  },
  {
   "cell_type": "code",
   "execution_count": 25,
   "metadata": {},
   "outputs": [],
   "source": [
    "nsamples, nx, ny = X_train_digits_spects_norm.shape\n",
    "X_train_digits_spects_norm_2d = X_train_digits_spects_norm.reshape((nsamples, nx * ny))"
   ]
  },
  {
   "cell_type": "code",
   "execution_count": 26,
   "metadata": {},
   "outputs": [
    {
     "name": "stdout",
     "output_type": "stream",
     "text": [
      "CPU times: user 4.11 s, sys: 32.9 ms, total: 4.14 s\n",
      "Wall time: 4.28 s\n"
     ]
    }
   ],
   "source": [
    "%%time\n",
    "clf = SVC(kernel='rbf', class_weight='balanced', gamma=\"auto\")\n",
    "clf = clf.fit(X_train_digits_spects_norm_2d, y_train_digits)"
   ]
  },
  {
   "cell_type": "code",
   "execution_count": 27,
   "metadata": {},
   "outputs": [],
   "source": [
    "nsamples, nx, ny = X_val_digits_spects_norm.shape\n",
    "X_val_digits_spects_norm_2d = X_val_digits_spects_norm.reshape((nsamples, nx * ny))"
   ]
  },
  {
   "cell_type": "code",
   "execution_count": 28,
   "metadata": {},
   "outputs": [
    {
     "name": "stdout",
     "output_type": "stream",
     "text": [
      "              precision    recall  f1-score   support\n",
      "\n",
      "           0       0.92      0.96      0.94        48\n",
      "           1       0.90      0.90      0.90        48\n",
      "           2       0.87      0.94      0.90        48\n",
      "           3       0.96      0.90      0.92        48\n",
      "           4       1.00      0.85      0.92        48\n",
      "           5       0.93      0.88      0.90        48\n",
      "           6       0.85      0.92      0.88        48\n",
      "           7       0.87      0.98      0.92        48\n",
      "           8       0.90      0.90      0.90        48\n",
      "           9       0.91      0.85      0.88        48\n",
      "\n",
      "    accuracy                           0.91       480\n",
      "   macro avg       0.91      0.91      0.91       480\n",
      "weighted avg       0.91      0.91      0.91       480\n",
      "\n",
      "CPU times: user 1.52 s, sys: 16.9 ms, total: 1.54 s\n",
      "Wall time: 1.68 s\n"
     ]
    }
   ],
   "source": [
    "%%time\n",
    "y_pred = clf.predict(X_val_digits_spects_norm_2d)\n",
    "print(classification_report(y_val_digits, y_pred))"
   ]
  },
  {
   "cell_type": "markdown",
   "metadata": {},
   "source": [
    "Normalized spectrograms lead to better performances, therefore let's use this representation as default\n",
    "### CNN"
   ]
  },
  {
   "cell_type": "code",
   "execution_count": 29,
   "metadata": {},
   "outputs": [],
   "source": [
    "X_data, y_data, input_shape, _ = data_preparation.prepare_data_nn(X_train_digits_spects_norm, X_val_digits_spects_norm, X_test_digits_spects_norm, y_train_digits, y_val_digits, y_test_digits, number_mode=True)\n",
    "\n",
    "X_train_digits_spects_norm_nn  = X_data[0]\n",
    "y_train_digits_nn = y_data[0]\n",
    "X_val_digits_spects_norm_nn  = X_data[1]\n",
    "y_val_digits_nn = y_data[1]\n",
    "X_test_digits_spects_norm_nn = X_data[2]\n",
    "y_test_digits_nn  = y_data[2]\n"
   ]
  },
  {
   "cell_type": "code",
   "execution_count": 30,
   "metadata": {},
   "outputs": [
    {
     "name": "stdout",
     "output_type": "stream",
     "text": [
      "Model: \"sequential\"\n",
      "_________________________________________________________________\n",
      "Layer (type)                 Output Shape              Param #   \n",
      "=================================================================\n",
      "conv2d (Conv2D)              (None, 127, 17, 32)       160       \n",
      "_________________________________________________________________\n",
      "max_pooling2d (MaxPooling2D) (None, 63, 8, 32)         0         \n",
      "_________________________________________________________________\n",
      "flatten (Flatten)            (None, 16128)             0         \n",
      "_________________________________________________________________\n",
      "dense (Dense)                (None, 64)                1032256   \n",
      "_________________________________________________________________\n",
      "dropout (Dropout)            (None, 64)                0         \n",
      "_________________________________________________________________\n",
      "dense_1 (Dense)              (None, 10)                650       \n",
      "=================================================================\n",
      "Total params: 1,033,066\n",
      "Trainable params: 1,033,066\n",
      "Non-trainable params: 0\n",
      "_________________________________________________________________\n",
      "None\n",
      "Train on 1430 samples, validate on 480 samples\n",
      "Epoch 1/100\n",
      "1430/1430 [==============================] - 5s 3ms/sample - loss: 1.9174 - accuracy: 0.3510 - val_loss: 1.6236 - val_accuracy: 0.4604\n",
      "Epoch 2/100\n",
      "1430/1430 [==============================] - 3s 2ms/sample - loss: 1.3686 - accuracy: 0.5601 - val_loss: 0.9706 - val_accuracy: 0.7708\n",
      "Epoch 3/100\n",
      "1430/1430 [==============================] - 3s 2ms/sample - loss: 1.0282 - accuracy: 0.6916 - val_loss: 0.7945 - val_accuracy: 0.7750\n",
      "Epoch 4/100\n",
      "1430/1430 [==============================] - 3s 2ms/sample - loss: 0.8044 - accuracy: 0.7406 - val_loss: 0.6505 - val_accuracy: 0.8188\n",
      "Epoch 5/100\n",
      "1430/1430 [==============================] - 3s 2ms/sample - loss: 0.6677 - accuracy: 0.7790 - val_loss: 0.6628 - val_accuracy: 0.7979\n",
      "Epoch 6/100\n",
      "1430/1430 [==============================] - 3s 2ms/sample - loss: 0.5816 - accuracy: 0.8175 - val_loss: 0.7843 - val_accuracy: 0.8125\n",
      "Epoch 7/100\n",
      "1430/1430 [==============================] - 3s 2ms/sample - loss: 0.4884 - accuracy: 0.8490 - val_loss: 0.8742 - val_accuracy: 0.7042\n",
      "Epoch 8/100\n",
      "1430/1430 [==============================] - 3s 2ms/sample - loss: 0.4590 - accuracy: 0.8434 - val_loss: 0.5060 - val_accuracy: 0.8604\n",
      "Epoch 9/100\n",
      "1430/1430 [==============================] - 3s 2ms/sample - loss: 0.3911 - accuracy: 0.8881 - val_loss: 0.4629 - val_accuracy: 0.8875\n",
      "Epoch 10/100\n",
      "1430/1430 [==============================] - 3s 2ms/sample - loss: 0.3546 - accuracy: 0.8930 - val_loss: 0.3984 - val_accuracy: 0.8875\n",
      "Epoch 11/100\n",
      "1430/1430 [==============================] - 3s 2ms/sample - loss: 0.3255 - accuracy: 0.9049 - val_loss: 0.3661 - val_accuracy: 0.9104\n",
      "Epoch 12/100\n",
      "1430/1430 [==============================] - 3s 2ms/sample - loss: 0.2901 - accuracy: 0.9091 - val_loss: 0.3485 - val_accuracy: 0.9104\n",
      "Epoch 13/100\n",
      "1430/1430 [==============================] - 3s 2ms/sample - loss: 0.2604 - accuracy: 0.9203 - val_loss: 0.3924 - val_accuracy: 0.9000\n",
      "Epoch 14/100\n",
      "1430/1430 [==============================] - 3s 2ms/sample - loss: 0.2512 - accuracy: 0.9217 - val_loss: 0.3981 - val_accuracy: 0.9021\n",
      "Epoch 15/100\n",
      "1430/1430 [==============================] - 3s 2ms/sample - loss: 0.2187 - accuracy: 0.9322 - val_loss: 0.3432 - val_accuracy: 0.9271\n",
      "Epoch 16/100\n",
      "1430/1430 [==============================] - 3s 2ms/sample - loss: 0.1929 - accuracy: 0.9427 - val_loss: 0.3648 - val_accuracy: 0.9083\n",
      "Epoch 17/100\n",
      "1430/1430 [==============================] - 3s 2ms/sample - loss: 0.2243 - accuracy: 0.9378 - val_loss: 0.3112 - val_accuracy: 0.9250\n",
      "Epoch 18/100\n",
      "1430/1430 [==============================] - 3s 2ms/sample - loss: 0.1935 - accuracy: 0.9364 - val_loss: 0.3379 - val_accuracy: 0.9250\n",
      "Epoch 19/100\n",
      "1430/1430 [==============================] - 3s 2ms/sample - loss: 0.1707 - accuracy: 0.9497 - val_loss: 0.3103 - val_accuracy: 0.9375\n",
      "Epoch 20/100\n",
      "1430/1430 [==============================] - 3s 2ms/sample - loss: 0.1666 - accuracy: 0.9469 - val_loss: 0.3232 - val_accuracy: 0.9167\n",
      "Epoch 21/100\n",
      "1430/1430 [==============================] - 3s 2ms/sample - loss: 0.1803 - accuracy: 0.9427 - val_loss: 0.3912 - val_accuracy: 0.9000\n",
      "Epoch 22/100\n",
      "1430/1430 [==============================] - 3s 2ms/sample - loss: 0.1563 - accuracy: 0.9559 - val_loss: 0.3334 - val_accuracy: 0.9208\n",
      "Epoch 23/100\n",
      "1430/1430 [==============================] - 3s 2ms/sample - loss: 0.1458 - accuracy: 0.9559 - val_loss: 0.3332 - val_accuracy: 0.9292\n",
      "Epoch 24/100\n",
      "1430/1430 [==============================] - 3s 2ms/sample - loss: 0.1662 - accuracy: 0.9503 - val_loss: 0.3916 - val_accuracy: 0.9021\n",
      "Epoch 25/100\n",
      "1430/1430 [==============================] - 3s 2ms/sample - loss: 0.1602 - accuracy: 0.9510 - val_loss: 0.3365 - val_accuracy: 0.9312\n",
      "Epoch 26/100\n",
      "1430/1430 [==============================] - 3s 2ms/sample - loss: 0.1373 - accuracy: 0.9587 - val_loss: 0.3064 - val_accuracy: 0.9333\n",
      "Epoch 27/100\n",
      "1430/1430 [==============================] - 3s 2ms/sample - loss: 0.1281 - accuracy: 0.9566 - val_loss: 0.4461 - val_accuracy: 0.8938\n",
      "Epoch 28/100\n",
      "1430/1430 [==============================] - 3s 2ms/sample - loss: 0.1178 - accuracy: 0.9678 - val_loss: 0.3189 - val_accuracy: 0.9312\n",
      "Epoch 29/100\n",
      "1430/1430 [==============================] - 3s 2ms/sample - loss: 0.1074 - accuracy: 0.9699 - val_loss: 0.3576 - val_accuracy: 0.9250\n",
      "Epoch 30/100\n",
      "1430/1430 [==============================] - 3s 2ms/sample - loss: 0.1225 - accuracy: 0.9594 - val_loss: 0.3374 - val_accuracy: 0.9333\n",
      "Epoch 31/100\n",
      "1430/1430 [==============================] - 3s 2ms/sample - loss: 0.0988 - accuracy: 0.9734 - val_loss: 0.3076 - val_accuracy: 0.9417\n",
      "Epoch 32/100\n",
      "1430/1430 [==============================] - 3s 2ms/sample - loss: 0.1023 - accuracy: 0.9699 - val_loss: 0.2945 - val_accuracy: 0.9458\n",
      "Epoch 33/100\n",
      "1430/1430 [==============================] - 3s 2ms/sample - loss: 0.0998 - accuracy: 0.9741 - val_loss: 0.3093 - val_accuracy: 0.9375\n",
      "Epoch 34/100\n",
      "1430/1430 [==============================] - 3s 2ms/sample - loss: 0.1019 - accuracy: 0.9678 - val_loss: 0.3300 - val_accuracy: 0.9396\n",
      "Epoch 35/100\n",
      "1430/1430 [==============================] - 3s 2ms/sample - loss: 0.0891 - accuracy: 0.9734 - val_loss: 0.3032 - val_accuracy: 0.9458\n",
      "Epoch 36/100\n",
      "1430/1430 [==============================] - 4s 3ms/sample - loss: 0.0687 - accuracy: 0.9797 - val_loss: 0.2842 - val_accuracy: 0.9417\n",
      "Epoch 37/100\n",
      "1430/1430 [==============================] - 3s 2ms/sample - loss: 0.0841 - accuracy: 0.9776 - val_loss: 0.3330 - val_accuracy: 0.9500\n",
      "Epoch 38/100\n",
      "1430/1430 [==============================] - 3s 2ms/sample - loss: 0.0760 - accuracy: 0.9783 - val_loss: 0.3004 - val_accuracy: 0.9479\n",
      "Epoch 39/100\n",
      "1430/1430 [==============================] - 3s 2ms/sample - loss: 0.0825 - accuracy: 0.9741 - val_loss: 0.3155 - val_accuracy: 0.9292\n",
      "Epoch 40/100\n",
      "1430/1430 [==============================] - 3s 2ms/sample - loss: 0.0663 - accuracy: 0.9853 - val_loss: 0.3460 - val_accuracy: 0.9396\n",
      "Epoch 41/100\n",
      "1430/1430 [==============================] - 3s 2ms/sample - loss: 0.0730 - accuracy: 0.9769 - val_loss: 0.3130 - val_accuracy: 0.9500\n",
      "Epoch 42/100\n",
      "1430/1430 [==============================] - 3s 2ms/sample - loss: 0.0726 - accuracy: 0.9811 - val_loss: 0.3445 - val_accuracy: 0.9292\n",
      "Epoch 43/100\n",
      "1430/1430 [==============================] - 3s 2ms/sample - loss: 0.0653 - accuracy: 0.9839 - val_loss: 0.3782 - val_accuracy: 0.9187\n",
      "Epoch 44/100\n",
      "1430/1430 [==============================] - 3s 2ms/sample - loss: 0.0716 - accuracy: 0.9776 - val_loss: 0.3093 - val_accuracy: 0.9479\n",
      "Epoch 45/100\n",
      "1430/1430 [==============================] - 3s 2ms/sample - loss: 0.0649 - accuracy: 0.9811 - val_loss: 0.3263 - val_accuracy: 0.9396\n",
      "Epoch 46/100\n",
      "1430/1430 [==============================] - 3s 2ms/sample - loss: 0.0635 - accuracy: 0.9846 - val_loss: 0.3071 - val_accuracy: 0.9458\n",
      "CPU times: user 3min 27s, sys: 1min 26s, total: 4min 53s\n",
      "Wall time: 2min 29s\n"
     ]
    },
    {
     "data": {
      "text/plain": [
       "<tensorflow.python.keras.callbacks.History at 0x7f81a054fc50>"
      ]
     },
     "execution_count": 30,
     "metadata": {},
     "output_type": "execute_result"
    }
   ],
   "source": [
    "%%time\n",
    "model = cnn_models.simple_model(input_shape=input_shape, num_classes=10)\n",
    "model.fit(X_train_digits_spects_norm_nn, y_train_digits_nn,\n",
    "          batch_size=N_BATCH,\n",
    "          epochs=EPOCHS,\n",
    "          verbose=1,\n",
    "          callbacks=[callback],\n",
    "          validation_data=(X_val_digits_spects_norm_nn, y_val_digits_nn))"
   ]
  },
  {
   "cell_type": "code",
   "execution_count": 31,
   "metadata": {},
   "outputs": [
    {
     "name": "stdout",
     "output_type": "stream",
     "text": [
      "              precision    recall  f1-score   support\n",
      "\n",
      "           0       0.94      0.98      0.96        48\n",
      "           1       0.87      1.00      0.93        48\n",
      "           2       0.96      0.94      0.95        48\n",
      "           3       0.94      0.94      0.94        48\n",
      "           4       0.98      0.96      0.97        48\n",
      "           5       1.00      0.94      0.97        48\n",
      "           6       0.88      0.94      0.91        48\n",
      "           7       0.98      0.98      0.98        48\n",
      "           8       0.94      0.92      0.93        48\n",
      "           9       0.95      0.83      0.89        48\n",
      "\n",
      "    accuracy                           0.94       480\n",
      "   macro avg       0.94      0.94      0.94       480\n",
      "weighted avg       0.94      0.94      0.94       480\n",
      "\n"
     ]
    }
   ],
   "source": [
    "y_nn = np.argmax(y_val_digits_nn, axis=1)\n",
    "y_pred = model.predict_classes(X_val_digits_spects_norm_nn)\n",
    "print(classification_report(y_nn, y_pred))"
   ]
  },
  {
   "cell_type": "code",
   "execution_count": 32,
   "metadata": {},
   "outputs": [
    {
     "name": "stdout",
     "output_type": "stream",
     "text": [
      "Model: \"sequential_1\"\n",
      "_________________________________________________________________\n",
      "Layer (type)                 Output Shape              Param #   \n",
      "=================================================================\n",
      "conv2d_1 (Conv2D)            (None, 127, 17, 32)       160       \n",
      "_________________________________________________________________\n",
      "batch_normalization (BatchNo (None, 127, 17, 32)       128       \n",
      "_________________________________________________________________\n",
      "max_pooling2d_1 (MaxPooling2 (None, 63, 8, 32)         0         \n",
      "_________________________________________________________________\n",
      "flatten_1 (Flatten)          (None, 16128)             0         \n",
      "_________________________________________________________________\n",
      "dense_2 (Dense)              (None, 64)                1032256   \n",
      "_________________________________________________________________\n",
      "batch_normalization_1 (Batch (None, 64)                256       \n",
      "_________________________________________________________________\n",
      "dropout_1 (Dropout)          (None, 64)                0         \n",
      "_________________________________________________________________\n",
      "dense_3 (Dense)              (None, 10)                650       \n",
      "=================================================================\n",
      "Total params: 1,033,450\n",
      "Trainable params: 1,033,258\n",
      "Non-trainable params: 192\n",
      "_________________________________________________________________\n",
      "None\n",
      "Train on 1430 samples, validate on 480 samples\n",
      "Epoch 1/100\n",
      "1430/1430 [==============================] - 6s 4ms/sample - loss: 1.1098 - accuracy: 0.6483 - val_loss: 1.6680 - val_accuracy: 0.5938\n",
      "Epoch 2/100\n",
      "1430/1430 [==============================] - 4s 3ms/sample - loss: 0.4727 - accuracy: 0.8776 - val_loss: 1.5970 - val_accuracy: 0.5000\n",
      "Epoch 3/100\n",
      "1430/1430 [==============================] - 4s 2ms/sample - loss: 0.3098 - accuracy: 0.9378 - val_loss: 1.3810 - val_accuracy: 0.5958\n",
      "Epoch 4/100\n",
      "1430/1430 [==============================] - 3s 2ms/sample - loss: 0.2314 - accuracy: 0.9594 - val_loss: 1.2962 - val_accuracy: 0.5917\n",
      "Epoch 5/100\n",
      "1430/1430 [==============================] - 3s 2ms/sample - loss: 0.1736 - accuracy: 0.9727 - val_loss: 1.1695 - val_accuracy: 0.6271\n",
      "Epoch 6/100\n",
      "1430/1430 [==============================] - 3s 2ms/sample - loss: 0.1541 - accuracy: 0.9741 - val_loss: 1.0491 - val_accuracy: 0.6833\n",
      "Epoch 7/100\n",
      "1430/1430 [==============================] - 3s 2ms/sample - loss: 0.1195 - accuracy: 0.9881 - val_loss: 0.8411 - val_accuracy: 0.7625\n",
      "Epoch 8/100\n",
      "1430/1430 [==============================] - 3s 2ms/sample - loss: 0.1063 - accuracy: 0.9895 - val_loss: 0.7585 - val_accuracy: 0.7958\n",
      "Epoch 9/100\n",
      "1430/1430 [==============================] - 4s 2ms/sample - loss: 0.0987 - accuracy: 0.9888 - val_loss: 0.5663 - val_accuracy: 0.8646\n",
      "Epoch 10/100\n",
      "1430/1430 [==============================] - 3s 2ms/sample - loss: 0.0788 - accuracy: 0.9958 - val_loss: 0.5301 - val_accuracy: 0.8500\n",
      "Epoch 11/100\n",
      "1430/1430 [==============================] - 3s 2ms/sample - loss: 0.0738 - accuracy: 0.9951 - val_loss: 0.4532 - val_accuracy: 0.8938\n",
      "Epoch 12/100\n",
      "1430/1430 [==============================] - 3s 2ms/sample - loss: 0.0626 - accuracy: 0.9958 - val_loss: 0.3572 - val_accuracy: 0.9146\n",
      "Epoch 13/100\n",
      "1430/1430 [==============================] - 4s 2ms/sample - loss: 0.0542 - accuracy: 0.9972 - val_loss: 0.3090 - val_accuracy: 0.9396\n",
      "Epoch 14/100\n",
      "1430/1430 [==============================] - 3s 2ms/sample - loss: 0.0531 - accuracy: 0.9993 - val_loss: 0.3085 - val_accuracy: 0.9271\n",
      "Epoch 15/100\n",
      "1430/1430 [==============================] - 3s 2ms/sample - loss: 0.0488 - accuracy: 0.9979 - val_loss: 0.2900 - val_accuracy: 0.9354\n",
      "Epoch 16/100\n",
      "1430/1430 [==============================] - 4s 2ms/sample - loss: 0.0444 - accuracy: 0.9979 - val_loss: 0.2948 - val_accuracy: 0.9354\n",
      "Epoch 17/100\n",
      "1430/1430 [==============================] - 3s 2ms/sample - loss: 0.0361 - accuracy: 1.0000 - val_loss: 0.2861 - val_accuracy: 0.9458\n",
      "Epoch 18/100\n",
      "1430/1430 [==============================] - 3s 2ms/sample - loss: 0.0382 - accuracy: 1.0000 - val_loss: 0.2800 - val_accuracy: 0.9521\n",
      "Epoch 19/100\n",
      "1430/1430 [==============================] - 3s 2ms/sample - loss: 0.0331 - accuracy: 1.0000 - val_loss: 0.2799 - val_accuracy: 0.9500\n",
      "Epoch 20/100\n",
      "1430/1430 [==============================] - 4s 2ms/sample - loss: 0.0323 - accuracy: 0.9986 - val_loss: 0.3017 - val_accuracy: 0.9458\n",
      "Epoch 21/100\n",
      "1430/1430 [==============================] - 4s 2ms/sample - loss: 0.0283 - accuracy: 1.0000 - val_loss: 0.2775 - val_accuracy: 0.9521\n",
      "Epoch 22/100\n",
      "1430/1430 [==============================] - 3s 2ms/sample - loss: 0.0263 - accuracy: 0.9993 - val_loss: 0.2849 - val_accuracy: 0.9438\n",
      "Epoch 23/100\n",
      "1430/1430 [==============================] - 4s 2ms/sample - loss: 0.0288 - accuracy: 0.9993 - val_loss: 0.2796 - val_accuracy: 0.9563\n",
      "Epoch 24/100\n",
      "1430/1430 [==============================] - 3s 2ms/sample - loss: 0.0282 - accuracy: 1.0000 - val_loss: 0.2788 - val_accuracy: 0.9521\n",
      "Epoch 25/100\n",
      "1430/1430 [==============================] - 3s 2ms/sample - loss: 0.0246 - accuracy: 0.9993 - val_loss: 0.2741 - val_accuracy: 0.9563\n",
      "Epoch 26/100\n",
      "1430/1430 [==============================] - 4s 2ms/sample - loss: 0.0226 - accuracy: 1.0000 - val_loss: 0.2728 - val_accuracy: 0.9563\n",
      "Epoch 27/100\n",
      "1430/1430 [==============================] - 4s 3ms/sample - loss: 0.0233 - accuracy: 1.0000 - val_loss: 0.2738 - val_accuracy: 0.9563\n",
      "Epoch 28/100\n",
      "1430/1430 [==============================] - 4s 2ms/sample - loss: 0.0231 - accuracy: 0.9993 - val_loss: 0.2796 - val_accuracy: 0.9500\n",
      "Epoch 29/100\n",
      "1430/1430 [==============================] - 4s 2ms/sample - loss: 0.0215 - accuracy: 1.0000 - val_loss: 0.2759 - val_accuracy: 0.9479\n",
      "Epoch 30/100\n",
      "1430/1430 [==============================] - 4s 2ms/sample - loss: 0.0203 - accuracy: 1.0000 - val_loss: 0.2764 - val_accuracy: 0.9542\n",
      "Epoch 31/100\n",
      "1430/1430 [==============================] - 4s 2ms/sample - loss: 0.0194 - accuracy: 1.0000 - val_loss: 0.2768 - val_accuracy: 0.9521\n",
      "Epoch 32/100\n",
      "1430/1430 [==============================] - 4s 2ms/sample - loss: 0.0190 - accuracy: 1.0000 - val_loss: 0.2693 - val_accuracy: 0.9542\n",
      "Epoch 33/100\n",
      "1430/1430 [==============================] - 4s 3ms/sample - loss: 0.0159 - accuracy: 1.0000 - val_loss: 0.2706 - val_accuracy: 0.9583\n",
      "Epoch 34/100\n",
      "1430/1430 [==============================] - 3s 2ms/sample - loss: 0.0195 - accuracy: 1.0000 - val_loss: 0.2684 - val_accuracy: 0.9604\n",
      "Epoch 35/100\n",
      "1430/1430 [==============================] - 3s 2ms/sample - loss: 0.0133 - accuracy: 1.0000 - val_loss: 0.2681 - val_accuracy: 0.9583\n",
      "Epoch 36/100\n",
      "1430/1430 [==============================] - 4s 2ms/sample - loss: 0.0145 - accuracy: 1.0000 - val_loss: 0.2680 - val_accuracy: 0.9583\n",
      "Epoch 37/100\n",
      "1430/1430 [==============================] - 4s 3ms/sample - loss: 0.0151 - accuracy: 1.0000 - val_loss: 0.2664 - val_accuracy: 0.9604\n",
      "Epoch 38/100\n",
      "1430/1430 [==============================] - 4s 2ms/sample - loss: 0.0154 - accuracy: 1.0000 - val_loss: 0.2731 - val_accuracy: 0.9521\n",
      "Epoch 39/100\n",
      "1430/1430 [==============================] - 4s 2ms/sample - loss: 0.0140 - accuracy: 1.0000 - val_loss: 0.2666 - val_accuracy: 0.9604\n",
      "Epoch 40/100\n",
      "1430/1430 [==============================] - 4s 2ms/sample - loss: 0.0139 - accuracy: 1.0000 - val_loss: 0.2747 - val_accuracy: 0.9542\n",
      "Epoch 41/100\n",
      "1430/1430 [==============================] - 4s 2ms/sample - loss: 0.0139 - accuracy: 0.9993 - val_loss: 0.2752 - val_accuracy: 0.9604\n",
      "Epoch 42/100\n",
      "1430/1430 [==============================] - 4s 2ms/sample - loss: 0.0134 - accuracy: 1.0000 - val_loss: 0.2684 - val_accuracy: 0.9542\n",
      "Epoch 43/100\n",
      "1430/1430 [==============================] - 4s 2ms/sample - loss: 0.0156 - accuracy: 1.0000 - val_loss: 0.2651 - val_accuracy: 0.9583\n",
      "Epoch 44/100\n",
      "1430/1430 [==============================] - 4s 3ms/sample - loss: 0.0114 - accuracy: 1.0000 - val_loss: 0.2618 - val_accuracy: 0.9583\n",
      "Epoch 45/100\n",
      "1430/1430 [==============================] - 4s 3ms/sample - loss: 0.0113 - accuracy: 1.0000 - val_loss: 0.2705 - val_accuracy: 0.9563\n",
      "Epoch 46/100\n"
     ]
    },
    {
     "name": "stdout",
     "output_type": "stream",
     "text": [
      "1430/1430 [==============================] - 3s 2ms/sample - loss: 0.0119 - accuracy: 1.0000 - val_loss: 0.2689 - val_accuracy: 0.9604\n",
      "Epoch 47/100\n",
      "1430/1430 [==============================] - 3s 2ms/sample - loss: 0.0117 - accuracy: 1.0000 - val_loss: 0.2740 - val_accuracy: 0.9563\n",
      "Epoch 48/100\n",
      "1430/1430 [==============================] - 3s 2ms/sample - loss: 0.0120 - accuracy: 1.0000 - val_loss: 0.2665 - val_accuracy: 0.9604\n",
      "Epoch 49/100\n",
      "1430/1430 [==============================] - 3s 2ms/sample - loss: 0.0122 - accuracy: 1.0000 - val_loss: 0.2675 - val_accuracy: 0.9583\n",
      "Epoch 50/100\n",
      "1430/1430 [==============================] - 4s 2ms/sample - loss: 0.0112 - accuracy: 1.0000 - val_loss: 0.2705 - val_accuracy: 0.9583\n",
      "Epoch 51/100\n",
      "1430/1430 [==============================] - 3s 2ms/sample - loss: 0.0134 - accuracy: 1.0000 - val_loss: 0.2738 - val_accuracy: 0.9563\n",
      "Epoch 52/100\n",
      "1430/1430 [==============================] - 4s 2ms/sample - loss: 0.0104 - accuracy: 1.0000 - val_loss: 0.2685 - val_accuracy: 0.9583\n",
      "Epoch 53/100\n",
      "1430/1430 [==============================] - 3s 2ms/sample - loss: 0.0102 - accuracy: 1.0000 - val_loss: 0.2711 - val_accuracy: 0.9542\n",
      "Epoch 54/100\n",
      "1430/1430 [==============================] - 3s 2ms/sample - loss: 0.0097 - accuracy: 1.0000 - val_loss: 0.2663 - val_accuracy: 0.9542\n",
      "CPU times: user 4min 40s, sys: 2min 11s, total: 6min 51s\n",
      "Wall time: 3min 11s\n"
     ]
    },
    {
     "data": {
      "text/plain": [
       "<tensorflow.python.keras.callbacks.History at 0x7f818706c5d0>"
      ]
     },
     "execution_count": 32,
     "metadata": {},
     "output_type": "execute_result"
    }
   ],
   "source": [
    "%%time\n",
    "model = cnn_models.simple_model(input_shape=input_shape, num_classes=10, batch_normalisation=True)\n",
    "model.fit(X_train_digits_spects_norm_nn, y_train_digits_nn,\n",
    "          batch_size=N_BATCH,\n",
    "          epochs=EPOCHS,\n",
    "          verbose=1,\n",
    "          callbacks=[callback],\n",
    "          validation_data=(X_val_digits_spects_norm_nn, y_val_digits_nn))"
   ]
  },
  {
   "cell_type": "code",
   "execution_count": 33,
   "metadata": {},
   "outputs": [
    {
     "name": "stdout",
     "output_type": "stream",
     "text": [
      "              precision    recall  f1-score   support\n",
      "\n",
      "           0       0.98      0.98      0.98        48\n",
      "           1       0.96      0.94      0.95        48\n",
      "           2       0.96      0.94      0.95        48\n",
      "           3       0.96      0.98      0.97        48\n",
      "           4       1.00      0.96      0.98        48\n",
      "           5       0.94      0.96      0.95        48\n",
      "           6       0.94      0.96      0.95        48\n",
      "           7       1.00      0.94      0.97        48\n",
      "           8       0.98      1.00      0.99        48\n",
      "           9       0.88      0.94      0.91        48\n",
      "\n",
      "    accuracy                           0.96       480\n",
      "   macro avg       0.96      0.96      0.96       480\n",
      "weighted avg       0.96      0.96      0.96       480\n",
      "\n"
     ]
    }
   ],
   "source": [
    "y_nn = np.argmax(y_val_digits_nn, axis=1)\n",
    "y_pred = model.predict_classes(X_val_digits_spects_norm_nn)\n",
    "print(classification_report(y_nn, y_pred))"
   ]
  },
  {
   "cell_type": "markdown",
   "metadata": {},
   "source": [
    "Let's now try with MFCCs\n",
    "## MFCC - No augmentation"
   ]
  },
  {
   "cell_type": "code",
   "execution_count": 34,
   "metadata": {},
   "outputs": [
    {
     "name": "stdout",
     "output_type": "stream",
     "text": [
      "CPU times: user 22.4 s, sys: 353 ms, total: 22.8 s\n",
      "Wall time: 11.9 s\n"
     ]
    }
   ],
   "source": [
    "%%time\n",
    "X_train_digits_mfcc= np.array([data_preparation.mfcc(x, flatten=True) for x in X_train_digits])\n",
    "X_val_digits_mfcc = np.array([data_preparation.mfcc(x, flatten=True) for x in X_val_digits])\n",
    "X_test_digits_mfcc = np.array([data_preparation.mfcc(x, flatten=True) for x in X_test_digits])"
   ]
  },
  {
   "cell_type": "code",
   "execution_count": 35,
   "metadata": {},
   "outputs": [
    {
     "name": "stdout",
     "output_type": "stream",
     "text": [
      "CPU times: user 3 µs, sys: 1e+03 ns, total: 4 µs\n",
      "Wall time: 6.91 µs\n"
     ]
    }
   ],
   "source": [
    "%time\n",
    "scaler_normal = StandardScaler()\n",
    "X_train_digits_mfcc_scaled = scaler_normal.fit_transform(X_train_digits_mfcc)\n",
    "X_val_digits_mfcc_scaled =  scaler_normal.transform(X_val_digits_mfcc)\n",
    "X_test_digits_mfcc_scaled =  scaler_normal.transform(X_test_digits_mfcc)"
   ]
  },
  {
   "cell_type": "markdown",
   "metadata": {},
   "source": [
    "### SVC"
   ]
  },
  {
   "cell_type": "code",
   "execution_count": 36,
   "metadata": {},
   "outputs": [
    {
     "name": "stdout",
     "output_type": "stream",
     "text": [
      "CPU times: user 722 ms, sys: 12 ms, total: 734 ms\n",
      "Wall time: 818 ms\n"
     ]
    }
   ],
   "source": [
    "%%time\n",
    "clf = SVC(kernel='rbf', class_weight='balanced', gamma=\"auto\")\n",
    "clf = clf.fit(X_train_digits_mfcc_scaled, y_train_digits)"
   ]
  },
  {
   "cell_type": "code",
   "execution_count": 37,
   "metadata": {},
   "outputs": [
    {
     "name": "stdout",
     "output_type": "stream",
     "text": [
      "              precision    recall  f1-score   support\n",
      "\n",
      "           0       1.00      0.94      0.97        48\n",
      "           1       0.98      0.98      0.98        48\n",
      "           2       1.00      1.00      1.00        48\n",
      "           3       0.96      0.96      0.96        48\n",
      "           4       1.00      0.88      0.93        48\n",
      "           5       1.00      0.92      0.96        48\n",
      "           6       0.69      0.92      0.79        48\n",
      "           7       1.00      0.96      0.98        48\n",
      "           8       0.92      0.94      0.93        48\n",
      "           9       0.98      0.94      0.96        48\n",
      "\n",
      "    accuracy                           0.94       480\n",
      "   macro avg       0.95      0.94      0.94       480\n",
      "weighted avg       0.95      0.94      0.94       480\n",
      "\n",
      "CPU times: user 244 ms, sys: 5.28 ms, total: 249 ms\n",
      "Wall time: 310 ms\n"
     ]
    }
   ],
   "source": [
    "%%time\n",
    "y_pred = clf.predict(X_val_digits_mfcc_scaled)\n",
    "print(classification_report(y_val_digits, y_pred))"
   ]
  },
  {
   "cell_type": "markdown",
   "metadata": {},
   "source": [
    "Similar results of the best Spectrograms model. Let's now use CNNs with MFCC\n",
    "### CNN"
   ]
  },
  {
   "cell_type": "code",
   "execution_count": 38,
   "metadata": {},
   "outputs": [
    {
     "name": "stdout",
     "output_type": "stream",
     "text": [
      "CPU times: user 22.6 s, sys: 360 ms, total: 22.9 s\n",
      "Wall time: 12 s\n"
     ]
    }
   ],
   "source": [
    "%%time\n",
    "X_train_digits_mfcc= np.array([data_preparation.mfcc(x, flatten=False) for x in X_train_digits])\n",
    "X_val_digits_mfcc = np.array([data_preparation.mfcc(x, flatten=False) for x in X_val_digits])\n",
    "X_test_digits_mfcc = np.array([data_preparation.mfcc(x, flatten=False) for x in X_test_digits])"
   ]
  },
  {
   "cell_type": "code",
   "execution_count": 39,
   "metadata": {},
   "outputs": [
    {
     "data": {
      "text/plain": [
       "(1430, 20, 18)"
      ]
     },
     "execution_count": 39,
     "metadata": {},
     "output_type": "execute_result"
    }
   ],
   "source": [
    "X_train_digits_mfcc.shape"
   ]
  },
  {
   "cell_type": "code",
   "execution_count": 40,
   "metadata": {},
   "outputs": [],
   "source": [
    "X, y, input_shape, _= data_preparation.prepare_data_nn(X_train_digits_mfcc, X_val_digits_mfcc, X_test_digits_mfcc, y_train_digits, y_val_digits, y_test_digits, number_mode=True)\n",
    "\n",
    "X_train_digits_mfcc_nn = X[0]\n",
    "y_train_digits_nn = y[0]\n",
    "X_val_digits_mfcc_nn = X[1]\n",
    "y_val_digits_nn = y[1]\n",
    "X_test_digits_mfcc_nn = X[2]\n",
    "y_test_digits_nn = y[2]"
   ]
  },
  {
   "cell_type": "code",
   "execution_count": 41,
   "metadata": {},
   "outputs": [
    {
     "data": {
      "text/plain": [
       "(20, 18, 1)"
      ]
     },
     "execution_count": 41,
     "metadata": {},
     "output_type": "execute_result"
    }
   ],
   "source": [
    "input_shape"
   ]
  },
  {
   "cell_type": "markdown",
   "metadata": {},
   "source": [
    "We can now start to train the models, let's start with the simpler one:"
   ]
  },
  {
   "cell_type": "code",
   "execution_count": 42,
   "metadata": {},
   "outputs": [
    {
     "name": "stdout",
     "output_type": "stream",
     "text": [
      "Model: \"sequential_2\"\n",
      "_________________________________________________________________\n",
      "Layer (type)                 Output Shape              Param #   \n",
      "=================================================================\n",
      "conv2d_2 (Conv2D)            (None, 19, 17, 32)        160       \n",
      "_________________________________________________________________\n",
      "max_pooling2d_2 (MaxPooling2 (None, 9, 8, 32)          0         \n",
      "_________________________________________________________________\n",
      "flatten_2 (Flatten)          (None, 2304)              0         \n",
      "_________________________________________________________________\n",
      "dense_4 (Dense)              (None, 64)                147520    \n",
      "_________________________________________________________________\n",
      "dropout_2 (Dropout)          (None, 64)                0         \n",
      "_________________________________________________________________\n",
      "dense_5 (Dense)              (None, 10)                650       \n",
      "=================================================================\n",
      "Total params: 148,330\n",
      "Trainable params: 148,330\n",
      "Non-trainable params: 0\n",
      "_________________________________________________________________\n",
      "None\n",
      "Train on 1430 samples, validate on 480 samples\n",
      "Epoch 1/100\n",
      "1430/1430 [==============================] - 3s 2ms/sample - loss: 21556014486623.8633 - accuracy: 0.0951 - val_loss: 2.3026 - val_accuracy: 0.1000\n",
      "Epoch 2/100\n",
      "1430/1430 [==============================] - 1s 692us/sample - loss: 2.3027 - accuracy: 0.0965 - val_loss: 2.3026 - val_accuracy: 0.1000\n",
      "Epoch 3/100\n",
      "1430/1430 [==============================] - 1s 686us/sample - loss: 2.3027 - accuracy: 0.0944 - val_loss: 2.3026 - val_accuracy: 0.1000\n",
      "Epoch 4/100\n",
      "1430/1430 [==============================] - 1s 661us/sample - loss: 2.3027 - accuracy: 0.0909 - val_loss: 2.3026 - val_accuracy: 0.1000\n",
      "Epoch 5/100\n",
      "1430/1430 [==============================] - 1s 648us/sample - loss: 2.3027 - accuracy: 0.0993 - val_loss: 2.3026 - val_accuracy: 0.1000\n",
      "Epoch 6/100\n",
      "1430/1430 [==============================] - 1s 665us/sample - loss: 2.3027 - accuracy: 0.1000 - val_loss: 2.3026 - val_accuracy: 0.1000\n",
      "Epoch 7/100\n",
      "1430/1430 [==============================] - 1s 740us/sample - loss: 2.3027 - accuracy: 0.0916 - val_loss: 2.3026 - val_accuracy: 0.1000\n",
      "Epoch 8/100\n",
      "1430/1430 [==============================] - 1s 855us/sample - loss: 2.3027 - accuracy: 0.0930 - val_loss: 2.3026 - val_accuracy: 0.1000\n",
      "Epoch 9/100\n",
      "1430/1430 [==============================] - 1s 713us/sample - loss: 2.3027 - accuracy: 0.0944 - val_loss: 2.3026 - val_accuracy: 0.1000\n",
      "Epoch 10/100\n",
      "1430/1430 [==============================] - 1s 706us/sample - loss: 2.3027 - accuracy: 0.0923 - val_loss: 2.3026 - val_accuracy: 0.1000\n",
      "Epoch 11/100\n",
      "1430/1430 [==============================] - 1s 715us/sample - loss: 2.3027 - accuracy: 0.0825 - val_loss: 2.3026 - val_accuracy: 0.1000\n",
      "Epoch 12/100\n",
      "1430/1430 [==============================] - 1s 673us/sample - loss: 2.3027 - accuracy: 0.0916 - val_loss: 2.3026 - val_accuracy: 0.1000\n",
      "Epoch 13/100\n",
      "1430/1430 [==============================] - 1s 780us/sample - loss: 2.3027 - accuracy: 0.0846 - val_loss: 2.3026 - val_accuracy: 0.1000\n",
      "Epoch 14/100\n",
      "1430/1430 [==============================] - 1s 653us/sample - loss: 2.3027 - accuracy: 0.0825 - val_loss: 2.3026 - val_accuracy: 0.1000\n",
      "Epoch 15/100\n",
      "1430/1430 [==============================] - 1s 650us/sample - loss: 2.3027 - accuracy: 0.0930 - val_loss: 2.3026 - val_accuracy: 0.1000\n",
      "Epoch 16/100\n",
      "1430/1430 [==============================] - 1s 671us/sample - loss: 2.3027 - accuracy: 0.0909 - val_loss: 2.3026 - val_accuracy: 0.1000\n",
      "Epoch 17/100\n",
      "1430/1430 [==============================] - 1s 660us/sample - loss: 2.3027 - accuracy: 0.0825 - val_loss: 2.3026 - val_accuracy: 0.1000\n",
      "Epoch 18/100\n",
      "1430/1430 [==============================] - 1s 629us/sample - loss: 2.3027 - accuracy: 0.0909 - val_loss: 2.3026 - val_accuracy: 0.1000\n",
      "Epoch 19/100\n",
      "1430/1430 [==============================] - 1s 632us/sample - loss: 2.3027 - accuracy: 0.0951 - val_loss: 2.3026 - val_accuracy: 0.1000\n",
      "Epoch 20/100\n",
      "1430/1430 [==============================] - 1s 653us/sample - loss: 2.3027 - accuracy: 0.0888 - val_loss: 2.3026 - val_accuracy: 0.1000\n",
      "Epoch 21/100\n",
      "1430/1430 [==============================] - 1s 776us/sample - loss: 2.3027 - accuracy: 0.0958 - val_loss: 2.3026 - val_accuracy: 0.1000\n",
      "Epoch 22/100\n",
      "1430/1430 [==============================] - 1s 675us/sample - loss: 2.3027 - accuracy: 0.0867 - val_loss: 2.3026 - val_accuracy: 0.1000\n",
      "Epoch 23/100\n",
      "1430/1430 [==============================] - 1s 651us/sample - loss: 2.3027 - accuracy: 0.0902 - val_loss: 2.3026 - val_accuracy: 0.1000\n",
      "Epoch 24/100\n",
      "1430/1430 [==============================] - 1s 650us/sample - loss: 2.3027 - accuracy: 0.0937 - val_loss: 2.3026 - val_accuracy: 0.1000\n",
      "Epoch 25/100\n",
      "1430/1430 [==============================] - 1s 644us/sample - loss: 2.3027 - accuracy: 0.0951 - val_loss: 2.3026 - val_accuracy: 0.1000\n",
      "Epoch 26/100\n",
      "1430/1430 [==============================] - 1s 653us/sample - loss: 2.3027 - accuracy: 0.0881 - val_loss: 2.3026 - val_accuracy: 0.1000\n",
      "Epoch 27/100\n",
      "1430/1430 [==============================] - 1s 647us/sample - loss: 2.3027 - accuracy: 0.0867 - val_loss: 2.3026 - val_accuracy: 0.1000\n",
      "Epoch 28/100\n",
      "1430/1430 [==============================] - 1s 637us/sample - loss: 2.3027 - accuracy: 0.0930 - val_loss: 2.3026 - val_accuracy: 0.1000\n",
      "Epoch 29/100\n",
      "1430/1430 [==============================] - 1s 681us/sample - loss: 2.3027 - accuracy: 0.0804 - val_loss: 2.3026 - val_accuracy: 0.1000\n",
      "Epoch 30/100\n",
      "1430/1430 [==============================] - 1s 659us/sample - loss: 2.3027 - accuracy: 0.0755 - val_loss: 2.3026 - val_accuracy: 0.1000\n",
      "Epoch 31/100\n",
      "1430/1430 [==============================] - 1s 611us/sample - loss: 2.3027 - accuracy: 0.0965 - val_loss: 2.3026 - val_accuracy: 0.1000\n",
      "Epoch 32/100\n",
      "1430/1430 [==============================] - 1s 698us/sample - loss: 2.3027 - accuracy: 0.0867 - val_loss: 2.3026 - val_accuracy: 0.1000\n",
      "Epoch 33/100\n",
      "1430/1430 [==============================] - 1s 612us/sample - loss: 2.3027 - accuracy: 0.0986 - val_loss: 2.3026 - val_accuracy: 0.1000\n",
      "Epoch 34/100\n",
      "1430/1430 [==============================] - 1s 627us/sample - loss: 2.3027 - accuracy: 0.0888 - val_loss: 2.3026 - val_accuracy: 0.1000\n",
      "Epoch 35/100\n",
      "1430/1430 [==============================] - 1s 653us/sample - loss: 2.3027 - accuracy: 0.0874 - val_loss: 2.3026 - val_accuracy: 0.1000\n",
      "Epoch 36/100\n",
      "1430/1430 [==============================] - 1s 641us/sample - loss: 2.3027 - accuracy: 0.0902 - val_loss: 2.3026 - val_accuracy: 0.1000\n",
      "Epoch 37/100\n",
      "1430/1430 [==============================] - 1s 659us/sample - loss: 2.3027 - accuracy: 0.0762 - val_loss: 2.3026 - val_accuracy: 0.1000\n",
      "Epoch 38/100\n",
      "1430/1430 [==============================] - 1s 616us/sample - loss: 2.3027 - accuracy: 0.0888 - val_loss: 2.3026 - val_accuracy: 0.1000\n",
      "Epoch 39/100\n",
      "1430/1430 [==============================] - 1s 659us/sample - loss: 2.3027 - accuracy: 0.0902 - val_loss: 2.3026 - val_accuracy: 0.1000\n",
      "Epoch 40/100\n",
      "1430/1430 [==============================] - 1s 687us/sample - loss: 2.3027 - accuracy: 0.0881 - val_loss: 2.3026 - val_accuracy: 0.1000\n",
      "Epoch 41/100\n",
      "1430/1430 [==============================] - 1s 613us/sample - loss: 2.3027 - accuracy: 0.0818 - val_loss: 2.3026 - val_accuracy: 0.1000\n",
      "Epoch 42/100\n",
      "1430/1430 [==============================] - 1s 707us/sample - loss: 2.3027 - accuracy: 0.0783 - val_loss: 2.3026 - val_accuracy: 0.1000\n",
      "Epoch 43/100\n",
      "1430/1430 [==============================] - 1s 627us/sample - loss: 2.3027 - accuracy: 0.0881 - val_loss: 2.3026 - val_accuracy: 0.1000\n",
      "Epoch 44/100\n",
      "1430/1430 [==============================] - 1s 649us/sample - loss: 2.3027 - accuracy: 0.0825 - val_loss: 2.3026 - val_accuracy: 0.1000\n",
      "Epoch 45/100\n",
      "1430/1430 [==============================] - 1s 676us/sample - loss: 2.3027 - accuracy: 0.0958 - val_loss: 2.3026 - val_accuracy: 0.1000\n",
      "Epoch 46/100\n",
      "1430/1430 [==============================] - 1s 691us/sample - loss: 2.3027 - accuracy: 0.0965 - val_loss: 2.3026 - val_accuracy: 0.1000\n",
      "Epoch 47/100\n"
     ]
    },
    {
     "name": "stdout",
     "output_type": "stream",
     "text": [
      "1430/1430 [==============================] - 1s 636us/sample - loss: 2.3027 - accuracy: 0.0902 - val_loss: 2.3026 - val_accuracy: 0.1000\n",
      "Epoch 48/100\n",
      "1430/1430 [==============================] - 1s 612us/sample - loss: 2.3027 - accuracy: 0.0790 - val_loss: 2.3026 - val_accuracy: 0.1000\n",
      "Epoch 49/100\n",
      "1430/1430 [==============================] - 1s 589us/sample - loss: 2.3027 - accuracy: 0.0818 - val_loss: 2.3026 - val_accuracy: 0.1000\n",
      "Epoch 50/100\n",
      "1430/1430 [==============================] - 1s 586us/sample - loss: 2.3027 - accuracy: 0.0930 - val_loss: 2.3026 - val_accuracy: 0.1000\n",
      "Epoch 51/100\n",
      "1430/1430 [==============================] - 1s 600us/sample - loss: 2.3027 - accuracy: 0.0853 - val_loss: 2.3026 - val_accuracy: 0.1000\n",
      "Epoch 52/100\n",
      "1430/1430 [==============================] - 1s 601us/sample - loss: 2.3027 - accuracy: 0.0937 - val_loss: 2.3026 - val_accuracy: 0.1000\n",
      "Epoch 53/100\n",
      "1430/1430 [==============================] - 1s 603us/sample - loss: 2.3027 - accuracy: 0.0874 - val_loss: 2.3026 - val_accuracy: 0.1000\n",
      "Epoch 54/100\n",
      "1430/1430 [==============================] - 1s 696us/sample - loss: 2.3027 - accuracy: 0.0790 - val_loss: 2.3026 - val_accuracy: 0.1000\n",
      "Epoch 55/100\n",
      "1430/1430 [==============================] - 1s 601us/sample - loss: 2.3027 - accuracy: 0.0755 - val_loss: 2.3026 - val_accuracy: 0.1000\n",
      "Epoch 56/100\n",
      "1430/1430 [==============================] - 1s 580us/sample - loss: 2.3027 - accuracy: 0.0853 - val_loss: 2.3026 - val_accuracy: 0.1000\n",
      "Epoch 57/100\n",
      "1430/1430 [==============================] - 1s 601us/sample - loss: 2.3027 - accuracy: 0.0874 - val_loss: 2.3026 - val_accuracy: 0.1000\n",
      "Epoch 58/100\n",
      "1430/1430 [==============================] - 1s 615us/sample - loss: 2.3027 - accuracy: 0.0937 - val_loss: 2.3026 - val_accuracy: 0.1000\n",
      "Epoch 59/100\n",
      "1430/1430 [==============================] - 1s 590us/sample - loss: 2.3027 - accuracy: 0.0881 - val_loss: 2.3026 - val_accuracy: 0.1000\n",
      "Epoch 60/100\n",
      "1430/1430 [==============================] - 1s 605us/sample - loss: 2.3027 - accuracy: 0.0909 - val_loss: 2.3026 - val_accuracy: 0.1000\n",
      "Epoch 61/100\n",
      "1430/1430 [==============================] - 1s 570us/sample - loss: 2.3027 - accuracy: 0.0881 - val_loss: 2.3026 - val_accuracy: 0.1000\n",
      "Epoch 62/100\n",
      "1430/1430 [==============================] - 1s 593us/sample - loss: 2.3027 - accuracy: 0.0923 - val_loss: 2.3026 - val_accuracy: 0.1000\n",
      "Epoch 63/100\n",
      "1430/1430 [==============================] - 1s 613us/sample - loss: 2.3027 - accuracy: 0.0937 - val_loss: 2.3026 - val_accuracy: 0.1000\n",
      "Epoch 64/100\n",
      "1430/1430 [==============================] - 1s 609us/sample - loss: 2.3027 - accuracy: 0.0909 - val_loss: 2.3026 - val_accuracy: 0.1000\n",
      "Epoch 65/100\n",
      "1430/1430 [==============================] - 1s 602us/sample - loss: 2.3027 - accuracy: 0.0916 - val_loss: 2.3026 - val_accuracy: 0.1000\n",
      "Epoch 66/100\n",
      "1430/1430 [==============================] - 1s 607us/sample - loss: 2.3027 - accuracy: 0.0881 - val_loss: 2.3026 - val_accuracy: 0.1000\n",
      "Epoch 67/100\n",
      "1430/1430 [==============================] - 1s 595us/sample - loss: 2.3027 - accuracy: 0.0853 - val_loss: 2.3026 - val_accuracy: 0.1000\n",
      "Epoch 68/100\n",
      "1430/1430 [==============================] - 1s 605us/sample - loss: 2.3027 - accuracy: 0.0720 - val_loss: 2.3026 - val_accuracy: 0.1000\n",
      "Epoch 69/100\n",
      "1430/1430 [==============================] - 1s 593us/sample - loss: 2.3027 - accuracy: 0.0853 - val_loss: 2.3026 - val_accuracy: 0.1000\n",
      "Epoch 70/100\n",
      "1430/1430 [==============================] - 1s 647us/sample - loss: 2.3027 - accuracy: 0.0797 - val_loss: 2.3026 - val_accuracy: 0.1000\n",
      "Epoch 71/100\n",
      "1430/1430 [==============================] - 1s 585us/sample - loss: 2.3027 - accuracy: 0.0916 - val_loss: 2.3026 - val_accuracy: 0.1000\n",
      "Epoch 72/100\n",
      "1430/1430 [==============================] - 1s 597us/sample - loss: 2.3027 - accuracy: 0.0937 - val_loss: 2.3026 - val_accuracy: 0.1000\n",
      "Epoch 73/100\n",
      "1430/1430 [==============================] - 1s 595us/sample - loss: 2.3027 - accuracy: 0.0902 - val_loss: 2.3026 - val_accuracy: 0.1000\n",
      "Epoch 74/100\n",
      "1430/1430 [==============================] - 1s 612us/sample - loss: 2.3027 - accuracy: 0.0853 - val_loss: 2.3026 - val_accuracy: 0.1000\n",
      "Epoch 75/100\n",
      "1430/1430 [==============================] - 1s 597us/sample - loss: 2.3027 - accuracy: 0.0923 - val_loss: 2.3026 - val_accuracy: 0.1000\n",
      "Epoch 76/100\n",
      "1430/1430 [==============================] - 1s 600us/sample - loss: 2.3027 - accuracy: 0.0790 - val_loss: 2.3026 - val_accuracy: 0.1000\n",
      "Epoch 77/100\n",
      "1430/1430 [==============================] - 1s 619us/sample - loss: 2.3027 - accuracy: 0.0846 - val_loss: 2.3026 - val_accuracy: 0.1000\n",
      "Epoch 78/100\n",
      "1430/1430 [==============================] - 1s 612us/sample - loss: 2.3027 - accuracy: 0.0986 - val_loss: 2.3026 - val_accuracy: 0.1000\n",
      "Epoch 79/100\n",
      "1430/1430 [==============================] - 1s 603us/sample - loss: 2.3027 - accuracy: 0.0860 - val_loss: 2.3026 - val_accuracy: 0.1000\n",
      "Epoch 80/100\n",
      "1430/1430 [==============================] - 1s 588us/sample - loss: 2.3027 - accuracy: 0.0993 - val_loss: 2.3026 - val_accuracy: 0.1000\n",
      "Epoch 81/100\n",
      "1430/1430 [==============================] - 1s 624us/sample - loss: 2.3027 - accuracy: 0.0902 - val_loss: 2.3026 - val_accuracy: 0.1000\n",
      "Epoch 82/100\n",
      "1430/1430 [==============================] - 1s 603us/sample - loss: 2.3027 - accuracy: 0.0818 - val_loss: 2.3026 - val_accuracy: 0.1000\n",
      "CPU times: user 1min 37s, sys: 54.9 s, total: 2min 32s\n",
      "Wall time: 1min 17s\n"
     ]
    },
    {
     "data": {
      "text/plain": [
       "<tensorflow.python.keras.callbacks.History at 0x7f8189f80910>"
      ]
     },
     "execution_count": 42,
     "metadata": {},
     "output_type": "execute_result"
    }
   ],
   "source": [
    "%%time\n",
    "model = cnn_models.simple_model(input_shape=input_shape,\n",
    "                                num_classes=10)\n",
    "model.fit(X_train_digits_mfcc_nn, y_train_digits_nn,\n",
    "          batch_size=N_BATCH,\n",
    "          epochs=EPOCHS,\n",
    "          verbose=1,\n",
    "          callbacks=[callback],\n",
    "          validation_data=(X_val_digits_mfcc_nn, y_val_digits_nn))"
   ]
  },
  {
   "cell_type": "code",
   "execution_count": 43,
   "metadata": {},
   "outputs": [
    {
     "name": "stdout",
     "output_type": "stream",
     "text": [
      "              precision    recall  f1-score   support\n",
      "\n",
      "           0       0.00      0.00      0.00        48\n",
      "           1       0.00      0.00      0.00        48\n",
      "           2       0.00      0.00      0.00        48\n",
      "           3       0.00      0.00      0.00        48\n",
      "           4       0.00      0.00      0.00        48\n",
      "           5       0.00      0.00      0.00        48\n",
      "           6       0.00      0.00      0.00        48\n",
      "           7       0.00      0.00      0.00        48\n",
      "           8       0.10      1.00      0.18        48\n",
      "           9       0.00      0.00      0.00        48\n",
      "\n",
      "    accuracy                           0.10       480\n",
      "   macro avg       0.01      0.10      0.02       480\n",
      "weighted avg       0.01      0.10      0.02       480\n",
      "\n"
     ]
    },
    {
     "name": "stderr",
     "output_type": "stream",
     "text": [
      "/Users/kappa/opt/miniconda3/envs/dsim/lib/python3.7/site-packages/sklearn/metrics/_classification.py:1272: UndefinedMetricWarning: Precision and F-score are ill-defined and being set to 0.0 in labels with no predicted samples. Use `zero_division` parameter to control this behavior.\n",
      "  _warn_prf(average, modifier, msg_start, len(result))\n"
     ]
    }
   ],
   "source": [
    "Y_val_nn = np.argmax(y_val_digits_nn,  axis=1)\n",
    "y_pred = model.predict_classes(X_val_digits_mfcc_nn)\n",
    "print(classification_report(Y_val_nn, y_pred))"
   ]
  },
  {
   "cell_type": "markdown",
   "metadata": {},
   "source": [
    "Really poor results, let's now use batch normalisation:"
   ]
  },
  {
   "cell_type": "code",
   "execution_count": 44,
   "metadata": {},
   "outputs": [
    {
     "name": "stdout",
     "output_type": "stream",
     "text": [
      "Model: \"sequential_3\"\n",
      "_________________________________________________________________\n",
      "Layer (type)                 Output Shape              Param #   \n",
      "=================================================================\n",
      "conv2d_3 (Conv2D)            (None, 19, 17, 32)        160       \n",
      "_________________________________________________________________\n",
      "batch_normalization_2 (Batch (None, 19, 17, 32)        128       \n",
      "_________________________________________________________________\n",
      "max_pooling2d_3 (MaxPooling2 (None, 9, 8, 32)          0         \n",
      "_________________________________________________________________\n",
      "flatten_3 (Flatten)          (None, 2304)              0         \n",
      "_________________________________________________________________\n",
      "dense_6 (Dense)              (None, 64)                147520    \n",
      "_________________________________________________________________\n",
      "batch_normalization_3 (Batch (None, 64)                256       \n",
      "_________________________________________________________________\n",
      "dropout_3 (Dropout)          (None, 64)                0         \n",
      "_________________________________________________________________\n",
      "dense_7 (Dense)              (None, 10)                650       \n",
      "=================================================================\n",
      "Total params: 148,714\n",
      "Trainable params: 148,522\n",
      "Non-trainable params: 192\n",
      "_________________________________________________________________\n",
      "None\n",
      "Train on 1430 samples, validate on 480 samples\n",
      "Epoch 1/100\n",
      "1430/1430 [==============================] - 3s 2ms/sample - loss: 1.2522 - accuracy: 0.5937 - val_loss: 3.5444 - val_accuracy: 0.4083\n",
      "Epoch 2/100\n",
      "1430/1430 [==============================] - 1s 805us/sample - loss: 0.7169 - accuracy: 0.7951 - val_loss: 1.1626 - val_accuracy: 0.6167\n",
      "Epoch 3/100\n",
      "1430/1430 [==============================] - 1s 830us/sample - loss: 0.5276 - accuracy: 0.8650 - val_loss: 0.5468 - val_accuracy: 0.8562\n",
      "Epoch 4/100\n",
      "1430/1430 [==============================] - 1s 804us/sample - loss: 0.4396 - accuracy: 0.8867 - val_loss: 0.5031 - val_accuracy: 0.8750\n",
      "Epoch 5/100\n",
      "1430/1430 [==============================] - 1s 822us/sample - loss: 0.3921 - accuracy: 0.9140 - val_loss: 0.4192 - val_accuracy: 0.9000\n",
      "Epoch 6/100\n",
      "1430/1430 [==============================] - 1s 877us/sample - loss: 0.3155 - accuracy: 0.9294 - val_loss: 0.4369 - val_accuracy: 0.9042\n",
      "Epoch 7/100\n",
      "1430/1430 [==============================] - 1s 824us/sample - loss: 0.2809 - accuracy: 0.9455 - val_loss: 0.4165 - val_accuracy: 0.9021\n",
      "Epoch 8/100\n",
      "1430/1430 [==============================] - 1s 780us/sample - loss: 0.2710 - accuracy: 0.9441 - val_loss: 0.4441 - val_accuracy: 0.8833\n",
      "Epoch 9/100\n",
      "1430/1430 [==============================] - 1s 797us/sample - loss: 0.2774 - accuracy: 0.9420 - val_loss: 0.4018 - val_accuracy: 0.8979\n",
      "Epoch 10/100\n",
      "1430/1430 [==============================] - 1s 818us/sample - loss: 0.2256 - accuracy: 0.9573 - val_loss: 0.3165 - val_accuracy: 0.9167\n",
      "Epoch 11/100\n",
      "1430/1430 [==============================] - 1s 828us/sample - loss: 0.2163 - accuracy: 0.9671 - val_loss: 0.3378 - val_accuracy: 0.9167\n",
      "Epoch 12/100\n",
      "1430/1430 [==============================] - 1s 826us/sample - loss: 0.1964 - accuracy: 0.9608 - val_loss: 0.3073 - val_accuracy: 0.9083\n",
      "Epoch 13/100\n",
      "1430/1430 [==============================] - 1s 825us/sample - loss: 0.1874 - accuracy: 0.9629 - val_loss: 0.3715 - val_accuracy: 0.9021\n",
      "Epoch 14/100\n",
      "1430/1430 [==============================] - 1s 811us/sample - loss: 0.1909 - accuracy: 0.9657 - val_loss: 0.2944 - val_accuracy: 0.9292\n",
      "Epoch 15/100\n",
      "1430/1430 [==============================] - 1s 812us/sample - loss: 0.1727 - accuracy: 0.9664 - val_loss: 0.2911 - val_accuracy: 0.9146\n",
      "Epoch 16/100\n",
      "1430/1430 [==============================] - 1s 967us/sample - loss: 0.1649 - accuracy: 0.9678 - val_loss: 0.2859 - val_accuracy: 0.9271\n",
      "Epoch 17/100\n",
      "1430/1430 [==============================] - 2s 1ms/sample - loss: 0.1463 - accuracy: 0.9790 - val_loss: 0.2712 - val_accuracy: 0.9375\n",
      "Epoch 18/100\n",
      "1430/1430 [==============================] - 2s 1ms/sample - loss: 0.1360 - accuracy: 0.9769 - val_loss: 0.2633 - val_accuracy: 0.9292\n",
      "Epoch 19/100\n",
      "1430/1430 [==============================] - 1s 1ms/sample - loss: 0.1288 - accuracy: 0.9846 - val_loss: 0.2495 - val_accuracy: 0.9354\n",
      "Epoch 20/100\n",
      "1430/1430 [==============================] - 1s 866us/sample - loss: 0.1278 - accuracy: 0.9839 - val_loss: 0.2688 - val_accuracy: 0.9292\n",
      "Epoch 21/100\n",
      "1430/1430 [==============================] - 1s 821us/sample - loss: 0.1189 - accuracy: 0.9811 - val_loss: 0.2321 - val_accuracy: 0.9396\n",
      "Epoch 22/100\n",
      "1430/1430 [==============================] - 1s 860us/sample - loss: 0.1073 - accuracy: 0.9839 - val_loss: 0.2530 - val_accuracy: 0.9229\n",
      "Epoch 23/100\n",
      "1430/1430 [==============================] - 1s 855us/sample - loss: 0.1061 - accuracy: 0.9846 - val_loss: 0.2361 - val_accuracy: 0.9396\n",
      "Epoch 24/100\n",
      "1430/1430 [==============================] - 2s 1ms/sample - loss: 0.1002 - accuracy: 0.9846 - val_loss: 0.2850 - val_accuracy: 0.9271\n",
      "Epoch 25/100\n",
      "1430/1430 [==============================] - 2s 1ms/sample - loss: 0.0911 - accuracy: 0.9895 - val_loss: 0.2349 - val_accuracy: 0.9521\n",
      "Epoch 26/100\n",
      "1430/1430 [==============================] - 3s 2ms/sample - loss: 0.0988 - accuracy: 0.9881 - val_loss: 0.2690 - val_accuracy: 0.9354\n",
      "Epoch 27/100\n",
      "1430/1430 [==============================] - 2s 2ms/sample - loss: 0.0826 - accuracy: 0.9923 - val_loss: 0.2425 - val_accuracy: 0.9333\n",
      "Epoch 28/100\n",
      "1430/1430 [==============================] - 2s 1ms/sample - loss: 0.0937 - accuracy: 0.9853 - val_loss: 0.2508 - val_accuracy: 0.9458\n",
      "Epoch 29/100\n",
      "1430/1430 [==============================] - 1s 926us/sample - loss: 0.0776 - accuracy: 0.9916 - val_loss: 0.2463 - val_accuracy: 0.9375\n",
      "Epoch 30/100\n",
      "1430/1430 [==============================] - 1s 974us/sample - loss: 0.0778 - accuracy: 0.9944 - val_loss: 0.2279 - val_accuracy: 0.9375\n",
      "Epoch 31/100\n",
      "1430/1430 [==============================] - 1s 821us/sample - loss: 0.0816 - accuracy: 0.9895 - val_loss: 0.2430 - val_accuracy: 0.9292\n",
      "Epoch 32/100\n",
      "1430/1430 [==============================] - 1s 835us/sample - loss: 0.0718 - accuracy: 0.9916 - val_loss: 0.2225 - val_accuracy: 0.9458\n",
      "Epoch 33/100\n",
      "1430/1430 [==============================] - 1s 938us/sample - loss: 0.0735 - accuracy: 0.9909 - val_loss: 0.2295 - val_accuracy: 0.9479\n",
      "Epoch 34/100\n",
      "1430/1430 [==============================] - 1s 855us/sample - loss: 0.0830 - accuracy: 0.9902 - val_loss: 0.2276 - val_accuracy: 0.9375\n",
      "Epoch 35/100\n",
      "1430/1430 [==============================] - 1s 945us/sample - loss: 0.0606 - accuracy: 0.9944 - val_loss: 0.2165 - val_accuracy: 0.9479\n",
      "Epoch 36/100\n",
      "1430/1430 [==============================] - 1s 912us/sample - loss: 0.0638 - accuracy: 0.9923 - val_loss: 0.2571 - val_accuracy: 0.9396\n",
      "Epoch 37/100\n",
      "1430/1430 [==============================] - 1s 897us/sample - loss: 0.0689 - accuracy: 0.9923 - val_loss: 0.2395 - val_accuracy: 0.9479\n",
      "Epoch 38/100\n",
      "1430/1430 [==============================] - 1s 813us/sample - loss: 0.0508 - accuracy: 0.9965 - val_loss: 0.2264 - val_accuracy: 0.9375\n",
      "Epoch 39/100\n",
      "1430/1430 [==============================] - 1s 799us/sample - loss: 0.0498 - accuracy: 0.9979 - val_loss: 0.2318 - val_accuracy: 0.9458\n",
      "Epoch 40/100\n",
      "1430/1430 [==============================] - 1s 920us/sample - loss: 0.0519 - accuracy: 0.9958 - val_loss: 0.2016 - val_accuracy: 0.9500\n",
      "Epoch 41/100\n",
      "1430/1430 [==============================] - 1s 797us/sample - loss: 0.0511 - accuracy: 0.9951 - val_loss: 0.2110 - val_accuracy: 0.9542\n",
      "Epoch 42/100\n",
      "1430/1430 [==============================] - 1s 810us/sample - loss: 0.0509 - accuracy: 0.9958 - val_loss: 0.2082 - val_accuracy: 0.9479\n",
      "Epoch 43/100\n",
      "1430/1430 [==============================] - 1s 824us/sample - loss: 0.0517 - accuracy: 0.9937 - val_loss: 0.2132 - val_accuracy: 0.9479\n",
      "Epoch 44/100\n",
      "1430/1430 [==============================] - 1s 799us/sample - loss: 0.0464 - accuracy: 0.9958 - val_loss: 0.2148 - val_accuracy: 0.9458\n",
      "Epoch 45/100\n",
      "1430/1430 [==============================] - 1s 803us/sample - loss: 0.0504 - accuracy: 0.9937 - val_loss: 0.2314 - val_accuracy: 0.9479\n",
      "Epoch 46/100\n"
     ]
    },
    {
     "name": "stdout",
     "output_type": "stream",
     "text": [
      "1430/1430 [==============================] - 1s 742us/sample - loss: 0.0459 - accuracy: 0.9972 - val_loss: 0.2176 - val_accuracy: 0.9479\n",
      "Epoch 47/100\n",
      "1430/1430 [==============================] - 1s 719us/sample - loss: 0.0414 - accuracy: 0.9930 - val_loss: 0.1988 - val_accuracy: 0.9521\n",
      "Epoch 48/100\n",
      "1430/1430 [==============================] - 1s 766us/sample - loss: 0.0409 - accuracy: 0.9944 - val_loss: 0.2124 - val_accuracy: 0.9500\n",
      "Epoch 49/100\n",
      "1430/1430 [==============================] - 1s 767us/sample - loss: 0.0429 - accuracy: 0.9965 - val_loss: 0.2060 - val_accuracy: 0.9500\n",
      "Epoch 50/100\n",
      "1430/1430 [==============================] - 1s 741us/sample - loss: 0.0384 - accuracy: 0.9986 - val_loss: 0.2049 - val_accuracy: 0.9458\n",
      "Epoch 51/100\n",
      "1430/1430 [==============================] - 1s 752us/sample - loss: 0.0487 - accuracy: 0.9923 - val_loss: 0.2110 - val_accuracy: 0.9521\n",
      "Epoch 52/100\n",
      "1430/1430 [==============================] - 1s 734us/sample - loss: 0.0378 - accuracy: 0.9986 - val_loss: 0.1910 - val_accuracy: 0.9542\n",
      "Epoch 53/100\n",
      "1430/1430 [==============================] - 1s 752us/sample - loss: 0.0384 - accuracy: 0.9972 - val_loss: 0.2527 - val_accuracy: 0.9375\n",
      "Epoch 54/100\n",
      "1430/1430 [==============================] - 1s 772us/sample - loss: 0.0384 - accuracy: 0.9972 - val_loss: 0.2168 - val_accuracy: 0.9500\n",
      "Epoch 55/100\n",
      "1430/1430 [==============================] - 1s 759us/sample - loss: 0.0397 - accuracy: 0.9958 - val_loss: 0.2040 - val_accuracy: 0.9438\n",
      "Epoch 56/100\n",
      "1430/1430 [==============================] - 1s 809us/sample - loss: 0.0404 - accuracy: 0.9972 - val_loss: 0.1913 - val_accuracy: 0.9583\n",
      "Epoch 57/100\n",
      "1430/1430 [==============================] - 1s 726us/sample - loss: 0.0317 - accuracy: 0.9986 - val_loss: 0.1914 - val_accuracy: 0.9563\n",
      "Epoch 58/100\n",
      "1430/1430 [==============================] - 1s 766us/sample - loss: 0.0351 - accuracy: 0.9972 - val_loss: 0.2108 - val_accuracy: 0.9521\n",
      "Epoch 59/100\n",
      "1430/1430 [==============================] - 1s 721us/sample - loss: 0.0320 - accuracy: 0.9972 - val_loss: 0.1898 - val_accuracy: 0.9646\n",
      "Epoch 60/100\n",
      "1430/1430 [==============================] - 1s 722us/sample - loss: 0.0282 - accuracy: 0.9972 - val_loss: 0.1995 - val_accuracy: 0.9542\n",
      "Epoch 61/100\n",
      "1430/1430 [==============================] - 1s 808us/sample - loss: 0.0296 - accuracy: 0.9986 - val_loss: 0.2517 - val_accuracy: 0.9333\n",
      "Epoch 62/100\n",
      "1430/1430 [==============================] - 1s 799us/sample - loss: 0.0331 - accuracy: 0.9972 - val_loss: 0.1958 - val_accuracy: 0.9542\n",
      "Epoch 63/100\n",
      "1430/1430 [==============================] - 1s 905us/sample - loss: 0.0308 - accuracy: 0.9972 - val_loss: 0.2160 - val_accuracy: 0.9479\n",
      "Epoch 64/100\n",
      "1430/1430 [==============================] - 1s 776us/sample - loss: 0.0369 - accuracy: 0.9937 - val_loss: 0.1918 - val_accuracy: 0.9583\n",
      "Epoch 65/100\n",
      "1430/1430 [==============================] - 1s 828us/sample - loss: 0.0303 - accuracy: 0.9979 - val_loss: 0.2015 - val_accuracy: 0.9583\n",
      "Epoch 66/100\n",
      "1430/1430 [==============================] - 1s 852us/sample - loss: 0.0283 - accuracy: 0.9986 - val_loss: 0.1959 - val_accuracy: 0.9563\n",
      "Epoch 67/100\n",
      "1430/1430 [==============================] - 1s 862us/sample - loss: 0.0256 - accuracy: 0.9986 - val_loss: 0.1998 - val_accuracy: 0.9521\n",
      "Epoch 68/100\n",
      "1430/1430 [==============================] - 1s 867us/sample - loss: 0.0288 - accuracy: 0.9965 - val_loss: 0.2444 - val_accuracy: 0.9396\n",
      "Epoch 69/100\n",
      "1430/1430 [==============================] - 2s 1ms/sample - loss: 0.0270 - accuracy: 0.9986 - val_loss: 0.2397 - val_accuracy: 0.9417\n",
      "CPU times: user 1min 45s, sys: 41.5 s, total: 2min 26s\n",
      "Wall time: 1min 29s\n"
     ]
    },
    {
     "data": {
      "text/plain": [
       "<tensorflow.python.keras.callbacks.History at 0x7f818c49f350>"
      ]
     },
     "execution_count": 44,
     "metadata": {},
     "output_type": "execute_result"
    }
   ],
   "source": [
    "%%time\n",
    "model = cnn_models.simple_model(input_shape=input_shape,\n",
    "                                num_classes=10,\n",
    "                                batch_normalisation=True)\n",
    "model.fit(X_train_digits_mfcc_nn, y_train_digits_nn,\n",
    "          batch_size=N_BATCH,\n",
    "          epochs=EPOCHS,\n",
    "          verbose=1,\n",
    "          callbacks=[callback],\n",
    "          validation_data=(X_val_digits_mfcc_nn, y_val_digits_nn))"
   ]
  },
  {
   "cell_type": "code",
   "execution_count": 45,
   "metadata": {},
   "outputs": [
    {
     "name": "stdout",
     "output_type": "stream",
     "text": [
      "              precision    recall  f1-score   support\n",
      "\n",
      "           0       0.98      0.96      0.97        48\n",
      "           1       0.98      1.00      0.99        48\n",
      "           2       0.92      1.00      0.96        48\n",
      "           3       0.96      0.98      0.97        48\n",
      "           4       1.00      0.98      0.99        48\n",
      "           5       0.96      0.94      0.95        48\n",
      "           6       0.96      0.94      0.95        48\n",
      "           7       0.98      0.98      0.98        48\n",
      "           8       0.96      0.96      0.96        48\n",
      "           9       0.96      0.92      0.94        48\n",
      "\n",
      "    accuracy                           0.96       480\n",
      "   macro avg       0.96      0.96      0.96       480\n",
      "weighted avg       0.96      0.96      0.96       480\n",
      "\n"
     ]
    }
   ],
   "source": [
    "Y_val_nn = np.argmax(y_val_digits_nn,  axis=1)\n",
    "y_pred = model.predict_classes(X_val_digits_mfcc_nn)\n",
    "print(classification_report(Y_val_nn, y_pred))"
   ]
  },
  {
   "cell_type": "markdown",
   "metadata": {},
   "source": [
    "The best combo so far is \"CNN + MFCCs\".\n",
    "\n",
    "Batch normalisation lead to similar results on spectrograms, however on MFCC it works way better."
   ]
  },
  {
   "cell_type": "markdown",
   "metadata": {},
   "source": [
    "## Augmentation - MFCC"
   ]
  },
  {
   "cell_type": "code",
   "execution_count": 46,
   "metadata": {},
   "outputs": [
    {
     "name": "stdout",
     "output_type": "stream",
     "text": [
      "split_and_augment_dataset >>>\n",
      "enrich_dataset>>>\n",
      "Max length: 9015, shape:(17567,)\n",
      "Max length: 9015, shape:(18262,)\n",
      "enrich_dataset <<<\n",
      "split_and_augment_dataset <<<\n",
      "split_and_augment_dataset >>>\n",
      "enrich_dataset>>>\n",
      "enrich_dataset <<<\n",
      "split_and_augment_dataset <<<\n",
      "transform_recordings >>>\n",
      "transform_recordings <<<\n",
      "CPU times: user 5min 32s, sys: 13 s, total: 5min 45s\n",
      "Wall time: 4min 10s\n"
     ]
    }
   ],
   "source": [
    "%%time\n",
    "X, y= data_preparation.prepare_augmented_recordings(audio_dirs= [fsdd_dir, our_recs_dir],\n",
    "                                                    y_type= ['digit', 'digit'],\n",
    "                                                    n_category_test=15,\n",
    "                                                    include_pitch=True,\n",
    "                                                    max_length=max_track_length,\n",
    "                                                    recordings_source=[False, True],\n",
    "                                                    transform_function=\"mfcc\")\n",
    "X_train_digit_mfcc = X[0]\n",
    "y_train_digit_mfcc = y[0]\n",
    "X_val_digit_mfcc = X[1]\n",
    "y_val_digit_mfcc = y[1]\n",
    "X_test_digit_mfcc = X[2]\n",
    "y_test_digit_mfcc  = y[2]"
   ]
  },
  {
   "cell_type": "code",
   "execution_count": 47,
   "metadata": {},
   "outputs": [
    {
     "name": "stdout",
     "output_type": "stream",
     "text": [
      "1724 575\n",
      "0\n",
      "1\n",
      "2\n",
      "3\n",
      "4\n",
      "5\n",
      "6\n",
      "7\n",
      "8\n",
      "9\n"
     ]
    }
   ],
   "source": [
    "X, y = data_preparation.balanced_train_val_split(np.concatenate([X_train_digit_mfcc, X_val_digit_mfcc]),\n",
    "                         np.concatenate([y_train_digit_mfcc, y_val_digit_mfcc]))\n",
    "\n",
    "X_train_digit = X[0]\n",
    "y_train_digit = y[0]\n",
    "X_val_digit = X[1]\n",
    "y_val_digit = y[1]"
   ]
  },
  {
   "cell_type": "code",
   "execution_count": 48,
   "metadata": {},
   "outputs": [],
   "source": [
    "X, y, input_shape, _= data_preparation.prepare_data_nn(X_train_digit, X_val_digit, X_test_digit_mfcc, y_train_digit, y_val_digit, y_test_digit_mfcc, number_mode=True)\n",
    "X_train_digits_mfcc_nn = X[0]\n",
    "y_train_digits_nn = y[0]\n",
    "X_val_digits_mfcc_nn = X[1]\n",
    "y_val_digits_nn = y[1]\n",
    "X_test_digits_mfcc_nn = X[2]\n",
    "y_test_digits_nn = y[2]"
   ]
  },
  {
   "cell_type": "code",
   "execution_count": 49,
   "metadata": {},
   "outputs": [
    {
     "data": {
      "text/plain": [
       "(20, 18, 1)"
      ]
     },
     "execution_count": 49,
     "metadata": {},
     "output_type": "execute_result"
    }
   ],
   "source": [
    "input_shape"
   ]
  },
  {
   "cell_type": "code",
   "execution_count": 50,
   "metadata": {},
   "outputs": [
    {
     "name": "stdout",
     "output_type": "stream",
     "text": [
      "Model: \"sequential_4\"\n",
      "_________________________________________________________________\n",
      "Layer (type)                 Output Shape              Param #   \n",
      "=================================================================\n",
      "conv2d_4 (Conv2D)            (None, 19, 17, 32)        160       \n",
      "_________________________________________________________________\n",
      "batch_normalization_4 (Batch (None, 19, 17, 32)        128       \n",
      "_________________________________________________________________\n",
      "max_pooling2d_4 (MaxPooling2 (None, 9, 8, 32)          0         \n",
      "_________________________________________________________________\n",
      "flatten_4 (Flatten)          (None, 2304)              0         \n",
      "_________________________________________________________________\n",
      "dense_8 (Dense)              (None, 64)                147520    \n",
      "_________________________________________________________________\n",
      "batch_normalization_5 (Batch (None, 64)                256       \n",
      "_________________________________________________________________\n",
      "dropout_4 (Dropout)          (None, 64)                0         \n",
      "_________________________________________________________________\n",
      "dense_9 (Dense)              (None, 10)                650       \n",
      "=================================================================\n",
      "Total params: 148,714\n",
      "Trainable params: 148,522\n",
      "Non-trainable params: 192\n",
      "_________________________________________________________________\n",
      "None\n",
      "Train on 17240 samples, validate on 5750 samples\n",
      "Epoch 1/100\n",
      "17240/17240 [==============================] - 16s 943us/sample - loss: 1.0633 - accuracy: 0.6489 - val_loss: 0.7819 - val_accuracy: 0.7501\n",
      "Epoch 2/100\n",
      "17240/17240 [==============================] - 13s 759us/sample - loss: 0.7437 - accuracy: 0.7578 - val_loss: 0.6766 - val_accuracy: 0.7852\n",
      "Epoch 3/100\n",
      "17240/17240 [==============================] - 13s 730us/sample - loss: 0.6421 - accuracy: 0.7907 - val_loss: 0.6062 - val_accuracy: 0.8031\n",
      "Epoch 4/100\n",
      "17240/17240 [==============================] - 12s 709us/sample - loss: 0.5956 - accuracy: 0.8075 - val_loss: 0.5070 - val_accuracy: 0.8428\n",
      "Epoch 5/100\n",
      "17240/17240 [==============================] - 12s 696us/sample - loss: 0.5549 - accuracy: 0.8187 - val_loss: 0.4978 - val_accuracy: 0.8417\n",
      "Epoch 6/100\n",
      "17240/17240 [==============================] - 12s 710us/sample - loss: 0.5346 - accuracy: 0.8296 - val_loss: 0.4743 - val_accuracy: 0.8471\n",
      "Epoch 7/100\n",
      "17240/17240 [==============================] - 12s 709us/sample - loss: 0.5174 - accuracy: 0.8304 - val_loss: 0.5735 - val_accuracy: 0.7983\n",
      "Epoch 8/100\n",
      "17240/17240 [==============================] - 14s 813us/sample - loss: 0.5087 - accuracy: 0.8339 - val_loss: 0.4781 - val_accuracy: 0.8390\n",
      "Epoch 9/100\n",
      "17240/17240 [==============================] - 11s 661us/sample - loss: 0.5026 - accuracy: 0.8331 - val_loss: 0.6470 - val_accuracy: 0.7807\n",
      "Epoch 10/100\n",
      "17240/17240 [==============================] - 11s 655us/sample - loss: 0.4749 - accuracy: 0.8446 - val_loss: 0.4549 - val_accuracy: 0.8517\n",
      "Epoch 11/100\n",
      "17240/17240 [==============================] - 11s 641us/sample - loss: 0.4807 - accuracy: 0.8432 - val_loss: 0.4589 - val_accuracy: 0.8457\n",
      "Epoch 12/100\n",
      "17240/17240 [==============================] - 14s 813us/sample - loss: 0.4550 - accuracy: 0.8498 - val_loss: 0.4396 - val_accuracy: 0.8550\n",
      "Epoch 13/100\n",
      "17240/17240 [==============================] - 13s 747us/sample - loss: 0.4409 - accuracy: 0.8535 - val_loss: 0.4425 - val_accuracy: 0.8550\n",
      "Epoch 14/100\n",
      "17240/17240 [==============================] - 13s 728us/sample - loss: 0.4453 - accuracy: 0.8499 - val_loss: 0.3828 - val_accuracy: 0.8763\n",
      "Epoch 15/100\n",
      "17240/17240 [==============================] - 12s 696us/sample - loss: 0.4389 - accuracy: 0.8563 - val_loss: 0.4470 - val_accuracy: 0.8548\n",
      "Epoch 16/100\n",
      "17240/17240 [==============================] - 13s 746us/sample - loss: 0.4397 - accuracy: 0.8546 - val_loss: 0.3735 - val_accuracy: 0.8805\n",
      "Epoch 17/100\n",
      "17240/17240 [==============================] - 13s 727us/sample - loss: 0.4288 - accuracy: 0.8567 - val_loss: 0.4227 - val_accuracy: 0.8574\n",
      "Epoch 18/100\n",
      "17240/17240 [==============================] - 12s 723us/sample - loss: 0.4247 - accuracy: 0.8583 - val_loss: 0.3699 - val_accuracy: 0.8838\n",
      "Epoch 19/100\n",
      "17240/17240 [==============================] - 13s 738us/sample - loss: 0.4104 - accuracy: 0.8628 - val_loss: 0.3904 - val_accuracy: 0.8703\n",
      "Epoch 20/100\n",
      "17240/17240 [==============================] - 12s 683us/sample - loss: 0.4063 - accuracy: 0.8662 - val_loss: 0.4098 - val_accuracy: 0.8621\n",
      "Epoch 21/100\n",
      "17240/17240 [==============================] - 12s 694us/sample - loss: 0.4000 - accuracy: 0.8676 - val_loss: 0.3730 - val_accuracy: 0.8800\n",
      "Epoch 22/100\n",
      "17240/17240 [==============================] - 12s 673us/sample - loss: 0.3812 - accuracy: 0.8749 - val_loss: 0.3622 - val_accuracy: 0.8741\n",
      "Epoch 23/100\n",
      "17240/17240 [==============================] - 12s 679us/sample - loss: 0.3809 - accuracy: 0.8733 - val_loss: 0.3694 - val_accuracy: 0.8793\n",
      "Epoch 24/100\n",
      "17240/17240 [==============================] - 12s 675us/sample - loss: 0.3914 - accuracy: 0.8709 - val_loss: 0.3566 - val_accuracy: 0.8840\n",
      "Epoch 25/100\n",
      "17240/17240 [==============================] - 12s 688us/sample - loss: 0.3759 - accuracy: 0.8763 - val_loss: 0.3603 - val_accuracy: 0.8831\n",
      "Epoch 26/100\n",
      "17240/17240 [==============================] - 12s 690us/sample - loss: 0.3794 - accuracy: 0.8735 - val_loss: 0.3711 - val_accuracy: 0.8758\n",
      "Epoch 27/100\n",
      "17240/17240 [==============================] - 14s 823us/sample - loss: 0.3675 - accuracy: 0.8775 - val_loss: 0.4220 - val_accuracy: 0.8576\n",
      "Epoch 28/100\n",
      "17240/17240 [==============================] - 14s 803us/sample - loss: 0.3585 - accuracy: 0.8788 - val_loss: 0.3286 - val_accuracy: 0.8904\n",
      "Epoch 29/100\n",
      "17240/17240 [==============================] - 19s 1ms/sample - loss: 0.3595 - accuracy: 0.8787 - val_loss: 0.3269 - val_accuracy: 0.8915\n",
      "Epoch 30/100\n",
      "17240/17240 [==============================] - 15s 865us/sample - loss: 0.3530 - accuracy: 0.8812 - val_loss: 0.3348 - val_accuracy: 0.8868\n",
      "Epoch 31/100\n",
      "17240/17240 [==============================] - 15s 885us/sample - loss: 0.3568 - accuracy: 0.8770 - val_loss: 0.3545 - val_accuracy: 0.8812\n",
      "Epoch 32/100\n",
      "17240/17240 [==============================] - 15s 880us/sample - loss: 0.3462 - accuracy: 0.8838 - val_loss: 0.3128 - val_accuracy: 0.8957\n",
      "Epoch 33/100\n",
      "17240/17240 [==============================] - 15s 860us/sample - loss: 0.3391 - accuracy: 0.8865 - val_loss: 0.3459 - val_accuracy: 0.8765\n",
      "Epoch 34/100\n",
      "17240/17240 [==============================] - 15s 877us/sample - loss: 0.3361 - accuracy: 0.8893 - val_loss: 0.3303 - val_accuracy: 0.8864\n",
      "Epoch 35/100\n",
      "17240/17240 [==============================] - 16s 907us/sample - loss: 0.3430 - accuracy: 0.8878 - val_loss: 0.3663 - val_accuracy: 0.8715\n",
      "Epoch 36/100\n",
      "17240/17240 [==============================] - 16s 949us/sample - loss: 0.3222 - accuracy: 0.8905 - val_loss: 0.3261 - val_accuracy: 0.8901\n",
      "Epoch 37/100\n",
      "17240/17240 [==============================] - 15s 889us/sample - loss: 0.3224 - accuracy: 0.8908 - val_loss: 0.3540 - val_accuracy: 0.8817\n",
      "Epoch 38/100\n",
      "17240/17240 [==============================] - 14s 837us/sample - loss: 0.3226 - accuracy: 0.8884 - val_loss: 0.3168 - val_accuracy: 0.8878\n",
      "Epoch 39/100\n",
      "17240/17240 [==============================] - 14s 795us/sample - loss: 0.3119 - accuracy: 0.8969 - val_loss: 0.3549 - val_accuracy: 0.8793\n",
      "Epoch 40/100\n",
      "17240/17240 [==============================] - 18s 1ms/sample - loss: 0.3176 - accuracy: 0.8916 - val_loss: 0.3042 - val_accuracy: 0.8993\n",
      "Epoch 41/100\n",
      "17240/17240 [==============================] - 15s 853us/sample - loss: 0.3127 - accuracy: 0.8957 - val_loss: 0.3097 - val_accuracy: 0.8967\n",
      "Epoch 42/100\n",
      "17240/17240 [==============================] - 12s 677us/sample - loss: 0.2994 - accuracy: 0.8982 - val_loss: 0.3164 - val_accuracy: 0.8901\n",
      "Epoch 43/100\n",
      "17240/17240 [==============================] - 14s 832us/sample - loss: 0.3115 - accuracy: 0.8964 - val_loss: 0.3084 - val_accuracy: 0.8967\n",
      "Epoch 44/100\n",
      "17240/17240 [==============================] - 15s 867us/sample - loss: 0.3089 - accuracy: 0.8951 - val_loss: 0.3046 - val_accuracy: 0.8970\n",
      "Epoch 45/100\n"
     ]
    },
    {
     "name": "stdout",
     "output_type": "stream",
     "text": [
      "17240/17240 [==============================] - 13s 734us/sample - loss: 0.3015 - accuracy: 0.8985 - val_loss: 0.3025 - val_accuracy: 0.8932\n",
      "Epoch 46/100\n",
      "17240/17240 [==============================] - 13s 768us/sample - loss: 0.3075 - accuracy: 0.8972 - val_loss: 0.3281 - val_accuracy: 0.8908\n",
      "Epoch 47/100\n",
      "17240/17240 [==============================] - 14s 830us/sample - loss: 0.3028 - accuracy: 0.8979 - val_loss: 0.2939 - val_accuracy: 0.9000\n",
      "Epoch 48/100\n",
      "17240/17240 [==============================] - 13s 725us/sample - loss: 0.3037 - accuracy: 0.8972 - val_loss: 0.3088 - val_accuracy: 0.8957\n",
      "Epoch 49/100\n",
      "17240/17240 [==============================] - 13s 728us/sample - loss: 0.2931 - accuracy: 0.9020 - val_loss: 0.3345 - val_accuracy: 0.8896\n",
      "Epoch 50/100\n",
      "17240/17240 [==============================] - 11s 613us/sample - loss: 0.3002 - accuracy: 0.8997 - val_loss: 0.3322 - val_accuracy: 0.8882\n",
      "Epoch 51/100\n",
      "17240/17240 [==============================] - 11s 642us/sample - loss: 0.2910 - accuracy: 0.9020 - val_loss: 0.3095 - val_accuracy: 0.8939\n",
      "Epoch 52/100\n",
      "17240/17240 [==============================] - 11s 637us/sample - loss: 0.2876 - accuracy: 0.9042 - val_loss: 0.2900 - val_accuracy: 0.9003\n",
      "Epoch 53/100\n",
      "17240/17240 [==============================] - 11s 634us/sample - loss: 0.2846 - accuracy: 0.9037 - val_loss: 0.2876 - val_accuracy: 0.9042\n",
      "Epoch 54/100\n",
      "17240/17240 [==============================] - 12s 707us/sample - loss: 0.2840 - accuracy: 0.9031 - val_loss: 0.2964 - val_accuracy: 0.9012\n",
      "Epoch 55/100\n",
      "17240/17240 [==============================] - 11s 629us/sample - loss: 0.2803 - accuracy: 0.9053 - val_loss: 0.2900 - val_accuracy: 0.9030\n",
      "Epoch 56/100\n",
      "17240/17240 [==============================] - 11s 616us/sample - loss: 0.2859 - accuracy: 0.9009 - val_loss: 0.3020 - val_accuracy: 0.8963\n",
      "Epoch 57/100\n",
      "17240/17240 [==============================] - 11s 632us/sample - loss: 0.2727 - accuracy: 0.9112 - val_loss: 0.2973 - val_accuracy: 0.8977\n",
      "Epoch 58/100\n",
      "17240/17240 [==============================] - 11s 662us/sample - loss: 0.2831 - accuracy: 0.9060 - val_loss: 0.3337 - val_accuracy: 0.8847\n",
      "Epoch 59/100\n",
      "17240/17240 [==============================] - 11s 619us/sample - loss: 0.2755 - accuracy: 0.9068 - val_loss: 0.2779 - val_accuracy: 0.9052\n",
      "Epoch 60/100\n",
      "17240/17240 [==============================] - 10s 586us/sample - loss: 0.2659 - accuracy: 0.9097 - val_loss: 0.2829 - val_accuracy: 0.9049\n",
      "Epoch 61/100\n",
      "17240/17240 [==============================] - 11s 639us/sample - loss: 0.2748 - accuracy: 0.9075 - val_loss: 0.3258 - val_accuracy: 0.8920\n",
      "Epoch 62/100\n",
      "17240/17240 [==============================] - 10s 592us/sample - loss: 0.2722 - accuracy: 0.9084 - val_loss: 0.2905 - val_accuracy: 0.9009\n",
      "Epoch 63/100\n",
      "17240/17240 [==============================] - 11s 624us/sample - loss: 0.2766 - accuracy: 0.9080 - val_loss: 0.3288 - val_accuracy: 0.8899\n",
      "Epoch 64/100\n",
      "17240/17240 [==============================] - 10s 600us/sample - loss: 0.2713 - accuracy: 0.9069 - val_loss: 0.3197 - val_accuracy: 0.8943\n",
      "Epoch 65/100\n",
      "17240/17240 [==============================] - 10s 595us/sample - loss: 0.2700 - accuracy: 0.9099 - val_loss: 0.2994 - val_accuracy: 0.8976\n",
      "Epoch 66/100\n",
      "17240/17240 [==============================] - 10s 553us/sample - loss: 0.2626 - accuracy: 0.9127 - val_loss: 0.3198 - val_accuracy: 0.8906\n",
      "Epoch 67/100\n",
      "17240/17240 [==============================] - 9s 544us/sample - loss: 0.2730 - accuracy: 0.9059 - val_loss: 0.2979 - val_accuracy: 0.9002\n",
      "Epoch 68/100\n",
      "17240/17240 [==============================] - 9s 527us/sample - loss: 0.2630 - accuracy: 0.9080 - val_loss: 0.2727 - val_accuracy: 0.9071\n",
      "Epoch 69/100\n",
      "17240/17240 [==============================] - 9s 541us/sample - loss: 0.2472 - accuracy: 0.9146 - val_loss: 0.3009 - val_accuracy: 0.9014\n",
      "Epoch 70/100\n",
      "17240/17240 [==============================] - 9s 536us/sample - loss: 0.2513 - accuracy: 0.9134 - val_loss: 0.2914 - val_accuracy: 0.9007\n",
      "Epoch 71/100\n",
      "17240/17240 [==============================] - 9s 533us/sample - loss: 0.2546 - accuracy: 0.9155 - val_loss: 0.2750 - val_accuracy: 0.9087\n",
      "Epoch 72/100\n",
      "17240/17240 [==============================] - 10s 564us/sample - loss: 0.2477 - accuracy: 0.9190 - val_loss: 0.3041 - val_accuracy: 0.8981\n",
      "Epoch 73/100\n",
      "17240/17240 [==============================] - 10s 552us/sample - loss: 0.2487 - accuracy: 0.9184 - val_loss: 0.2695 - val_accuracy: 0.9104\n",
      "Epoch 74/100\n",
      "17240/17240 [==============================] - 9s 542us/sample - loss: 0.2444 - accuracy: 0.9176 - val_loss: 0.2871 - val_accuracy: 0.8998\n",
      "Epoch 75/100\n",
      "17240/17240 [==============================] - 9s 535us/sample - loss: 0.2492 - accuracy: 0.9150 - val_loss: 0.3134 - val_accuracy: 0.8923\n",
      "Epoch 76/100\n",
      "17240/17240 [==============================] - 10s 552us/sample - loss: 0.2378 - accuracy: 0.9180 - val_loss: 0.2871 - val_accuracy: 0.9033\n",
      "Epoch 77/100\n",
      "17240/17240 [==============================] - 9s 530us/sample - loss: 0.2421 - accuracy: 0.9187 - val_loss: 0.2717 - val_accuracy: 0.9094\n",
      "Epoch 78/100\n",
      "17240/17240 [==============================] - 10s 578us/sample - loss: 0.2475 - accuracy: 0.9152 - val_loss: 0.2794 - val_accuracy: 0.9066\n",
      "Epoch 79/100\n",
      "17240/17240 [==============================] - 9s 525us/sample - loss: 0.2413 - accuracy: 0.9179 - val_loss: 0.2685 - val_accuracy: 0.9097\n",
      "Epoch 80/100\n",
      "17240/17240 [==============================] - 11s 627us/sample - loss: 0.2361 - accuracy: 0.9175 - val_loss: 0.2784 - val_accuracy: 0.9063\n",
      "Epoch 81/100\n",
      "17240/17240 [==============================] - 10s 552us/sample - loss: 0.2286 - accuracy: 0.9233 - val_loss: 0.3134 - val_accuracy: 0.8950\n",
      "Epoch 82/100\n",
      "17240/17240 [==============================] - 9s 535us/sample - loss: 0.2411 - accuracy: 0.9183 - val_loss: 0.2866 - val_accuracy: 0.9068\n",
      "Epoch 83/100\n",
      "17240/17240 [==============================] - 9s 531us/sample - loss: 0.2451 - accuracy: 0.9160 - val_loss: 0.2811 - val_accuracy: 0.9089\n",
      "Epoch 84/100\n",
      "17240/17240 [==============================] - 9s 540us/sample - loss: 0.2421 - accuracy: 0.9190 - val_loss: 0.2751 - val_accuracy: 0.9071\n",
      "Epoch 85/100\n",
      "17240/17240 [==============================] - 13s 731us/sample - loss: 0.2367 - accuracy: 0.9197 - val_loss: 0.2733 - val_accuracy: 0.9099\n",
      "Epoch 86/100\n",
      "17240/17240 [==============================] - 13s 772us/sample - loss: 0.2282 - accuracy: 0.9212 - val_loss: 0.2792 - val_accuracy: 0.9002\n",
      "Epoch 87/100\n",
      "17240/17240 [==============================] - 10s 597us/sample - loss: 0.2327 - accuracy: 0.9194 - val_loss: 0.2810 - val_accuracy: 0.9056\n",
      "Epoch 88/100\n",
      "17240/17240 [==============================] - 10s 575us/sample - loss: 0.2277 - accuracy: 0.9233 - val_loss: 0.2761 - val_accuracy: 0.9090\n",
      "Epoch 89/100\n",
      "17240/17240 [==============================] - 10s 571us/sample - loss: 0.2351 - accuracy: 0.9206 - val_loss: 0.2827 - val_accuracy: 0.9049\n",
      "CPU times: user 25min 48s, sys: 16min 7s, total: 41min 55s\n",
      "Wall time: 17min 48s\n"
     ]
    },
    {
     "data": {
      "text/plain": [
       "<tensorflow.python.keras.callbacks.History at 0x7f819e8ab890>"
      ]
     },
     "execution_count": 50,
     "metadata": {},
     "output_type": "execute_result"
    }
   ],
   "source": [
    "%%time\n",
    "model = cnn_models.simple_model(input_shape=input_shape, num_classes=10, batch_normalisation=True)\n",
    "model.fit(X_train_digits_mfcc_nn, y_train_digits_nn,\n",
    "          batch_size=N_BATCH,\n",
    "          epochs=EPOCHS,\n",
    "          verbose=1,\n",
    "          callbacks=[callback],\n",
    "          validation_data=(X_val_digits_mfcc_nn, y_val_digits_nn))"
   ]
  },
  {
   "cell_type": "code",
   "execution_count": 51,
   "metadata": {},
   "outputs": [
    {
     "name": "stdout",
     "output_type": "stream",
     "text": [
      "              precision    recall  f1-score   support\n",
      "\n",
      "           0       0.92      0.95      0.93       575\n",
      "           1       0.91      0.93      0.92       575\n",
      "           2       0.89      0.91      0.90       575\n",
      "           3       0.91      0.86      0.88       575\n",
      "           4       0.95      0.91      0.93       575\n",
      "           5       0.96      0.91      0.93       575\n",
      "           6       0.94      0.86      0.89       575\n",
      "           7       0.85      0.94      0.89       575\n",
      "           8       0.89      0.93      0.91       575\n",
      "           9       0.90      0.90      0.90       575\n",
      "\n",
      "    accuracy                           0.91      5750\n",
      "   macro avg       0.91      0.91      0.91      5750\n",
      "weighted avg       0.91      0.91      0.91      5750\n",
      "\n"
     ]
    }
   ],
   "source": [
    "y_nn = np.argmax(y_val_digits_nn, axis=1)\n",
    "y_pred = model.predict_classes(X_val_digits_mfcc_nn)\n",
    "print(classification_report(y_nn, y_pred))"
   ]
  },
  {
   "cell_type": "markdown",
   "metadata": {},
   "source": [
    "Augmentation, in the MFCC scenario, did not lead to any improvement! Let's see what happens in the spectrograms scenario:"
   ]
  },
  {
   "cell_type": "markdown",
   "metadata": {},
   "source": [
    "### Spectrograms - Augmentation"
   ]
  },
  {
   "cell_type": "code",
   "execution_count": 52,
   "metadata": {},
   "outputs": [
    {
     "name": "stdout",
     "output_type": "stream",
     "text": [
      "split_and_augment_dataset >>>\n",
      "enrich_dataset>>>\n",
      "Max length: 9015, shape:(17567,)\n",
      "Max length: 9015, shape:(18262,)\n",
      "enrich_dataset <<<\n",
      "split_and_augment_dataset <<<\n",
      "split_and_augment_dataset >>>\n",
      "enrich_dataset>>>\n",
      "enrich_dataset <<<\n",
      "split_and_augment_dataset <<<\n",
      "transform_recordings >>>\n",
      "transform_recordings <<<\n"
     ]
    }
   ],
   "source": [
    "X, y= data_preparation.prepare_augmented_recordings(audio_dirs= [fsdd_dir, our_recs_dir],\n",
    "                             y_type= ['digit', 'digit'],\n",
    "                             n_category_test=15,\n",
    "                             include_pitch=True,\n",
    "                             max_length=max_track_length,\n",
    "                             recordings_source=[False, True])\n",
    "\n",
    "X_train_digit = X[0]\n",
    "y_train_digit = y[0]\n",
    "X_val_digit = X[1]\n",
    "y_val_digit = y[1]\n",
    "X_test_digit = X[2]\n",
    "y_test_digit  = y[2]"
   ]
  },
  {
   "cell_type": "code",
   "execution_count": 53,
   "metadata": {},
   "outputs": [
    {
     "name": "stdout",
     "output_type": "stream",
     "text": [
      "1724 575\n",
      "0\n",
      "1\n",
      "2\n",
      "3\n",
      "4\n",
      "5\n",
      "6\n",
      "7\n",
      "8\n",
      "9\n"
     ]
    }
   ],
   "source": [
    "X, y = data_preparation.balanced_train_val_split(np.concatenate([X_train_digit, X_val_digit]),\n",
    "                         np.concatenate([y_train_digit, y_val_digit]))\n",
    "\n",
    "X_train_digit = X[0]\n",
    "y_train_digit = y[0]\n",
    "X_val_digit = X[1]\n",
    "y_val_digit = y[1]"
   ]
  },
  {
   "cell_type": "code",
   "execution_count": 54,
   "metadata": {},
   "outputs": [],
   "source": [
    "X, y, input_shape, _= data_preparation.prepare_data_nn(X_train_digit, X_val_digit, X_test_digit_mfcc, y_train_digit, y_val_digit, y_test_digit_mfcc, number_mode=True)\n",
    "\n",
    "X_train_digits_spects_nn = X[0]\n",
    "y_train_digits_nn = y[0]\n",
    "X_val_digits_spects_nn = X[1]\n",
    "y_val_digits_nn = y[1]\n",
    "X_test_digits_spects_nn = X[2]\n",
    "y_test_digits_nn = y[2]"
   ]
  },
  {
   "cell_type": "code",
   "execution_count": 55,
   "metadata": {},
   "outputs": [
    {
     "name": "stdout",
     "output_type": "stream",
     "text": [
      "Model: \"sequential_5\"\n",
      "_________________________________________________________________\n",
      "Layer (type)                 Output Shape              Param #   \n",
      "=================================================================\n",
      "conv2d_5 (Conv2D)            (None, 127, 17, 32)       160       \n",
      "_________________________________________________________________\n",
      "batch_normalization_6 (Batch (None, 127, 17, 32)       128       \n",
      "_________________________________________________________________\n",
      "max_pooling2d_5 (MaxPooling2 (None, 63, 8, 32)         0         \n",
      "_________________________________________________________________\n",
      "flatten_5 (Flatten)          (None, 16128)             0         \n",
      "_________________________________________________________________\n",
      "dense_10 (Dense)             (None, 64)                1032256   \n",
      "_________________________________________________________________\n",
      "batch_normalization_7 (Batch (None, 64)                256       \n",
      "_________________________________________________________________\n",
      "dropout_5 (Dropout)          (None, 64)                0         \n",
      "_________________________________________________________________\n",
      "dense_11 (Dense)             (None, 10)                650       \n",
      "=================================================================\n",
      "Total params: 1,033,450\n",
      "Trainable params: 1,033,258\n",
      "Non-trainable params: 192\n",
      "_________________________________________________________________\n",
      "None\n",
      "Train on 17240 samples, validate on 5750 samples\n",
      "Epoch 1/100\n",
      "17240/17240 [==============================] - 46s 3ms/sample - loss: 1.0789 - accuracy: 0.6415 - val_loss: 0.8444 - val_accuracy: 0.7247\n",
      "Epoch 2/100\n",
      "17240/17240 [==============================] - 38s 2ms/sample - loss: 0.7081 - accuracy: 0.7722 - val_loss: 0.5658 - val_accuracy: 0.8190\n",
      "Epoch 3/100\n",
      "17240/17240 [==============================] - 39s 2ms/sample - loss: 0.5787 - accuracy: 0.8100 - val_loss: 0.5150 - val_accuracy: 0.8343\n",
      "Epoch 4/100\n",
      "17240/17240 [==============================] - 37s 2ms/sample - loss: 0.5119 - accuracy: 0.8382 - val_loss: 0.5074 - val_accuracy: 0.8358\n",
      "Epoch 5/100\n",
      "17240/17240 [==============================] - 46s 3ms/sample - loss: 0.4557 - accuracy: 0.8570 - val_loss: 0.4584 - val_accuracy: 0.8581\n",
      "Epoch 6/100\n",
      "17240/17240 [==============================] - 44s 3ms/sample - loss: 0.4196 - accuracy: 0.8659 - val_loss: 0.4662 - val_accuracy: 0.8506\n",
      "Epoch 7/100\n",
      "17240/17240 [==============================] - 38s 2ms/sample - loss: 0.3996 - accuracy: 0.8729 - val_loss: 0.4415 - val_accuracy: 0.8616\n",
      "Epoch 8/100\n",
      "17240/17240 [==============================] - 41s 2ms/sample - loss: 0.3671 - accuracy: 0.8821 - val_loss: 0.4153 - val_accuracy: 0.8628\n",
      "Epoch 9/100\n",
      "17240/17240 [==============================] - 41s 2ms/sample - loss: 0.3549 - accuracy: 0.8860 - val_loss: 0.9817 - val_accuracy: 0.8134\n",
      "Epoch 10/100\n",
      "17240/17240 [==============================] - 48s 3ms/sample - loss: 0.3359 - accuracy: 0.8921 - val_loss: 0.3993 - val_accuracy: 0.8706\n",
      "Epoch 11/100\n",
      "17240/17240 [==============================] - 40s 2ms/sample - loss: 0.3193 - accuracy: 0.8955 - val_loss: 0.4695 - val_accuracy: 0.8503\n",
      "Epoch 12/100\n",
      "17240/17240 [==============================] - 45s 3ms/sample - loss: 0.2951 - accuracy: 0.9046 - val_loss: 0.3495 - val_accuracy: 0.8864\n",
      "Epoch 13/100\n",
      "17240/17240 [==============================] - 45s 3ms/sample - loss: 0.2664 - accuracy: 0.9141 - val_loss: 0.3427 - val_accuracy: 0.8913\n",
      "Epoch 14/100\n",
      "17240/17240 [==============================] - 40s 2ms/sample - loss: 0.2650 - accuracy: 0.9146 - val_loss: 0.3976 - val_accuracy: 0.8750\n",
      "Epoch 15/100\n",
      "17240/17240 [==============================] - 41s 2ms/sample - loss: 0.2465 - accuracy: 0.9180 - val_loss: 0.3788 - val_accuracy: 0.8784\n",
      "Epoch 16/100\n",
      "17240/17240 [==============================] - 39s 2ms/sample - loss: 0.2340 - accuracy: 0.9253 - val_loss: 0.4158 - val_accuracy: 0.8668\n",
      "Epoch 17/100\n",
      "17240/17240 [==============================] - 39s 2ms/sample - loss: 0.2288 - accuracy: 0.9277 - val_loss: 0.3444 - val_accuracy: 0.8880\n",
      "Epoch 18/100\n",
      "17240/17240 [==============================] - 42s 2ms/sample - loss: 0.2164 - accuracy: 0.9298 - val_loss: 0.3698 - val_accuracy: 0.8837\n",
      "Epoch 19/100\n",
      "17240/17240 [==============================] - 41s 2ms/sample - loss: 0.2032 - accuracy: 0.9338 - val_loss: 0.3686 - val_accuracy: 0.8845\n",
      "Epoch 20/100\n",
      "17240/17240 [==============================] - 36s 2ms/sample - loss: 0.1977 - accuracy: 0.9346 - val_loss: 0.4044 - val_accuracy: 0.8770\n",
      "Epoch 21/100\n",
      "17240/17240 [==============================] - 38s 2ms/sample - loss: 0.1865 - accuracy: 0.9398 - val_loss: 0.3715 - val_accuracy: 0.8837\n",
      "Epoch 22/100\n",
      "17240/17240 [==============================] - 46s 3ms/sample - loss: 0.1744 - accuracy: 0.9429 - val_loss: 0.3510 - val_accuracy: 0.8837\n",
      "Epoch 23/100\n",
      "17240/17240 [==============================] - 39s 2ms/sample - loss: 0.1626 - accuracy: 0.9489 - val_loss: 0.4169 - val_accuracy: 0.8722\n",
      "CPU times: user 26min 11s, sys: 15min 49s, total: 42min\n",
      "Wall time: 15min 47s\n"
     ]
    },
    {
     "data": {
      "text/plain": [
       "<tensorflow.python.keras.callbacks.History at 0x7f80e28e7710>"
      ]
     },
     "execution_count": 55,
     "metadata": {},
     "output_type": "execute_result"
    }
   ],
   "source": [
    "%%time\n",
    "model = cnn_models.simple_model(input_shape=input_shape, num_classes=10, batch_normalisation=True)\n",
    "model.fit(X_train_digits_spects_nn, y_train_digits_nn,\n",
    "          batch_size=N_BATCH,\n",
    "          epochs=EPOCHS,\n",
    "          verbose=1,\n",
    "          callbacks=[callback],\n",
    "          validation_data=(X_val_digits_spects_nn, y_val_digits_nn))"
   ]
  },
  {
   "cell_type": "code",
   "execution_count": 56,
   "metadata": {},
   "outputs": [
    {
     "name": "stdout",
     "output_type": "stream",
     "text": [
      "              precision    recall  f1-score   support\n",
      "\n",
      "           0       0.97      0.90      0.93       575\n",
      "           1       0.81      0.94      0.87       575\n",
      "           2       0.93      0.83      0.88       575\n",
      "           3       0.80      0.90      0.85       575\n",
      "           4       0.95      0.87      0.91       575\n",
      "           5       0.88      0.96      0.92       575\n",
      "           6       0.86      0.89      0.87       575\n",
      "           7       0.94      0.83      0.88       575\n",
      "           8       0.86      0.94      0.90       575\n",
      "           9       0.96      0.86      0.91       575\n",
      "\n",
      "    accuracy                           0.89      5750\n",
      "   macro avg       0.90      0.89      0.89      5750\n",
      "weighted avg       0.90      0.89      0.89      5750\n",
      "\n"
     ]
    }
   ],
   "source": [
    "Y_val_nn = np.argmax(y_val_digits_nn, axis=1)\n",
    "y_pred = model.predict_classes(X_val_digits_spects_nn)\n",
    "print(classification_report(Y_val_nn, y_pred))"
   ]
  },
  {
   "cell_type": "markdown",
   "metadata": {},
   "source": [
    "The results are worse than the normal scenarios. "
   ]
  },
  {
   "cell_type": "markdown",
   "metadata": {},
   "source": [
    "## FINO QUI - Best model\n",
    "Prepare data:"
   ]
  },
  {
   "cell_type": "code",
   "execution_count": 57,
   "metadata": {},
   "outputs": [],
   "source": [
    "X, y = data_preparation.balanced_train_val_test_split(pad_recordings, labels_digits)\n",
    "X_train_digits = X[0]\n",
    "y_train_digits = y[0]\n",
    "X_val_digits = X[1]\n",
    "y_val_digits = y[1] \n",
    "X_test_digits = X[2]\n",
    "y_test_digits = y[2] "
   ]
  },
  {
   "cell_type": "code",
   "execution_count": 58,
   "metadata": {},
   "outputs": [
    {
     "name": "stdout",
     "output_type": "stream",
     "text": [
      "CPU times: user 22.9 s, sys: 310 ms, total: 23.2 s\n",
      "Wall time: 12.7 s\n"
     ]
    }
   ],
   "source": [
    "%%time\n",
    "X_train_digits_mfcc = np.array([data_preparation.mfcc(x, flatten=False) for x in X_train_digits])\n",
    "X_val_digits_mfcc = np.array([data_preparation.mfcc(x, flatten=False) for x in X_val_digits])\n",
    "X_test_digits_mfcc = np.array([data_preparation.mfcc(x, flatten=False) for x in X_test_digits])\n",
    "\n",
    "X, y, input_shape, _= data_preparation.prepare_data_nn(X_train_digits_mfcc,\n",
    "                                                       X_val_digits_mfcc,\n",
    "                                                       X_test_digits_mfcc,\n",
    "                                                       y_train_digits,\n",
    "                                                       y_val_digits,\n",
    "                                                       y_test_digits,\n",
    "                                                       number_mode=True)\n",
    "\n",
    "X_train_digits_mfcc_nn = X[0]\n",
    "y_train_digits_nn = y[0]\n",
    "X_val_digits_mfcc_nn = X[1]\n",
    "y_val_digits_nn = y[1]\n",
    "X_test_digits_mfcc_nn = X[2]\n",
    "y_test_digits_nn = y[2]"
   ]
  },
  {
   "cell_type": "markdown",
   "metadata": {},
   "source": [
    "Let's merge train and val sets"
   ]
  },
  {
   "cell_type": "code",
   "execution_count": 59,
   "metadata": {},
   "outputs": [],
   "source": [
    "X_train_digits_best = np.concatenate([X_train_digits_mfcc_nn, X_val_digits_mfcc_nn])\n",
    "y_train_digits_best = np.concatenate([y_train_digits_nn, y_val_digits_nn])"
   ]
  },
  {
   "cell_type": "code",
   "execution_count": 63,
   "metadata": {},
   "outputs": [
    {
     "name": "stdout",
     "output_type": "stream",
     "text": [
      "Model: \"sequential_7\"\n",
      "_________________________________________________________________\n",
      "Layer (type)                 Output Shape              Param #   \n",
      "=================================================================\n",
      "conv2d_7 (Conv2D)            (None, 19, 17, 32)        160       \n",
      "_________________________________________________________________\n",
      "batch_normalization_10 (Batc (None, 19, 17, 32)        128       \n",
      "_________________________________________________________________\n",
      "max_pooling2d_7 (MaxPooling2 (None, 9, 8, 32)          0         \n",
      "_________________________________________________________________\n",
      "flatten_7 (Flatten)          (None, 2304)              0         \n",
      "_________________________________________________________________\n",
      "dense_14 (Dense)             (None, 64)                147520    \n",
      "_________________________________________________________________\n",
      "batch_normalization_11 (Batc (None, 64)                256       \n",
      "_________________________________________________________________\n",
      "dropout_7 (Dropout)          (None, 64)                0         \n",
      "_________________________________________________________________\n",
      "dense_15 (Dense)             (None, 10)                650       \n",
      "=================================================================\n",
      "Total params: 148,714\n",
      "Trainable params: 148,522\n",
      "Non-trainable params: 192\n",
      "_________________________________________________________________\n",
      "None\n",
      "Train on 1910 samples\n",
      "Epoch 1/59\n",
      "1910/1910 [==============================] - 4s 2ms/sample - loss: 1.1927 - accuracy: 0.6225\n",
      "Epoch 2/59\n",
      "1910/1910 [==============================] - 1s 635us/sample - loss: 0.6044 - accuracy: 0.8513\n",
      "Epoch 3/59\n",
      "1910/1910 [==============================] - 1s 675us/sample - loss: 0.4636 - accuracy: 0.8880\n",
      "Epoch 4/59\n",
      "1910/1910 [==============================] - 1s 623us/sample - loss: 0.3888 - accuracy: 0.9099\n",
      "Epoch 5/59\n",
      "1910/1910 [==============================] - 1s 691us/sample - loss: 0.3222 - accuracy: 0.9267\n",
      "Epoch 6/59\n",
      "1910/1910 [==============================] - 1s 622us/sample - loss: 0.2873 - accuracy: 0.9340\n",
      "Epoch 7/59\n",
      "1910/1910 [==============================] - 1s 625us/sample - loss: 0.2444 - accuracy: 0.9529\n",
      "Epoch 8/59\n",
      "1910/1910 [==============================] - 1s 641us/sample - loss: 0.2230 - accuracy: 0.9555\n",
      "Epoch 9/59\n",
      "1910/1910 [==============================] - 1s 711us/sample - loss: 0.1985 - accuracy: 0.9602\n",
      "Epoch 10/59\n",
      "1910/1910 [==============================] - 1s 662us/sample - loss: 0.1803 - accuracy: 0.9654\n",
      "Epoch 11/59\n",
      "1910/1910 [==============================] - 1s 682us/sample - loss: 0.1752 - accuracy: 0.9670\n",
      "Epoch 12/59\n",
      "1910/1910 [==============================] - 1s 618us/sample - loss: 0.1675 - accuracy: 0.9665\n",
      "Epoch 13/59\n",
      "1910/1910 [==============================] - 1s 610us/sample - loss: 0.1548 - accuracy: 0.9702\n",
      "Epoch 14/59\n",
      "1910/1910 [==============================] - 1s 632us/sample - loss: 0.1392 - accuracy: 0.9712\n",
      "Epoch 15/59\n",
      "1910/1910 [==============================] - 1s 616us/sample - loss: 0.1180 - accuracy: 0.9822\n",
      "Epoch 16/59\n",
      "1910/1910 [==============================] - 1s 632us/sample - loss: 0.1154 - accuracy: 0.9827\n",
      "Epoch 17/59\n",
      "1910/1910 [==============================] - 1s 661us/sample - loss: 0.1055 - accuracy: 0.9822\n",
      "Epoch 18/59\n",
      "1910/1910 [==============================] - 1s 735us/sample - loss: 0.1018 - accuracy: 0.9827\n",
      "Epoch 19/59\n",
      "1910/1910 [==============================] - 1s 755us/sample - loss: 0.0990 - accuracy: 0.9843\n",
      "Epoch 20/59\n",
      "1910/1910 [==============================] - 1s 657us/sample - loss: 0.1059 - accuracy: 0.9796\n",
      "Epoch 21/59\n",
      "1910/1910 [==============================] - 1s 612us/sample - loss: 0.0885 - accuracy: 0.9874\n",
      "Epoch 22/59\n",
      "1910/1910 [==============================] - 1s 709us/sample - loss: 0.0861 - accuracy: 0.9880\n",
      "Epoch 23/59\n",
      "1910/1910 [==============================] - 1s 721us/sample - loss: 0.0861 - accuracy: 0.9874\n",
      "Epoch 24/59\n",
      "1910/1910 [==============================] - 1s 693us/sample - loss: 0.0746 - accuracy: 0.9911\n",
      "Epoch 25/59\n",
      "1910/1910 [==============================] - 1s 606us/sample - loss: 0.0841 - accuracy: 0.9859\n",
      "Epoch 26/59\n",
      "1910/1910 [==============================] - 1s 647us/sample - loss: 0.0688 - accuracy: 0.9932\n",
      "Epoch 27/59\n",
      "1910/1910 [==============================] - 1s 676us/sample - loss: 0.0761 - accuracy: 0.9864\n",
      "Epoch 28/59\n",
      "1910/1910 [==============================] - 1s 658us/sample - loss: 0.0635 - accuracy: 0.9916\n",
      "Epoch 29/59\n",
      "1910/1910 [==============================] - 1s 641us/sample - loss: 0.0659 - accuracy: 0.9942\n",
      "Epoch 30/59\n",
      "1910/1910 [==============================] - 1s 665us/sample - loss: 0.0633 - accuracy: 0.9911\n",
      "Epoch 31/59\n",
      "1910/1910 [==============================] - 1s 629us/sample - loss: 0.0559 - accuracy: 0.9911\n",
      "Epoch 32/59\n",
      "1910/1910 [==============================] - 1s 647us/sample - loss: 0.0582 - accuracy: 0.9932\n",
      "Epoch 33/59\n",
      "1910/1910 [==============================] - 1s 661us/sample - loss: 0.0645 - accuracy: 0.9921\n",
      "Epoch 34/59\n",
      "1910/1910 [==============================] - 1s 642us/sample - loss: 0.0558 - accuracy: 0.9937\n",
      "Epoch 35/59\n",
      "1910/1910 [==============================] - 1s 668us/sample - loss: 0.0578 - accuracy: 0.9932\n",
      "Epoch 36/59\n",
      "1910/1910 [==============================] - 1s 648us/sample - loss: 0.0494 - accuracy: 0.9948\n",
      "Epoch 37/59\n",
      "1910/1910 [==============================] - 1s 690us/sample - loss: 0.0543 - accuracy: 0.9932\n",
      "Epoch 38/59\n",
      "1910/1910 [==============================] - 1s 667us/sample - loss: 0.0510 - accuracy: 0.9906\n",
      "Epoch 39/59\n",
      "1910/1910 [==============================] - 1s 681us/sample - loss: 0.0517 - accuracy: 0.9937\n",
      "Epoch 40/59\n",
      "1910/1910 [==============================] - 1s 597us/sample - loss: 0.0553 - accuracy: 0.9895\n",
      "Epoch 41/59\n",
      "1910/1910 [==============================] - 1s 622us/sample - loss: 0.0433 - accuracy: 0.9963\n",
      "Epoch 42/59\n",
      "1910/1910 [==============================] - 1s 593us/sample - loss: 0.0453 - accuracy: 0.9953\n",
      "Epoch 43/59\n",
      "1910/1910 [==============================] - 1s 712us/sample - loss: 0.0438 - accuracy: 0.9948\n",
      "Epoch 44/59\n",
      "1910/1910 [==============================] - 1s 732us/sample - loss: 0.0444 - accuracy: 0.9953\n",
      "Epoch 45/59\n",
      "1910/1910 [==============================] - 1s 683us/sample - loss: 0.0408 - accuracy: 0.9958\n",
      "Epoch 46/59\n",
      "1910/1910 [==============================] - 1s 661us/sample - loss: 0.0394 - accuracy: 0.9958\n",
      "Epoch 47/59\n",
      "1910/1910 [==============================] - 1s 651us/sample - loss: 0.0328 - accuracy: 0.9990\n",
      "Epoch 48/59\n",
      "1910/1910 [==============================] - 1s 610us/sample - loss: 0.0358 - accuracy: 0.9958\n",
      "Epoch 49/59\n",
      "1910/1910 [==============================] - 1s 595us/sample - loss: 0.0428 - accuracy: 0.9937\n",
      "Epoch 50/59\n",
      "1910/1910 [==============================] - 1s 624us/sample - loss: 0.0375 - accuracy: 0.9969\n",
      "Epoch 51/59\n",
      "1910/1910 [==============================] - 1s 761us/sample - loss: 0.0312 - accuracy: 0.9984\n",
      "Epoch 52/59\n",
      "1910/1910 [==============================] - 1s 637us/sample - loss: 0.0391 - accuracy: 0.9958\n",
      "Epoch 53/59\n",
      "1910/1910 [==============================] - 1s 656us/sample - loss: 0.0382 - accuracy: 0.9953\n",
      "Epoch 54/59\n",
      "1910/1910 [==============================] - 1s 756us/sample - loss: 0.0310 - accuracy: 0.9984\n",
      "Epoch 55/59\n",
      "1910/1910 [==============================] - 1s 686us/sample - loss: 0.0344 - accuracy: 0.9963\n",
      "Epoch 56/59\n",
      "1910/1910 [==============================] - 1s 643us/sample - loss: 0.0347 - accuracy: 0.9974\n",
      "Epoch 57/59\n",
      "1910/1910 [==============================] - 1s 700us/sample - loss: 0.0372 - accuracy: 0.9953\n",
      "Epoch 58/59\n",
      "1910/1910 [==============================] - 1s 622us/sample - loss: 0.0307 - accuracy: 0.9984\n",
      "Epoch 59/59\n",
      "1910/1910 [==============================] - 1s 688us/sample - loss: 0.0317 - accuracy: 0.9974\n",
      "CPU times: user 1min 32s, sys: 28.4 s, total: 2min 1s\n",
      "Wall time: 1min 17s\n"
     ]
    },
    {
     "data": {
      "text/plain": [
       "<tensorflow.python.keras.callbacks.History at 0x7f808af987d0>"
      ]
     },
     "execution_count": 63,
     "metadata": {},
     "output_type": "execute_result"
    }
   ],
   "source": [
    "%%time\n",
    "model = cnn_models.simple_model(input_shape=input_shape,\n",
    "                                num_classes=10,\n",
    "                                batch_normalisation=True)\n",
    "model.fit(X_train_digits_best, y_train_digits_best,\n",
    "          batch_size=N_BATCH,\n",
    "          epochs=59,\n",
    "          verbose=1)"
   ]
  },
  {
   "cell_type": "code",
   "execution_count": 64,
   "metadata": {},
   "outputs": [],
   "source": [
    "y_nn = np.argmax(y_test_digits_nn, axis=1)"
   ]
  },
  {
   "cell_type": "code",
   "execution_count": 65,
   "metadata": {},
   "outputs": [],
   "source": [
    "y_pred = model.predict_classes(X_test_digits_mfcc_nn)"
   ]
  },
  {
   "cell_type": "code",
   "execution_count": 66,
   "metadata": {},
   "outputs": [
    {
     "name": "stdout",
     "output_type": "stream",
     "text": [
      "              precision    recall  f1-score   support\n",
      "\n",
      "           0       0.94      0.98      0.96        49\n",
      "           1       1.00      0.98      0.99        49\n",
      "           2       1.00      0.98      0.99        49\n",
      "           3       0.91      0.98      0.94        49\n",
      "           4       0.96      0.98      0.97        49\n",
      "           5       0.98      0.98      0.98        49\n",
      "           6       1.00      0.92      0.96        49\n",
      "           7       0.96      0.94      0.95        48\n",
      "           8       0.96      1.00      0.98        49\n",
      "           9       1.00      0.96      0.98        48\n",
      "\n",
      "    accuracy                           0.97       488\n",
      "   macro avg       0.97      0.97      0.97       488\n",
      "weighted avg       0.97      0.97      0.97       488\n",
      "\n"
     ]
    }
   ],
   "source": [
    "print(classification_report(y_nn, y_pred))"
   ]
  },
  {
   "cell_type": "code",
   "execution_count": 67,
   "metadata": {},
   "outputs": [],
   "source": [
    "model.save(\"../best_models/digits.h5\")"
   ]
  },
  {
   "cell_type": "markdown",
   "metadata": {},
   "source": [
    "# Speakers\n",
    "## Std - MFCC"
   ]
  },
  {
   "cell_type": "code",
   "execution_count": 68,
   "metadata": {},
   "outputs": [
    {
     "name": "stdout",
     "output_type": "stream",
     "text": [
      "CPU times: user 22.8 s, sys: 436 ms, total: 23.2 s\n",
      "Wall time: 12.6 s\n"
     ]
    }
   ],
   "source": [
    "%%time\n",
    "X_train_speakers_mfcc = np.array([data_preparation.mfcc(x, flatten=True) for x in X_train_speakers])\n",
    "X_val_speakers_mfcc = np.array([data_preparation.mfcc(x, flatten=True) for x in X_val_speakers])\n",
    "X_test_speakers_mfcc = np.array([data_preparation.mfcc(x, flatten=True) for x in X_test_speakers])"
   ]
  },
  {
   "cell_type": "code",
   "execution_count": 69,
   "metadata": {},
   "outputs": [
    {
     "name": "stdout",
     "output_type": "stream",
     "text": [
      "CPU times: user 13.5 ms, sys: 4.42 ms, total: 18 ms\n",
      "Wall time: 22.7 ms\n"
     ]
    }
   ],
   "source": [
    "%%time\n",
    "scaler_normal = StandardScaler()\n",
    "X_train_speakers_mfcc = scaler_normal.fit_transform(X_train_speakers_mfcc)\n",
    "X_val_speakers_mfcc =  scaler_normal.transform(X_val_speakers_mfcc)\n",
    "X_test_speakers_mfcc =  scaler_normal.transform(X_test_speakers_mfcc)"
   ]
  },
  {
   "cell_type": "markdown",
   "metadata": {},
   "source": [
    "### SVC"
   ]
  },
  {
   "cell_type": "code",
   "execution_count": 70,
   "metadata": {},
   "outputs": [],
   "source": [
    "clf = SVC(kernel='rbf', class_weight='balanced', gamma=\"auto\")\n",
    "clf = clf.fit(X_train_speakers_mfcc, y_train_speakers)"
   ]
  },
  {
   "cell_type": "code",
   "execution_count": 71,
   "metadata": {},
   "outputs": [
    {
     "name": "stdout",
     "output_type": "stream",
     "text": [
      "              precision    recall  f1-score   support\n",
      "\n",
      "         ale       1.00      0.95      0.97        20\n",
      "      alinda       1.00      0.95      0.97        20\n",
      "        gian       0.95      1.00      0.98        20\n",
      "     jackson       1.00      0.90      0.95        20\n",
      "      khaled       0.87      1.00      0.93        20\n",
      "     nicolas       1.00      1.00      1.00        20\n",
      "        theo       1.00      0.90      0.95        20\n",
      "    yweweler       0.91      1.00      0.95        20\n",
      "\n",
      "    accuracy                           0.96       160\n",
      "   macro avg       0.97      0.96      0.96       160\n",
      "weighted avg       0.97      0.96      0.96       160\n",
      "\n",
      "CPU times: user 36 ms, sys: 4.06 ms, total: 40.1 ms\n",
      "Wall time: 47.7 ms\n"
     ]
    }
   ],
   "source": [
    "%%time\n",
    "y_pred = clf.predict(X_val_speakers_mfcc)\n",
    "print(classification_report(y_val_speakers, y_pred))"
   ]
  },
  {
   "cell_type": "markdown",
   "metadata": {},
   "source": [
    "### CNN"
   ]
  },
  {
   "cell_type": "code",
   "execution_count": 72,
   "metadata": {},
   "outputs": [
    {
     "name": "stdout",
     "output_type": "stream",
     "text": [
      "CPU times: user 24.4 s, sys: 605 ms, total: 25 s\n",
      "Wall time: 15.1 s\n"
     ]
    }
   ],
   "source": [
    "%%time\n",
    "X_train_speakers_mfcc = np.array([data_preparation.mfcc(x, flatten=False) for x in X_train_speakers])\n",
    "X_val_speakers_mfcc = np.array([data_preparation.mfcc(x, flatten=False) for x in X_val_speakers])\n",
    "X_test_speakers_mfcc = np.array([data_preparation.mfcc(x, flatten=False) for x in X_test_speakers])"
   ]
  },
  {
   "cell_type": "code",
   "execution_count": 73,
   "metadata": {},
   "outputs": [
    {
     "name": "stdout",
     "output_type": "stream",
     "text": [
      "CPU times: user 5.72 ms, sys: 4.97 ms, total: 10.7 ms\n",
      "Wall time: 12.9 ms\n"
     ]
    }
   ],
   "source": [
    "%%time\n",
    "X, y, input_shape, target_names= data_preparation.prepare_data_nn(X_train_speakers_mfcc, X_val_speakers_mfcc, X_test_speakers_mfcc, y_train_speakers, y_val_speakers, y_test_speakers, number_mode=False)\n",
    "\n",
    "X_train_speakers_mfcc_nn = X[0]\n",
    "y_train_speakers_nn = y[0]\n",
    "X_val_speakers_mfcc_nn = X[1]\n",
    "y_val_speakers_nn = y[1]\n",
    "X_test_speakers_mfcc_nn = X[2]\n",
    "y_test_speakers_nn = y[2]"
   ]
  },
  {
   "cell_type": "code",
   "execution_count": 74,
   "metadata": {},
   "outputs": [
    {
     "data": {
      "text/plain": [
       "(20, 18, 1)"
      ]
     },
     "execution_count": 74,
     "metadata": {},
     "output_type": "execute_result"
    }
   ],
   "source": [
    "input_shape"
   ]
  },
  {
   "cell_type": "code",
   "execution_count": 75,
   "metadata": {},
   "outputs": [
    {
     "name": "stdout",
     "output_type": "stream",
     "text": [
      "Model: \"sequential_8\"\n",
      "_________________________________________________________________\n",
      "Layer (type)                 Output Shape              Param #   \n",
      "=================================================================\n",
      "conv2d_8 (Conv2D)            (None, 19, 17, 32)        160       \n",
      "_________________________________________________________________\n",
      "batch_normalization_12 (Batc (None, 19, 17, 32)        128       \n",
      "_________________________________________________________________\n",
      "max_pooling2d_8 (MaxPooling2 (None, 9, 8, 32)          0         \n",
      "_________________________________________________________________\n",
      "flatten_8 (Flatten)          (None, 2304)              0         \n",
      "_________________________________________________________________\n",
      "dense_16 (Dense)             (None, 64)                147520    \n",
      "_________________________________________________________________\n",
      "batch_normalization_13 (Batc (None, 64)                256       \n",
      "_________________________________________________________________\n",
      "dropout_8 (Dropout)          (None, 64)                0         \n",
      "_________________________________________________________________\n",
      "dense_17 (Dense)             (None, 8)                 520       \n",
      "=================================================================\n",
      "Total params: 148,584\n",
      "Trainable params: 148,392\n",
      "Non-trainable params: 192\n",
      "_________________________________________________________________\n",
      "None\n",
      "Train on 480 samples, validate on 160 samples\n",
      "Epoch 1/100\n",
      "480/480 [==============================] - 3s 7ms/sample - loss: 1.7035 - accuracy: 0.4354 - val_loss: 7.4132 - val_accuracy: 0.2937\n",
      "Epoch 2/100\n",
      "480/480 [==============================] - 0s 925us/sample - loss: 0.9496 - accuracy: 0.6833 - val_loss: 5.0327 - val_accuracy: 0.3000\n",
      "Epoch 3/100\n",
      "480/480 [==============================] - 0s 849us/sample - loss: 0.7363 - accuracy: 0.7792 - val_loss: 2.5728 - val_accuracy: 0.4000\n",
      "Epoch 4/100\n",
      "480/480 [==============================] - 0s 844us/sample - loss: 0.5739 - accuracy: 0.8354 - val_loss: 2.1201 - val_accuracy: 0.4125\n",
      "Epoch 5/100\n",
      "480/480 [==============================] - 0s 832us/sample - loss: 0.4380 - accuracy: 0.8792 - val_loss: 1.1933 - val_accuracy: 0.6625\n",
      "Epoch 6/100\n",
      "480/480 [==============================] - 0s 898us/sample - loss: 0.3818 - accuracy: 0.9167 - val_loss: 1.0840 - val_accuracy: 0.6000\n",
      "Epoch 7/100\n",
      "480/480 [==============================] - 0s 975us/sample - loss: 0.3359 - accuracy: 0.9062 - val_loss: 0.7490 - val_accuracy: 0.7250\n",
      "Epoch 8/100\n",
      "480/480 [==============================] - 0s 938us/sample - loss: 0.2816 - accuracy: 0.9479 - val_loss: 0.5830 - val_accuracy: 0.7688\n",
      "Epoch 9/100\n",
      "480/480 [==============================] - 1s 1ms/sample - loss: 0.2408 - accuracy: 0.9604 - val_loss: 0.5504 - val_accuracy: 0.8062\n",
      "Epoch 10/100\n",
      "480/480 [==============================] - 0s 978us/sample - loss: 0.2324 - accuracy: 0.9625 - val_loss: 0.6163 - val_accuracy: 0.7250\n",
      "Epoch 11/100\n",
      "480/480 [==============================] - 0s 953us/sample - loss: 0.2088 - accuracy: 0.9583 - val_loss: 0.3713 - val_accuracy: 0.9187\n",
      "Epoch 12/100\n",
      "480/480 [==============================] - 0s 848us/sample - loss: 0.1817 - accuracy: 0.9812 - val_loss: 0.3581 - val_accuracy: 0.8938\n",
      "Epoch 13/100\n",
      "480/480 [==============================] - 0s 889us/sample - loss: 0.1847 - accuracy: 0.9583 - val_loss: 0.3053 - val_accuracy: 0.9062\n",
      "Epoch 14/100\n",
      "480/480 [==============================] - 0s 842us/sample - loss: 0.1408 - accuracy: 0.9917 - val_loss: 0.3201 - val_accuracy: 0.9312\n",
      "Epoch 15/100\n",
      "480/480 [==============================] - 0s 901us/sample - loss: 0.1415 - accuracy: 0.9792 - val_loss: 0.3025 - val_accuracy: 0.9187\n",
      "Epoch 16/100\n",
      "480/480 [==============================] - 0s 988us/sample - loss: 0.1342 - accuracy: 0.9854 - val_loss: 0.2343 - val_accuracy: 0.9375\n",
      "Epoch 17/100\n",
      "480/480 [==============================] - 0s 1ms/sample - loss: 0.1292 - accuracy: 0.9833 - val_loss: 0.2233 - val_accuracy: 0.9500\n",
      "Epoch 18/100\n",
      "480/480 [==============================] - 1s 1ms/sample - loss: 0.1265 - accuracy: 0.9812 - val_loss: 0.2063 - val_accuracy: 0.9438\n",
      "Epoch 19/100\n",
      "480/480 [==============================] - 0s 907us/sample - loss: 0.0972 - accuracy: 0.9917 - val_loss: 0.2122 - val_accuracy: 0.9500\n",
      "Epoch 20/100\n",
      "480/480 [==============================] - 0s 869us/sample - loss: 0.1145 - accuracy: 0.9896 - val_loss: 0.2167 - val_accuracy: 0.9375\n",
      "Epoch 21/100\n",
      "480/480 [==============================] - 0s 878us/sample - loss: 0.1267 - accuracy: 0.9812 - val_loss: 0.1820 - val_accuracy: 0.9563\n",
      "Epoch 22/100\n",
      "480/480 [==============================] - 0s 858us/sample - loss: 0.0982 - accuracy: 0.9875 - val_loss: 0.2148 - val_accuracy: 0.9375\n",
      "Epoch 23/100\n",
      "480/480 [==============================] - 0s 972us/sample - loss: 0.0816 - accuracy: 0.9937 - val_loss: 0.1665 - val_accuracy: 0.9500\n",
      "Epoch 24/100\n",
      "480/480 [==============================] - 1s 2ms/sample - loss: 0.0902 - accuracy: 0.9917 - val_loss: 0.2127 - val_accuracy: 0.9500\n",
      "Epoch 25/100\n",
      "480/480 [==============================] - 1s 2ms/sample - loss: 0.0886 - accuracy: 0.9937 - val_loss: 0.1779 - val_accuracy: 0.9500\n",
      "Epoch 26/100\n",
      "480/480 [==============================] - 1s 1ms/sample - loss: 0.0858 - accuracy: 0.9937 - val_loss: 0.1925 - val_accuracy: 0.9500\n",
      "Epoch 27/100\n",
      "480/480 [==============================] - 1s 1ms/sample - loss: 0.0861 - accuracy: 0.9937 - val_loss: 0.1569 - val_accuracy: 0.9500\n",
      "Epoch 28/100\n",
      "480/480 [==============================] - 1s 1ms/sample - loss: 0.0672 - accuracy: 0.9979 - val_loss: 0.1464 - val_accuracy: 0.9625\n",
      "Epoch 29/100\n",
      "480/480 [==============================] - 0s 1ms/sample - loss: 0.0689 - accuracy: 0.9937 - val_loss: 0.1469 - val_accuracy: 0.9625\n",
      "Epoch 30/100\n",
      "480/480 [==============================] - 0s 1ms/sample - loss: 0.0720 - accuracy: 0.9979 - val_loss: 0.1537 - val_accuracy: 0.9625\n",
      "Epoch 31/100\n",
      "480/480 [==============================] - 0s 970us/sample - loss: 0.0676 - accuracy: 0.9937 - val_loss: 0.1791 - val_accuracy: 0.9563\n",
      "Epoch 32/100\n",
      "480/480 [==============================] - 0s 930us/sample - loss: 0.0585 - accuracy: 0.9958 - val_loss: 0.1552 - val_accuracy: 0.9563\n",
      "Epoch 33/100\n",
      "480/480 [==============================] - 1s 1ms/sample - loss: 0.0596 - accuracy: 0.9937 - val_loss: 0.1439 - val_accuracy: 0.9625\n",
      "Epoch 34/100\n",
      "480/480 [==============================] - 0s 838us/sample - loss: 0.0533 - accuracy: 0.9979 - val_loss: 0.1529 - val_accuracy: 0.9625\n",
      "Epoch 35/100\n",
      "480/480 [==============================] - 0s 838us/sample - loss: 0.0601 - accuracy: 0.9958 - val_loss: 0.1697 - val_accuracy: 0.9563\n",
      "Epoch 36/100\n",
      "480/480 [==============================] - 0s 831us/sample - loss: 0.0558 - accuracy: 0.9979 - val_loss: 0.1614 - val_accuracy: 0.9500\n",
      "Epoch 37/100\n",
      "480/480 [==============================] - 0s 864us/sample - loss: 0.0528 - accuracy: 1.0000 - val_loss: 0.1324 - val_accuracy: 0.9625\n",
      "Epoch 38/100\n",
      "480/480 [==============================] - 0s 849us/sample - loss: 0.0519 - accuracy: 0.9979 - val_loss: 0.1198 - val_accuracy: 0.9688\n",
      "Epoch 39/100\n",
      "480/480 [==============================] - 0s 831us/sample - loss: 0.0488 - accuracy: 1.0000 - val_loss: 0.1472 - val_accuracy: 0.9625\n",
      "Epoch 40/100\n",
      "480/480 [==============================] - 0s 839us/sample - loss: 0.0523 - accuracy: 0.9958 - val_loss: 0.1476 - val_accuracy: 0.9500\n",
      "Epoch 41/100\n",
      "480/480 [==============================] - 1s 1ms/sample - loss: 0.0486 - accuracy: 0.9958 - val_loss: 0.1201 - val_accuracy: 0.9750\n",
      "Epoch 42/100\n",
      "480/480 [==============================] - 1s 1ms/sample - loss: 0.0463 - accuracy: 0.9979 - val_loss: 0.1516 - val_accuracy: 0.9563\n",
      "Epoch 43/100\n",
      "480/480 [==============================] - 0s 999us/sample - loss: 0.0432 - accuracy: 1.0000 - val_loss: 0.1383 - val_accuracy: 0.9563\n",
      "Epoch 44/100\n",
      "480/480 [==============================] - 1s 1ms/sample - loss: 0.0444 - accuracy: 1.0000 - val_loss: 0.1377 - val_accuracy: 0.9625\n",
      "Epoch 45/100\n",
      "480/480 [==============================] - 0s 935us/sample - loss: 0.0424 - accuracy: 1.0000 - val_loss: 0.1508 - val_accuracy: 0.9563\n",
      "Epoch 46/100\n",
      "480/480 [==============================] - 1s 1ms/sample - loss: 0.0355 - accuracy: 1.0000 - val_loss: 0.1355 - val_accuracy: 0.9625\n"
     ]
    },
    {
     "name": "stdout",
     "output_type": "stream",
     "text": [
      "Epoch 47/100\n",
      "480/480 [==============================] - 0s 962us/sample - loss: 0.0365 - accuracy: 1.0000 - val_loss: 0.1232 - val_accuracy: 0.9625\n",
      "Epoch 48/100\n",
      "480/480 [==============================] - 0s 953us/sample - loss: 0.0420 - accuracy: 1.0000 - val_loss: 0.1142 - val_accuracy: 0.9750\n",
      "Epoch 49/100\n",
      "480/480 [==============================] - 0s 843us/sample - loss: 0.0391 - accuracy: 1.0000 - val_loss: 0.1259 - val_accuracy: 0.9688\n",
      "Epoch 50/100\n",
      "480/480 [==============================] - 0s 929us/sample - loss: 0.0433 - accuracy: 0.9979 - val_loss: 0.1320 - val_accuracy: 0.9750\n",
      "Epoch 51/100\n",
      "480/480 [==============================] - 0s 971us/sample - loss: 0.0406 - accuracy: 0.9958 - val_loss: 0.1270 - val_accuracy: 0.9688\n",
      "Epoch 52/100\n",
      "480/480 [==============================] - 0s 929us/sample - loss: 0.0387 - accuracy: 1.0000 - val_loss: 0.1299 - val_accuracy: 0.9625\n",
      "Epoch 53/100\n",
      "480/480 [==============================] - 0s 1ms/sample - loss: 0.0378 - accuracy: 1.0000 - val_loss: 0.1116 - val_accuracy: 0.9688\n",
      "Epoch 54/100\n",
      "480/480 [==============================] - 0s 849us/sample - loss: 0.0417 - accuracy: 1.0000 - val_loss: 0.1210 - val_accuracy: 0.9750\n",
      "Epoch 55/100\n",
      "480/480 [==============================] - 1s 1ms/sample - loss: 0.0327 - accuracy: 1.0000 - val_loss: 0.1289 - val_accuracy: 0.9625\n",
      "Epoch 56/100\n",
      "480/480 [==============================] - 0s 984us/sample - loss: 0.0334 - accuracy: 1.0000 - val_loss: 0.1160 - val_accuracy: 0.9625\n",
      "Epoch 57/100\n",
      "480/480 [==============================] - 0s 988us/sample - loss: 0.0283 - accuracy: 1.0000 - val_loss: 0.1222 - val_accuracy: 0.9625\n",
      "Epoch 58/100\n",
      "480/480 [==============================] - 0s 911us/sample - loss: 0.0338 - accuracy: 1.0000 - val_loss: 0.1399 - val_accuracy: 0.9563\n",
      "Epoch 59/100\n",
      "480/480 [==============================] - 0s 771us/sample - loss: 0.0348 - accuracy: 0.9958 - val_loss: 0.1128 - val_accuracy: 0.9812\n",
      "Epoch 60/100\n",
      "480/480 [==============================] - 0s 670us/sample - loss: 0.0304 - accuracy: 1.0000 - val_loss: 0.1214 - val_accuracy: 0.9750\n",
      "Epoch 61/100\n",
      "480/480 [==============================] - 0s 855us/sample - loss: 0.0377 - accuracy: 1.0000 - val_loss: 0.1425 - val_accuracy: 0.9688\n",
      "Epoch 62/100\n",
      "480/480 [==============================] - 0s 928us/sample - loss: 0.0323 - accuracy: 1.0000 - val_loss: 0.1308 - val_accuracy: 0.9625\n",
      "Epoch 63/100\n",
      "480/480 [==============================] - 1s 1ms/sample - loss: 0.0261 - accuracy: 1.0000 - val_loss: 0.1290 - val_accuracy: 0.9625\n",
      "CPU times: user 38.7 s, sys: 18 s, total: 56.6 s\n",
      "Wall time: 33 s\n"
     ]
    },
    {
     "data": {
      "text/plain": [
       "<tensorflow.python.keras.callbacks.History at 0x7f809cb03110>"
      ]
     },
     "execution_count": 75,
     "metadata": {},
     "output_type": "execute_result"
    }
   ],
   "source": [
    "%%time\n",
    "model = cnn_models.simple_model(input_shape=input_shape, num_classes=8, batch_normalisation=True)\n",
    "model.fit(X_train_speakers_mfcc_nn, y_train_speakers_nn,\n",
    "          batch_size=N_BATCH,\n",
    "          epochs=EPOCHS,\n",
    "          verbose=1,\n",
    "         callbacks=[callback],\n",
    "         validation_data=(X_val_speakers_mfcc_nn, y_val_speakers_nn))"
   ]
  },
  {
   "cell_type": "markdown",
   "metadata": {},
   "source": [
    "Let's get full performances on val set:"
   ]
  },
  {
   "cell_type": "code",
   "execution_count": 76,
   "metadata": {},
   "outputs": [
    {
     "name": "stdout",
     "output_type": "stream",
     "text": [
      "              precision    recall  f1-score   support\n",
      "\n",
      "         ale       1.00      0.95      0.97        20\n",
      "      alinda       0.91      1.00      0.95        20\n",
      "        gian       1.00      0.95      0.97        20\n",
      "     jackson       1.00      0.95      0.97        20\n",
      "      khaled       1.00      1.00      1.00        20\n",
      "     nicolas       1.00      1.00      1.00        20\n",
      "        theo       0.95      0.90      0.92        20\n",
      "    yweweler       0.91      1.00      0.95        20\n",
      "\n",
      "    accuracy                           0.97       160\n",
      "   macro avg       0.97      0.97      0.97       160\n",
      "weighted avg       0.97      0.97      0.97       160\n",
      "\n"
     ]
    }
   ],
   "source": [
    "y_nn = np.argmax(y_val_speakers_nn, axis=1)\n",
    "y_pred = model.predict_classes(X_val_speakers_mfcc_nn)\n",
    "print(classification_report(y_nn, y_pred, target_names=target_names))"
   ]
  },
  {
   "cell_type": "markdown",
   "metadata": {},
   "source": [
    "Excellent performances! Let's now see what happens with spectrograms:"
   ]
  },
  {
   "cell_type": "markdown",
   "metadata": {},
   "source": [
    "## Std - Spects"
   ]
  },
  {
   "cell_type": "code",
   "execution_count": 77,
   "metadata": {},
   "outputs": [
    {
     "name": "stdout",
     "output_type": "stream",
     "text": [
      "CPU times: user 21.2 s, sys: 268 ms, total: 21.5 s\n",
      "Wall time: 11.5 s\n"
     ]
    }
   ],
   "source": [
    "%%time\n",
    "X_train_speakers_spects = np.array([data_preparation.compute_spectrogram(x, normalize=True) for x in X_train_speakers])\n",
    "X_val_speakers_spects = np.array([data_preparation.compute_spectrogram(x, normalize=True) for x in X_val_speakers])\n",
    "X_test_speakers_spects = np.array([data_preparation.compute_spectrogram(x, normalize=True) for x in X_test_speakers])"
   ]
  },
  {
   "cell_type": "code",
   "execution_count": 78,
   "metadata": {},
   "outputs": [],
   "source": [
    "nsamples, nx, ny = X_train_speakers_spects.shape\n",
    "X_train_speakers_spects_2d = X_train_speakers_spects.reshape((nsamples, nx * ny))\n",
    "nsamples, nx, ny = X_val_speakers_spects.shape\n",
    "X_val_speakers_spects_2d = X_val_speakers_spects.reshape((nsamples, nx * ny))\n",
    "nsamples, nx, ny = X_test_speakers_spects.shape\n",
    "X_test_speakers_spects_2d = X_test_speakers_spects.reshape((nsamples, nx * ny))"
   ]
  },
  {
   "cell_type": "code",
   "execution_count": 79,
   "metadata": {},
   "outputs": [],
   "source": [
    "clf = SVC(kernel='rbf', class_weight='balanced', gamma=\"auto\")\n",
    "clf = clf.fit(X_train_speakers_spects_2d, y_train_speakers)"
   ]
  },
  {
   "cell_type": "code",
   "execution_count": 80,
   "metadata": {},
   "outputs": [
    {
     "name": "stdout",
     "output_type": "stream",
     "text": [
      "              precision    recall  f1-score   support\n",
      "\n",
      "         ale       0.95      0.95      0.95        20\n",
      "      alinda       1.00      0.95      0.97        20\n",
      "        gian       0.95      1.00      0.98        20\n",
      "     jackson       1.00      0.95      0.97        20\n",
      "      khaled       1.00      1.00      1.00        20\n",
      "     nicolas       1.00      1.00      1.00        20\n",
      "        theo       0.91      1.00      0.95        20\n",
      "    yweweler       0.95      0.90      0.92        20\n",
      "\n",
      "    accuracy                           0.97       160\n",
      "   macro avg       0.97      0.97      0.97       160\n",
      "weighted avg       0.97      0.97      0.97       160\n",
      "\n",
      "CPU times: user 174 ms, sys: 12.1 ms, total: 186 ms\n",
      "Wall time: 213 ms\n"
     ]
    }
   ],
   "source": [
    "%%time\n",
    "y_pred = clf.predict(X_val_speakers_spects_2d)\n",
    "print(classification_report(y_val_speakers, y_pred))"
   ]
  },
  {
   "cell_type": "markdown",
   "metadata": {},
   "source": [
    "Performances are at the level of MFCC\n",
    "### CNN - Paper"
   ]
  },
  {
   "cell_type": "code",
   "execution_count": 105,
   "metadata": {},
   "outputs": [
    {
     "name": "stdout",
     "output_type": "stream",
     "text": [
      "CPU times: user 18.9 s, sys: 419 ms, total: 19.3 s\n",
      "Wall time: 10.6 s\n"
     ]
    }
   ],
   "source": [
    "%%time\n",
    "X_train_speakers_spects = np.array([data_preparation.compute_spectrogram(x, normalize=True, paper_data=True) for x in X_train_speakers])\n",
    "X_val_speakers_spects = np.array([data_preparation.compute_spectrogram(x, normalize=True, paper_data=True) for x in X_val_speakers])\n",
    "X_test_speakers_spects = np.array([data_preparation.compute_spectrogram(x, normalize=True, paper_data=True) for x in X_test_speakers])"
   ]
  },
  {
   "cell_type": "code",
   "execution_count": 106,
   "metadata": {},
   "outputs": [
    {
     "name": "stdout",
     "output_type": "stream",
     "text": [
      "CPU times: user 36.9 ms, sys: 30 ms, total: 66.9 ms\n",
      "Wall time: 189 ms\n"
     ]
    }
   ],
   "source": [
    "%%time\n",
    "X, y, input_shape,  target_names= data_preparation.prepare_data_nn(X_train_speakers_spects, X_val_speakers_spects, X_test_speakers_spects, y_train_speakers, y_val_speakers, y_test_speakers, number_mode=False)\n",
    "\n",
    "X_train_speakers_spects_nn = X[0]\n",
    "y_train_speakers_nn = y[0]\n",
    "X_val_speakers_spects_nn = X[1]\n",
    "y_val_speakers_nn = y[1]\n",
    "X_test_speakers_spects_nn = X[2]\n",
    "y_test_speakers_nn = y[2]"
   ]
  },
  {
   "cell_type": "code",
   "execution_count": 107,
   "metadata": {},
   "outputs": [
    {
     "name": "stdout",
     "output_type": "stream",
     "text": [
      "Model: \"sequential_11\"\n",
      "_________________________________________________________________\n",
      "Layer (type)                 Output Shape              Param #   \n",
      "=================================================================\n",
      "conv2d_13 (Conv2D)           (None, 63, 27, 32)        544       \n",
      "_________________________________________________________________\n",
      "max_pooling2d_11 (MaxPooling (None, 30, 12, 32)        0         \n",
      "_________________________________________________________________\n",
      "conv2d_14 (Conv2D)           (None, 14, 5, 64)         32832     \n",
      "_________________________________________________________________\n",
      "max_pooling2d_12 (MaxPooling (None, 6, 1, 64)          0         \n",
      "_________________________________________________________________\n",
      "flatten_9 (Flatten)          (None, 384)               0         \n",
      "_________________________________________________________________\n",
      "dense_18 (Dense)             (None, 80)                30800     \n",
      "_________________________________________________________________\n",
      "dropout_9 (Dropout)          (None, 80)                0         \n",
      "_________________________________________________________________\n",
      "dense_19 (Dense)             (None, 40)                3240      \n",
      "_________________________________________________________________\n",
      "dense_20 (Dense)             (None, 8)                 328       \n",
      "=================================================================\n",
      "Total params: 67,744\n",
      "Trainable params: 67,744\n",
      "Non-trainable params: 0\n",
      "_________________________________________________________________\n",
      "None\n"
     ]
    }
   ],
   "source": [
    "model = cnn_models.paper_architecture(8, input_shape=input_shape)"
   ]
  },
  {
   "cell_type": "code",
   "execution_count": 108,
   "metadata": {},
   "outputs": [
    {
     "name": "stdout",
     "output_type": "stream",
     "text": [
      "Train on 480 samples, validate on 160 samples\n",
      "Epoch 1/100\n",
      "480/480 [==============================] - 3s 7ms/sample - loss: 2.0949 - accuracy: 0.1375 - val_loss: 2.0753 - val_accuracy: 0.1625\n",
      "Epoch 2/100\n",
      "480/480 [==============================] - 1s 3ms/sample - loss: 2.0656 - accuracy: 0.1813 - val_loss: 2.0556 - val_accuracy: 0.1813\n",
      "Epoch 3/100\n",
      "480/480 [==============================] - 1s 3ms/sample - loss: 2.0583 - accuracy: 0.1854 - val_loss: 2.0388 - val_accuracy: 0.2625\n",
      "Epoch 4/100\n",
      "480/480 [==============================] - 1s 3ms/sample - loss: 2.0301 - accuracy: 0.2104 - val_loss: 2.0082 - val_accuracy: 0.2750\n",
      "Epoch 5/100\n",
      "480/480 [==============================] - 1s 3ms/sample - loss: 2.0103 - accuracy: 0.2229 - val_loss: 1.9800 - val_accuracy: 0.3000\n",
      "Epoch 6/100\n",
      "480/480 [==============================] - 1s 3ms/sample - loss: 1.9888 - accuracy: 0.2354 - val_loss: 1.9532 - val_accuracy: 0.3250\n",
      "Epoch 7/100\n",
      "480/480 [==============================] - 1s 3ms/sample - loss: 1.9742 - accuracy: 0.2500 - val_loss: 1.9261 - val_accuracy: 0.3313\n",
      "Epoch 8/100\n",
      "480/480 [==============================] - 1s 3ms/sample - loss: 1.9568 - accuracy: 0.2521 - val_loss: 1.8923 - val_accuracy: 0.3063\n",
      "Epoch 9/100\n",
      "480/480 [==============================] - 2s 3ms/sample - loss: 1.9293 - accuracy: 0.2771 - val_loss: 1.8848 - val_accuracy: 0.3438\n",
      "Epoch 10/100\n",
      "480/480 [==============================] - 1s 3ms/sample - loss: 1.8964 - accuracy: 0.2875 - val_loss: 1.8311 - val_accuracy: 0.3562\n",
      "Epoch 11/100\n",
      "480/480 [==============================] - 1s 3ms/sample - loss: 1.8657 - accuracy: 0.3167 - val_loss: 1.7885 - val_accuracy: 0.3125\n",
      "Epoch 12/100\n",
      "480/480 [==============================] - 1s 3ms/sample - loss: 1.8599 - accuracy: 0.2979 - val_loss: 1.7715 - val_accuracy: 0.2812\n",
      "Epoch 13/100\n",
      "480/480 [==============================] - 1s 3ms/sample - loss: 1.8311 - accuracy: 0.3021 - val_loss: 1.7212 - val_accuracy: 0.3562\n",
      "Epoch 14/100\n",
      "480/480 [==============================] - 1s 3ms/sample - loss: 1.7699 - accuracy: 0.3500 - val_loss: 1.6921 - val_accuracy: 0.3812\n",
      "Epoch 15/100\n",
      "480/480 [==============================] - 1s 3ms/sample - loss: 1.7749 - accuracy: 0.3292 - val_loss: 1.6542 - val_accuracy: 0.4563\n",
      "Epoch 16/100\n",
      "480/480 [==============================] - 2s 3ms/sample - loss: 1.7363 - accuracy: 0.3500 - val_loss: 1.5937 - val_accuracy: 0.4375\n",
      "Epoch 17/100\n",
      "480/480 [==============================] - 2s 3ms/sample - loss: 1.7170 - accuracy: 0.3396 - val_loss: 1.6041 - val_accuracy: 0.3750\n",
      "Epoch 18/100\n",
      "480/480 [==============================] - 2s 3ms/sample - loss: 1.6423 - accuracy: 0.3500 - val_loss: 1.5201 - val_accuracy: 0.4187\n",
      "Epoch 19/100\n",
      "480/480 [==============================] - 2s 3ms/sample - loss: 1.6158 - accuracy: 0.4167 - val_loss: 1.4561 - val_accuracy: 0.4750\n",
      "Epoch 20/100\n",
      "480/480 [==============================] - 2s 3ms/sample - loss: 1.6146 - accuracy: 0.3854 - val_loss: 1.4502 - val_accuracy: 0.5437\n",
      "Epoch 21/100\n",
      "480/480 [==============================] - 1s 3ms/sample - loss: 1.5354 - accuracy: 0.4458 - val_loss: 1.4311 - val_accuracy: 0.5312\n",
      "Epoch 22/100\n",
      "480/480 [==============================] - 1s 3ms/sample - loss: 1.5515 - accuracy: 0.4000 - val_loss: 1.3461 - val_accuracy: 0.5625\n",
      "Epoch 23/100\n",
      "480/480 [==============================] - 2s 3ms/sample - loss: 1.4465 - accuracy: 0.4688 - val_loss: 1.2947 - val_accuracy: 0.6000\n",
      "Epoch 24/100\n",
      "480/480 [==============================] - 2s 3ms/sample - loss: 1.4848 - accuracy: 0.4479 - val_loss: 1.4100 - val_accuracy: 0.4563\n",
      "Epoch 25/100\n",
      "480/480 [==============================] - 1s 3ms/sample - loss: 1.4432 - accuracy: 0.4604 - val_loss: 1.2158 - val_accuracy: 0.6375\n",
      "Epoch 26/100\n",
      "480/480 [==============================] - 1s 3ms/sample - loss: 1.3280 - accuracy: 0.4771 - val_loss: 1.1784 - val_accuracy: 0.5688\n",
      "Epoch 27/100\n",
      "480/480 [==============================] - 1s 3ms/sample - loss: 1.3817 - accuracy: 0.4938 - val_loss: 1.1510 - val_accuracy: 0.5938\n",
      "Epoch 28/100\n",
      "480/480 [==============================] - 1s 3ms/sample - loss: 1.3484 - accuracy: 0.5333 - val_loss: 1.1502 - val_accuracy: 0.5938\n",
      "Epoch 29/100\n",
      "480/480 [==============================] - 1s 3ms/sample - loss: 1.2710 - accuracy: 0.5021 - val_loss: 1.0692 - val_accuracy: 0.6750\n",
      "Epoch 30/100\n",
      "480/480 [==============================] - 1s 3ms/sample - loss: 1.2759 - accuracy: 0.5229 - val_loss: 1.0428 - val_accuracy: 0.6687\n",
      "Epoch 31/100\n",
      "480/480 [==============================] - 1s 3ms/sample - loss: 1.2580 - accuracy: 0.5333 - val_loss: 1.0539 - val_accuracy: 0.6375\n",
      "Epoch 32/100\n",
      "480/480 [==============================] - 1s 3ms/sample - loss: 1.1921 - accuracy: 0.5396 - val_loss: 0.9901 - val_accuracy: 0.6750\n",
      "Epoch 33/100\n",
      "480/480 [==============================] - 1s 3ms/sample - loss: 1.1801 - accuracy: 0.5375 - val_loss: 1.0574 - val_accuracy: 0.6375\n",
      "Epoch 34/100\n",
      "480/480 [==============================] - 1s 3ms/sample - loss: 1.1792 - accuracy: 0.5562 - val_loss: 0.9437 - val_accuracy: 0.6875\n",
      "Epoch 35/100\n",
      "480/480 [==============================] - 1s 3ms/sample - loss: 1.0748 - accuracy: 0.6021 - val_loss: 0.8693 - val_accuracy: 0.7375\n",
      "Epoch 36/100\n",
      "480/480 [==============================] - 1s 3ms/sample - loss: 1.1853 - accuracy: 0.5312 - val_loss: 0.9523 - val_accuracy: 0.6938\n",
      "Epoch 37/100\n",
      "480/480 [==============================] - 1s 3ms/sample - loss: 1.0502 - accuracy: 0.6187 - val_loss: 0.8490 - val_accuracy: 0.7250\n",
      "Epoch 38/100\n",
      "480/480 [==============================] - 1s 3ms/sample - loss: 0.9907 - accuracy: 0.6562 - val_loss: 0.7589 - val_accuracy: 0.7688\n",
      "Epoch 39/100\n",
      "480/480 [==============================] - 1s 3ms/sample - loss: 1.1564 - accuracy: 0.5604 - val_loss: 0.7930 - val_accuracy: 0.8125\n",
      "Epoch 40/100\n",
      "480/480 [==============================] - 1s 3ms/sample - loss: 0.9768 - accuracy: 0.6521 - val_loss: 1.2003 - val_accuracy: 0.5188\n",
      "Epoch 41/100\n",
      "480/480 [==============================] - 2s 3ms/sample - loss: 0.9990 - accuracy: 0.6250 - val_loss: 0.7845 - val_accuracy: 0.7563\n",
      "Epoch 42/100\n",
      "480/480 [==============================] - 2s 4ms/sample - loss: 0.9262 - accuracy: 0.6521 - val_loss: 0.9605 - val_accuracy: 0.6187\n",
      "Epoch 43/100\n",
      "480/480 [==============================] - 2s 3ms/sample - loss: 0.9768 - accuracy: 0.6604 - val_loss: 0.6623 - val_accuracy: 0.8375\n",
      "Epoch 44/100\n",
      "480/480 [==============================] - 2s 5ms/sample - loss: 0.9494 - accuracy: 0.6333 - val_loss: 0.6577 - val_accuracy: 0.8188\n",
      "Epoch 45/100\n",
      "480/480 [==============================] - 2s 4ms/sample - loss: 0.8698 - accuracy: 0.6875 - val_loss: 0.6350 - val_accuracy: 0.8062\n",
      "Epoch 46/100\n",
      "480/480 [==============================] - 2s 4ms/sample - loss: 0.8445 - accuracy: 0.6687 - val_loss: 0.6008 - val_accuracy: 0.8125\n",
      "Epoch 47/100\n",
      "480/480 [==============================] - 2s 4ms/sample - loss: 0.8353 - accuracy: 0.6667 - val_loss: 0.5736 - val_accuracy: 0.8375\n",
      "Epoch 48/100\n",
      "480/480 [==============================] - 2s 4ms/sample - loss: 0.7634 - accuracy: 0.7146 - val_loss: 0.5692 - val_accuracy: 0.8313\n",
      "Epoch 49/100\n",
      "480/480 [==============================] - 2s 4ms/sample - loss: 0.7898 - accuracy: 0.7146 - val_loss: 0.5588 - val_accuracy: 0.8125\n",
      "Epoch 50/100\n",
      "480/480 [==============================] - 2s 4ms/sample - loss: 0.7851 - accuracy: 0.7229 - val_loss: 0.5374 - val_accuracy: 0.8562\n",
      "Epoch 51/100\n",
      "480/480 [==============================] - 2s 4ms/sample - loss: 0.8087 - accuracy: 0.6979 - val_loss: 0.5684 - val_accuracy: 0.8313\n",
      "Epoch 52/100\n",
      "480/480 [==============================] - 2s 3ms/sample - loss: 0.7289 - accuracy: 0.7208 - val_loss: 0.5039 - val_accuracy: 0.8313\n",
      "Epoch 53/100\n",
      "480/480 [==============================] - 2s 4ms/sample - loss: 0.7330 - accuracy: 0.7312 - val_loss: 0.5060 - val_accuracy: 0.8687\n",
      "Epoch 54/100\n",
      "480/480 [==============================] - 2s 5ms/sample - loss: 0.6808 - accuracy: 0.7458 - val_loss: 0.4619 - val_accuracy: 0.8313\n",
      "Epoch 55/100\n",
      "480/480 [==============================] - 2s 4ms/sample - loss: 0.6734 - accuracy: 0.7437 - val_loss: 0.5265 - val_accuracy: 0.8250\n",
      "Epoch 56/100\n",
      "480/480 [==============================] - 2s 4ms/sample - loss: 0.7100 - accuracy: 0.7458 - val_loss: 0.4521 - val_accuracy: 0.8750\n"
     ]
    },
    {
     "name": "stdout",
     "output_type": "stream",
     "text": [
      "Epoch 57/100\n",
      "480/480 [==============================] - 2s 4ms/sample - loss: 0.5930 - accuracy: 0.7875 - val_loss: 0.5017 - val_accuracy: 0.8562\n",
      "Epoch 58/100\n",
      "480/480 [==============================] - 2s 4ms/sample - loss: 0.6695 - accuracy: 0.7542 - val_loss: 1.0109 - val_accuracy: 0.6750\n",
      "Epoch 59/100\n",
      "480/480 [==============================] - 2s 4ms/sample - loss: 0.6226 - accuracy: 0.7917 - val_loss: 0.4252 - val_accuracy: 0.8625\n",
      "Epoch 60/100\n",
      "480/480 [==============================] - 2s 4ms/sample - loss: 0.6335 - accuracy: 0.7729 - val_loss: 0.4650 - val_accuracy: 0.8438\n",
      "Epoch 61/100\n",
      "480/480 [==============================] - 2s 4ms/sample - loss: 0.6084 - accuracy: 0.7750 - val_loss: 0.4296 - val_accuracy: 0.8500\n",
      "Epoch 62/100\n",
      "480/480 [==============================] - 2s 5ms/sample - loss: 0.5683 - accuracy: 0.8000 - val_loss: 0.4670 - val_accuracy: 0.8625\n",
      "Epoch 63/100\n",
      "480/480 [==============================] - 2s 4ms/sample - loss: 0.5348 - accuracy: 0.7979 - val_loss: 0.5307 - val_accuracy: 0.7875\n",
      "Epoch 64/100\n",
      "480/480 [==============================] - 2s 4ms/sample - loss: 0.6927 - accuracy: 0.7500 - val_loss: 0.3891 - val_accuracy: 0.8875\n",
      "Epoch 65/100\n",
      "480/480 [==============================] - 2s 4ms/sample - loss: 0.5108 - accuracy: 0.8354 - val_loss: 0.6223 - val_accuracy: 0.8125\n",
      "Epoch 66/100\n",
      "480/480 [==============================] - 2s 4ms/sample - loss: 0.5195 - accuracy: 0.8208 - val_loss: 0.4055 - val_accuracy: 0.8250\n",
      "Epoch 67/100\n",
      "480/480 [==============================] - 1s 3ms/sample - loss: 0.4741 - accuracy: 0.8042 - val_loss: 0.3421 - val_accuracy: 0.8750\n",
      "Epoch 68/100\n",
      "480/480 [==============================] - 1s 3ms/sample - loss: 0.5393 - accuracy: 0.7896 - val_loss: 0.4341 - val_accuracy: 0.8313\n",
      "Epoch 69/100\n",
      "480/480 [==============================] - 1s 3ms/sample - loss: 0.5408 - accuracy: 0.8250 - val_loss: 1.3897 - val_accuracy: 0.5938\n",
      "Epoch 70/100\n",
      "480/480 [==============================] - 2s 3ms/sample - loss: 0.6028 - accuracy: 0.7937 - val_loss: 0.3073 - val_accuracy: 0.9062\n",
      "Epoch 71/100\n",
      "480/480 [==============================] - 1s 3ms/sample - loss: 0.4285 - accuracy: 0.8375 - val_loss: 0.2759 - val_accuracy: 0.9250\n",
      "Epoch 72/100\n",
      "480/480 [==============================] - 1s 3ms/sample - loss: 0.4214 - accuracy: 0.8521 - val_loss: 0.2891 - val_accuracy: 0.9062\n",
      "Epoch 73/100\n",
      "480/480 [==============================] - 1s 3ms/sample - loss: 0.4224 - accuracy: 0.8583 - val_loss: 0.3973 - val_accuracy: 0.8438\n",
      "Epoch 74/100\n",
      "480/480 [==============================] - 1s 3ms/sample - loss: 0.4285 - accuracy: 0.8521 - val_loss: 0.4612 - val_accuracy: 0.8250\n",
      "Epoch 75/100\n",
      "480/480 [==============================] - 1s 3ms/sample - loss: 0.4119 - accuracy: 0.8500 - val_loss: 0.3401 - val_accuracy: 0.9000\n",
      "Epoch 76/100\n",
      "480/480 [==============================] - 1s 3ms/sample - loss: 0.4170 - accuracy: 0.8438 - val_loss: 0.2620 - val_accuracy: 0.9250\n",
      "Epoch 77/100\n",
      "480/480 [==============================] - 1s 3ms/sample - loss: 0.3584 - accuracy: 0.8708 - val_loss: 0.2753 - val_accuracy: 0.9125\n",
      "Epoch 78/100\n",
      "480/480 [==============================] - 1s 3ms/sample - loss: 0.3635 - accuracy: 0.8833 - val_loss: 0.2634 - val_accuracy: 0.9375\n",
      "Epoch 79/100\n",
      "480/480 [==============================] - 1s 3ms/sample - loss: 0.3553 - accuracy: 0.8792 - val_loss: 0.3028 - val_accuracy: 0.9125\n",
      "Epoch 80/100\n",
      "480/480 [==============================] - 1s 3ms/sample - loss: 0.4229 - accuracy: 0.8458 - val_loss: 0.2712 - val_accuracy: 0.9187\n",
      "Epoch 81/100\n",
      "480/480 [==============================] - 1s 3ms/sample - loss: 0.4115 - accuracy: 0.8375 - val_loss: 0.2503 - val_accuracy: 0.9187\n",
      "Epoch 82/100\n",
      "480/480 [==============================] - 1s 3ms/sample - loss: 0.3555 - accuracy: 0.8854 - val_loss: 0.2605 - val_accuracy: 0.9125\n",
      "Epoch 83/100\n",
      "480/480 [==============================] - 1s 3ms/sample - loss: 0.3463 - accuracy: 0.8771 - val_loss: 0.2141 - val_accuracy: 0.9438\n",
      "Epoch 84/100\n",
      "480/480 [==============================] - 1s 3ms/sample - loss: 0.3317 - accuracy: 0.8708 - val_loss: 0.2170 - val_accuracy: 0.9438\n",
      "Epoch 85/100\n",
      "480/480 [==============================] - 1s 3ms/sample - loss: 0.3227 - accuracy: 0.8854 - val_loss: 0.2202 - val_accuracy: 0.9438\n",
      "Epoch 86/100\n",
      "480/480 [==============================] - 2s 3ms/sample - loss: 0.3033 - accuracy: 0.9104 - val_loss: 0.1999 - val_accuracy: 0.9500\n",
      "Epoch 87/100\n",
      "480/480 [==============================] - 1s 3ms/sample - loss: 0.2823 - accuracy: 0.8979 - val_loss: 0.2181 - val_accuracy: 0.9250\n",
      "Epoch 88/100\n",
      "480/480 [==============================] - 1s 3ms/sample - loss: 0.3041 - accuracy: 0.8875 - val_loss: 0.1793 - val_accuracy: 0.9625\n",
      "Epoch 89/100\n",
      "480/480 [==============================] - 1s 3ms/sample - loss: 0.3330 - accuracy: 0.8687 - val_loss: 0.2104 - val_accuracy: 0.9250\n",
      "Epoch 90/100\n",
      "480/480 [==============================] - 1s 3ms/sample - loss: 0.2788 - accuracy: 0.9042 - val_loss: 0.2307 - val_accuracy: 0.9125\n",
      "Epoch 91/100\n",
      "480/480 [==============================] - 1s 3ms/sample - loss: 0.2602 - accuracy: 0.9146 - val_loss: 0.1847 - val_accuracy: 0.9688\n",
      "Epoch 92/100\n",
      "480/480 [==============================] - 1s 3ms/sample - loss: 0.2775 - accuracy: 0.8958 - val_loss: 0.1953 - val_accuracy: 0.9375\n",
      "Epoch 93/100\n",
      "480/480 [==============================] - 1s 3ms/sample - loss: 0.2812 - accuracy: 0.9021 - val_loss: 0.1794 - val_accuracy: 0.9312\n",
      "Epoch 94/100\n",
      "480/480 [==============================] - 1s 3ms/sample - loss: 0.2570 - accuracy: 0.9104 - val_loss: 0.2150 - val_accuracy: 0.9500\n",
      "Epoch 95/100\n",
      "480/480 [==============================] - 1s 3ms/sample - loss: 0.2660 - accuracy: 0.8938 - val_loss: 0.2102 - val_accuracy: 0.9312\n",
      "Epoch 96/100\n",
      "480/480 [==============================] - 1s 3ms/sample - loss: 0.2776 - accuracy: 0.8938 - val_loss: 0.2011 - val_accuracy: 0.9563\n",
      "Epoch 97/100\n",
      "480/480 [==============================] - 1s 3ms/sample - loss: 0.2209 - accuracy: 0.9396 - val_loss: 0.1951 - val_accuracy: 0.9312\n",
      "Epoch 98/100\n",
      "480/480 [==============================] - 1s 3ms/sample - loss: 0.3201 - accuracy: 0.9000 - val_loss: 0.1995 - val_accuracy: 0.9312\n",
      "CPU times: user 3min 7s, sys: 1min 29s, total: 4min 36s\n",
      "Wall time: 2min 31s\n"
     ]
    },
    {
     "data": {
      "text/plain": [
       "<tensorflow.python.keras.callbacks.History at 0x7f80a3048450>"
      ]
     },
     "execution_count": 108,
     "metadata": {},
     "output_type": "execute_result"
    }
   ],
   "source": [
    "%%time\n",
    "model.fit(X_train_speakers_spects_nn, y_train_speakers_nn,\n",
    "          batch_size=N_BATCH,\n",
    "          epochs=EPOCHS,\n",
    "          verbose=1,\n",
    "          callbacks=[callback],\n",
    "          validation_data=(X_val_speakers_spects_nn, y_val_speakers_nn))"
   ]
  },
  {
   "cell_type": "code",
   "execution_count": 109,
   "metadata": {},
   "outputs": [
    {
     "name": "stdout",
     "output_type": "stream",
     "text": [
      "              precision    recall  f1-score   support\n",
      "\n",
      "         ale       1.00      1.00      1.00        20\n",
      "      alinda       1.00      0.95      0.98        21\n",
      "        gian       1.00      1.00      1.00        20\n",
      "     jackson       1.00      0.91      0.95        22\n",
      "      khaled       1.00      0.95      0.98        21\n",
      "     nicolas       0.85      1.00      0.92        17\n",
      "        theo       1.00      0.91      0.95        22\n",
      "    yweweler       0.85      1.00      0.92        17\n",
      "\n",
      "    accuracy                           0.96       160\n",
      "   macro avg       0.96      0.97      0.96       160\n",
      "weighted avg       0.97      0.96      0.96       160\n",
      "\n"
     ]
    }
   ],
   "source": [
    "y_nn = np.argmax(y_val_speakers_nn, axis=1)\n",
    "y_pred = model.predict_classes(X_val_speakers_spects_nn)\n",
    "print(classification_report(y_pred, y_nn, target_names=target_names))"
   ]
  },
  {
   "cell_type": "markdown",
   "metadata": {},
   "source": [
    "Let's try with the Batch Normalization"
   ]
  },
  {
   "cell_type": "code",
   "execution_count": 110,
   "metadata": {},
   "outputs": [
    {
     "name": "stdout",
     "output_type": "stream",
     "text": [
      "Model: \"sequential_12\"\n",
      "_________________________________________________________________\n",
      "Layer (type)                 Output Shape              Param #   \n",
      "=================================================================\n",
      "conv2d_15 (Conv2D)           (None, 63, 27, 32)        544       \n",
      "_________________________________________________________________\n",
      "batch_normalization_14 (Batc (None, 63, 27, 32)        128       \n",
      "_________________________________________________________________\n",
      "max_pooling2d_13 (MaxPooling (None, 30, 12, 32)        0         \n",
      "_________________________________________________________________\n",
      "conv2d_16 (Conv2D)           (None, 14, 5, 64)         32832     \n",
      "_________________________________________________________________\n",
      "batch_normalization_15 (Batc (None, 14, 5, 64)         256       \n",
      "_________________________________________________________________\n",
      "max_pooling2d_14 (MaxPooling (None, 6, 1, 64)          0         \n",
      "_________________________________________________________________\n",
      "flatten_10 (Flatten)         (None, 384)               0         \n",
      "_________________________________________________________________\n",
      "dense_21 (Dense)             (None, 80)                30800     \n",
      "_________________________________________________________________\n",
      "batch_normalization_16 (Batc (None, 80)                320       \n",
      "_________________________________________________________________\n",
      "dropout_10 (Dropout)         (None, 80)                0         \n",
      "_________________________________________________________________\n",
      "dense_22 (Dense)             (None, 40)                3240      \n",
      "_________________________________________________________________\n",
      "batch_normalization_17 (Batc (None, 40)                160       \n",
      "_________________________________________________________________\n",
      "dense_23 (Dense)             (None, 8)                 328       \n",
      "=================================================================\n",
      "Total params: 68,608\n",
      "Trainable params: 68,176\n",
      "Non-trainable params: 432\n",
      "_________________________________________________________________\n",
      "None\n"
     ]
    }
   ],
   "source": [
    "model = cnn_models.paper_architecture(8, input_shape=input_shape, batch_normalisation=True)"
   ]
  },
  {
   "cell_type": "code",
   "execution_count": 111,
   "metadata": {},
   "outputs": [
    {
     "name": "stdout",
     "output_type": "stream",
     "text": [
      "Train on 480 samples, validate on 160 samples\n",
      "Epoch 1/100\n",
      "480/480 [==============================] - 5s 10ms/sample - loss: 2.2696 - accuracy: 0.2208 - val_loss: 2.0117 - val_accuracy: 0.1375\n",
      "Epoch 2/100\n",
      "480/480 [==============================] - 1s 3ms/sample - loss: 1.8373 - accuracy: 0.3562 - val_loss: 1.9834 - val_accuracy: 0.2750\n",
      "Epoch 3/100\n",
      "480/480 [==============================] - 1s 3ms/sample - loss: 1.5934 - accuracy: 0.4313 - val_loss: 1.9903 - val_accuracy: 0.2562\n",
      "Epoch 4/100\n",
      "480/480 [==============================] - 1s 3ms/sample - loss: 1.4045 - accuracy: 0.4812 - val_loss: 2.1136 - val_accuracy: 0.1437\n",
      "Epoch 5/100\n",
      "480/480 [==============================] - 1s 3ms/sample - loss: 1.2342 - accuracy: 0.5521 - val_loss: 2.0679 - val_accuracy: 0.1688\n",
      "Epoch 6/100\n",
      "480/480 [==============================] - 1s 3ms/sample - loss: 1.0244 - accuracy: 0.6958 - val_loss: 2.1188 - val_accuracy: 0.1437\n",
      "Epoch 7/100\n",
      "480/480 [==============================] - 1s 3ms/sample - loss: 0.9932 - accuracy: 0.6917 - val_loss: 2.1358 - val_accuracy: 0.1437\n",
      "Epoch 8/100\n",
      "480/480 [==============================] - 1s 3ms/sample - loss: 0.9020 - accuracy: 0.7250 - val_loss: 2.1982 - val_accuracy: 0.1437\n",
      "Epoch 9/100\n",
      "480/480 [==============================] - 1s 3ms/sample - loss: 0.7526 - accuracy: 0.7917 - val_loss: 2.2969 - val_accuracy: 0.1312\n",
      "Epoch 10/100\n",
      "480/480 [==============================] - 1s 3ms/sample - loss: 0.7425 - accuracy: 0.8000 - val_loss: 2.2651 - val_accuracy: 0.1500\n",
      "Epoch 11/100\n",
      "480/480 [==============================] - 1s 3ms/sample - loss: 0.6572 - accuracy: 0.8000 - val_loss: 2.1781 - val_accuracy: 0.1500\n",
      "Epoch 12/100\n",
      "480/480 [==============================] - 1s 3ms/sample - loss: 0.6547 - accuracy: 0.7917 - val_loss: 2.2560 - val_accuracy: 0.1500\n",
      "CPU times: user 28.4 s, sys: 16.9 s, total: 45.3 s\n",
      "Wall time: 20.4 s\n"
     ]
    },
    {
     "data": {
      "text/plain": [
       "<tensorflow.python.keras.callbacks.History at 0x7f80afdf06d0>"
      ]
     },
     "execution_count": 111,
     "metadata": {},
     "output_type": "execute_result"
    }
   ],
   "source": [
    "%%time\n",
    "model.fit(X_train_speakers_spects_nn, y_train_speakers_nn,\n",
    "          batch_size=N_BATCH,\n",
    "          epochs=EPOCHS,\n",
    "          verbose=1,\n",
    "          callbacks=[callback],\n",
    "          validation_data=(X_val_speakers_spects_nn, y_val_speakers_nn))"
   ]
  },
  {
   "cell_type": "code",
   "execution_count": 112,
   "metadata": {},
   "outputs": [
    {
     "name": "stdout",
     "output_type": "stream",
     "text": [
      "              precision    recall  f1-score   support\n",
      "\n",
      "         ale       0.20      0.67      0.31         6\n",
      "      alinda       0.00      0.00      0.00         0\n",
      "        gian       0.35      0.15      0.21        48\n",
      "     jackson       0.55      0.48      0.51        23\n",
      "      khaled       0.25      0.26      0.26        19\n",
      "     nicolas       0.75      0.26      0.39        57\n",
      "        theo       0.10      1.00      0.18         2\n",
      "    yweweler       0.00      0.00      0.00         5\n",
      "\n",
      "    accuracy                           0.28       160\n",
      "   macro avg       0.28      0.35      0.23       160\n",
      "weighted avg       0.49      0.28      0.32       160\n",
      "\n"
     ]
    },
    {
     "name": "stderr",
     "output_type": "stream",
     "text": [
      "/Users/kappa/opt/miniconda3/envs/dsim/lib/python3.7/site-packages/sklearn/metrics/_classification.py:1272: UndefinedMetricWarning: Recall and F-score are ill-defined and being set to 0.0 in labels with no true samples. Use `zero_division` parameter to control this behavior.\n",
      "  _warn_prf(average, modifier, msg_start, len(result))\n"
     ]
    }
   ],
   "source": [
    "y_nn = np.argmax(y_val_speakers_nn, axis=1)\n",
    "y_pred = model.predict_classes(X_val_speakers_spects_nn)\n",
    "print(classification_report(y_pred, y_nn, target_names=target_names))"
   ]
  },
  {
   "cell_type": "markdown",
   "metadata": {},
   "source": [
    "### CNN - Simple model"
   ]
  },
  {
   "cell_type": "code",
   "execution_count": 113,
   "metadata": {},
   "outputs": [
    {
     "name": "stdout",
     "output_type": "stream",
     "text": [
      "CPU times: user 18.5 s, sys: 324 ms, total: 18.8 s\n",
      "Wall time: 9.87 s\n"
     ]
    }
   ],
   "source": [
    "%%time\n",
    "X_train_speakers_spects = np.array([data_preparation.compute_spectrogram(x, normalize=True, paper_data=True) for x in X_train_speakers])\n",
    "X_val_speakers_spects = np.array([data_preparation.compute_spectrogram(x, normalize=True, paper_data=True) for x in X_val_speakers])\n",
    "X_test_speakers_spects = np.array([data_preparation.compute_spectrogram(x, normalize=True, paper_data=True) for x in X_test_speakers])"
   ]
  },
  {
   "cell_type": "code",
   "execution_count": 114,
   "metadata": {},
   "outputs": [
    {
     "name": "stdout",
     "output_type": "stream",
     "text": [
      "Model: \"sequential_13\"\n",
      "_________________________________________________________________\n",
      "Layer (type)                 Output Shape              Param #   \n",
      "=================================================================\n",
      "conv2d_17 (Conv2D)           (None, 127, 56, 32)       160       \n",
      "_________________________________________________________________\n",
      "batch_normalization_18 (Batc (None, 127, 56, 32)       128       \n",
      "_________________________________________________________________\n",
      "max_pooling2d_15 (MaxPooling (None, 63, 28, 32)        0         \n",
      "_________________________________________________________________\n",
      "flatten_11 (Flatten)         (None, 56448)             0         \n",
      "_________________________________________________________________\n",
      "dense_24 (Dense)             (None, 64)                3612736   \n",
      "_________________________________________________________________\n",
      "batch_normalization_19 (Batc (None, 64)                256       \n",
      "_________________________________________________________________\n",
      "dropout_11 (Dropout)         (None, 64)                0         \n",
      "_________________________________________________________________\n",
      "dense_25 (Dense)             (None, 8)                 520       \n",
      "=================================================================\n",
      "Total params: 3,613,800\n",
      "Trainable params: 3,613,608\n",
      "Non-trainable params: 192\n",
      "_________________________________________________________________\n",
      "None\n"
     ]
    }
   ],
   "source": [
    "model = cnn_models.simple_model(num_classes=8, input_shape=input_shape, batch_normalisation=True)"
   ]
  },
  {
   "cell_type": "code",
   "execution_count": 115,
   "metadata": {},
   "outputs": [
    {
     "name": "stdout",
     "output_type": "stream",
     "text": [
      "Train on 480 samples, validate on 160 samples\n",
      "Epoch 1/100\n",
      "480/480 [==============================] - 5s 10ms/sample - loss: 0.9840 - accuracy: 0.6833 - val_loss: 1.5258 - val_accuracy: 0.5562\n",
      "Epoch 2/100\n",
      "480/480 [==============================] - 3s 6ms/sample - loss: 0.3371 - accuracy: 0.9250 - val_loss: 1.5544 - val_accuracy: 0.5250\n",
      "Epoch 3/100\n",
      "480/480 [==============================] - 3s 6ms/sample - loss: 0.2070 - accuracy: 0.9604 - val_loss: 1.6564 - val_accuracy: 0.4938\n",
      "Epoch 4/100\n",
      "480/480 [==============================] - 3s 6ms/sample - loss: 0.1224 - accuracy: 0.9854 - val_loss: 1.7890 - val_accuracy: 0.4812\n",
      "Epoch 5/100\n",
      "480/480 [==============================] - 3s 6ms/sample - loss: 0.0905 - accuracy: 0.9979 - val_loss: 1.7965 - val_accuracy: 0.4500\n",
      "Epoch 6/100\n",
      "480/480 [==============================] - 3s 6ms/sample - loss: 0.0871 - accuracy: 0.9854 - val_loss: 1.8569 - val_accuracy: 0.4437\n",
      "Epoch 7/100\n",
      "480/480 [==============================] - 3s 6ms/sample - loss: 0.0546 - accuracy: 1.0000 - val_loss: 1.8503 - val_accuracy: 0.4375\n",
      "Epoch 8/100\n",
      "480/480 [==============================] - 3s 6ms/sample - loss: 0.0463 - accuracy: 1.0000 - val_loss: 1.8297 - val_accuracy: 0.4187\n",
      "Epoch 9/100\n",
      "480/480 [==============================] - 3s 6ms/sample - loss: 0.0470 - accuracy: 0.9979 - val_loss: 1.8310 - val_accuracy: 0.3875\n",
      "Epoch 10/100\n",
      "480/480 [==============================] - 3s 6ms/sample - loss: 0.0412 - accuracy: 1.0000 - val_loss: 1.7744 - val_accuracy: 0.4000\n",
      "Epoch 11/100\n",
      "480/480 [==============================] - 3s 6ms/sample - loss: 0.0360 - accuracy: 0.9979 - val_loss: 1.7461 - val_accuracy: 0.4125\n",
      "CPU times: user 1min 12s, sys: 14.9 s, total: 1min 27s\n",
      "Wall time: 34.4 s\n"
     ]
    },
    {
     "data": {
      "text/plain": [
       "<tensorflow.python.keras.callbacks.History at 0x7f80a0b70290>"
      ]
     },
     "execution_count": 115,
     "metadata": {},
     "output_type": "execute_result"
    }
   ],
   "source": [
    "%%time\n",
    "model.fit(X_train_speakers_spects_nn, y_train_speakers_nn,\n",
    "          batch_size=N_BATCH,\n",
    "          epochs=EPOCHS,\n",
    "          verbose=1,\n",
    "          callbacks=[callback],\n",
    "          validation_data=(X_val_speakers_spects_nn, y_val_speakers_nn))"
   ]
  },
  {
   "cell_type": "code",
   "execution_count": 116,
   "metadata": {},
   "outputs": [
    {
     "name": "stdout",
     "output_type": "stream",
     "text": [
      "              precision    recall  f1-score   support\n",
      "\n",
      "         ale       0.95      0.95      0.95        20\n",
      "      alinda       0.95      1.00      0.97        19\n",
      "        gian       0.55      0.92      0.69        12\n",
      "     jackson       0.55      1.00      0.71        11\n",
      "      khaled       1.00      0.22      0.37        89\n",
      "     nicolas       0.00      0.00      0.00         0\n",
      "        theo       0.45      1.00      0.62         9\n",
      "    yweweler       0.00      0.00      0.00         0\n",
      "\n",
      "    accuracy                           0.56       160\n",
      "   macro avg       0.56      0.64      0.54       160\n",
      "weighted avg       0.89      0.56      0.57       160\n",
      "\n"
     ]
    },
    {
     "name": "stderr",
     "output_type": "stream",
     "text": [
      "/Users/kappa/opt/miniconda3/envs/dsim/lib/python3.7/site-packages/sklearn/metrics/_classification.py:1272: UndefinedMetricWarning: Recall and F-score are ill-defined and being set to 0.0 in labels with no true samples. Use `zero_division` parameter to control this behavior.\n",
      "  _warn_prf(average, modifier, msg_start, len(result))\n"
     ]
    }
   ],
   "source": [
    "y_nn = np.argmax(y_val_speakers_nn, axis=1)\n",
    "y_pred = model.predict_classes(X_val_speakers_spects_nn)\n",
    "print(classification_report(y_pred, y_nn, target_names=target_names))"
   ]
  },
  {
   "cell_type": "markdown",
   "metadata": {},
   "source": [
    "## Augmentation - MFCC"
   ]
  },
  {
   "cell_type": "code",
   "execution_count": 122,
   "metadata": {},
   "outputs": [
    {
     "data": {
      "text/plain": [
       "<module 'data_preparation' from '/Users/kappa/repositories/dsim_project/Audio/data_preparation.py'>"
      ]
     },
     "execution_count": 122,
     "metadata": {},
     "output_type": "execute_result"
    }
   ],
   "source": [
    "reload(data_preparation)"
   ]
  },
  {
   "cell_type": "code",
   "execution_count": 123,
   "metadata": {},
   "outputs": [
    {
     "name": "stdout",
     "output_type": "stream",
     "text": [
      "split_and_augment_dataset >>>\n",
      "enrich_dataset>>>\n",
      "Max length: 9015, shape:(17567,)\n",
      "Max length: 9015, shape:(18262,)\n",
      "enrich_dataset <<<\n",
      "9014 9014 2254 2254 120 120\n",
      "split_and_augment_dataset <<<\n",
      "split_and_augment_dataset >>>\n",
      "enrich_dataset>>>\n",
      "enrich_dataset <<<\n",
      "2464 2464 616 616 120 120\n",
      "split_and_augment_dataset <<<\n",
      "transform_recordings >>>\n",
      "transform_recordings <<<\n",
      "CPU times: user 2min 22s, sys: 4.7 s, total: 2min 27s\n",
      "Wall time: 1min 25s\n"
     ]
    }
   ],
   "source": [
    "%%time\n",
    "X, y= data_preparation.prepare_augmented_recordings(audio_dirs= [fsdd_dir, our_recs_dir],\n",
    "                                                    y_type= ['speakers_default', 'speakers_us'],\n",
    "                                                    n_category_test=30,\n",
    "                                                    include_pitch=False,\n",
    "                                                    max_length=max_track_length,\n",
    "                                                    recordings_source=[False, True],\n",
    "                                                    transform_function=\"mfcc\")\n",
    "\n",
    "X_train_speaker = X[0]\n",
    "y_train_speaker = y[0]\n",
    "X_val_speaker = X[1]\n",
    "y_val_speaker = y[1]\n",
    "X_test_speaker = X[2]\n",
    "y_test_speaker  = y[2]"
   ]
  },
  {
   "cell_type": "code",
   "execution_count": 124,
   "metadata": {},
   "outputs": [
    {
     "name": "stdout",
     "output_type": "stream",
     "text": [
      "577 193\n",
      "ale\n",
      "alinda\n",
      "gian\n",
      "jackson\n",
      "khaled\n",
      "nicolas\n",
      "theo\n",
      "yweweler\n",
      "CPU times: user 29.1 ms, sys: 14.2 ms, total: 43.3 ms\n",
      "Wall time: 45.9 ms\n"
     ]
    }
   ],
   "source": [
    "%%time\n",
    "X, y = data_preparation.balanced_train_val_split(np.concatenate([X_train_speaker, X_val_speaker]),\n",
    "                         np.concatenate([y_train_speaker, y_val_speaker]))\n",
    "\n",
    "X_train_speaker = X[0]\n",
    "y_train_speaker = y[0]\n",
    "X_val_speaker = X[1]\n",
    "y_val_speaker = y[1]"
   ]
  },
  {
   "cell_type": "code",
   "execution_count": 125,
   "metadata": {},
   "outputs": [
    {
     "data": {
      "text/plain": [
       "(4616, 20, 18)"
      ]
     },
     "execution_count": 125,
     "metadata": {},
     "output_type": "execute_result"
    }
   ],
   "source": [
    "X_train_speaker.shape"
   ]
  },
  {
   "cell_type": "code",
   "execution_count": 126,
   "metadata": {},
   "outputs": [],
   "source": [
    "scaler_normal = StandardScaler()\n",
    "nsamples, nx, ny = X_train_speaker.shape\n",
    "X_train_speaker_scaled = scaler_normal.fit_transform(X_train_speaker.reshape((nsamples, nx * ny)))\n",
    "nsamples, nx, ny = X_val_speaker.shape\n",
    "X_val_speaker_scaled =  scaler_normal.transform(X_val_speaker.reshape((nsamples, nx * ny)))\n",
    "nsamples, nx, ny = X_test_speaker.shape\n",
    "X_test_speaker_scaled =  scaler_normal.transform(X_test_speaker.reshape((nsamples, nx * ny)))"
   ]
  },
  {
   "cell_type": "code",
   "execution_count": 127,
   "metadata": {},
   "outputs": [
    {
     "name": "stdout",
     "output_type": "stream",
     "text": [
      "CPU times: user 4.38 s, sys: 31.4 ms, total: 4.41 s\n",
      "Wall time: 4.49 s\n"
     ]
    },
    {
     "data": {
      "text/plain": [
       "SVC(C=1.0, break_ties=False, cache_size=200, class_weight='balanced', coef0=0.0,\n",
       "    decision_function_shape='ovr', degree=3, gamma='scale', kernel='rbf',\n",
       "    max_iter=-1, probability=False, random_state=None, shrinking=True,\n",
       "    tol=0.001, verbose=False)"
      ]
     },
     "execution_count": 127,
     "metadata": {},
     "output_type": "execute_result"
    }
   ],
   "source": [
    "%%time\n",
    "clf_speaker_normal = SVC(kernel='rbf', class_weight='balanced', gamma=\"scale\")\n",
    "clf_speaker_normal.fit(X_train_speaker_scaled, y_train_speaker)"
   ]
  },
  {
   "cell_type": "code",
   "execution_count": 128,
   "metadata": {},
   "outputs": [
    {
     "name": "stdout",
     "output_type": "stream",
     "text": [
      "              precision    recall  f1-score   support\n",
      "\n",
      "         ale       0.95      0.98      0.97       186\n",
      "      alinda       0.92      0.98      0.95       182\n",
      "        gian       0.98      0.94      0.96       202\n",
      "     jackson       0.94      0.98      0.96       184\n",
      "      khaled       0.98      0.84      0.90       225\n",
      "     nicolas       0.96      0.97      0.97       191\n",
      "        theo       0.87      0.87      0.87       193\n",
      "    yweweler       0.86      0.92      0.89       181\n",
      "\n",
      "    accuracy                           0.93      1544\n",
      "   macro avg       0.93      0.94      0.93      1544\n",
      "weighted avg       0.93      0.93      0.93      1544\n",
      "\n"
     ]
    }
   ],
   "source": [
    "y_pred = clf_speaker_normal.predict(X_val_speaker_scaled)\n",
    "print(classification_report(y_pred, y_val_speaker))"
   ]
  },
  {
   "cell_type": "markdown",
   "metadata": {},
   "source": [
    "### CNN - Simple model"
   ]
  },
  {
   "cell_type": "code",
   "execution_count": 134,
   "metadata": {},
   "outputs": [],
   "source": [
    "X, y, input_shape,  target_names= data_preparation.prepare_data_nn(X_train_speaker, X_val_speaker, X_test_speaker, y_train_speaker, y_val_speaker, y_test_speaker, number_mode=False)\n",
    "\n",
    "X_train_speaker_nn = X[0]\n",
    "y_train_speaker_nn = y[0]\n",
    "X_val_speaker_nn = X[1]\n",
    "y_val_speaker_nn = y[1]\n",
    "X_test_speaker_nn = X[2]\n",
    "y_test_speaker_nn = y[2]"
   ]
  },
  {
   "cell_type": "code",
   "execution_count": 135,
   "metadata": {},
   "outputs": [
    {
     "data": {
      "text/plain": [
       "(20, 18, 1)"
      ]
     },
     "execution_count": 135,
     "metadata": {},
     "output_type": "execute_result"
    }
   ],
   "source": [
    "input_shape"
   ]
  },
  {
   "cell_type": "code",
   "execution_count": 136,
   "metadata": {},
   "outputs": [
    {
     "name": "stdout",
     "output_type": "stream",
     "text": [
      "Model: \"sequential_15\"\n",
      "_________________________________________________________________\n",
      "Layer (type)                 Output Shape              Param #   \n",
      "=================================================================\n",
      "conv2d_19 (Conv2D)           (None, 19, 17, 32)        160       \n",
      "_________________________________________________________________\n",
      "batch_normalization_22 (Batc (None, 19, 17, 32)        128       \n",
      "_________________________________________________________________\n",
      "max_pooling2d_17 (MaxPooling (None, 9, 8, 32)          0         \n",
      "_________________________________________________________________\n",
      "flatten_13 (Flatten)         (None, 2304)              0         \n",
      "_________________________________________________________________\n",
      "dense_28 (Dense)             (None, 64)                147520    \n",
      "_________________________________________________________________\n",
      "batch_normalization_23 (Batc (None, 64)                256       \n",
      "_________________________________________________________________\n",
      "dropout_13 (Dropout)         (None, 64)                0         \n",
      "_________________________________________________________________\n",
      "dense_29 (Dense)             (None, 8)                 520       \n",
      "=================================================================\n",
      "Total params: 148,584\n",
      "Trainable params: 148,392\n",
      "Non-trainable params: 192\n",
      "_________________________________________________________________\n",
      "None\n"
     ]
    }
   ],
   "source": [
    "model = cnn_models.simple_model(num_classes=8, input_shape=input_shape, batch_normalisation=True)"
   ]
  },
  {
   "cell_type": "code",
   "execution_count": 137,
   "metadata": {},
   "outputs": [
    {
     "name": "stdout",
     "output_type": "stream",
     "text": [
      "Train on 4616 samples, validate on 1544 samples\n",
      "Epoch 1/100\n",
      "4616/4616 [==============================] - 7s 1ms/sample - loss: 1.0513 - accuracy: 0.6438 - val_loss: 1.3305 - val_accuracy: 0.5933\n",
      "Epoch 2/100\n",
      "4616/4616 [==============================] - 4s 772us/sample - loss: 0.5905 - accuracy: 0.8122 - val_loss: 0.5647 - val_accuracy: 0.7876\n",
      "Epoch 3/100\n",
      "4616/4616 [==============================] - 4s 889us/sample - loss: 0.4508 - accuracy: 0.8674 - val_loss: 0.5145 - val_accuracy: 0.8187\n",
      "Epoch 4/100\n",
      "4616/4616 [==============================] - 4s 800us/sample - loss: 0.3951 - accuracy: 0.8752 - val_loss: 0.3632 - val_accuracy: 0.8841\n",
      "Epoch 5/100\n",
      "4616/4616 [==============================] - 3s 747us/sample - loss: 0.3530 - accuracy: 0.8943 - val_loss: 0.5922 - val_accuracy: 0.7843\n",
      "Epoch 6/100\n",
      "4616/4616 [==============================] - 4s 815us/sample - loss: 0.3404 - accuracy: 0.8999 - val_loss: 0.3622 - val_accuracy: 0.8724\n",
      "Epoch 7/100\n",
      "4616/4616 [==============================] - 4s 831us/sample - loss: 0.3125 - accuracy: 0.9097 - val_loss: 0.3791 - val_accuracy: 0.8601\n",
      "Epoch 8/100\n",
      "4616/4616 [==============================] - 4s 762us/sample - loss: 0.2759 - accuracy: 0.9201 - val_loss: 0.2698 - val_accuracy: 0.9190\n",
      "Epoch 9/100\n",
      "4616/4616 [==============================] - 4s 793us/sample - loss: 0.2770 - accuracy: 0.9227 - val_loss: 0.2959 - val_accuracy: 0.8990\n",
      "Epoch 10/100\n",
      "4616/4616 [==============================] - 3s 671us/sample - loss: 0.2605 - accuracy: 0.9235 - val_loss: 0.2853 - val_accuracy: 0.9061\n",
      "Epoch 11/100\n",
      "4616/4616 [==============================] - 3s 719us/sample - loss: 0.2306 - accuracy: 0.9339 - val_loss: 0.2321 - val_accuracy: 0.9333\n",
      "Epoch 12/100\n",
      "4616/4616 [==============================] - 3s 724us/sample - loss: 0.2366 - accuracy: 0.9279 - val_loss: 0.2542 - val_accuracy: 0.9165\n",
      "Epoch 13/100\n",
      "4616/4616 [==============================] - 3s 686us/sample - loss: 0.2185 - accuracy: 0.9335 - val_loss: 0.2782 - val_accuracy: 0.9093\n",
      "Epoch 14/100\n",
      "4616/4616 [==============================] - 3s 694us/sample - loss: 0.2101 - accuracy: 0.9372 - val_loss: 0.2286 - val_accuracy: 0.9268\n",
      "Epoch 15/100\n",
      "4616/4616 [==============================] - 3s 683us/sample - loss: 0.1918 - accuracy: 0.9428 - val_loss: 0.2287 - val_accuracy: 0.9262\n",
      "Epoch 16/100\n",
      "4616/4616 [==============================] - 3s 713us/sample - loss: 0.1868 - accuracy: 0.9448 - val_loss: 0.2225 - val_accuracy: 0.9210\n",
      "Epoch 17/100\n",
      "4616/4616 [==============================] - 3s 730us/sample - loss: 0.1842 - accuracy: 0.9430 - val_loss: 0.1997 - val_accuracy: 0.9294\n",
      "Epoch 18/100\n",
      "4616/4616 [==============================] - 3s 751us/sample - loss: 0.1724 - accuracy: 0.9484 - val_loss: 0.1672 - val_accuracy: 0.9508\n",
      "Epoch 19/100\n",
      "4616/4616 [==============================] - 4s 841us/sample - loss: 0.1644 - accuracy: 0.9534 - val_loss: 0.2130 - val_accuracy: 0.9262\n",
      "Epoch 20/100\n",
      "4616/4616 [==============================] - 4s 776us/sample - loss: 0.1771 - accuracy: 0.9482 - val_loss: 0.2084 - val_accuracy: 0.9275\n",
      "Epoch 21/100\n",
      "4616/4616 [==============================] - 3s 682us/sample - loss: 0.1696 - accuracy: 0.9448 - val_loss: 0.1978 - val_accuracy: 0.9313\n",
      "Epoch 22/100\n",
      "4616/4616 [==============================] - 3s 669us/sample - loss: 0.1535 - accuracy: 0.9539 - val_loss: 0.2690 - val_accuracy: 0.9041\n",
      "Epoch 23/100\n",
      "4616/4616 [==============================] - 3s 665us/sample - loss: 0.1500 - accuracy: 0.9528 - val_loss: 0.2707 - val_accuracy: 0.9054\n",
      "Epoch 24/100\n",
      "4616/4616 [==============================] - 3s 685us/sample - loss: 0.1449 - accuracy: 0.9513 - val_loss: 0.1843 - val_accuracy: 0.9411\n",
      "Epoch 25/100\n",
      "4616/4616 [==============================] - 3s 698us/sample - loss: 0.1571 - accuracy: 0.9558 - val_loss: 0.2585 - val_accuracy: 0.9035\n",
      "Epoch 26/100\n",
      "4616/4616 [==============================] - 6s 1ms/sample - loss: 0.1418 - accuracy: 0.9593 - val_loss: 0.1753 - val_accuracy: 0.9404\n",
      "Epoch 27/100\n",
      "4616/4616 [==============================] - 12s 3ms/sample - loss: 0.1400 - accuracy: 0.9597 - val_loss: 0.1611 - val_accuracy: 0.9482\n",
      "Epoch 28/100\n",
      "4616/4616 [==============================] - 7s 2ms/sample - loss: 0.1436 - accuracy: 0.9582 - val_loss: 0.6525 - val_accuracy: 0.7830\n",
      "Epoch 29/100\n",
      "4616/4616 [==============================] - 5s 1ms/sample - loss: 0.1442 - accuracy: 0.9558 - val_loss: 0.2439 - val_accuracy: 0.9100\n",
      "Epoch 30/100\n",
      "4616/4616 [==============================] - 6s 1ms/sample - loss: 0.1359 - accuracy: 0.9595 - val_loss: 0.1957 - val_accuracy: 0.9333\n",
      "Epoch 31/100\n",
      "4616/4616 [==============================] - 9s 2ms/sample - loss: 0.1420 - accuracy: 0.9597 - val_loss: 0.1866 - val_accuracy: 0.9281\n",
      "Epoch 32/100\n",
      "4616/4616 [==============================] - 7s 2ms/sample - loss: 0.1309 - accuracy: 0.9588 - val_loss: 0.2090 - val_accuracy: 0.9210\n",
      "Epoch 33/100\n",
      "4616/4616 [==============================] - 13s 3ms/sample - loss: 0.1343 - accuracy: 0.9558 - val_loss: 0.5710 - val_accuracy: 0.8219\n",
      "Epoch 34/100\n",
      "4616/4616 [==============================] - 9s 2ms/sample - loss: 0.1375 - accuracy: 0.9560 - val_loss: 0.5352 - val_accuracy: 0.8199\n",
      "Epoch 35/100\n",
      "4616/4616 [==============================] - 4s 939us/sample - loss: 0.1235 - accuracy: 0.9606 - val_loss: 0.1672 - val_accuracy: 0.9469\n",
      "Epoch 36/100\n",
      "4616/4616 [==============================] - 7s 1ms/sample - loss: 0.1299 - accuracy: 0.9591 - val_loss: 0.2369 - val_accuracy: 0.9028\n",
      "Epoch 37/100\n",
      "4616/4616 [==============================] - 5s 997us/sample - loss: 0.1148 - accuracy: 0.9632 - val_loss: 0.2931 - val_accuracy: 0.9003\n",
      "CPU times: user 2min 57s, sys: 1min 6s, total: 4min 3s\n",
      "Wall time: 2min 59s\n"
     ]
    },
    {
     "data": {
      "text/plain": [
       "<tensorflow.python.keras.callbacks.History at 0x7f80bf3a74d0>"
      ]
     },
     "execution_count": 137,
     "metadata": {},
     "output_type": "execute_result"
    }
   ],
   "source": [
    "%%time\n",
    "model.fit(X_train_speaker_nn, y_train_speaker_nn,\n",
    "          batch_size=N_BATCH,\n",
    "          epochs=EPOCHS,\n",
    "          verbose=1,\n",
    "          callbacks=[callback],\n",
    "          validation_data=(X_val_speaker_nn, y_val_speaker_nn))"
   ]
  },
  {
   "cell_type": "code",
   "execution_count": 138,
   "metadata": {},
   "outputs": [
    {
     "name": "stdout",
     "output_type": "stream",
     "text": [
      "              precision    recall  f1-score   support\n",
      "\n",
      "         ale       0.95      0.99      0.97       193\n",
      "      alinda       0.96      0.95      0.96       193\n",
      "        gian       0.96      0.93      0.94       193\n",
      "     jackson       0.98      0.99      0.99       193\n",
      "      khaled       0.97      0.99      0.98       193\n",
      "     nicolas       0.97      0.98      0.97       193\n",
      "        theo       0.89      0.87      0.88       193\n",
      "    yweweler       0.90      0.89      0.89       193\n",
      "\n",
      "    accuracy                           0.95      1544\n",
      "   macro avg       0.95      0.95      0.95      1544\n",
      "weighted avg       0.95      0.95      0.95      1544\n",
      "\n"
     ]
    }
   ],
   "source": [
    "y_nn = np.argmax(y_val_speaker_nn, axis=1)\n",
    "y_pred = model.predict_classes(X_val_speaker_nn)\n",
    "print(classification_report(y_nn, y_pred, target_names=target_names))"
   ]
  },
  {
   "cell_type": "markdown",
   "metadata": {},
   "source": [
    "## Augmentation - Spects"
   ]
  },
  {
   "cell_type": "code",
   "execution_count": 139,
   "metadata": {},
   "outputs": [
    {
     "name": "stdout",
     "output_type": "stream",
     "text": [
      "split_and_augment_dataset >>>\n",
      "enrich_dataset>>>\n",
      "Max length: 9015, shape:(17567,)\n",
      "Max length: 9015, shape:(18262,)\n",
      "enrich_dataset <<<\n",
      "split_and_augment_dataset <<<\n",
      "split_and_augment_dataset >>>\n",
      "enrich_dataset>>>\n",
      "enrich_dataset <<<\n",
      "split_and_augment_dataset <<<\n",
      "transform_recordings >>>\n",
      "transform_recordings <<<\n",
      "CPU times: user 2min 30s, sys: 6.25 s, total: 2min 36s\n",
      "Wall time: 1min 43s\n"
     ]
    }
   ],
   "source": [
    "%%time\n",
    "X, y= data_preparation.prepare_augmented_recordings(audio_dirs= [fsdd_dir, our_recs_dir],\n",
    "                                                    y_type= ['speakers_default', 'speakers_us'],\n",
    "                                                    n_category_test=30,\n",
    "                                                    include_pitch=False,\n",
    "                                                    max_length=max_track_length,\n",
    "                                                    recordings_source=[False, True],\n",
    "                                                    transform_function=\"spectrogram\")\n",
    "\n",
    "X_train_speaker = X[0]\n",
    "y_train_speaker = y[0]\n",
    "X_val_speaker = X[1]\n",
    "y_val_speaker = y[1]\n",
    "X_test_speaker = X[2]\n",
    "y_test_speaker  = y[2]"
   ]
  },
  {
   "cell_type": "code",
   "execution_count": 142,
   "metadata": {},
   "outputs": [
    {
     "name": "stdout",
     "output_type": "stream",
     "text": [
      "577 193\n",
      "ale\n",
      "alinda\n",
      "gian\n",
      "jackson\n",
      "khaled\n",
      "nicolas\n",
      "theo\n",
      "yweweler\n"
     ]
    }
   ],
   "source": [
    "X, y = data_preparation.balanced_train_val_split(np.concatenate([X_train_speaker, X_val_speaker]),\n",
    "                                                 np.concatenate([y_train_speaker, y_val_speaker]))\n",
    "\n",
    "X_train_speaker = X[0]\n",
    "y_train_speaker = y[0]\n",
    "X_val_speaker = X[1]\n",
    "y_val_speaker = y[1]"
   ]
  },
  {
   "cell_type": "markdown",
   "metadata": {},
   "source": [
    "### SVC"
   ]
  },
  {
   "cell_type": "code",
   "execution_count": 143,
   "metadata": {},
   "outputs": [],
   "source": [
    "nsamples, nx, ny = X_train_speaker.shape\n",
    "X_train_speaker_2d = X_train_speaker.reshape((nsamples, nx * ny))\n",
    "nsamples, nx, ny = X_val_speaker.shape\n",
    "X_val_speaker_2d = X_val_speaker.reshape((nsamples, nx * ny))\n",
    "nsamples, nx, ny = X_test_speaker.shape\n",
    "X_test_speaker_2d = X_test_speaker.reshape((nsamples, nx * ny))"
   ]
  },
  {
   "cell_type": "code",
   "execution_count": 144,
   "metadata": {},
   "outputs": [
    {
     "name": "stdout",
     "output_type": "stream",
     "text": [
      "CPU times: user 21.5 s, sys: 136 ms, total: 21.7 s\n",
      "Wall time: 23.7 s\n"
     ]
    },
    {
     "data": {
      "text/plain": [
       "SVC(C=1.0, break_ties=False, cache_size=200, class_weight='balanced', coef0=0.0,\n",
       "    decision_function_shape='ovr', degree=3, gamma='scale', kernel='rbf',\n",
       "    max_iter=-1, probability=False, random_state=None, shrinking=True,\n",
       "    tol=0.001, verbose=False)"
      ]
     },
     "execution_count": 144,
     "metadata": {},
     "output_type": "execute_result"
    }
   ],
   "source": [
    "%%time\n",
    "clf_speaker = SVC(kernel='rbf', class_weight='balanced', gamma=\"scale\")\n",
    "clf_speaker.fit(X_train_speaker_2d, y_train_speaker)"
   ]
  },
  {
   "cell_type": "code",
   "execution_count": 145,
   "metadata": {},
   "outputs": [
    {
     "name": "stdout",
     "output_type": "stream",
     "text": [
      "              precision    recall  f1-score   support\n",
      "\n",
      "         ale       0.99      0.99      0.99       192\n",
      "      alinda       0.99      0.99      0.99       193\n",
      "        gian       0.99      0.99      0.99       193\n",
      "     jackson       0.99      0.99      0.99       193\n",
      "      khaled       1.00      0.97      0.99       198\n",
      "     nicolas       0.99      0.99      0.99       193\n",
      "        theo       0.83      0.88      0.86       182\n",
      "    yweweler       0.91      0.88      0.89       200\n",
      "\n",
      "    accuracy                           0.96      1544\n",
      "   macro avg       0.96      0.96      0.96      1544\n",
      "weighted avg       0.96      0.96      0.96      1544\n",
      "\n"
     ]
    }
   ],
   "source": [
    "y_pred = clf_speaker.predict(X_val_speaker_2d)\n",
    "print(classification_report(y_pred, y_val_speaker))"
   ]
  },
  {
   "cell_type": "markdown",
   "metadata": {},
   "source": [
    "### CNN - simple"
   ]
  },
  {
   "cell_type": "code",
   "execution_count": 147,
   "metadata": {},
   "outputs": [],
   "source": [
    "X, y, input_shape,  target_names= data_preparation.prepare_data_nn(X_train_speaker,\n",
    "                                                                   X_val_speaker,\n",
    "                                                                   X_test_speaker,\n",
    "                                                                   y_train_speaker,\n",
    "                                                                   y_val_speaker,\n",
    "                                                                   y_test_speaker,\n",
    "                                                                   number_mode=False)\n",
    "\n",
    "X_train_speaker = X[0]\n",
    "y_train_speaker_nn = y[0]\n",
    "X_val_speaker = X[1]\n",
    "y_val_speaker_nn = y[1]\n",
    "X_test_speaker = X[2]\n",
    "y_test_speaker_nn = y[2]"
   ]
  },
  {
   "cell_type": "code",
   "execution_count": 148,
   "metadata": {},
   "outputs": [
    {
     "data": {
      "text/plain": [
       "(4616, 128, 18, 1)"
      ]
     },
     "execution_count": 148,
     "metadata": {},
     "output_type": "execute_result"
    }
   ],
   "source": [
    "X_train_speaker.shape"
   ]
  },
  {
   "cell_type": "code",
   "execution_count": 149,
   "metadata": {},
   "outputs": [
    {
     "name": "stdout",
     "output_type": "stream",
     "text": [
      "Model: \"sequential_16\"\n",
      "_________________________________________________________________\n",
      "Layer (type)                 Output Shape              Param #   \n",
      "=================================================================\n",
      "conv2d_20 (Conv2D)           (None, 127, 17, 32)       160       \n",
      "_________________________________________________________________\n",
      "batch_normalization_24 (Batc (None, 127, 17, 32)       128       \n",
      "_________________________________________________________________\n",
      "max_pooling2d_18 (MaxPooling (None, 63, 8, 32)         0         \n",
      "_________________________________________________________________\n",
      "flatten_14 (Flatten)         (None, 16128)             0         \n",
      "_________________________________________________________________\n",
      "dense_30 (Dense)             (None, 64)                1032256   \n",
      "_________________________________________________________________\n",
      "batch_normalization_25 (Batc (None, 64)                256       \n",
      "_________________________________________________________________\n",
      "dropout_14 (Dropout)         (None, 64)                0         \n",
      "_________________________________________________________________\n",
      "dense_31 (Dense)             (None, 8)                 520       \n",
      "=================================================================\n",
      "Total params: 1,033,320\n",
      "Trainable params: 1,033,128\n",
      "Non-trainable params: 192\n",
      "_________________________________________________________________\n",
      "None\n"
     ]
    }
   ],
   "source": [
    "input_shape = (X_train_speaker.shape[1], X_train_speaker.shape[2], 1)\n",
    "model = cnn_models.simple_model(num_classes=8, input_shape=input_shape, batch_normalisation=True)"
   ]
  },
  {
   "cell_type": "code",
   "execution_count": 150,
   "metadata": {},
   "outputs": [
    {
     "name": "stdout",
     "output_type": "stream",
     "text": [
      "Train on 4616 samples, validate on 1544 samples\n",
      "Epoch 1/100\n",
      "4616/4616 [==============================] - 14s 3ms/sample - loss: 0.6214 - accuracy: 0.8026 - val_loss: 1.3185 - val_accuracy: 0.5136\n",
      "Epoch 2/100\n",
      "4616/4616 [==============================] - 11s 2ms/sample - loss: 0.2292 - accuracy: 0.9350 - val_loss: 0.6883 - val_accuracy: 0.7992\n",
      "Epoch 3/100\n",
      "4616/4616 [==============================] - 11s 2ms/sample - loss: 0.1564 - accuracy: 0.9617 - val_loss: 0.3639 - val_accuracy: 0.9041\n",
      "Epoch 4/100\n",
      "4616/4616 [==============================] - 11s 2ms/sample - loss: 0.1239 - accuracy: 0.9716 - val_loss: 0.1871 - val_accuracy: 0.9469\n",
      "Epoch 5/100\n",
      "4616/4616 [==============================] - 11s 2ms/sample - loss: 0.1076 - accuracy: 0.9740 - val_loss: 0.0959 - val_accuracy: 0.9767\n",
      "Epoch 6/100\n",
      "4616/4616 [==============================] - 11s 2ms/sample - loss: 0.0893 - accuracy: 0.9805 - val_loss: 0.0754 - val_accuracy: 0.9825\n",
      "Epoch 7/100\n",
      "4616/4616 [==============================] - 10s 2ms/sample - loss: 0.0730 - accuracy: 0.9853 - val_loss: 0.2315 - val_accuracy: 0.9288\n",
      "Epoch 8/100\n",
      "4616/4616 [==============================] - 11s 2ms/sample - loss: 0.0666 - accuracy: 0.9864 - val_loss: 0.1643 - val_accuracy: 0.9488\n",
      "Epoch 9/100\n",
      "4616/4616 [==============================] - 13s 3ms/sample - loss: 0.0627 - accuracy: 0.9872 - val_loss: 0.1764 - val_accuracy: 0.9404\n",
      "Epoch 10/100\n",
      "4616/4616 [==============================] - 13s 3ms/sample - loss: 0.0577 - accuracy: 0.9885 - val_loss: 0.0896 - val_accuracy: 0.9657\n",
      "Epoch 11/100\n",
      "4616/4616 [==============================] - 13s 3ms/sample - loss: 0.0432 - accuracy: 0.9937 - val_loss: 0.0545 - val_accuracy: 0.9858\n",
      "Epoch 12/100\n",
      "4616/4616 [==============================] - 11s 2ms/sample - loss: 0.0350 - accuracy: 0.9957 - val_loss: 0.0650 - val_accuracy: 0.9812\n",
      "Epoch 13/100\n",
      "4616/4616 [==============================] - 12s 3ms/sample - loss: 0.0323 - accuracy: 0.9955 - val_loss: 0.0446 - val_accuracy: 0.9870\n",
      "Epoch 14/100\n",
      "4616/4616 [==============================] - 12s 3ms/sample - loss: 0.0310 - accuracy: 0.9959 - val_loss: 0.2054 - val_accuracy: 0.9365\n",
      "Epoch 15/100\n",
      "4616/4616 [==============================] - 12s 2ms/sample - loss: 0.0309 - accuracy: 0.9948 - val_loss: 0.1492 - val_accuracy: 0.9482\n",
      "Epoch 16/100\n",
      "4616/4616 [==============================] - 12s 3ms/sample - loss: 0.0274 - accuracy: 0.9968 - val_loss: 0.0647 - val_accuracy: 0.9760\n",
      "Epoch 17/100\n",
      "4616/4616 [==============================] - 12s 3ms/sample - loss: 0.0299 - accuracy: 0.9963 - val_loss: 0.0449 - val_accuracy: 0.9890\n",
      "Epoch 18/100\n",
      "4616/4616 [==============================] - 11s 2ms/sample - loss: 0.0260 - accuracy: 0.9965 - val_loss: 0.0975 - val_accuracy: 0.9663\n",
      "Epoch 19/100\n",
      "4616/4616 [==============================] - 12s 3ms/sample - loss: 0.0256 - accuracy: 0.9965 - val_loss: 0.0774 - val_accuracy: 0.9767\n",
      "Epoch 20/100\n",
      "4616/4616 [==============================] - 13s 3ms/sample - loss: 0.0252 - accuracy: 0.9972 - val_loss: 0.0487 - val_accuracy: 0.9858\n",
      "Epoch 21/100\n",
      "4616/4616 [==============================] - 12s 3ms/sample - loss: 0.0230 - accuracy: 0.9974 - val_loss: 0.0533 - val_accuracy: 0.9877\n",
      "Epoch 22/100\n",
      "4616/4616 [==============================] - 12s 3ms/sample - loss: 0.0203 - accuracy: 0.9974 - val_loss: 0.0457 - val_accuracy: 0.9858\n",
      "Epoch 23/100\n",
      "4616/4616 [==============================] - 10s 2ms/sample - loss: 0.0172 - accuracy: 0.9987 - val_loss: 0.0488 - val_accuracy: 0.9838\n",
      "CPU times: user 6min 2s, sys: 2min 34s, total: 8min 36s\n",
      "Wall time: 4min 31s\n"
     ]
    },
    {
     "data": {
      "text/plain": [
       "<tensorflow.python.keras.callbacks.History at 0x7f7ffc2edcd0>"
      ]
     },
     "execution_count": 150,
     "metadata": {},
     "output_type": "execute_result"
    }
   ],
   "source": [
    "%%time\n",
    "model.fit(X_train_speaker, y_train_speaker_nn,\n",
    "          batch_size=N_BATCH,\n",
    "          epochs=EPOCHS,\n",
    "          verbose=1,\n",
    "          callbacks=[callback],\n",
    "          validation_data=(X_val_speaker, y_val_speaker_nn))"
   ]
  },
  {
   "cell_type": "code",
   "execution_count": 151,
   "metadata": {},
   "outputs": [
    {
     "name": "stdout",
     "output_type": "stream",
     "text": [
      "              precision    recall  f1-score   support\n",
      "\n",
      "         ale       1.00      1.00      1.00       193\n",
      "      alinda       1.00      0.99      1.00       194\n",
      "        gian       0.99      1.00      1.00       192\n",
      "     jackson       1.00      1.00      1.00       193\n",
      "      khaled       1.00      1.00      1.00       193\n",
      "     nicolas       1.00      1.00      1.00       193\n",
      "        theo       0.92      0.98      0.95       182\n",
      "    yweweler       0.98      0.93      0.95       204\n",
      "\n",
      "    accuracy                           0.99      1544\n",
      "   macro avg       0.99      0.99      0.99      1544\n",
      "weighted avg       0.99      0.99      0.99      1544\n",
      "\n"
     ]
    }
   ],
   "source": [
    "y_nn = np.argmax(y_val_speaker_nn, axis=1)\n",
    "y_pred = model.predict_classes(X_val_speaker)\n",
    "print(classification_report(y_pred, y_nn, target_names=target_names))"
   ]
  },
  {
   "cell_type": "markdown",
   "metadata": {},
   "source": [
    "### CNN - paper"
   ]
  },
  {
   "cell_type": "code",
   "execution_count": 152,
   "metadata": {},
   "outputs": [
    {
     "data": {
      "text/plain": [
       "<module 'data_preparation' from '/Users/kappa/repositories/dsim_project/Audio/data_preparation.py'>"
      ]
     },
     "execution_count": 152,
     "metadata": {},
     "output_type": "execute_result"
    }
   ],
   "source": [
    "reload(data_preparation)"
   ]
  },
  {
   "cell_type": "code",
   "execution_count": 153,
   "metadata": {},
   "outputs": [
    {
     "name": "stdout",
     "output_type": "stream",
     "text": [
      "split_and_augment_dataset >>>\n",
      "enrich_dataset>>>\n",
      "Max length: 9015, shape:(17567,)\n",
      "Max length: 9015, shape:(18262,)\n",
      "enrich_dataset <<<\n",
      "split_and_augment_dataset <<<\n",
      "split_and_augment_dataset >>>\n",
      "enrich_dataset>>>\n",
      "enrich_dataset <<<\n",
      "split_and_augment_dataset <<<\n",
      "transform_recordings >>>\n",
      "transform_recordings <<<\n",
      "CPU times: user 2min 39s, sys: 9.82 s, total: 2min 49s\n",
      "Wall time: 3min 12s\n"
     ]
    }
   ],
   "source": [
    "%%time\n",
    "X, y= data_preparation.prepare_augmented_recordings(audio_dirs= [fsdd_dir, our_recs_dir],\n",
    "                                                    y_type= ['speakers_default', 'speakers_us'],\n",
    "                                                    n_category_test=30,\n",
    "                                                    include_pitch=False,\n",
    "                                                    max_length=max_track_length,\n",
    "                                                    recordings_source=[False, True],\n",
    "                                                    transform_function=\"spectrogram\",\n",
    "                                                   paper_data=True)\n",
    "\n",
    "X_train_speaker = X[0]\n",
    "y_train_speaker = y[0]\n",
    "X_val_speaker = X[1]\n",
    "y_val_speaker = y[1]\n",
    "X_test_speaker = X[2]\n",
    "y_test_speaker  = y[2]"
   ]
  },
  {
   "cell_type": "code",
   "execution_count": 154,
   "metadata": {},
   "outputs": [],
   "source": [
    "X, y, input_shape, target_names= data_preparation.prepare_data_nn(X_train_speaker,\n",
    "                                                                   X_val_speaker,\n",
    "                                                                   X_test_speaker,\n",
    "                                                                   y_train_speaker,\n",
    "                                                                   y_val_speaker,\n",
    "                                                                   y_test_speaker,\n",
    "                                                                   number_mode=False)\n",
    "\n",
    "X_train_speaker = X[0]\n",
    "y_train_speaker_nn = y[0]\n",
    "X_val_speaker = X[1]\n",
    "y_val_speaker_nn = y[1]\n",
    "X_test_speaker = X[2]\n",
    "y_test_speaker_nn = y[2]"
   ]
  },
  {
   "cell_type": "code",
   "execution_count": 155,
   "metadata": {},
   "outputs": [
    {
     "name": "stdout",
     "output_type": "stream",
     "text": [
      "Model: \"sequential_17\"\n",
      "_________________________________________________________________\n",
      "Layer (type)                 Output Shape              Param #   \n",
      "=================================================================\n",
      "conv2d_21 (Conv2D)           (None, 63, 27, 32)        544       \n",
      "_________________________________________________________________\n",
      "batch_normalization_26 (Batc (None, 63, 27, 32)        128       \n",
      "_________________________________________________________________\n",
      "max_pooling2d_19 (MaxPooling (None, 30, 12, 32)        0         \n",
      "_________________________________________________________________\n",
      "conv2d_22 (Conv2D)           (None, 14, 5, 64)         32832     \n",
      "_________________________________________________________________\n",
      "batch_normalization_27 (Batc (None, 14, 5, 64)         256       \n",
      "_________________________________________________________________\n",
      "max_pooling2d_20 (MaxPooling (None, 6, 1, 64)          0         \n",
      "_________________________________________________________________\n",
      "flatten_15 (Flatten)         (None, 384)               0         \n",
      "_________________________________________________________________\n",
      "dense_32 (Dense)             (None, 80)                30800     \n",
      "_________________________________________________________________\n",
      "batch_normalization_28 (Batc (None, 80)                320       \n",
      "_________________________________________________________________\n",
      "dropout_15 (Dropout)         (None, 80)                0         \n",
      "_________________________________________________________________\n",
      "dense_33 (Dense)             (None, 40)                3240      \n",
      "_________________________________________________________________\n",
      "batch_normalization_29 (Batc (None, 40)                160       \n",
      "_________________________________________________________________\n",
      "dense_34 (Dense)             (None, 8)                 328       \n",
      "=================================================================\n",
      "Total params: 68,608\n",
      "Trainable params: 68,176\n",
      "Non-trainable params: 432\n",
      "_________________________________________________________________\n",
      "None\n"
     ]
    }
   ],
   "source": [
    "input_shape = (X_train_speaker.shape[1], X_train_speaker.shape[2], 1)\n",
    "model = cnn_models.paper_architecture(num_classes=8, input_shape=input_shape, batch_normalisation=True)"
   ]
  },
  {
   "cell_type": "code",
   "execution_count": 156,
   "metadata": {},
   "outputs": [
    {
     "name": "stdout",
     "output_type": "stream",
     "text": [
      "Train on 11478 samples, validate on 2870 samples\n",
      "Epoch 1/100\n",
      "11478/11478 [==============================] - 39s 3ms/sample - loss: 1.0939 - accuracy: 0.6147 - val_loss: 1.0364 - val_accuracy: 0.5798\n",
      "Epoch 2/100\n",
      "11478/11478 [==============================] - 37s 3ms/sample - loss: 0.6247 - accuracy: 0.7757 - val_loss: 0.6258 - val_accuracy: 0.7669\n",
      "Epoch 3/100\n",
      "11478/11478 [==============================] - 34s 3ms/sample - loss: 0.4920 - accuracy: 0.8230 - val_loss: 0.4013 - val_accuracy: 0.8456\n",
      "Epoch 4/100\n",
      "11478/11478 [==============================] - 34s 3ms/sample - loss: 0.3989 - accuracy: 0.8576 - val_loss: 0.2767 - val_accuracy: 0.9101\n",
      "Epoch 5/100\n",
      "11478/11478 [==============================] - 32s 3ms/sample - loss: 0.3422 - accuracy: 0.8804 - val_loss: 0.2676 - val_accuracy: 0.9111\n",
      "Epoch 6/100\n",
      "11478/11478 [==============================] - 33s 3ms/sample - loss: 0.2898 - accuracy: 0.8989 - val_loss: 0.6481 - val_accuracy: 0.7780\n",
      "Epoch 7/100\n",
      "11478/11478 [==============================] - 31s 3ms/sample - loss: 0.2638 - accuracy: 0.9081 - val_loss: 0.1921 - val_accuracy: 0.9401\n",
      "Epoch 8/100\n",
      "11478/11478 [==============================] - 32s 3ms/sample - loss: 0.2300 - accuracy: 0.9231 - val_loss: 0.1458 - val_accuracy: 0.9557\n",
      "Epoch 9/100\n",
      "11478/11478 [==============================] - 35s 3ms/sample - loss: 0.2145 - accuracy: 0.9250 - val_loss: 0.1177 - val_accuracy: 0.9589\n",
      "Epoch 10/100\n",
      "11478/11478 [==============================] - 36s 3ms/sample - loss: 0.1894 - accuracy: 0.9375 - val_loss: 0.1179 - val_accuracy: 0.9659\n",
      "Epoch 11/100\n",
      "11478/11478 [==============================] - 34s 3ms/sample - loss: 0.1811 - accuracy: 0.9378 - val_loss: 0.1388 - val_accuracy: 0.9467\n",
      "Epoch 12/100\n",
      "11478/11478 [==============================] - 32s 3ms/sample - loss: 0.1647 - accuracy: 0.9475 - val_loss: 0.0956 - val_accuracy: 0.9693\n",
      "Epoch 13/100\n",
      "11478/11478 [==============================] - 32s 3ms/sample - loss: 0.1560 - accuracy: 0.9496 - val_loss: 0.1411 - val_accuracy: 0.9519\n",
      "Epoch 14/100\n",
      "11478/11478 [==============================] - 32s 3ms/sample - loss: 0.1615 - accuracy: 0.9463 - val_loss: 0.0927 - val_accuracy: 0.9714\n",
      "Epoch 15/100\n",
      "11478/11478 [==============================] - 32s 3ms/sample - loss: 0.1464 - accuracy: 0.9514 - val_loss: 0.0834 - val_accuracy: 0.9711\n",
      "Epoch 16/100\n",
      "11478/11478 [==============================] - 32s 3ms/sample - loss: 0.1342 - accuracy: 0.9558 - val_loss: 0.1058 - val_accuracy: 0.9648\n",
      "Epoch 17/100\n",
      "11478/11478 [==============================] - 32s 3ms/sample - loss: 0.1247 - accuracy: 0.9584 - val_loss: 0.0554 - val_accuracy: 0.9812\n",
      "Epoch 18/100\n",
      "11478/11478 [==============================] - 32s 3ms/sample - loss: 0.1194 - accuracy: 0.9591 - val_loss: 0.1456 - val_accuracy: 0.9415\n",
      "Epoch 19/100\n",
      "11478/11478 [==============================] - 32s 3ms/sample - loss: 0.1141 - accuracy: 0.9602 - val_loss: 0.0535 - val_accuracy: 0.9829\n",
      "Epoch 20/100\n",
      "11478/11478 [==============================] - 32s 3ms/sample - loss: 0.1067 - accuracy: 0.9649 - val_loss: 0.0546 - val_accuracy: 0.9812\n",
      "Epoch 21/100\n",
      "11478/11478 [==============================] - 33s 3ms/sample - loss: 0.1004 - accuracy: 0.9666 - val_loss: 0.0529 - val_accuracy: 0.9829\n",
      "Epoch 22/100\n",
      "11478/11478 [==============================] - 34s 3ms/sample - loss: 0.0943 - accuracy: 0.9683 - val_loss: 0.0504 - val_accuracy: 0.9833\n",
      "Epoch 23/100\n",
      "11478/11478 [==============================] - 41s 4ms/sample - loss: 0.0941 - accuracy: 0.9692 - val_loss: 0.0639 - val_accuracy: 0.9763\n",
      "Epoch 24/100\n",
      "11478/11478 [==============================] - 32s 3ms/sample - loss: 0.0863 - accuracy: 0.9726 - val_loss: 0.0479 - val_accuracy: 0.9826\n",
      "Epoch 25/100\n",
      "11478/11478 [==============================] - 34s 3ms/sample - loss: 0.0876 - accuracy: 0.9697 - val_loss: 0.0634 - val_accuracy: 0.9805\n",
      "Epoch 26/100\n",
      "11478/11478 [==============================] - 33s 3ms/sample - loss: 0.0785 - accuracy: 0.9728 - val_loss: 0.0468 - val_accuracy: 0.9861\n",
      "Epoch 27/100\n",
      "11478/11478 [==============================] - 33s 3ms/sample - loss: 0.0822 - accuracy: 0.9740 - val_loss: 0.0514 - val_accuracy: 0.9822\n",
      "Epoch 28/100\n",
      "11478/11478 [==============================] - 33s 3ms/sample - loss: 0.0709 - accuracy: 0.9772 - val_loss: 0.0997 - val_accuracy: 0.9617\n",
      "Epoch 29/100\n",
      "11478/11478 [==============================] - 43s 4ms/sample - loss: 0.0673 - accuracy: 0.9789 - val_loss: 0.0349 - val_accuracy: 0.9882\n",
      "Epoch 30/100\n",
      "11478/11478 [==============================] - 42s 4ms/sample - loss: 0.0704 - accuracy: 0.9776 - val_loss: 0.0689 - val_accuracy: 0.9746\n",
      "Epoch 31/100\n",
      "11478/11478 [==============================] - 37s 3ms/sample - loss: 0.0584 - accuracy: 0.9820 - val_loss: 0.0459 - val_accuracy: 0.9843\n",
      "Epoch 32/100\n",
      "11478/11478 [==============================] - 29s 3ms/sample - loss: 0.0632 - accuracy: 0.9791 - val_loss: 0.0382 - val_accuracy: 0.9850\n",
      "Epoch 33/100\n",
      "11478/11478 [==============================] - 30s 3ms/sample - loss: 0.0593 - accuracy: 0.9811 - val_loss: 0.0291 - val_accuracy: 0.9909\n",
      "Epoch 34/100\n",
      "11478/11478 [==============================] - 30s 3ms/sample - loss: 0.0570 - accuracy: 0.9812 - val_loss: 0.0584 - val_accuracy: 0.9780\n",
      "Epoch 35/100\n",
      "11478/11478 [==============================] - 28s 2ms/sample - loss: 0.0603 - accuracy: 0.9799 - val_loss: 0.0559 - val_accuracy: 0.9780\n",
      "Epoch 36/100\n",
      "11478/11478 [==============================] - 28s 2ms/sample - loss: 0.0624 - accuracy: 0.9798 - val_loss: 0.0523 - val_accuracy: 0.9749\n",
      "Epoch 37/100\n",
      "11478/11478 [==============================] - 31s 3ms/sample - loss: 0.0555 - accuracy: 0.9817 - val_loss: 0.0457 - val_accuracy: 0.9812\n",
      "Epoch 38/100\n",
      "11478/11478 [==============================] - 32s 3ms/sample - loss: 0.0571 - accuracy: 0.9814 - val_loss: 0.0695 - val_accuracy: 0.9770\n",
      "Epoch 39/100\n",
      "11478/11478 [==============================] - 33s 3ms/sample - loss: 0.0535 - accuracy: 0.9831 - val_loss: 0.0503 - val_accuracy: 0.9829\n",
      "Epoch 40/100\n",
      "11478/11478 [==============================] - 37s 3ms/sample - loss: 0.0496 - accuracy: 0.9842 - val_loss: 0.0337 - val_accuracy: 0.9864\n",
      "Epoch 41/100\n",
      "11478/11478 [==============================] - 30s 3ms/sample - loss: 0.0456 - accuracy: 0.9840 - val_loss: 0.0434 - val_accuracy: 0.9836\n",
      "Epoch 42/100\n",
      "11478/11478 [==============================] - 31s 3ms/sample - loss: 0.0460 - accuracy: 0.9860 - val_loss: 0.0380 - val_accuracy: 0.9857\n",
      "Epoch 43/100\n",
      "11478/11478 [==============================] - 33s 3ms/sample - loss: 0.0434 - accuracy: 0.9861 - val_loss: 0.0286 - val_accuracy: 0.9892\n",
      "Epoch 44/100\n",
      "11478/11478 [==============================] - 33s 3ms/sample - loss: 0.0405 - accuracy: 0.9867 - val_loss: 0.0278 - val_accuracy: 0.9899\n",
      "Epoch 45/100\n",
      "11478/11478 [==============================] - 31s 3ms/sample - loss: 0.0506 - accuracy: 0.9837 - val_loss: 0.0420 - val_accuracy: 0.9840\n",
      "Epoch 46/100\n",
      "11478/11478 [==============================] - 32s 3ms/sample - loss: 0.0368 - accuracy: 0.9885 - val_loss: 0.0261 - val_accuracy: 0.9899\n",
      "Epoch 47/100\n",
      "11478/11478 [==============================] - 44s 4ms/sample - loss: 0.0394 - accuracy: 0.9879 - val_loss: 0.0556 - val_accuracy: 0.9826\n",
      "Epoch 48/100\n",
      "11478/11478 [==============================] - 36s 3ms/sample - loss: 0.0450 - accuracy: 0.9840 - val_loss: 0.0358 - val_accuracy: 0.9857\n",
      "Epoch 49/100\n",
      "11478/11478 [==============================] - 32s 3ms/sample - loss: 0.0397 - accuracy: 0.9875 - val_loss: 0.0345 - val_accuracy: 0.9892\n",
      "Epoch 50/100\n",
      "11478/11478 [==============================] - 32s 3ms/sample - loss: 0.0378 - accuracy: 0.9875 - val_loss: 0.0427 - val_accuracy: 0.9843\n",
      "Epoch 51/100\n",
      "11478/11478 [==============================] - 35s 3ms/sample - loss: 0.0801 - accuracy: 0.9728 - val_loss: 0.0554 - val_accuracy: 0.9794\n",
      "Epoch 52/100\n",
      "11478/11478 [==============================] - 36s 3ms/sample - loss: 0.0460 - accuracy: 0.9858 - val_loss: 0.0405 - val_accuracy: 0.9850\n",
      "Epoch 53/100\n",
      "11478/11478 [==============================] - 34s 3ms/sample - loss: 0.0401 - accuracy: 0.9861 - val_loss: 0.0307 - val_accuracy: 0.9916\n",
      "Epoch 54/100\n",
      "11478/11478 [==============================] - 33s 3ms/sample - loss: 0.0393 - accuracy: 0.9874 - val_loss: 0.0407 - val_accuracy: 0.9864\n"
     ]
    },
    {
     "name": "stdout",
     "output_type": "stream",
     "text": [
      "Epoch 55/100\n",
      "11478/11478 [==============================] - 31s 3ms/sample - loss: 0.0337 - accuracy: 0.9897 - val_loss: 0.0226 - val_accuracy: 0.9902\n",
      "Epoch 56/100\n",
      "11478/11478 [==============================] - 29s 3ms/sample - loss: 0.0357 - accuracy: 0.9879 - val_loss: 0.0419 - val_accuracy: 0.9840\n",
      "Epoch 57/100\n",
      "11478/11478 [==============================] - 29s 3ms/sample - loss: 0.0336 - accuracy: 0.9899 - val_loss: 0.0655 - val_accuracy: 0.9756\n",
      "Epoch 58/100\n",
      "11478/11478 [==============================] - 29s 3ms/sample - loss: 0.0351 - accuracy: 0.9897 - val_loss: 0.0280 - val_accuracy: 0.9899\n",
      "Epoch 59/100\n",
      "11478/11478 [==============================] - 31s 3ms/sample - loss: 0.0335 - accuracy: 0.9884 - val_loss: 0.0328 - val_accuracy: 0.9850\n",
      "Epoch 60/100\n",
      "11478/11478 [==============================] - 31s 3ms/sample - loss: 0.0307 - accuracy: 0.9907 - val_loss: 0.0368 - val_accuracy: 0.9864\n",
      "Epoch 61/100\n",
      "11478/11478 [==============================] - 31s 3ms/sample - loss: 0.0292 - accuracy: 0.9916 - val_loss: 0.0316 - val_accuracy: 0.9889\n",
      "Epoch 62/100\n",
      "11478/11478 [==============================] - 32s 3ms/sample - loss: 0.0260 - accuracy: 0.9933 - val_loss: 0.0537 - val_accuracy: 0.9819\n",
      "Epoch 63/100\n",
      "11478/11478 [==============================] - 29s 3ms/sample - loss: 0.0315 - accuracy: 0.9901 - val_loss: 0.0306 - val_accuracy: 0.9892\n",
      "Epoch 64/100\n",
      "11478/11478 [==============================] - 31s 3ms/sample - loss: 0.0298 - accuracy: 0.9909 - val_loss: 0.0424 - val_accuracy: 0.9871\n",
      "Epoch 65/100\n",
      "11478/11478 [==============================] - 31s 3ms/sample - loss: 0.0349 - accuracy: 0.9883 - val_loss: 0.0279 - val_accuracy: 0.9895\n",
      "CPU times: user 52min 40s, sys: 42min 16s, total: 1h 34min 57s\n",
      "Wall time: 35min 43s\n"
     ]
    },
    {
     "data": {
      "text/plain": [
       "<tensorflow.python.keras.callbacks.History at 0x7f7ff2fa5890>"
      ]
     },
     "execution_count": 156,
     "metadata": {},
     "output_type": "execute_result"
    }
   ],
   "source": [
    "%%time\n",
    "model.fit(X_train_speaker, y_train_speaker_nn,\n",
    "          batch_size=N_BATCH,\n",
    "          epochs=EPOCHS,\n",
    "          verbose=1,\n",
    "          callbacks=[callback],\n",
    "          validation_data=(X_val_speaker, y_val_speaker_nn))"
   ]
  },
  {
   "cell_type": "code",
   "execution_count": 157,
   "metadata": {},
   "outputs": [
    {
     "name": "stdout",
     "output_type": "stream",
     "text": [
      "              precision    recall  f1-score   support\n",
      "\n",
      "         ale       1.00      1.00      1.00       134\n",
      "      alinda       1.00      1.00      1.00       172\n",
      "        gian       1.00      1.00      1.00       148\n",
      "     jackson       1.00      1.00      1.00       592\n",
      "      khaled       1.00      1.00      1.00       162\n",
      "     nicolas       1.00      1.00      1.00       568\n",
      "        theo       0.98      0.97      0.98       566\n",
      "    yweweler       0.97      0.98      0.97       528\n",
      "\n",
      "    accuracy                           0.99      2870\n",
      "   macro avg       0.99      0.99      0.99      2870\n",
      "weighted avg       0.99      0.99      0.99      2870\n",
      "\n"
     ]
    }
   ],
   "source": [
    "y_nn = np.argmax(y_val_speaker_nn, axis=1)\n",
    "y_pred = model.predict_classes(X_val_speaker)\n",
    "print(classification_report(y_pred, y_nn, target_names=target_names))"
   ]
  },
  {
   "cell_type": "markdown",
   "metadata": {},
   "source": [
    "## Best model\n",
    "The model with the best performances is the last one:"
   ]
  },
  {
   "cell_type": "code",
   "execution_count": 158,
   "metadata": {},
   "outputs": [],
   "source": [
    "X_train_speakers_best = np.concatenate([X_train_speaker, X_val_speaker])\n",
    "y_train_speakers_best = np.concatenate([y_train_speaker_nn, y_val_speaker_nn])"
   ]
  },
  {
   "cell_type": "code",
   "execution_count": 159,
   "metadata": {
    "scrolled": true
   },
   "outputs": [
    {
     "name": "stdout",
     "output_type": "stream",
     "text": [
      "Model: \"sequential_18\"\n",
      "_________________________________________________________________\n",
      "Layer (type)                 Output Shape              Param #   \n",
      "=================================================================\n",
      "conv2d_23 (Conv2D)           (None, 63, 27, 32)        544       \n",
      "_________________________________________________________________\n",
      "batch_normalization_30 (Batc (None, 63, 27, 32)        128       \n",
      "_________________________________________________________________\n",
      "max_pooling2d_21 (MaxPooling (None, 30, 12, 32)        0         \n",
      "_________________________________________________________________\n",
      "conv2d_24 (Conv2D)           (None, 14, 5, 64)         32832     \n",
      "_________________________________________________________________\n",
      "batch_normalization_31 (Batc (None, 14, 5, 64)         256       \n",
      "_________________________________________________________________\n",
      "max_pooling2d_22 (MaxPooling (None, 6, 1, 64)          0         \n",
      "_________________________________________________________________\n",
      "flatten_16 (Flatten)         (None, 384)               0         \n",
      "_________________________________________________________________\n",
      "dense_35 (Dense)             (None, 80)                30800     \n",
      "_________________________________________________________________\n",
      "batch_normalization_32 (Batc (None, 80)                320       \n",
      "_________________________________________________________________\n",
      "dropout_16 (Dropout)         (None, 80)                0         \n",
      "_________________________________________________________________\n",
      "dense_36 (Dense)             (None, 40)                3240      \n",
      "_________________________________________________________________\n",
      "batch_normalization_33 (Batc (None, 40)                160       \n",
      "_________________________________________________________________\n",
      "dense_37 (Dense)             (None, 8)                 328       \n",
      "=================================================================\n",
      "Total params: 68,608\n",
      "Trainable params: 68,176\n",
      "Non-trainable params: 432\n",
      "_________________________________________________________________\n",
      "None\n",
      "Train on 14348 samples\n",
      "Epoch 1/55\n",
      "14348/14348 [==============================] - 43s 3ms/sample - loss: 1.1564 - accuracy: 0.5942\n",
      "Epoch 2/55\n",
      "14348/14348 [==============================] - 38s 3ms/sample - loss: 0.6672 - accuracy: 0.7638\n",
      "Epoch 3/55\n",
      "14348/14348 [==============================] - 38s 3ms/sample - loss: 0.4850 - accuracy: 0.8284\n",
      "Epoch 4/55\n",
      "14348/14348 [==============================] - 40s 3ms/sample - loss: 0.3829 - accuracy: 0.8681\n",
      "Epoch 5/55\n",
      "14348/14348 [==============================] - 39s 3ms/sample - loss: 0.3199 - accuracy: 0.8871\n",
      "Epoch 6/55\n",
      "14348/14348 [==============================] - 39s 3ms/sample - loss: 0.2799 - accuracy: 0.9046\n",
      "Epoch 7/55\n",
      "14348/14348 [==============================] - 34s 2ms/sample - loss: 0.2354 - accuracy: 0.9205\n",
      "Epoch 8/55\n",
      "14348/14348 [==============================] - 37s 3ms/sample - loss: 0.2187 - accuracy: 0.9235\n",
      "Epoch 9/55\n",
      "14348/14348 [==============================] - 45s 3ms/sample - loss: 0.2031 - accuracy: 0.9291\n",
      "Epoch 10/55\n",
      "14348/14348 [==============================] - 40s 3ms/sample - loss: 0.1766 - accuracy: 0.9403\n",
      "Epoch 11/55\n",
      "14348/14348 [==============================] - 47s 3ms/sample - loss: 0.1729 - accuracy: 0.9415\n",
      "Epoch 12/55\n",
      "14348/14348 [==============================] - 48s 3ms/sample - loss: 0.1507 - accuracy: 0.9491\n",
      "Epoch 13/55\n",
      "14348/14348 [==============================] - 35s 2ms/sample - loss: 0.1408 - accuracy: 0.9538\n",
      "Epoch 14/55\n",
      "14348/14348 [==============================] - 37s 3ms/sample - loss: 0.1378 - accuracy: 0.9506\n",
      "Epoch 15/55\n",
      "14348/14348 [==============================] - 44s 3ms/sample - loss: 0.1267 - accuracy: 0.9576\n",
      "Epoch 16/55\n",
      "14348/14348 [==============================] - 40s 3ms/sample - loss: 0.1224 - accuracy: 0.9581\n",
      "Epoch 17/55\n",
      "14348/14348 [==============================] - 39s 3ms/sample - loss: 0.1176 - accuracy: 0.9617\n",
      "Epoch 18/55\n",
      "14348/14348 [==============================] - 39s 3ms/sample - loss: 0.1053 - accuracy: 0.9651\n",
      "Epoch 19/55\n",
      "14348/14348 [==============================] - 36s 2ms/sample - loss: 0.1070 - accuracy: 0.9640\n",
      "Epoch 20/55\n",
      "14348/14348 [==============================] - 34s 2ms/sample - loss: 0.0945 - accuracy: 0.9693\n",
      "Epoch 21/55\n",
      "14348/14348 [==============================] - 35s 2ms/sample - loss: 0.0938 - accuracy: 0.9683\n",
      "Epoch 22/55\n",
      "14348/14348 [==============================] - 38s 3ms/sample - loss: 0.0877 - accuracy: 0.9711\n",
      "Epoch 23/55\n",
      "14348/14348 [==============================] - 35s 2ms/sample - loss: 0.0774 - accuracy: 0.9755\n",
      "Epoch 24/55\n",
      "14348/14348 [==============================] - 39s 3ms/sample - loss: 0.0796 - accuracy: 0.9727\n",
      "Epoch 25/55\n",
      "14348/14348 [==============================] - 38s 3ms/sample - loss: 0.0774 - accuracy: 0.9739\n",
      "Epoch 26/55\n",
      "14348/14348 [==============================] - 37s 3ms/sample - loss: 0.0724 - accuracy: 0.9767\n",
      "Epoch 27/55\n",
      "14348/14348 [==============================] - 37s 3ms/sample - loss: 0.0706 - accuracy: 0.9768\n",
      "Epoch 28/55\n",
      "14348/14348 [==============================] - 37s 3ms/sample - loss: 0.0622 - accuracy: 0.9791\n",
      "Epoch 29/55\n",
      "14348/14348 [==============================] - 37s 3ms/sample - loss: 0.0706 - accuracy: 0.9764\n",
      "Epoch 30/55\n",
      "14348/14348 [==============================] - 37s 3ms/sample - loss: 0.0647 - accuracy: 0.9781\n",
      "Epoch 31/55\n",
      "14348/14348 [==============================] - 37s 3ms/sample - loss: 0.0582 - accuracy: 0.9810\n",
      "Epoch 32/55\n",
      "14348/14348 [==============================] - 37s 3ms/sample - loss: 0.0597 - accuracy: 0.9799\n",
      "Epoch 33/55\n",
      "14348/14348 [==============================] - 38s 3ms/sample - loss: 0.0635 - accuracy: 0.9785\n",
      "Epoch 34/55\n",
      "14348/14348 [==============================] - 36s 2ms/sample - loss: 0.0551 - accuracy: 0.9815\n",
      "Epoch 35/55\n",
      "14348/14348 [==============================] - 34s 2ms/sample - loss: 0.0621 - accuracy: 0.9803\n",
      "Epoch 36/55\n",
      "14348/14348 [==============================] - 34s 2ms/sample - loss: 0.0581 - accuracy: 0.9801\n",
      "Epoch 37/55\n",
      "14348/14348 [==============================] - 38s 3ms/sample - loss: 0.0477 - accuracy: 0.9853\n",
      "Epoch 38/55\n",
      "14348/14348 [==============================] - 35s 2ms/sample - loss: 0.0560 - accuracy: 0.9806\n",
      "Epoch 39/55\n",
      "14348/14348 [==============================] - 39s 3ms/sample - loss: 0.0525 - accuracy: 0.9821\n",
      "Epoch 40/55\n",
      "14348/14348 [==============================] - 36s 3ms/sample - loss: 0.0516 - accuracy: 0.9833\n",
      "Epoch 41/55\n",
      "14348/14348 [==============================] - 40s 3ms/sample - loss: 0.0553 - accuracy: 0.9822\n",
      "Epoch 42/55\n",
      "14348/14348 [==============================] - 34s 2ms/sample - loss: 0.0547 - accuracy: 0.9808\n",
      "Epoch 43/55\n",
      "14348/14348 [==============================] - 35s 2ms/sample - loss: 0.0487 - accuracy: 0.9852\n",
      "Epoch 44/55\n",
      "14348/14348 [==============================] - 37s 3ms/sample - loss: 0.0423 - accuracy: 0.9856\n",
      "Epoch 45/55\n",
      "14348/14348 [==============================] - 37s 3ms/sample - loss: 0.0434 - accuracy: 0.9849\n",
      "Epoch 46/55\n",
      "14348/14348 [==============================] - 37s 3ms/sample - loss: 0.0435 - accuracy: 0.9859\n",
      "Epoch 47/55\n",
      "14348/14348 [==============================] - 37s 3ms/sample - loss: 0.0496 - accuracy: 0.9841\n",
      "Epoch 48/55\n",
      "14348/14348 [==============================] - 38s 3ms/sample - loss: 0.0463 - accuracy: 0.9845\n",
      "Epoch 49/55\n",
      "14348/14348 [==============================] - 37s 3ms/sample - loss: 0.0689 - accuracy: 0.9761\n",
      "Epoch 50/55\n",
      "14348/14348 [==============================] - 37s 3ms/sample - loss: 0.0653 - accuracy: 0.9776\n",
      "Epoch 51/55\n",
      "14348/14348 [==============================] - 37s 3ms/sample - loss: 0.0637 - accuracy: 0.9781\n",
      "Epoch 52/55\n",
      "14348/14348 [==============================] - 37s 3ms/sample - loss: 0.0672 - accuracy: 0.9765\n",
      "Epoch 53/55\n",
      "14348/14348 [==============================] - 37s 3ms/sample - loss: 0.0692 - accuracy: 0.9778\n",
      "Epoch 54/55\n",
      "14348/14348 [==============================] - 37s 3ms/sample - loss: 0.0684 - accuracy: 0.9746\n",
      "Epoch 55/55\n",
      "14348/14348 [==============================] - 37s 3ms/sample - loss: 0.0629 - accuracy: 0.9780\n",
      "CPU times: user 51min 6s, sys: 42min 39s, total: 1h 33min 46s\n",
      "Wall time: 34min 35s\n"
     ]
    },
    {
     "data": {
      "text/plain": [
       "<tensorflow.python.keras.callbacks.History at 0x7f7fffc7b990>"
      ]
     },
     "execution_count": 159,
     "metadata": {},
     "output_type": "execute_result"
    }
   ],
   "source": [
    "%%time\n",
    "model = cnn_models.paper_architecture(num_classes=8, input_shape=input_shape, batch_normalisation=True)\n",
    "model.fit(X_train_speakers_best, y_train_speakers_best,\n",
    "          batch_size=N_BATCH,\n",
    "          epochs=55,\n",
    "          verbose=1)"
   ]
  },
  {
   "cell_type": "code",
   "execution_count": 160,
   "metadata": {},
   "outputs": [
    {
     "name": "stdout",
     "output_type": "stream",
     "text": [
      "              precision    recall  f1-score   support\n",
      "\n",
      "         ale       1.00      1.00      1.00        30\n",
      "      alinda       1.00      0.97      0.98        30\n",
      "        gian       0.97      0.93      0.95        30\n",
      "     jackson       1.00      1.00      1.00        30\n",
      "      khaled       1.00      0.83      0.91        30\n",
      "     nicolas       1.00      1.00      1.00        30\n",
      "        theo       0.93      0.93      0.93        30\n",
      "    yweweler       0.81      1.00      0.90        30\n",
      "\n",
      "    accuracy                           0.96       240\n",
      "   macro avg       0.96      0.96      0.96       240\n",
      "weighted avg       0.96      0.96      0.96       240\n",
      "\n"
     ]
    }
   ],
   "source": [
    "y_nn = np.argmax(y_test_speaker_nn, axis=1)\n",
    "y_pred = model.predict_classes(X_test_speaker)\n",
    "print(classification_report(y_nn, y_pred, target_names=target_names))"
   ]
  },
  {
   "cell_type": "code",
   "execution_count": 161,
   "metadata": {},
   "outputs": [],
   "source": [
    "model.save(\"../best_models/speakers.h5\")"
   ]
  },
  {
   "cell_type": "markdown",
   "metadata": {},
   "source": [
    "# Graphical representation of recordings"
   ]
  },
  {
   "cell_type": "code",
   "execution_count": 163,
   "metadata": {},
   "outputs": [],
   "source": [
    "import librosa\n",
    "test = pad_recordings[45]\n",
    "test_mfcc = librosa.feature.mfcc(test*1.0, sr=8000, n_mfcc=40)"
   ]
  },
  {
   "cell_type": "code",
   "execution_count": 164,
   "metadata": {},
   "outputs": [
    {
     "data": {
      "image/png": "[encoded data removed]",
      "text/plain": [
       "<Figure size 720x288 with 2 Axes>"
      ]
     },
     "metadata": {
      "needs_background": "light"
     },
     "output_type": "display_data"
    }
   ],
   "source": [
    "import matplotlib.pyplot as plt\n",
    "from librosa.display import specshow\n",
    "plt.figure(figsize=(10, 4))\n",
    "specshow(test_mfcc, x_axis='time')\n",
    "plt.colorbar()\n",
    "plt.title('MFCC')\n",
    "plt.tight_layout()\n",
    "plt.show()"
   ]
  },
  {
   "cell_type": "code",
   "execution_count": 165,
   "metadata": {},
   "outputs": [
    {
     "data": {
      "image/png": "[encoded data removed]",
      "text/plain": [
       "<Figure size 720x288 with 2 Axes>"
      ]
     },
     "metadata": {
      "needs_background": "light"
     },
     "output_type": "display_data"
    }
   ],
   "source": [
    "plt.figure(figsize=(10, 4))\n",
    "test_spect = data_preparation.compute_spectrogram(test)\n",
    "S_dB = librosa.power_to_db(test_spect, ref=np.max)\n",
    "librosa.display.specshow(S_dB, x_axis='time',\n",
    "                          y_axis='mel', sr=8000)\n",
    "plt.title('Mel-frequency spectrogram')\n",
    "plt.colorbar(format='%+2.0f dB')\n",
    "plt.tight_layout()\n",
    "plt.show()"
   ]
  },
  {
   "cell_type": "code",
   "execution_count": 166,
   "metadata": {},
   "outputs": [],
   "source": [
    "import librosa\n",
    "spectrogram = librosa.feature.melspectrogram(y=test,\n",
    "                                                 sr=8000,\n",
    "                                                 n_fft=1024,\n",
    "                                                 hop_length=160)"
   ]
  },
  {
   "cell_type": "code",
   "execution_count": 167,
   "metadata": {},
   "outputs": [
    {
     "data": {
      "text/plain": [
       "(128, 57)"
      ]
     },
     "execution_count": 167,
     "metadata": {},
     "output_type": "execute_result"
    }
   ],
   "source": [
    "spectrogram.shape"
   ]
  },
  {
   "cell_type": "code",
   "execution_count": 168,
   "metadata": {},
   "outputs": [
    {
     "data": {
      "image/png": "[encoded data removed]",
      "text/plain": [
       "<Figure size 720x288 with 2 Axes>"
      ]
     },
     "metadata": {
      "needs_background": "light"
     },
     "output_type": "display_data"
    }
   ],
   "source": [
    "plt.figure(figsize=(10, 4))\n",
    "S_dB = librosa.power_to_db(spectrogram, ref=np.max)\n",
    "librosa.display.specshow(S_dB, x_axis='time',\n",
    "                          y_axis='mel', sr=8000)\n",
    "plt.title('Mel-frequency spectrogram')\n",
    "plt.colorbar(format='%+2.0f dB')\n",
    "plt.tight_layout()\n",
    "plt.show()"
   ]
  }
 ],
 "metadata": {
  "kernelspec": {
   "display_name": "Python [conda env:dsim] *",
   "language": "python",
   "name": "conda-env-dsim-py"
  },
  "language_info": {
   "codemirror_mode": {
    "name": "ipython",
    "version": 3
   },
   "file_extension": ".py",
   "mimetype": "text/x-python",
   "name": "python",
   "nbconvert_exporter": "python",
   "pygments_lexer": "ipython3",
   "version": "3.7.7"
  }
 },
 "nbformat": 4,
 "nbformat_minor": 4
}

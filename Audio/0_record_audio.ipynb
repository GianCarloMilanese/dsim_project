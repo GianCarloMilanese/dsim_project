{
 "cells": [
  {
   "cell_type": "code",
   "execution_count": null,
   "metadata": {},
   "outputs": [],
   "source": [
    "# General Imports\n",
    "\n",
    "import numpy as np\n",
    "import os\n",
    "import time\n",
    "from tqdm.notebook import tqdm\n",
    "\n",
    "# Audio Imports\n",
    "\n",
    "import librosa\n",
    "from scipy.io import wavfile as wav\n",
    "# import simpleaudio as sa\n",
    "import IPython.display as ipd\n",
    "import sounddevice as sd\n",
    "# import wave"
   ]
  },
  {
   "cell_type": "code",
   "execution_count": null,
   "metadata": {},
   "outputs": [],
   "source": [
    "#attempt = 0\n",
    "#name = \"gian\"\n",
    "name = \"khaled\"\n",
    "duration = 2\n",
    "rec_rate = 8000 # sample rate of the provided recordings\n",
    "recordings_dir = \"my_recordings/\""
   ]
  },
  {
   "cell_type": "code",
   "execution_count": null,
   "metadata": {},
   "outputs": [],
   "source": [
    "if not os.path.isdir(recordings_dir):\n",
    "    os.makedirs(recordings_dir)"
   ]
  },
  {
   "cell_type": "code",
   "execution_count": null,
   "metadata": {},
   "outputs": [],
   "source": [
    "def create_recordings(number_of_recordings, number):\n",
    "    i=0\n",
    "    while i < number_of_recordings:\n",
    "        print(f\"Recording number {number}\")\n",
    "        filename = recordings_dir+\"_\".join([str(number), name, str(i)])+\".wav\"\n",
    "        print(f\"\\nAttempt: {i}\")\n",
    "        print(\"Ready in 3...\", end = \"\")\n",
    "        time.sleep(1)\n",
    "        print(\"2...\", end = \"\")\n",
    "        time.sleep(1)\n",
    "        print(\"1...\")\n",
    "        time.sleep(1)\n",
    "        print(\"Go.\")\n",
    "        rec = sd.rec(int(duration * rec_rate), samplerate=rec_rate, channels=1, blocking=True)\n",
    "        print(\"Playing the recording.\")\n",
    "        sd.play(rec, rec_rate)\n",
    "\n",
    "        # after hearing the recording, decide whether to record it again or continue to next number\n",
    "        # if you type anything, record again\n",
    "        # if you press enter, save current recording & go to next number\n",
    "        ok = input(\"OK?\")\n",
    "        if ok == \"\":\n",
    "            librosa.output.write_wav(filename, rec, rec_rate)\n",
    "            i += 1\n",
    "        ipd.clear_output(wait=True)"
   ]
  },
  {
   "cell_type": "code",
   "execution_count": null,
   "metadata": {},
   "outputs": [],
   "source": [
    "create_recordings(10, 0)"
   ]
  },
  {
   "cell_type": "code",
   "execution_count": null,
   "metadata": {},
   "outputs": [],
   "source": [
    "create_recordings(10, 1)"
   ]
  },
  {
   "cell_type": "code",
   "execution_count": null,
   "metadata": {},
   "outputs": [],
   "source": [
    "create_recordings(10, 2)"
   ]
  },
  {
   "cell_type": "code",
   "execution_count": null,
   "metadata": {},
   "outputs": [],
   "source": [
    "create_recordings(10, 3)"
   ]
  },
  {
   "cell_type": "code",
   "execution_count": null,
   "metadata": {},
   "outputs": [],
   "source": [
    "create_recordings(10, 4)"
   ]
  },
  {
   "cell_type": "code",
   "execution_count": null,
   "metadata": {},
   "outputs": [],
   "source": [
    "create_recordings(10, 5)"
   ]
  },
  {
   "cell_type": "code",
   "execution_count": null,
   "metadata": {},
   "outputs": [],
   "source": [
    "create_recordings(10, 6)"
   ]
  },
  {
   "cell_type": "code",
   "execution_count": null,
   "metadata": {},
   "outputs": [],
   "source": [
    "create_recordings(10, 7)"
   ]
  },
  {
   "cell_type": "code",
   "execution_count": null,
   "metadata": {},
   "outputs": [],
   "source": [
    "create_recordings(10, 8)"
   ]
  },
  {
   "cell_type": "code",
   "execution_count": null,
   "metadata": {},
   "outputs": [],
   "source": [
    "create_recordings(10, 9)"
   ]
  },
  {
   "cell_type": "markdown",
   "metadata": {},
   "source": [
    "# Remove silence from recordings"
   ]
  },
  {
   "cell_type": "code",
   "execution_count": null,
   "metadata": {},
   "outputs": [],
   "source": [
    "# Imports for this specific part\n",
    "import subprocess\n",
    "import os\n",
    "from tqdm.notebook import tqdm"
   ]
  },
  {
   "cell_type": "code",
   "execution_count": null,
   "metadata": {},
   "outputs": [],
   "source": [
    "output_dir = \"output/\"\n",
    "input_dir = \"my_recordings/\""
   ]
  },
  {
   "cell_type": "code",
   "execution_count": null,
   "metadata": {},
   "outputs": [],
   "source": [
    "# check if input directory exists\n",
    "if not os.path.isdir(input_dir):\n",
    "    print(\"There should be an input \\\"my recordings\\\" directory.\")\n",
    "\n",
    "# create output directory if not there yet\n",
    "if not os.path.isdir(output_dir):\n",
    "    os.makedirs(output_dir)"
   ]
  },
  {
   "cell_type": "code",
   "execution_count": null,
   "metadata": {},
   "outputs": [],
   "source": [
    "temp1 = output_dir+\"temp1.wav\"\n",
    "temp2 = output_dir+\"temp2.wav\"\n",
    "temp3 = output_dir+\"temp3.wav\"\n",
    "db=-48 # default was -96, but it didn't cut anything; test with a few recordings before deciding\n",
    "all_files = os.listdir(input_dir)\n",
    "\n",
    "for file in tqdm(all_files):\n",
    "    subprocess.run([\"ffmpeg\", \"-y\", \"-i\", input_dir+file, \"-af\", f\"silenceremove=1:0:{db}dB\", temp1])\n",
    "    subprocess.run([\"ffmpeg\", \"-y\", \"-i\", temp1, \"-af\", \"areverse\", temp2])\n",
    "    subprocess.run([\"ffmpeg\", \"-y\", \"-i\", temp2, \"-af\", f\"silenceremove=1:0.1:{db}dB\", temp3])\n",
    "    subprocess.run([\"ffmpeg\", \"-y\", \"-i\", temp3, \"-af\", \"areverse\", output_dir+file])\n",
    "        \n",
    "    os.remove(temp1)\n",
    "    os.remove(temp2)\n",
    "    os.remove(temp3)"
   ]
  },
  {
   "cell_type": "code",
   "execution_count": null,
   "metadata": {},
   "outputs": [],
   "source": [
    "# check the durations of the cut recordings\n",
    "# (shold be less than 2 seconds)\n",
    "durations = []\n",
    "for file in tqdm(os.listdir(output_dir)):\n",
    "    sample, sample_rate = librosa.core.load(output_dir+file)\n",
    "    duration = sample.shape[0]/sample_rate\n",
    "    durations.append(duration)\n",
    "durations"
   ]
  },
  {
   "cell_type": "code",
   "execution_count": null,
   "metadata": {},
   "outputs": [],
   "source": [
    "# test if the cut makes sense (i.e., if number can still be heard)\n",
    "for rec_file in tqdm(os.listdir(output_dir)):\n",
    "    rec_rate, rec = wav.read(output_dir+rec_file)\n",
    "    sd.play(rec, rec_rate)\n",
    "    time.sleep(1) # wait for the recording to play before loading the next"
   ]
  },
  {
   "cell_type": "code",
   "execution_count": null,
   "metadata": {},
   "outputs": [],
   "source": []
  }
 ],
 "metadata": {
  "kernelspec": {
   "display_name": "Python [conda env:dsim] *",
   "language": "python",
   "name": "conda-env-dsim-py"
  },
  "language_info": {
   "codemirror_mode": {
    "name": "ipython",
    "version": 3
   },
   "file_extension": ".py",
   "mimetype": "text/x-python",
   "name": "python",
   "nbconvert_exporter": "python",
   "pygments_lexer": "ipython3",
   "version": "3.7.4"
  }
 },
 "nbformat": 4,
 "nbformat_minor": 2
}
